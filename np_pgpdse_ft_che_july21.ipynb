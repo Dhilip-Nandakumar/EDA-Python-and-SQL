{
 "cells": [
  {
   "cell_type": "markdown",
   "id": "12ab5d26",
   "metadata": {},
   "source": [
    "# 23-Aug-2021.  Numpy"
   ]
  },
  {
   "cell_type": "code",
   "execution_count": null,
   "id": "47d7f12a",
   "metadata": {},
   "outputs": [],
   "source": [
    "import numpy as np"
   ]
  },
  {
   "cell_type": "markdown",
   "id": "bfd8ed0d",
   "metadata": {},
   "source": [
    "# Creation of 1D, 2D"
   ]
  },
  {
   "cell_type": "code",
   "execution_count": null,
   "id": "3928fc59",
   "metadata": {},
   "outputs": [],
   "source": [
    "mylist1 = [10,20,30,40,50]\n",
    "n1 = np.array(mylist1)\n",
    "print(type(n1))\n",
    "print()\n",
    "print(n1.ndim)\n",
    "print(n1.shape)  ##  tuple of elements along each axis\n",
    "print()\n",
    "print(n1.size)  ##  total elements in the array\n",
    "print(n1.dtype)  ##  indicates number of bits of each element in the array\n",
    "print(n1.itemsize)  ##  size in bytes of each element in the array\n",
    "n1"
   ]
  },
  {
   "cell_type": "code",
   "execution_count": null,
   "id": "648172f4",
   "metadata": {},
   "outputs": [],
   "source": [
    "mylist1 = [10,20,30,40,50]\n",
    "n1 = np.array(mylist1, dtype=np.int8)\n",
    "print(type(n1))\n",
    "print()\n",
    "print(n1.ndim)\n",
    "print(n1.shape)  ##  tuple of elements along each axis\n",
    "print()\n",
    "print(n1.size)  ##  total elements in the array\n",
    "print(n1.dtype)  ##  indicates number of bits of each element in the array\n",
    "print(n1.itemsize)  ##  size in bytes of each element in the array\n",
    "n1"
   ]
  },
  {
   "cell_type": "code",
   "execution_count": null,
   "id": "d89aab7e",
   "metadata": {},
   "outputs": [],
   "source": [
    "mylist1 = [10,20,30,40,260]\n",
    "n1 = np.array(mylist1, dtype=np.int8) ##  recommendation: Do not force a dtype.Allow system to calculate\n",
    "print(type(n1))\n",
    "print()\n",
    "print(n1.ndim)\n",
    "print(n1.shape)  ##  tuple of elements along each axis\n",
    "print()\n",
    "print(n1.size)  ##  total elements in the array\n",
    "print(n1.dtype)  ##  indicates number of bits of each element in the array\n",
    "print(n1.itemsize)  ##  size in bytes of each element in the array\n",
    "n1"
   ]
  },
  {
   "cell_type": "code",
   "execution_count": null,
   "id": "1fb254df",
   "metadata": {},
   "outputs": [],
   "source": [
    "mylist1 = [10,20,30.89,40,50]\n",
    "n1 = np.array(mylist1)\n",
    "print(type(n1))\n",
    "print()\n",
    "print(n1.ndim)\n",
    "print(n1.shape)  ##  tuple of elements along each axis\n",
    "print()\n",
    "print(n1.size)  ##  total elements in the array\n",
    "print(n1.dtype)  ##  indicates number of bits of each element in the array\n",
    "print(n1.itemsize)  ##  size in bytes of each element in the array\n",
    "n1"
   ]
  },
  {
   "cell_type": "code",
   "execution_count": null,
   "id": "1b7b1497",
   "metadata": {},
   "outputs": [],
   "source": [
    "mylist23 = [  [5.2,3.0,4.5],  [9.1,0.1,0.3]  ]\n",
    "print(mylist23)\n",
    "print()\n",
    "\n",
    "n23 = np.array(mylist23)\n",
    "print(type(n23))\n",
    "print()\n",
    "print(n23.ndim)\n",
    "print(n23.shape)  ##  tuple of elements along each axis\n",
    "print()\n",
    "print(n23.size)  ##  total elements in the array\n",
    "print(n23.dtype)  ##  indicates number of bits of each element in the array\n",
    "print(n23.itemsize)  ##  size in bytes of each element in the array\n",
    "n23"
   ]
  },
  {
   "cell_type": "code",
   "execution_count": null,
   "id": "066fd637",
   "metadata": {},
   "outputs": [],
   "source": [
    "mylist23 = [  [5+3j,3.0,4.5],  [9.1,0.1,0.3]  ]\n",
    "print(mylist23)\n",
    "print()\n",
    "\n",
    "n23 = np.array(mylist23)\n",
    "print(type(n23))\n",
    "print()\n",
    "print(n23.ndim)\n",
    "print(n23.shape)  ##  tuple of elements along each axis\n",
    "print()\n",
    "print(n23.size)  ##  total elements in the array\n",
    "print(n23.dtype)  ##  indicates number of bits of each element in the array\n",
    "print(n23.itemsize)  ##  size in bytes of each element in the array\n",
    "n23"
   ]
  },
  {
   "cell_type": "markdown",
   "id": "84fee99a",
   "metadata": {},
   "source": [
    "arange"
   ]
  },
  {
   "cell_type": "code",
   "execution_count": null,
   "id": "8de5f988",
   "metadata": {},
   "outputs": [],
   "source": [
    "n1 = np.arange(20)\n",
    "print(n1.shape)\n",
    "n1"
   ]
  },
  {
   "cell_type": "code",
   "execution_count": null,
   "id": "bb856508",
   "metadata": {},
   "outputs": [],
   "source": [
    "n1 = np.arange(10,20)\n",
    "print(n1.shape)\n",
    "n1"
   ]
  },
  {
   "cell_type": "code",
   "execution_count": null,
   "id": "e2d6fc04",
   "metadata": {},
   "outputs": [],
   "source": [
    "n1 = np.arange(10,20,2)\n",
    "print(n1.shape)\n",
    "n1"
   ]
  },
  {
   "cell_type": "code",
   "execution_count": null,
   "id": "c79e3067",
   "metadata": {},
   "outputs": [],
   "source": [
    "n1 = np.arange(1.1, 3.9, 0.25)\n",
    "print(n1.shape)\n",
    "n1"
   ]
  },
  {
   "cell_type": "code",
   "execution_count": null,
   "id": "71190b50",
   "metadata": {},
   "outputs": [],
   "source": [
    "n34 = np.arange(12).reshape(3,4)\n",
    "print(n34.shape)\n",
    "n34"
   ]
  },
  {
   "cell_type": "code",
   "execution_count": null,
   "id": "9a9b5794",
   "metadata": {},
   "outputs": [],
   "source": [
    "n34 = np.arange(12).reshape(3,2)\n",
    "print(n34.shape)\n",
    "n34"
   ]
  },
  {
   "cell_type": "code",
   "execution_count": null,
   "id": "dfdf8f98",
   "metadata": {},
   "outputs": [],
   "source": [
    "n34 = np.arange(12).reshape(6,2)\n",
    "print(n34.shape)\n",
    "n34"
   ]
  },
  {
   "cell_type": "code",
   "execution_count": null,
   "id": "284e4b07",
   "metadata": {},
   "outputs": [],
   "source": [
    "n34 = np.arange(12).reshape(1,12)\n",
    "print(n34.shape)\n",
    "n34"
   ]
  },
  {
   "cell_type": "code",
   "execution_count": null,
   "id": "e039015b",
   "metadata": {},
   "outputs": [],
   "source": [
    "np.arange(12)"
   ]
  },
  {
   "cell_type": "code",
   "execution_count": null,
   "id": "99cc78ef",
   "metadata": {},
   "outputs": [],
   "source": [
    "n34 = np.arange(12).reshape(4,-1) ##  -1 here is instruction to calculate that dim automatically\n",
    "print(n34.shape)\n",
    "n34"
   ]
  },
  {
   "cell_type": "code",
   "execution_count": null,
   "id": "80ce94ff",
   "metadata": {},
   "outputs": [],
   "source": [
    "n34 = np.arange(12).reshape(-1,-1) ##  -1 here is instruction to calculate that dim automatically\n",
    "print(n34.shape)\n",
    "n34"
   ]
  },
  {
   "cell_type": "code",
   "execution_count": null,
   "id": "a0524dd5",
   "metadata": {},
   "outputs": [],
   "source": [
    "n34 = np.arange(12).reshape(-1,6)\n",
    "print(n34.shape)\n",
    "n34"
   ]
  },
  {
   "cell_type": "markdown",
   "id": "728bddc9",
   "metadata": {},
   "source": [
    "random values"
   ]
  },
  {
   "cell_type": "code",
   "execution_count": null,
   "id": "cb792146",
   "metadata": {},
   "outputs": [],
   "source": [
    "n10 = np.random.randint(low=10, high=100, size=(10,))\n",
    "print(n10.shape)\n",
    "n10"
   ]
  },
  {
   "cell_type": "code",
   "execution_count": null,
   "id": "2454293c",
   "metadata": {},
   "outputs": [],
   "source": [
    "np.random.seed(23)\n",
    "n10 = np.random.randint(low=10, high=100, size=(10,))\n",
    "print(n10.shape)\n",
    "n10"
   ]
  },
  {
   "cell_type": "code",
   "execution_count": null,
   "id": "f9b96106",
   "metadata": {},
   "outputs": [],
   "source": [
    "np.random.seed(23)\n",
    "n34 = np.random.randint(low=10, high=100, size=(3,4))\n",
    "print(n34.shape)\n",
    "n34"
   ]
  },
  {
   "cell_type": "code",
   "execution_count": null,
   "id": "a612063a",
   "metadata": {},
   "outputs": [],
   "source": [
    "np.random.seed(23)\n",
    "n34 = np.random.rand(3,4)  ##  uniform dist framework..   0 to 1\n",
    "print(n34.shape)\n",
    "print(n34)\n",
    "print()\n",
    "print(n34.min())\n",
    "print(n34.max())\n",
    "print(n34.mean())\n"
   ]
  },
  {
   "cell_type": "code",
   "execution_count": null,
   "id": "3d5b0192",
   "metadata": {},
   "outputs": [],
   "source": [
    "np.random.seed(23)\n",
    "n34 = np.random.randn(3,4)  ## normal dist framework.  BELL CURVE\n",
    "print(n34.shape)\n",
    "print(n34)\n",
    "print()\n",
    "print(n34.min())\n",
    "print(n34.max())\n",
    "print(n34.mean())"
   ]
  },
  {
   "cell_type": "code",
   "execution_count": null,
   "id": "cd0509fe",
   "metadata": {},
   "outputs": [],
   "source": [
    "np.identity(3)"
   ]
  },
  {
   "cell_type": "code",
   "execution_count": null,
   "id": "daaf6aea",
   "metadata": {},
   "outputs": [],
   "source": [
    "np.identity(3, dtype=np.int64)"
   ]
  },
  {
   "cell_type": "code",
   "execution_count": null,
   "id": "2b1e15a6",
   "metadata": {},
   "outputs": [],
   "source": [
    "np.zeros(shape=(3,4))"
   ]
  },
  {
   "cell_type": "code",
   "execution_count": null,
   "id": "a4b87919",
   "metadata": {},
   "outputs": [],
   "source": [
    "np.ones(shape=(3,4))"
   ]
  },
  {
   "cell_type": "code",
   "execution_count": null,
   "id": "63214591",
   "metadata": {},
   "outputs": [],
   "source": [
    "np.full(shape=(3,4), fill_value=55)"
   ]
  },
  {
   "cell_type": "code",
   "execution_count": null,
   "id": "5ab3ebca",
   "metadata": {},
   "outputs": [],
   "source": [
    "np.empty(shape=(3,4))"
   ]
  },
  {
   "cell_type": "code",
   "execution_count": null,
   "id": "303874e5",
   "metadata": {},
   "outputs": [],
   "source": [
    "empmat = []\n",
    "for i in range(10):\n",
    "    empmat.append(np.empty(shape=(3,4)))\n",
    "print()\n",
    "empmat"
   ]
  },
  {
   "cell_type": "markdown",
   "id": "5ce8721f",
   "metadata": {},
   "source": [
    "# Access"
   ]
  },
  {
   "cell_type": "code",
   "execution_count": null,
   "id": "4cf30b89",
   "metadata": {},
   "outputs": [],
   "source": [
    "np.random.seed(23)\n",
    "n89 = np.random.randint(low=10, high=100, size=(8,9))\n",
    "n89"
   ]
  },
  {
   "cell_type": "code",
   "execution_count": null,
   "id": "58518bce",
   "metadata": {},
   "outputs": [],
   "source": [
    "n89[0]"
   ]
  },
  {
   "cell_type": "code",
   "execution_count": null,
   "id": "82c7693f",
   "metadata": {},
   "outputs": [],
   "source": [
    "n89[-1]"
   ]
  },
  {
   "cell_type": "code",
   "execution_count": null,
   "id": "44bccead",
   "metadata": {},
   "outputs": [],
   "source": [
    "n89[0,0]"
   ]
  },
  {
   "cell_type": "code",
   "execution_count": null,
   "id": "8800ddca",
   "metadata": {},
   "outputs": [],
   "source": [
    "n89[0,-1]"
   ]
  },
  {
   "cell_type": "code",
   "execution_count": null,
   "id": "4ca4dbd0",
   "metadata": {},
   "outputs": [],
   "source": [
    "n89[2:5]"
   ]
  },
  {
   "cell_type": "code",
   "execution_count": null,
   "id": "6b702eb5",
   "metadata": {},
   "outputs": [],
   "source": [
    "n89[2:7:2]  ##  2,4,6"
   ]
  },
  {
   "cell_type": "code",
   "execution_count": null,
   "id": "32b94f49",
   "metadata": {},
   "outputs": [],
   "source": [
    "n89[ 3:6]"
   ]
  },
  {
   "cell_type": "code",
   "execution_count": null,
   "id": "f8424d48",
   "metadata": {},
   "outputs": [],
   "source": [
    "n89[ 3:6 , 2:8 ]"
   ]
  },
  {
   "cell_type": "code",
   "execution_count": null,
   "id": "0ffa6932",
   "metadata": {},
   "outputs": [],
   "source": [
    "n89[  [0,2,-2,-1]   ]"
   ]
  },
  {
   "cell_type": "code",
   "execution_count": null,
   "id": "71416618",
   "metadata": {},
   "outputs": [],
   "source": [
    "n89[ [0,1,-2,-1] ]"
   ]
  },
  {
   "cell_type": "code",
   "execution_count": null,
   "id": "d5563fb7",
   "metadata": {},
   "outputs": [],
   "source": [
    "n89[ [0,1,-2,-1]  , [0,1,-2,-1]  ]  ## values at the zip coordinates of rlist and clist"
   ]
  },
  {
   "cell_type": "code",
   "execution_count": null,
   "id": "58c028ae",
   "metadata": {},
   "outputs": [],
   "source": [
    "list(zip([0,1,-2,-1]  , [0,1,-2,-1]))"
   ]
  },
  {
   "cell_type": "code",
   "execution_count": null,
   "id": "3b62eb48",
   "metadata": {},
   "outputs": [],
   "source": [
    "n89[:, 4:6]"
   ]
  },
  {
   "cell_type": "code",
   "execution_count": null,
   "id": "c5380a4e",
   "metadata": {},
   "outputs": [],
   "source": [
    "n89[:, [1,4,6]]"
   ]
  },
  {
   "cell_type": "code",
   "execution_count": null,
   "id": "3435bb50",
   "metadata": {},
   "outputs": [],
   "source": [
    "n89"
   ]
  },
  {
   "cell_type": "code",
   "execution_count": null,
   "id": "0b0ad5a9",
   "metadata": {},
   "outputs": [],
   "source": [
    "n89[1:6:2, [1,3,-1]]"
   ]
  },
  {
   "cell_type": "raw",
   "id": "53ceb83b",
   "metadata": {},
   "source": [
    "\n",
    "Access Grammer\n",
    "\n",
    "n89[ row_index]\n",
    "n89[ row_index, col_index ]\n",
    "\n",
    "n89[ row_slice ]\n",
    "n89[ row_slice,  col_slice ]\n",
    "\n",
    "n89[ [list of row indices]   ]\n",
    "\n",
    "n89[ [list of row indices], [[list of col indices]]] ## both same size.. values at zipped cordinates\n",
    "\n",
    "\n",
    "##  combo of all of above\n",
    "\n",
    "\n",
    "## Conditional Access\n",
    "n89[boolean matrix of same shape as n89]\n"
   ]
  },
  {
   "cell_type": "code",
   "execution_count": null,
   "id": "da662e4b",
   "metadata": {},
   "outputs": [],
   "source": [
    "n89"
   ]
  },
  {
   "cell_type": "code",
   "execution_count": null,
   "id": "a9b6bdf6",
   "metadata": {},
   "outputs": [],
   "source": [
    "n89[3:2]"
   ]
  },
  {
   "cell_type": "code",
   "execution_count": null,
   "id": "7d569506",
   "metadata": {},
   "outputs": [],
   "source": [
    "n89[3:2:-1]"
   ]
  },
  {
   "cell_type": "code",
   "execution_count": null,
   "id": "72d5f8d4",
   "metadata": {},
   "outputs": [],
   "source": [
    "mylist1 = list('pythonworld')\n",
    "mylist1"
   ]
  },
  {
   "cell_type": "code",
   "execution_count": null,
   "id": "1d51df8f",
   "metadata": {},
   "outputs": [],
   "source": [
    "mylist1[2:5]"
   ]
  },
  {
   "cell_type": "code",
   "execution_count": null,
   "id": "9aa971f6",
   "metadata": {},
   "outputs": [],
   "source": [
    "mylist1[5:2]"
   ]
  },
  {
   "cell_type": "markdown",
   "id": "20be1b35",
   "metadata": {},
   "source": [
    "Conditional access"
   ]
  },
  {
   "cell_type": "code",
   "execution_count": null,
   "id": "e6caf390",
   "metadata": {},
   "outputs": [],
   "source": [
    "n89"
   ]
  },
  {
   "cell_type": "code",
   "execution_count": null,
   "id": "ca713dd8",
   "metadata": {},
   "outputs": [],
   "source": [
    "mask = n89 > 50\n",
    "print(mask.shape)\n",
    "print(type(mask))\n",
    "mask"
   ]
  },
  {
   "cell_type": "code",
   "execution_count": null,
   "id": "9b56230a",
   "metadata": {},
   "outputs": [],
   "source": [
    "n89[mask]"
   ]
  },
  {
   "cell_type": "code",
   "execution_count": null,
   "id": "96ceeb9f",
   "metadata": {},
   "outputs": [],
   "source": [
    "n89[n89>75]"
   ]
  },
  {
   "cell_type": "code",
   "execution_count": null,
   "id": "d6a98336",
   "metadata": {},
   "outputs": [],
   "source": [
    "n89>75"
   ]
  },
  {
   "cell_type": "code",
   "execution_count": null,
   "id": "f5ad1664",
   "metadata": {},
   "outputs": [],
   "source": [
    "n1"
   ]
  },
  {
   "cell_type": "code",
   "execution_count": null,
   "id": "555ef1d3",
   "metadata": {},
   "outputs": [],
   "source": [
    "n10"
   ]
  },
  {
   "cell_type": "code",
   "execution_count": null,
   "id": "17892d04",
   "metadata": {},
   "outputs": [],
   "source": [
    "n10[n10 > 50]"
   ]
  },
  {
   "cell_type": "code",
   "execution_count": null,
   "id": "619713b4",
   "metadata": {},
   "outputs": [],
   "source": [
    "n10_bool = [True,True,False,False,True,False,True,True,False,False]"
   ]
  },
  {
   "cell_type": "code",
   "execution_count": null,
   "id": "e0476402",
   "metadata": {},
   "outputs": [],
   "source": [
    "n10"
   ]
  },
  {
   "cell_type": "code",
   "execution_count": null,
   "id": "17697c4d",
   "metadata": {},
   "outputs": [],
   "source": [
    "n10[n10_bool]"
   ]
  },
  {
   "cell_type": "code",
   "execution_count": null,
   "id": "7d1cfc3b",
   "metadata": {},
   "outputs": [],
   "source": [
    "n10 > 50"
   ]
  },
  {
   "cell_type": "code",
   "execution_count": null,
   "id": "102ef74b",
   "metadata": {},
   "outputs": [],
   "source": [
    "n89"
   ]
  },
  {
   "cell_type": "code",
   "execution_count": null,
   "id": "3c6f3000",
   "metadata": {},
   "outputs": [],
   "source": [
    "mask = np.logical_and(n89>50, n89%2==0)\n",
    "mask"
   ]
  },
  {
   "cell_type": "code",
   "execution_count": null,
   "id": "9f5e71ca",
   "metadata": {},
   "outputs": [],
   "source": [
    "n89[mask]"
   ]
  },
  {
   "cell_type": "code",
   "execution_count": null,
   "id": "f31bd514",
   "metadata": {},
   "outputs": [],
   "source": [
    "n89[np.logical_and(n89>50, n89%2==0)]"
   ]
  },
  {
   "cell_type": "code",
   "execution_count": null,
   "id": "a06b5e75",
   "metadata": {},
   "outputs": [],
   "source": [
    "n89[np.logical_and(n89>50,1)]"
   ]
  },
  {
   "cell_type": "markdown",
   "id": "e8ecf224",
   "metadata": {},
   "source": [
    "Mutability"
   ]
  },
  {
   "cell_type": "code",
   "execution_count": null,
   "id": "871ebf40",
   "metadata": {},
   "outputs": [],
   "source": [
    "n89"
   ]
  },
  {
   "cell_type": "code",
   "execution_count": null,
   "id": "81033634",
   "metadata": {},
   "outputs": [],
   "source": [
    "n89[0,0] = 999"
   ]
  },
  {
   "cell_type": "code",
   "execution_count": null,
   "id": "2f8b52ff",
   "metadata": {},
   "outputs": [],
   "source": [
    "n89"
   ]
  },
  {
   "cell_type": "code",
   "execution_count": null,
   "id": "fa083aa6",
   "metadata": {},
   "outputs": [],
   "source": [
    "n89[2] = 888"
   ]
  },
  {
   "cell_type": "code",
   "execution_count": null,
   "id": "748a68c4",
   "metadata": {},
   "outputs": [],
   "source": [
    "n89"
   ]
  },
  {
   "cell_type": "code",
   "execution_count": null,
   "id": "7f32bba0",
   "metadata": {},
   "outputs": [],
   "source": [
    "n89[3] = np.arange(9)"
   ]
  },
  {
   "cell_type": "code",
   "execution_count": null,
   "id": "2d055610",
   "metadata": {},
   "outputs": [],
   "source": [
    "n89"
   ]
  },
  {
   "cell_type": "code",
   "execution_count": null,
   "id": "24464894",
   "metadata": {},
   "outputs": [],
   "source": [
    "n89[4:6] = np.arange(100,118).reshape(2,9)\n",
    "n89"
   ]
  },
  {
   "cell_type": "code",
   "execution_count": null,
   "id": "852b95d8",
   "metadata": {},
   "outputs": [],
   "source": [
    "n89[n89>500]"
   ]
  },
  {
   "cell_type": "code",
   "execution_count": null,
   "id": "65c59fef",
   "metadata": {},
   "outputs": [],
   "source": [
    "n89[n89>500] = 1000\n",
    "n89"
   ]
  },
  {
   "cell_type": "code",
   "execution_count": null,
   "id": "f62c8024",
   "metadata": {},
   "outputs": [],
   "source": [
    "## Numpy objects are Mutable"
   ]
  },
  {
   "cell_type": "code",
   "execution_count": null,
   "id": "71be9425",
   "metadata": {},
   "outputs": [],
   "source": [
    "n89"
   ]
  },
  {
   "cell_type": "code",
   "execution_count": null,
   "id": "6f30044c",
   "metadata": {},
   "outputs": [],
   "source": [
    "n89[[0,-2,-1]]"
   ]
  },
  {
   "cell_type": "code",
   "execution_count": null,
   "id": "ce4495b8",
   "metadata": {},
   "outputs": [],
   "source": [
    "n89[[0,-2,-1]] = 6677"
   ]
  },
  {
   "cell_type": "code",
   "execution_count": null,
   "id": "c6ba1527",
   "metadata": {},
   "outputs": [],
   "source": [
    "n89"
   ]
  },
  {
   "cell_type": "code",
   "execution_count": null,
   "id": "0fa816fd",
   "metadata": {},
   "outputs": [],
   "source": [
    "np.random.seed(23)\n",
    "n89[[0,-2,-1]] = np.random.randint(low=10,high=100,size=(3,9))\n",
    "n89"
   ]
  },
  {
   "cell_type": "code",
   "execution_count": null,
   "id": "a7efbd7e",
   "metadata": {},
   "outputs": [],
   "source": [
    "n89"
   ]
  },
  {
   "cell_type": "code",
   "execution_count": null,
   "id": "6ce5fc2b",
   "metadata": {},
   "outputs": [],
   "source": [
    "n89[1:4, 3:6] = 5656\n",
    "n89"
   ]
  },
  {
   "cell_type": "code",
   "execution_count": null,
   "id": "13ccdb07",
   "metadata": {},
   "outputs": [],
   "source": [
    "n89[1:4, 3:6] = np.arange(1000,1009).reshape(3,3)\n",
    "n89"
   ]
  },
  {
   "cell_type": "code",
   "execution_count": null,
   "id": "41f98baa",
   "metadata": {},
   "outputs": [],
   "source": [
    "n89[[2,-1,3,4],[-1,2,0,1]]\n"
   ]
  },
  {
   "cell_type": "code",
   "execution_count": null,
   "id": "2fe0d2ea",
   "metadata": {},
   "outputs": [],
   "source": [
    "np.random.seed(23)\n",
    "n89 = np.random.randint(low=10, high=100, size=(8,9))\n",
    "n89"
   ]
  },
  {
   "cell_type": "code",
   "execution_count": null,
   "id": "9c91bd5e",
   "metadata": {},
   "outputs": [],
   "source": [
    "n89[[0,0,-1,-1],[0,-1,0,-1]]"
   ]
  },
  {
   "cell_type": "code",
   "execution_count": null,
   "id": "6f3325bc",
   "metadata": {},
   "outputs": [],
   "source": [
    "n89[[0,0,-1,-1],[0,-1,0,-1]] = [22,33,44,55]\n",
    "n89"
   ]
  },
  {
   "cell_type": "code",
   "execution_count": null,
   "id": "d5253cc2",
   "metadata": {},
   "outputs": [],
   "source": [
    "n89[[0,0,-1,-1],[0,-1,0,-1]] = np.arange(4)\n",
    "n89"
   ]
  },
  {
   "cell_type": "markdown",
   "id": "ff83b77b",
   "metadata": {},
   "source": [
    "# Arithmetic Operations"
   ]
  },
  {
   "cell_type": "code",
   "execution_count": null,
   "id": "437a8626",
   "metadata": {},
   "outputs": [],
   "source": [
    "n1 = np.arange(10)\n",
    "n2 = np.arange(100,110)\n",
    "print(n1)\n",
    "print(n2)"
   ]
  },
  {
   "cell_type": "code",
   "execution_count": null,
   "id": "dc5831fe",
   "metadata": {},
   "outputs": [],
   "source": [
    "n1 + n2"
   ]
  },
  {
   "cell_type": "code",
   "execution_count": null,
   "id": "856c3c4e",
   "metadata": {},
   "outputs": [],
   "source": [
    "n1 - n2"
   ]
  },
  {
   "cell_type": "code",
   "execution_count": null,
   "id": "7c45dd65",
   "metadata": {},
   "outputs": [],
   "source": [
    "n1 * n2"
   ]
  },
  {
   "cell_type": "code",
   "execution_count": null,
   "id": "a7f9ec6a",
   "metadata": {},
   "outputs": [],
   "source": [
    "n34a = np.arange(12).reshape(3,4)\n",
    "n34b = np.arange(100,112).reshape(3,4)"
   ]
  },
  {
   "cell_type": "code",
   "execution_count": null,
   "id": "eb3c6e1d",
   "metadata": {},
   "outputs": [],
   "source": [
    "n34a"
   ]
  },
  {
   "cell_type": "code",
   "execution_count": null,
   "id": "a33625cc",
   "metadata": {},
   "outputs": [],
   "source": [
    "n34b"
   ]
  },
  {
   "cell_type": "code",
   "execution_count": null,
   "id": "8e94ea43",
   "metadata": {},
   "outputs": [],
   "source": [
    "n34a + n34b"
   ]
  },
  {
   "cell_type": "code",
   "execution_count": null,
   "id": "4d37d14e",
   "metadata": {},
   "outputs": [],
   "source": [
    "n34a - n34b"
   ]
  },
  {
   "cell_type": "code",
   "execution_count": null,
   "id": "4f1a3216",
   "metadata": {},
   "outputs": [],
   "source": [
    "n34a * n34b"
   ]
  },
  {
   "cell_type": "code",
   "execution_count": null,
   "id": "76b4443c",
   "metadata": {},
   "outputs": [],
   "source": [
    "n34a"
   ]
  },
  {
   "cell_type": "code",
   "execution_count": null,
   "id": "5d3673d9",
   "metadata": {},
   "outputs": [],
   "source": [
    "n34b"
   ]
  },
  {
   "cell_type": "code",
   "execution_count": null,
   "id": "3f423f1c",
   "metadata": {},
   "outputs": [],
   "source": [
    "111*11"
   ]
  },
  {
   "cell_type": "code",
   "execution_count": null,
   "id": "cf87ab68",
   "metadata": {},
   "outputs": [],
   "source": [
    "n34a@n34b"
   ]
  },
  {
   "cell_type": "code",
   "execution_count": null,
   "id": "66aee38e",
   "metadata": {},
   "outputs": [],
   "source": [
    "##  m,n @  n,k  -->  m,k"
   ]
  },
  {
   "cell_type": "code",
   "execution_count": null,
   "id": "f0627326",
   "metadata": {},
   "outputs": [],
   "source": [
    "n43b = n34b.T\n",
    "n43b"
   ]
  },
  {
   "cell_type": "code",
   "execution_count": null,
   "id": "7064ccdc",
   "metadata": {},
   "outputs": [],
   "source": [
    "n34a@n43b"
   ]
  },
  {
   "cell_type": "markdown",
   "id": "244ef57b",
   "metadata": {},
   "source": [
    "List vs Numpy performance comparison"
   ]
  },
  {
   "cell_type": "code",
   "execution_count": null,
   "id": "f1be2e16",
   "metadata": {},
   "outputs": [],
   "source": []
  },
  {
   "cell_type": "code",
   "execution_count": null,
   "id": "19b4e01c",
   "metadata": {},
   "outputs": [],
   "source": [
    "import time\n",
    "size = 5000000\n",
    "mylist1 = list(range(size))\n",
    "mylist2 = list(range(size))\n",
    "\n",
    "st = time.time()\n",
    "mylist3 = [mylist1[i]+mylist2[i]  for i in range(size)]\n",
    "et = time.time()\n",
    "print('list time taken', et-st)\n",
    "\n",
    "\n",
    "n1 = np.array(mylist1)\n",
    "n2 = np.array(mylist2)\n",
    "st = time.time()\n",
    "n3 = n1 + n2\n",
    "et = time.time()\n",
    "print('np time taken', et-st)"
   ]
  },
  {
   "cell_type": "markdown",
   "id": "94db73f4",
   "metadata": {},
   "source": [
    "# Broadcasting"
   ]
  },
  {
   "cell_type": "code",
   "execution_count": null,
   "id": "68ab6014",
   "metadata": {},
   "outputs": [],
   "source": [
    "n34 = np.arange(12).reshape(3,4)\n",
    "n34"
   ]
  },
  {
   "cell_type": "code",
   "execution_count": null,
   "id": "4197480e",
   "metadata": {},
   "outputs": [],
   "source": [
    "n34 + 100   ## Scalar Broadcasting"
   ]
  },
  {
   "cell_type": "raw",
   "id": "d7c49b3e",
   "metadata": {},
   "source": [
    "100 100 100 100\n",
    "100 100 100 100\n",
    "100 100 100 100"
   ]
  },
  {
   "cell_type": "code",
   "execution_count": null,
   "id": "3d005382",
   "metadata": {},
   "outputs": [],
   "source": [
    "n31 = np.arange(1000,1003).reshape(3,1)\n",
    "n31"
   ]
  },
  {
   "cell_type": "code",
   "execution_count": null,
   "id": "79244246",
   "metadata": {},
   "outputs": [],
   "source": [
    "n34"
   ]
  },
  {
   "cell_type": "code",
   "execution_count": null,
   "id": "6ac72c1b",
   "metadata": {},
   "outputs": [],
   "source": [
    "n34 + n31   ## Axis 1 broadcasting  or Stretching"
   ]
  },
  {
   "cell_type": "raw",
   "id": "af165279",
   "metadata": {},
   "source": [
    "1000 1000 1000 1000\n",
    "1001 1001 1001 1001\n",
    "1002 1002 1002 1002"
   ]
  },
  {
   "cell_type": "code",
   "execution_count": null,
   "id": "dba254e2",
   "metadata": {},
   "outputs": [],
   "source": [
    "n34"
   ]
  },
  {
   "cell_type": "code",
   "execution_count": null,
   "id": "f05f36c7",
   "metadata": {},
   "outputs": [],
   "source": [
    "n14 = np.arange(2000,2004).reshape(1,4)\n",
    "n14"
   ]
  },
  {
   "cell_type": "code",
   "execution_count": null,
   "id": "55d13520",
   "metadata": {},
   "outputs": [],
   "source": [
    "n34 + n14  ##  Axis 0 stretching or Broadcasting"
   ]
  },
  {
   "cell_type": "raw",
   "id": "3a60de29",
   "metadata": {},
   "source": [
    "2000 2001 2002 2003\n",
    "2000 2001 2002 2003\n",
    "2000 2001 2002 2003"
   ]
  },
  {
   "cell_type": "code",
   "execution_count": null,
   "id": "5379367f",
   "metadata": {},
   "outputs": [],
   "source": [
    "n13 = np.arange(100,103).reshape(1,3)\n",
    "n41 = np.arange(200,204).reshape(4,1)\n",
    "\n",
    "print(n13)\n",
    "print()\n",
    "print(n41)"
   ]
  },
  {
   "cell_type": "code",
   "execution_count": null,
   "id": "58772cec",
   "metadata": {},
   "outputs": [],
   "source": [
    "n13 + n41  ##  Both Axis Stretching or Broadcasting"
   ]
  },
  {
   "cell_type": "raw",
   "id": "eefafd99",
   "metadata": {},
   "source": [
    "100 101 102      200 200 200\n",
    "100 101 102      201 201 201\n",
    "100 101 102      202 202 202\n",
    "100 101 102      203 203 203"
   ]
  },
  {
   "cell_type": "markdown",
   "id": "498b459c",
   "metadata": {},
   "source": [
    "# 2D Stacking"
   ]
  },
  {
   "cell_type": "code",
   "execution_count": null,
   "id": "00a85cbf",
   "metadata": {},
   "outputs": [],
   "source": [
    "n23 = np.arange(6).reshape(2,3)\n",
    "n23"
   ]
  },
  {
   "cell_type": "code",
   "execution_count": null,
   "id": "da7ae0f2",
   "metadata": {},
   "outputs": [],
   "source": [
    "n43 = np.arange(100,112).reshape(4,3)\n",
    "n43"
   ]
  },
  {
   "cell_type": "code",
   "execution_count": null,
   "id": "fd0de773",
   "metadata": {},
   "outputs": [],
   "source": [
    "n = np.vstack(tup=(n23,n43))\n",
    "print(n.shape)\n",
    "n"
   ]
  },
  {
   "cell_type": "code",
   "execution_count": null,
   "id": "f4428b4a",
   "metadata": {},
   "outputs": [],
   "source": [
    "n = np.vstack(tup=(n43,n23))\n",
    "print(n.shape)\n",
    "n"
   ]
  },
  {
   "cell_type": "code",
   "execution_count": null,
   "id": "769fa7f5",
   "metadata": {},
   "outputs": [],
   "source": [
    "n34 = np.arange(12).reshape(3,4)\n",
    "n36 = np.arange(100,118).reshape(3,6)"
   ]
  },
  {
   "cell_type": "code",
   "execution_count": null,
   "id": "e8f4f32a",
   "metadata": {},
   "outputs": [],
   "source": [
    "n = np.hstack((n34,n36))\n",
    "print(n.shape)\n",
    "n"
   ]
  },
  {
   "cell_type": "code",
   "execution_count": null,
   "id": "9cebf0c4",
   "metadata": {},
   "outputs": [],
   "source": [
    "n1 = np.array([10,11,12,13])\n",
    "n2 = np.array([110,111,112,113])"
   ]
  },
  {
   "cell_type": "code",
   "execution_count": null,
   "id": "28a1a924",
   "metadata": {},
   "outputs": [],
   "source": [
    "np.column_stack(tup=(n1,n2))"
   ]
  },
  {
   "cell_type": "code",
   "execution_count": null,
   "id": "9f40b7a2",
   "metadata": {},
   "outputs": [],
   "source": [
    "np.row_stack(tup=(n1,n2))"
   ]
  },
  {
   "cell_type": "markdown",
   "id": "ad7f0538",
   "metadata": {},
   "source": [
    "# Splitting"
   ]
  },
  {
   "cell_type": "code",
   "execution_count": null,
   "id": "3ac8659e",
   "metadata": {},
   "outputs": [],
   "source": [
    "n8_12 = np.arange(96).reshape(8,12)\n",
    "n8_12"
   ]
  },
  {
   "cell_type": "markdown",
   "id": "2471d4df",
   "metadata": {},
   "source": [
    "Even Splitting"
   ]
  },
  {
   "cell_type": "code",
   "execution_count": null,
   "id": "70abd92c",
   "metadata": {},
   "outputs": [],
   "source": [
    "n = np.vsplit(n8_12,4)\n",
    "print(type(n))"
   ]
  },
  {
   "cell_type": "code",
   "execution_count": null,
   "id": "d0a2bceb",
   "metadata": {},
   "outputs": [],
   "source": [
    "for item in n:\n",
    "    print(item)\n",
    "    print(type(item))\n",
    "    print(item.shape)\n",
    "    print()"
   ]
  },
  {
   "cell_type": "code",
   "execution_count": null,
   "id": "dcad3cdd",
   "metadata": {},
   "outputs": [],
   "source": [
    "n = np.vsplit(n8_12,2)\n",
    "print(n[0].shape)\n",
    "n[0]"
   ]
  },
  {
   "cell_type": "code",
   "execution_count": null,
   "id": "315d375a",
   "metadata": {},
   "outputs": [],
   "source": [
    "n = np.hsplit(n8_12,2)\n",
    "print(n[0].shape)\n",
    "n[0]"
   ]
  },
  {
   "cell_type": "code",
   "execution_count": null,
   "id": "f4ccceb1",
   "metadata": {},
   "outputs": [],
   "source": [
    "n = np.hsplit(n8_12,3)\n",
    "print(n[0].shape)\n",
    "n[0]"
   ]
  },
  {
   "cell_type": "code",
   "execution_count": null,
   "id": "a33a78d7",
   "metadata": {},
   "outputs": [],
   "source": [
    "n = np.hsplit(n8_12,5)\n",
    "print(n[0].shape)\n",
    "n[0]"
   ]
  },
  {
   "cell_type": "code",
   "execution_count": null,
   "id": "85a397c7",
   "metadata": {},
   "outputs": [],
   "source": [
    "## DIY:  np.dsplit(...)"
   ]
  },
  {
   "cell_type": "markdown",
   "id": "cd10a079",
   "metadata": {},
   "source": [
    "Uneven Splitting"
   ]
  },
  {
   "cell_type": "code",
   "execution_count": null,
   "id": "1e9a99db",
   "metadata": {},
   "outputs": [],
   "source": [
    "n8_12"
   ]
  },
  {
   "cell_type": "code",
   "execution_count": null,
   "id": "e5be863f",
   "metadata": {},
   "outputs": [],
   "source": [
    "n = np.hsplit(n8_12, [3,5,6,9,11])    ##   :3:5:6:9:11:\n",
    "len(n)"
   ]
  },
  {
   "cell_type": "code",
   "execution_count": null,
   "id": "a51c7a4b",
   "metadata": {},
   "outputs": [],
   "source": [
    "for item in n:\n",
    "    print(item)\n",
    "    print(type(item))\n",
    "    print(item.shape)\n",
    "    print()"
   ]
  },
  {
   "cell_type": "code",
   "execution_count": null,
   "id": "e29f897e",
   "metadata": {},
   "outputs": [],
   "source": [
    "n8_12"
   ]
  },
  {
   "cell_type": "code",
   "execution_count": null,
   "id": "af66f634",
   "metadata": {},
   "outputs": [],
   "source": [
    "n = np.hsplit(n8_12, [2,5,6,7,10])    ##   :2:5:6:7:10:\n",
    "n"
   ]
  },
  {
   "cell_type": "code",
   "execution_count": null,
   "id": "a2a56412",
   "metadata": {},
   "outputs": [],
   "source": [
    "n8_12"
   ]
  },
  {
   "cell_type": "code",
   "execution_count": null,
   "id": "30fb2370",
   "metadata": {},
   "outputs": [],
   "source": [
    "np.vsplit(n8_12, [3,4])  ##:3:4:"
   ]
  },
  {
   "cell_type": "markdown",
   "id": "e0a69d60",
   "metadata": {},
   "source": [
    "# Aggregation Functions"
   ]
  },
  {
   "cell_type": "code",
   "execution_count": null,
   "id": "b730bbfe",
   "metadata": {},
   "outputs": [],
   "source": [
    "np.random.seed(23)\n",
    "n34 = np.random.randint(low=5, high=45, size=(3,4))\n",
    "n34"
   ]
  },
  {
   "cell_type": "code",
   "execution_count": null,
   "id": "510016a7",
   "metadata": {},
   "outputs": [],
   "source": [
    "print(np.sum(n34, axis=None))\n",
    "print(np.sum(n34, axis=0))\n",
    "print(np.sum(n34, axis=1))"
   ]
  },
  {
   "cell_type": "code",
   "execution_count": null,
   "id": "749a1a1d",
   "metadata": {},
   "outputs": [],
   "source": [
    "print(np.mean(n34, axis=None))\n",
    "print(np.mean(n34, axis=0))\n",
    "print(np.mean(n34, axis=1))"
   ]
  },
  {
   "cell_type": "code",
   "execution_count": null,
   "id": "6de7c2f8",
   "metadata": {},
   "outputs": [],
   "source": [
    "117/4"
   ]
  },
  {
   "cell_type": "code",
   "execution_count": null,
   "id": "c3b6493b",
   "metadata": {},
   "outputs": [],
   "source": [
    "print(np.max(n34, axis=None))\n",
    "print(np.max(n34, axis=0))\n",
    "print(np.max(n34, axis=1))"
   ]
  },
  {
   "cell_type": "code",
   "execution_count": null,
   "id": "45cf2595",
   "metadata": {},
   "outputs": [],
   "source": [
    "print(np.min(n34, axis=None))\n",
    "print(np.min(n34, axis=0))\n",
    "print(np.min(n34, axis=1))"
   ]
  },
  {
   "cell_type": "code",
   "execution_count": null,
   "id": "28116da5",
   "metadata": {},
   "outputs": [],
   "source": [
    "print(np.std(n34, axis=None))\n",
    "print(np.std(n34, axis=0))\n",
    "print(np.std(n34, axis=1))"
   ]
  },
  {
   "cell_type": "code",
   "execution_count": null,
   "id": "b599fd51",
   "metadata": {},
   "outputs": [],
   "source": [
    "print(np.var(n34, axis=None))\n",
    "print(np.var(n34, axis=0))\n",
    "print(np.var(n34, axis=1))"
   ]
  },
  {
   "cell_type": "markdown",
   "id": "2b2d2bff",
   "metadata": {},
   "source": [
    "Utility Functions"
   ]
  },
  {
   "cell_type": "code",
   "execution_count": null,
   "id": "47bf9e92",
   "metadata": {},
   "outputs": [],
   "source": [
    "np.linspace(start=0, stop=5000000, num=6)"
   ]
  },
  {
   "cell_type": "code",
   "execution_count": null,
   "id": "8df474d1",
   "metadata": {},
   "outputs": [],
   "source": [
    "n = np.linspace(start=0, stop=5000000, num=6, retstep=True)\n",
    "print(n[-1])\n",
    "n[0]"
   ]
  },
  {
   "cell_type": "code",
   "execution_count": null,
   "id": "83da129f",
   "metadata": {},
   "outputs": [],
   "source": [
    "n = np.linspace(start=0, stop=7, num=8, retstep=True)\n",
    "print(n[-1])\n",
    "n[0]"
   ]
  },
  {
   "cell_type": "code",
   "execution_count": null,
   "id": "3ae88155",
   "metadata": {},
   "outputs": [],
   "source": [
    "n = np.linspace(start=-1, stop=1, num=5, retstep=True)\n",
    "print(n[-1])\n",
    "n[0]"
   ]
  },
  {
   "cell_type": "code",
   "execution_count": null,
   "id": "ad09fa03",
   "metadata": {},
   "outputs": [],
   "source": [
    "## AP : an = a0 + (n-1)d"
   ]
  },
  {
   "cell_type": "code",
   "execution_count": null,
   "id": "fe1d17c3",
   "metadata": {},
   "outputs": [],
   "source": [
    "np.log10(1000)"
   ]
  },
  {
   "cell_type": "code",
   "execution_count": null,
   "id": "1a8bd7f2",
   "metadata": {},
   "outputs": [],
   "source": [
    "np.log10(n34)"
   ]
  },
  {
   "cell_type": "code",
   "execution_count": null,
   "id": "d9bdf900",
   "metadata": {},
   "outputs": [],
   "source": [
    "n34"
   ]
  },
  {
   "cell_type": "code",
   "execution_count": null,
   "id": "698b5b7c",
   "metadata": {},
   "outputs": [],
   "source": [
    "n23 = np.array([ [100,1000,10000], [100000,10000000, 10000000]])\n",
    "n23"
   ]
  },
  {
   "cell_type": "code",
   "execution_count": null,
   "id": "a0eba5bf",
   "metadata": {},
   "outputs": [],
   "source": [
    "np.log10(n23)"
   ]
  },
  {
   "cell_type": "code",
   "execution_count": null,
   "id": "cb93ab82",
   "metadata": {},
   "outputs": [],
   "source": [
    "np.e"
   ]
  },
  {
   "cell_type": "code",
   "execution_count": null,
   "id": "026c703c",
   "metadata": {},
   "outputs": [],
   "source": [
    "np.exp(2)"
   ]
  },
  {
   "cell_type": "code",
   "execution_count": null,
   "id": "77f42fb2",
   "metadata": {},
   "outputs": [],
   "source": [
    "np.e * np.e"
   ]
  },
  {
   "cell_type": "code",
   "execution_count": null,
   "id": "42dea7b3",
   "metadata": {},
   "outputs": [],
   "source": [
    "np.exp(n34)"
   ]
  },
  {
   "cell_type": "code",
   "execution_count": null,
   "id": "96eeb227",
   "metadata": {},
   "outputs": [],
   "source": [
    "n34"
   ]
  },
  {
   "cell_type": "code",
   "execution_count": null,
   "id": "b3a91346",
   "metadata": {},
   "outputs": [],
   "source": [
    "np.e**7"
   ]
  },
  {
   "cell_type": "markdown",
   "id": "2efbd580",
   "metadata": {},
   "source": [
    "Iterations"
   ]
  },
  {
   "cell_type": "code",
   "execution_count": null,
   "id": "2ced0878",
   "metadata": {},
   "outputs": [],
   "source": [
    "n34"
   ]
  },
  {
   "cell_type": "code",
   "execution_count": null,
   "id": "34429b05",
   "metadata": {},
   "outputs": [],
   "source": [
    "for item in n34:\n",
    "    print(item)\n",
    "    print()"
   ]
  },
  {
   "cell_type": "code",
   "execution_count": null,
   "id": "d33280e4",
   "metadata": {},
   "outputs": [],
   "source": [
    "for element in np.nditer(n34):\n",
    "    print(element)"
   ]
  },
  {
   "cell_type": "code",
   "execution_count": null,
   "id": "58aff31b",
   "metadata": {},
   "outputs": [],
   "source": [
    "print(n34)\n",
    "for index, value in np.ndenumerate(n34):\n",
    "    print(index, value)"
   ]
  },
  {
   "cell_type": "markdown",
   "id": "757769ac",
   "metadata": {},
   "source": [
    "Insert"
   ]
  },
  {
   "cell_type": "code",
   "execution_count": null,
   "id": "eba67bb1",
   "metadata": {},
   "outputs": [],
   "source": [
    "n34"
   ]
  },
  {
   "cell_type": "code",
   "execution_count": null,
   "id": "9590ca3f",
   "metadata": {},
   "outputs": [],
   "source": [
    "n = np.insert(n34, 1 , [0,1,2,3],axis=0 )\n",
    "n"
   ]
  },
  {
   "cell_type": "code",
   "execution_count": null,
   "id": "e5a275d5",
   "metadata": {},
   "outputs": [],
   "source": [
    "n = np.insert(n34, 1 , 999,axis=0 )\n",
    "n"
   ]
  },
  {
   "cell_type": "code",
   "execution_count": null,
   "id": "f7826ea2",
   "metadata": {},
   "outputs": [],
   "source": [
    "n = np.insert(n34, 0 , np.arange(8).reshape(2,4) ,axis=0 )\n",
    "n"
   ]
  },
  {
   "cell_type": "code",
   "execution_count": null,
   "id": "3f5202a0",
   "metadata": {},
   "outputs": [],
   "source": [
    "np.arange(8).reshape(2,4)"
   ]
  },
  {
   "cell_type": "code",
   "execution_count": null,
   "id": "c41ed180",
   "metadata": {},
   "outputs": [],
   "source": [
    "## DIY: Try Insert along axis = 1"
   ]
  },
  {
   "cell_type": "markdown",
   "id": "d1b03b91",
   "metadata": {},
   "source": [
    "3D Creation"
   ]
  },
  {
   "cell_type": "code",
   "execution_count": null,
   "id": "b6f4a981",
   "metadata": {},
   "outputs": [],
   "source": [
    "mylist342 = [\n",
    "    \n",
    "    [ [11,31], [12,32], [13,33], [14,34] ],\n",
    "    [ [15,35], [16,36], [17,37], [18,38] ],\n",
    "    [ [19,39], [20,40], [21,41], [22,42] ]\n",
    "    \n",
    "]"
   ]
  },
  {
   "cell_type": "code",
   "execution_count": null,
   "id": "de7cafca",
   "metadata": {},
   "outputs": [],
   "source": [
    "n342 = np.array(mylist342)\n",
    "n342.shape"
   ]
  },
  {
   "cell_type": "code",
   "execution_count": null,
   "id": "5090d437",
   "metadata": {},
   "outputs": [],
   "source": [
    "n342"
   ]
  },
  {
   "cell_type": "code",
   "execution_count": null,
   "id": "b8f598e1",
   "metadata": {},
   "outputs": [],
   "source": [
    "n342[1,2,1]"
   ]
  },
  {
   "cell_type": "code",
   "execution_count": null,
   "id": "a1b477ac",
   "metadata": {},
   "outputs": [],
   "source": [
    "n342[1:, 1:3, 1]"
   ]
  },
  {
   "cell_type": "code",
   "execution_count": null,
   "id": "04ae1b29",
   "metadata": {},
   "outputs": [],
   "source": [
    "n342 = np.arange(24).reshape(3,4,2)\n",
    "n342"
   ]
  },
  {
   "cell_type": "code",
   "execution_count": null,
   "id": "8502c7b3",
   "metadata": {},
   "outputs": [],
   "source": [
    "n34a = np.arange(11,23).reshape(3,4)\n",
    "n34a"
   ]
  },
  {
   "cell_type": "code",
   "execution_count": null,
   "id": "bcd6cc53",
   "metadata": {},
   "outputs": [],
   "source": [
    "n34b = np.arange(31,43).reshape(3,4)\n",
    "n34b"
   ]
  },
  {
   "cell_type": "code",
   "execution_count": null,
   "id": "14140f97",
   "metadata": {},
   "outputs": [],
   "source": [
    "n = np.stack(arrays=(n34a,n34b), axis=2)\n",
    "n.shape\n",
    "n"
   ]
  },
  {
   "cell_type": "code",
   "execution_count": null,
   "id": "3e16e3e1",
   "metadata": {},
   "outputs": [],
   "source": [
    "n = np.stack(arrays=(n34a,n34b), axis=1)\n",
    "n.shape\n",
    "n"
   ]
  },
  {
   "cell_type": "code",
   "execution_count": null,
   "id": "89762aa3",
   "metadata": {},
   "outputs": [],
   "source": [
    "n = np.stack(arrays=(n34a,n34b), axis=0)\n",
    "n.shape\n",
    "n"
   ]
  }
 ],
 "metadata": {
  "kernelspec": {
   "display_name": "Python 3",
   "language": "python",
   "name": "python3"
  },
  "language_info": {
   "codemirror_mode": {
    "name": "ipython",
    "version": 3
   },
   "file_extension": ".py",
   "mimetype": "text/x-python",
   "name": "python",
   "nbconvert_exporter": "python",
   "pygments_lexer": "ipython3",
   "version": "3.8.8"
  }
 },
 "nbformat": 4,
 "nbformat_minor": 5
}
