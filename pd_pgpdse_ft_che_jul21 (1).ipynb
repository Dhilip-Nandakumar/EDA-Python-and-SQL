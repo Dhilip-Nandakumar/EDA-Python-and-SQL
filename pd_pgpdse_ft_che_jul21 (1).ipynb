{
 "cells": [
  {
   "cell_type": "markdown",
   "id": "6c955ca7",
   "metadata": {},
   "source": [
    "# 24-Aug-2021.  Pandas"
   ]
  },
  {
   "cell_type": "code",
   "execution_count": 68,
   "id": "66020822",
   "metadata": {},
   "outputs": [],
   "source": [
    "import pandas as pd\n",
    "import numpy as np"
   ]
  },
  {
   "cell_type": "markdown",
   "id": "f450299c",
   "metadata": {},
   "source": [
    "# Series"
   ]
  },
  {
   "cell_type": "raw",
   "id": "1df412da",
   "metadata": {},
   "source": [
    "        \n",
    "Tata    100\n",
    "Birla   200\n",
    "Wipro   300\n",
    "Infy    400\n"
   ]
  },
  {
   "cell_type": "code",
   "execution_count": 69,
   "id": "93a7d239",
   "metadata": {},
   "outputs": [
    {
     "name": "stdout",
     "output_type": "stream",
     "text": [
      "<class 'pandas.core.series.Series'>\n"
     ]
    },
    {
     "data": {
      "text/plain": [
       "0    100\n",
       "1    200\n",
       "2    300\n",
       "3    400\n",
       "dtype: int64"
      ]
     },
     "execution_count": 69,
     "metadata": {},
     "output_type": "execute_result"
    }
   ],
   "source": [
    "mylist1 = [100,200,300,400]\n",
    "ps1 = pd.Series(mylist1)\n",
    "print(type(ps1))\n",
    "ps1"
   ]
  },
  {
   "cell_type": "code",
   "execution_count": 70,
   "id": "deacffa7",
   "metadata": {},
   "outputs": [
    {
     "data": {
      "text/plain": [
       "RangeIndex(start=0, stop=4, step=1)"
      ]
     },
     "execution_count": 70,
     "metadata": {},
     "output_type": "execute_result"
    }
   ],
   "source": [
    "ps1.index"
   ]
  },
  {
   "cell_type": "code",
   "execution_count": 71,
   "id": "21ba5499",
   "metadata": {},
   "outputs": [
    {
     "data": {
      "text/plain": [
       "array([100, 200, 300, 400], dtype=int64)"
      ]
     },
     "execution_count": 71,
     "metadata": {},
     "output_type": "execute_result"
    }
   ],
   "source": [
    "ps1.values"
   ]
  },
  {
   "cell_type": "code",
   "execution_count": 72,
   "id": "61312dcc",
   "metadata": {},
   "outputs": [
    {
     "name": "stdout",
     "output_type": "stream",
     "text": [
      "<class 'numpy.ndarray'>\n"
     ]
    }
   ],
   "source": [
    "print(type(ps1.values))"
   ]
  },
  {
   "cell_type": "code",
   "execution_count": 73,
   "id": "f85d8921",
   "metadata": {},
   "outputs": [
    {
     "data": {
      "text/plain": [
       "1"
      ]
     },
     "execution_count": 73,
     "metadata": {},
     "output_type": "execute_result"
    }
   ],
   "source": [
    "ps1.ndim"
   ]
  },
  {
   "cell_type": "code",
   "execution_count": 74,
   "id": "476ee56a",
   "metadata": {},
   "outputs": [
    {
     "data": {
      "text/plain": [
       "(4,)"
      ]
     },
     "execution_count": 74,
     "metadata": {},
     "output_type": "execute_result"
    }
   ],
   "source": [
    "ps1.shape"
   ]
  },
  {
   "cell_type": "code",
   "execution_count": 75,
   "id": "96e6e280",
   "metadata": {},
   "outputs": [
    {
     "data": {
      "text/plain": [
       "4"
      ]
     },
     "execution_count": 75,
     "metadata": {},
     "output_type": "execute_result"
    }
   ],
   "source": [
    "ps1.count()"
   ]
  },
  {
   "cell_type": "code",
   "execution_count": 76,
   "id": "65d37362",
   "metadata": {},
   "outputs": [
    {
     "data": {
      "text/plain": [
       "400"
      ]
     },
     "execution_count": 76,
     "metadata": {},
     "output_type": "execute_result"
    }
   ],
   "source": [
    "ps1.max()"
   ]
  },
  {
   "cell_type": "code",
   "execution_count": 77,
   "id": "7fe433c6",
   "metadata": {},
   "outputs": [
    {
     "data": {
      "text/plain": [
       "100"
      ]
     },
     "execution_count": 77,
     "metadata": {},
     "output_type": "execute_result"
    }
   ],
   "source": [
    "ps1.min()"
   ]
  },
  {
   "cell_type": "code",
   "execution_count": 78,
   "id": "13b0757d",
   "metadata": {},
   "outputs": [
    {
     "data": {
      "text/plain": [
       "250.0"
      ]
     },
     "execution_count": 78,
     "metadata": {},
     "output_type": "execute_result"
    }
   ],
   "source": [
    "ps1.mean()"
   ]
  },
  {
   "cell_type": "code",
   "execution_count": null,
   "id": "a55a103c",
   "metadata": {},
   "outputs": [],
   "source": [
    "ps1.median()"
   ]
  },
  {
   "cell_type": "code",
   "execution_count": null,
   "id": "a3e8df44",
   "metadata": {},
   "outputs": [],
   "source": [
    "ps1"
   ]
  },
  {
   "cell_type": "code",
   "execution_count": null,
   "id": "d863b57e",
   "metadata": {},
   "outputs": [],
   "source": [
    "ps1[0]"
   ]
  },
  {
   "cell_type": "code",
   "execution_count": null,
   "id": "7fd2cd5b",
   "metadata": {},
   "outputs": [],
   "source": [
    "ps1[1:3]"
   ]
  },
  {
   "cell_type": "code",
   "execution_count": null,
   "id": "8c708b13",
   "metadata": {},
   "outputs": [],
   "source": [
    "ps1[[0,3,1]]"
   ]
  },
  {
   "cell_type": "code",
   "execution_count": null,
   "id": "63ba58a7",
   "metadata": {},
   "outputs": [],
   "source": [
    "mylist1 = [100,200,300,400]\n",
    "label_list = ['Tata', 'Birla', 'Wipro', 'Infy']\n",
    "\n",
    "ps2 = pd.Series(mylist1, index=label_list, name='EmpCnt')\n",
    "ps2"
   ]
  },
  {
   "cell_type": "code",
   "execution_count": null,
   "id": "a64d7074",
   "metadata": {},
   "outputs": [],
   "source": [
    "ps2.index"
   ]
  },
  {
   "cell_type": "code",
   "execution_count": null,
   "id": "992a3ba6",
   "metadata": {},
   "outputs": [],
   "source": [
    "ps2['Tata']"
   ]
  },
  {
   "cell_type": "code",
   "execution_count": null,
   "id": "246bff7f",
   "metadata": {},
   "outputs": [],
   "source": [
    "ps2[['Tata', 'Wipro', 'Birla']]"
   ]
  },
  {
   "cell_type": "code",
   "execution_count": null,
   "id": "ddba7617",
   "metadata": {},
   "outputs": [],
   "source": [
    "ps2['Birla': 'Infy']"
   ]
  },
  {
   "cell_type": "code",
   "execution_count": null,
   "id": "97607d06",
   "metadata": {},
   "outputs": [],
   "source": [
    "## when you use, numerical slice, endpoint=False\n",
    "## when you use label slice, endpoint=True"
   ]
  },
  {
   "cell_type": "code",
   "execution_count": null,
   "id": "639e1c24",
   "metadata": {},
   "outputs": [],
   "source": [
    "md1 = {'Tata':100, 'Birla':200, 'Wipro':300, 'Infy':400}"
   ]
  },
  {
   "cell_type": "code",
   "execution_count": null,
   "id": "72c906b4",
   "metadata": {},
   "outputs": [],
   "source": [
    "ps3 = pd.Series(md1)\n",
    "ps3"
   ]
  },
  {
   "cell_type": "code",
   "execution_count": null,
   "id": "902c70be",
   "metadata": {},
   "outputs": [],
   "source": [
    "ps3.index"
   ]
  },
  {
   "cell_type": "code",
   "execution_count": null,
   "id": "c5e69735",
   "metadata": {},
   "outputs": [],
   "source": [
    "ps3.values"
   ]
  },
  {
   "cell_type": "code",
   "execution_count": null,
   "id": "ab57ba1e",
   "metadata": {},
   "outputs": [],
   "source": [
    "ps3"
   ]
  },
  {
   "cell_type": "code",
   "execution_count": null,
   "id": "2b14b481",
   "metadata": {},
   "outputs": [],
   "source": [
    "ps3[ps3>200]"
   ]
  },
  {
   "cell_type": "code",
   "execution_count": null,
   "id": "e035ae98",
   "metadata": {},
   "outputs": [],
   "source": [
    "ps3>200"
   ]
  },
  {
   "cell_type": "code",
   "execution_count": null,
   "id": "c26565ae",
   "metadata": {},
   "outputs": [],
   "source": [
    "ps3.__name__ = 'EmpCnt'\n",
    "ps3"
   ]
  },
  {
   "cell_type": "code",
   "execution_count": null,
   "id": "d80f26f3",
   "metadata": {},
   "outputs": [],
   "source": [
    "print(ps3)"
   ]
  },
  {
   "cell_type": "markdown",
   "id": "e778b54f",
   "metadata": {},
   "source": [
    "# DataFrames"
   ]
  },
  {
   "cell_type": "raw",
   "id": "c1ed8912",
   "metadata": {},
   "source": [
    "       Rev  Exp  HQ  EmpCnt\n",
    "Tata   100  75   Mum  50\n",
    "Birla  200  175  Kol  150\n",
    "Wipro  300  275  Blr  250\n",
    "Infy   400  375  Blr  350\n",
    "MRF    500  475  Che  450"
   ]
  },
  {
   "cell_type": "markdown",
   "id": "c1434c87",
   "metadata": {},
   "source": [
    "Creation using Lists"
   ]
  },
  {
   "cell_type": "code",
   "execution_count": 79,
   "id": "91c438da",
   "metadata": {},
   "outputs": [],
   "source": [
    "mylist1 = [\n",
    "    \n",
    "    [100,75,'Mum',50],\n",
    "    [200,175,'Kol',150],\n",
    "    [300,275,'Blr',250],\n",
    "    [400,375,'Blr',350],\n",
    "    [500,475,'Che',450]\n",
    "   \n",
    "]\n",
    "\n",
    "row_label_list = ['Tata', 'Birla', 'Wipro', 'Infy', 'MRF']\n",
    "col_label_list = ['Rev', 'Exp', 'HQ', 'EmpCnt']"
   ]
  },
  {
   "cell_type": "code",
   "execution_count": 80,
   "id": "cb8b55f6",
   "metadata": {},
   "outputs": [
    {
     "name": "stdout",
     "output_type": "stream",
     "text": [
      "<class 'pandas.core.frame.DataFrame'>\n"
     ]
    },
    {
     "data": {
      "text/html": [
       "<div>\n",
       "<style scoped>\n",
       "    .dataframe tbody tr th:only-of-type {\n",
       "        vertical-align: middle;\n",
       "    }\n",
       "\n",
       "    .dataframe tbody tr th {\n",
       "        vertical-align: top;\n",
       "    }\n",
       "\n",
       "    .dataframe thead th {\n",
       "        text-align: right;\n",
       "    }\n",
       "</style>\n",
       "<table border=\"1\" class=\"dataframe\">\n",
       "  <thead>\n",
       "    <tr style=\"text-align: right;\">\n",
       "      <th></th>\n",
       "      <th>0</th>\n",
       "      <th>1</th>\n",
       "      <th>2</th>\n",
       "      <th>3</th>\n",
       "    </tr>\n",
       "  </thead>\n",
       "  <tbody>\n",
       "    <tr>\n",
       "      <th>0</th>\n",
       "      <td>100</td>\n",
       "      <td>75</td>\n",
       "      <td>Mum</td>\n",
       "      <td>50</td>\n",
       "    </tr>\n",
       "    <tr>\n",
       "      <th>1</th>\n",
       "      <td>200</td>\n",
       "      <td>175</td>\n",
       "      <td>Kol</td>\n",
       "      <td>150</td>\n",
       "    </tr>\n",
       "    <tr>\n",
       "      <th>2</th>\n",
       "      <td>300</td>\n",
       "      <td>275</td>\n",
       "      <td>Blr</td>\n",
       "      <td>250</td>\n",
       "    </tr>\n",
       "    <tr>\n",
       "      <th>3</th>\n",
       "      <td>400</td>\n",
       "      <td>375</td>\n",
       "      <td>Blr</td>\n",
       "      <td>350</td>\n",
       "    </tr>\n",
       "    <tr>\n",
       "      <th>4</th>\n",
       "      <td>500</td>\n",
       "      <td>475</td>\n",
       "      <td>Che</td>\n",
       "      <td>450</td>\n",
       "    </tr>\n",
       "  </tbody>\n",
       "</table>\n",
       "</div>"
      ],
      "text/plain": [
       "     0    1    2    3\n",
       "0  100   75  Mum   50\n",
       "1  200  175  Kol  150\n",
       "2  300  275  Blr  250\n",
       "3  400  375  Blr  350\n",
       "4  500  475  Che  450"
      ]
     },
     "execution_count": 80,
     "metadata": {},
     "output_type": "execute_result"
    }
   ],
   "source": [
    "df1 = pd.DataFrame(mylist1)\n",
    "print(type(df1))\n",
    "df1"
   ]
  },
  {
   "cell_type": "code",
   "execution_count": 81,
   "id": "b5f8b272",
   "metadata": {},
   "outputs": [
    {
     "data": {
      "text/plain": [
       "RangeIndex(start=0, stop=5, step=1)"
      ]
     },
     "execution_count": 81,
     "metadata": {},
     "output_type": "execute_result"
    }
   ],
   "source": [
    "df1.index"
   ]
  },
  {
   "cell_type": "code",
   "execution_count": 82,
   "id": "1d656d3d",
   "metadata": {},
   "outputs": [
    {
     "data": {
      "text/plain": [
       "RangeIndex(start=0, stop=4, step=1)"
      ]
     },
     "execution_count": 82,
     "metadata": {},
     "output_type": "execute_result"
    }
   ],
   "source": [
    "df1.columns"
   ]
  },
  {
   "cell_type": "code",
   "execution_count": 83,
   "id": "10788a21",
   "metadata": {},
   "outputs": [
    {
     "data": {
      "text/html": [
       "<div>\n",
       "<style scoped>\n",
       "    .dataframe tbody tr th:only-of-type {\n",
       "        vertical-align: middle;\n",
       "    }\n",
       "\n",
       "    .dataframe tbody tr th {\n",
       "        vertical-align: top;\n",
       "    }\n",
       "\n",
       "    .dataframe thead th {\n",
       "        text-align: right;\n",
       "    }\n",
       "</style>\n",
       "<table border=\"1\" class=\"dataframe\">\n",
       "  <thead>\n",
       "    <tr style=\"text-align: right;\">\n",
       "      <th></th>\n",
       "      <th>Rev</th>\n",
       "      <th>Exp</th>\n",
       "      <th>HQ</th>\n",
       "      <th>EmpCnt</th>\n",
       "    </tr>\n",
       "  </thead>\n",
       "  <tbody>\n",
       "    <tr>\n",
       "      <th>Tata</th>\n",
       "      <td>100</td>\n",
       "      <td>75</td>\n",
       "      <td>Mum</td>\n",
       "      <td>50</td>\n",
       "    </tr>\n",
       "    <tr>\n",
       "      <th>Birla</th>\n",
       "      <td>200</td>\n",
       "      <td>175</td>\n",
       "      <td>Kol</td>\n",
       "      <td>150</td>\n",
       "    </tr>\n",
       "    <tr>\n",
       "      <th>Wipro</th>\n",
       "      <td>300</td>\n",
       "      <td>275</td>\n",
       "      <td>Blr</td>\n",
       "      <td>250</td>\n",
       "    </tr>\n",
       "    <tr>\n",
       "      <th>Infy</th>\n",
       "      <td>400</td>\n",
       "      <td>375</td>\n",
       "      <td>Blr</td>\n",
       "      <td>350</td>\n",
       "    </tr>\n",
       "    <tr>\n",
       "      <th>MRF</th>\n",
       "      <td>500</td>\n",
       "      <td>475</td>\n",
       "      <td>Che</td>\n",
       "      <td>450</td>\n",
       "    </tr>\n",
       "  </tbody>\n",
       "</table>\n",
       "</div>"
      ],
      "text/plain": [
       "       Rev  Exp   HQ  EmpCnt\n",
       "Tata   100   75  Mum      50\n",
       "Birla  200  175  Kol     150\n",
       "Wipro  300  275  Blr     250\n",
       "Infy   400  375  Blr     350\n",
       "MRF    500  475  Che     450"
      ]
     },
     "execution_count": 83,
     "metadata": {},
     "output_type": "execute_result"
    }
   ],
   "source": [
    "df2 = pd.DataFrame(mylist1, index=row_label_list,  columns=col_label_list)\n",
    "df2"
   ]
  },
  {
   "cell_type": "code",
   "execution_count": 84,
   "id": "bf79b682",
   "metadata": {},
   "outputs": [
    {
     "data": {
      "text/plain": [
       "Index(['Tata', 'Birla', 'Wipro', 'Infy', 'MRF'], dtype='object')"
      ]
     },
     "execution_count": 84,
     "metadata": {},
     "output_type": "execute_result"
    }
   ],
   "source": [
    "df2.index"
   ]
  },
  {
   "cell_type": "code",
   "execution_count": 85,
   "id": "88f7e9dd",
   "metadata": {},
   "outputs": [
    {
     "data": {
      "text/plain": [
       "Index(['Rev', 'Exp', 'HQ', 'EmpCnt'], dtype='object')"
      ]
     },
     "execution_count": 85,
     "metadata": {},
     "output_type": "execute_result"
    }
   ],
   "source": [
    "df2.columns"
   ]
  },
  {
   "cell_type": "markdown",
   "id": "55e56f1e",
   "metadata": {},
   "source": [
    "Creation using dict"
   ]
  },
  {
   "cell_type": "code",
   "execution_count": 86,
   "id": "e7851560",
   "metadata": {},
   "outputs": [
    {
     "data": {
      "text/html": [
       "<div>\n",
       "<style scoped>\n",
       "    .dataframe tbody tr th:only-of-type {\n",
       "        vertical-align: middle;\n",
       "    }\n",
       "\n",
       "    .dataframe tbody tr th {\n",
       "        vertical-align: top;\n",
       "    }\n",
       "\n",
       "    .dataframe thead th {\n",
       "        text-align: right;\n",
       "    }\n",
       "</style>\n",
       "<table border=\"1\" class=\"dataframe\">\n",
       "  <thead>\n",
       "    <tr style=\"text-align: right;\">\n",
       "      <th></th>\n",
       "      <th>Rev</th>\n",
       "      <th>Exp</th>\n",
       "      <th>HQ</th>\n",
       "      <th>EmpCnt</th>\n",
       "    </tr>\n",
       "  </thead>\n",
       "  <tbody>\n",
       "    <tr>\n",
       "      <th>Tata</th>\n",
       "      <td>100</td>\n",
       "      <td>75</td>\n",
       "      <td>Mum</td>\n",
       "      <td>50</td>\n",
       "    </tr>\n",
       "    <tr>\n",
       "      <th>Birla</th>\n",
       "      <td>200</td>\n",
       "      <td>175</td>\n",
       "      <td>Kol</td>\n",
       "      <td>150</td>\n",
       "    </tr>\n",
       "    <tr>\n",
       "      <th>Wipro</th>\n",
       "      <td>300</td>\n",
       "      <td>275</td>\n",
       "      <td>Blr</td>\n",
       "      <td>250</td>\n",
       "    </tr>\n",
       "    <tr>\n",
       "      <th>Infy</th>\n",
       "      <td>400</td>\n",
       "      <td>375</td>\n",
       "      <td>Blr</td>\n",
       "      <td>350</td>\n",
       "    </tr>\n",
       "    <tr>\n",
       "      <th>MRF</th>\n",
       "      <td>500</td>\n",
       "      <td>475</td>\n",
       "      <td>Che</td>\n",
       "      <td>450</td>\n",
       "    </tr>\n",
       "  </tbody>\n",
       "</table>\n",
       "</div>"
      ],
      "text/plain": [
       "       Rev  Exp   HQ  EmpCnt\n",
       "Tata   100   75  Mum      50\n",
       "Birla  200  175  Kol     150\n",
       "Wipro  300  275  Blr     250\n",
       "Infy   400  375  Blr     350\n",
       "MRF    500  475  Che     450"
      ]
     },
     "execution_count": 86,
     "metadata": {},
     "output_type": "execute_result"
    }
   ],
   "source": [
    "df2"
   ]
  },
  {
   "cell_type": "code",
   "execution_count": 87,
   "id": "71f012cf",
   "metadata": {},
   "outputs": [
    {
     "data": {
      "text/html": [
       "<div>\n",
       "<style scoped>\n",
       "    .dataframe tbody tr th:only-of-type {\n",
       "        vertical-align: middle;\n",
       "    }\n",
       "\n",
       "    .dataframe tbody tr th {\n",
       "        vertical-align: top;\n",
       "    }\n",
       "\n",
       "    .dataframe thead th {\n",
       "        text-align: right;\n",
       "    }\n",
       "</style>\n",
       "<table border=\"1\" class=\"dataframe\">\n",
       "  <thead>\n",
       "    <tr style=\"text-align: right;\">\n",
       "      <th></th>\n",
       "      <th>Rev</th>\n",
       "      <th>EmpCnt</th>\n",
       "      <th>Exp</th>\n",
       "      <th>HQ</th>\n",
       "    </tr>\n",
       "  </thead>\n",
       "  <tbody>\n",
       "    <tr>\n",
       "      <th>Tata</th>\n",
       "      <td>100</td>\n",
       "      <td>50</td>\n",
       "      <td>75</td>\n",
       "      <td>Mum</td>\n",
       "    </tr>\n",
       "    <tr>\n",
       "      <th>Birla</th>\n",
       "      <td>200</td>\n",
       "      <td>150</td>\n",
       "      <td>175</td>\n",
       "      <td>Kol</td>\n",
       "    </tr>\n",
       "    <tr>\n",
       "      <th>Wipro</th>\n",
       "      <td>300</td>\n",
       "      <td>250</td>\n",
       "      <td>275</td>\n",
       "      <td>Blr</td>\n",
       "    </tr>\n",
       "    <tr>\n",
       "      <th>Infy</th>\n",
       "      <td>400</td>\n",
       "      <td>350</td>\n",
       "      <td>375</td>\n",
       "      <td>Blr</td>\n",
       "    </tr>\n",
       "    <tr>\n",
       "      <th>MRF</th>\n",
       "      <td>500</td>\n",
       "      <td>450</td>\n",
       "      <td>475</td>\n",
       "      <td>Che</td>\n",
       "    </tr>\n",
       "  </tbody>\n",
       "</table>\n",
       "</div>"
      ],
      "text/plain": [
       "       Rev  EmpCnt  Exp   HQ\n",
       "Tata   100      50   75  Mum\n",
       "Birla  200     150  175  Kol\n",
       "Wipro  300     250  275  Blr\n",
       "Infy   400     350  375  Blr\n",
       "MRF    500     450  475  Che"
      ]
     },
     "execution_count": 87,
     "metadata": {},
     "output_type": "execute_result"
    }
   ],
   "source": [
    "md2 = {\n",
    "        'Rev': [100,200,300,400,500],\n",
    "        'EmpCnt': [50,150,250,350,450],\n",
    "        'Exp': [75,175,275,375,475],\n",
    "        'HQ' : ['Mum','Kol','Blr','Blr','Che']\n",
    "     \n",
    "      }\n",
    "row_label_list = ['Tata', 'Birla', 'Wipro', 'Infy', 'MRF']\n",
    "\n",
    "\n",
    "df2 = pd.DataFrame(md2, index=row_label_list)\n",
    "df2"
   ]
  },
  {
   "cell_type": "code",
   "execution_count": 90,
   "id": "d119d972",
   "metadata": {},
   "outputs": [
    {
     "data": {
      "text/plain": [
       "Index(['Tata', 'Birla', 'Wipro', 'Infy', 'MRF'], dtype='object')"
      ]
     },
     "execution_count": 90,
     "metadata": {},
     "output_type": "execute_result"
    }
   ],
   "source": [
    "df2.index"
   ]
  },
  {
   "cell_type": "code",
   "execution_count": 91,
   "id": "189edc34",
   "metadata": {},
   "outputs": [
    {
     "data": {
      "text/plain": [
       "Index(['Rev', 'EmpCnt', 'Exp', 'HQ'], dtype='object')"
      ]
     },
     "execution_count": 91,
     "metadata": {},
     "output_type": "execute_result"
    }
   ],
   "source": [
    "df2.columns"
   ]
  },
  {
   "cell_type": "markdown",
   "id": "d54beb8d",
   "metadata": {},
   "source": [
    "dataframe from CSV file"
   ]
  },
  {
   "cell_type": "code",
   "execution_count": 92,
   "id": "8a2f5362",
   "metadata": {},
   "outputs": [
    {
     "data": {
      "text/html": [
       "<div>\n",
       "<style scoped>\n",
       "    .dataframe tbody tr th:only-of-type {\n",
       "        vertical-align: middle;\n",
       "    }\n",
       "\n",
       "    .dataframe tbody tr th {\n",
       "        vertical-align: top;\n",
       "    }\n",
       "\n",
       "    .dataframe thead th {\n",
       "        text-align: right;\n",
       "    }\n",
       "</style>\n",
       "<table border=\"1\" class=\"dataframe\">\n",
       "  <thead>\n",
       "    <tr style=\"text-align: right;\">\n",
       "      <th></th>\n",
       "      <th>Vol</th>\n",
       "      <th>Rev</th>\n",
       "      <th>Exp</th>\n",
       "      <th>Sector</th>\n",
       "      <th>EmpCnt</th>\n",
       "      <th>HQ</th>\n",
       "      <th>MNC</th>\n",
       "      <th>StockID</th>\n",
       "      <th>GST</th>\n",
       "      <th>Started</th>\n",
       "    </tr>\n",
       "  </thead>\n",
       "  <tbody>\n",
       "    <tr>\n",
       "      <th>Kolkata_FMCG</th>\n",
       "      <td>925</td>\n",
       "      <td>874.4</td>\n",
       "      <td>676</td>\n",
       "      <td>Pub</td>\n",
       "      <td>1379</td>\n",
       "      <td>Kol</td>\n",
       "      <td>1</td>\n",
       "      <td>KFMC</td>\n",
       "      <td>Goods</td>\n",
       "      <td>Jan 1920</td>\n",
       "    </tr>\n",
       "    <tr>\n",
       "      <th>NCR_Leagles</th>\n",
       "      <td>931</td>\n",
       "      <td>863.5</td>\n",
       "      <td>605</td>\n",
       "      <td>Pub</td>\n",
       "      <td>1935</td>\n",
       "      <td>NCR</td>\n",
       "      <td>0</td>\n",
       "      <td>NCRL</td>\n",
       "      <td>Services</td>\n",
       "      <td>Feb 1960</td>\n",
       "    </tr>\n",
       "    <tr>\n",
       "      <th>Bombay_Sporting</th>\n",
       "      <td>931</td>\n",
       "      <td>839.8</td>\n",
       "      <td>615</td>\n",
       "      <td>Pvt</td>\n",
       "      <td>154</td>\n",
       "      <td>Mum</td>\n",
       "      <td>0</td>\n",
       "      <td>SPRT</td>\n",
       "      <td>Services</td>\n",
       "      <td>Mar 1943</td>\n",
       "    </tr>\n",
       "    <tr>\n",
       "      <th>Bombay_Finance</th>\n",
       "      <td>899</td>\n",
       "      <td>917.0</td>\n",
       "      <td>674</td>\n",
       "      <td>Pub</td>\n",
       "      <td>1443</td>\n",
       "      <td>Mum</td>\n",
       "      <td>0</td>\n",
       "      <td>BFIN</td>\n",
       "      <td>Services</td>\n",
       "      <td>Apr 1925</td>\n",
       "    </tr>\n",
       "    <tr>\n",
       "      <th>Bangalore_Systems</th>\n",
       "      <td>900</td>\n",
       "      <td>881.6</td>\n",
       "      <td>650</td>\n",
       "      <td>Gov</td>\n",
       "      <td>1361</td>\n",
       "      <td>Blr</td>\n",
       "      <td>0</td>\n",
       "      <td>BSYS</td>\n",
       "      <td>Services</td>\n",
       "      <td>Apr 1950</td>\n",
       "    </tr>\n",
       "    <tr>\n",
       "      <th>Chennai_Shipping</th>\n",
       "      <td>992</td>\n",
       "      <td>821.0</td>\n",
       "      <td>665</td>\n",
       "      <td>Pub</td>\n",
       "      <td>1154</td>\n",
       "      <td>Che</td>\n",
       "      <td>1</td>\n",
       "      <td>SHIP</td>\n",
       "      <td>Services</td>\n",
       "      <td>Nov 1930</td>\n",
       "    </tr>\n",
       "    <tr>\n",
       "      <th>Bangalore_Breweries</th>\n",
       "      <td>966</td>\n",
       "      <td>805.0</td>\n",
       "      <td>895</td>\n",
       "      <td>Pvt</td>\n",
       "      <td>119</td>\n",
       "      <td>Blr</td>\n",
       "      <td>1</td>\n",
       "      <td>BREW</td>\n",
       "      <td>Goods</td>\n",
       "      <td>Oct 1971</td>\n",
       "    </tr>\n",
       "    <tr>\n",
       "      <th>Chennai_Chemicals</th>\n",
       "      <td>966</td>\n",
       "      <td>863.2</td>\n",
       "      <td>608</td>\n",
       "      <td>Pub</td>\n",
       "      <td>1656</td>\n",
       "      <td>Che</td>\n",
       "      <td>1</td>\n",
       "      <td>CHEM</td>\n",
       "      <td>Goods</td>\n",
       "      <td>Aug 1928</td>\n",
       "    </tr>\n",
       "    <tr>\n",
       "      <th>Indi_Services</th>\n",
       "      <td>954</td>\n",
       "      <td>733.0</td>\n",
       "      <td>609</td>\n",
       "      <td>Gov</td>\n",
       "      <td>13023</td>\n",
       "      <td>NCR</td>\n",
       "      <td>0</td>\n",
       "      <td>INDI</td>\n",
       "      <td>Services</td>\n",
       "      <td>Mar 1920</td>\n",
       "    </tr>\n",
       "  </tbody>\n",
       "</table>\n",
       "</div>"
      ],
      "text/plain": [
       "                     Vol    Rev  Exp Sector  EmpCnt   HQ  MNC StockID  \\\n",
       "Kolkata_FMCG         925  874.4  676    Pub    1379  Kol    1    KFMC   \n",
       "NCR_Leagles          931  863.5  605    Pub    1935  NCR    0    NCRL   \n",
       "Bombay_Sporting      931  839.8  615    Pvt     154  Mum    0    SPRT   \n",
       "Bombay_Finance       899  917.0  674    Pub    1443  Mum    0    BFIN   \n",
       "Bangalore_Systems    900  881.6  650    Gov    1361  Blr    0    BSYS   \n",
       "Chennai_Shipping     992  821.0  665    Pub    1154  Che    1    SHIP   \n",
       "Bangalore_Breweries  966  805.0  895    Pvt     119  Blr    1    BREW   \n",
       "Chennai_Chemicals    966  863.2  608    Pub    1656  Che    1    CHEM   \n",
       "Indi_Services        954  733.0  609    Gov   13023  NCR    0    INDI   \n",
       "\n",
       "                          GST   Started  \n",
       "Kolkata_FMCG            Goods  Jan 1920  \n",
       "NCR_Leagles          Services  Feb 1960  \n",
       "Bombay_Sporting      Services  Mar 1943  \n",
       "Bombay_Finance       Services  Apr 1925  \n",
       "Bangalore_Systems    Services  Apr 1950  \n",
       "Chennai_Shipping     Services  Nov 1930  \n",
       "Bangalore_Breweries     Goods  Oct 1971  \n",
       "Chennai_Chemicals       Goods  Aug 1928  \n",
       "Indi_Services        Services  Mar 1920  "
      ]
     },
     "execution_count": 92,
     "metadata": {},
     "output_type": "execute_result"
    }
   ],
   "source": [
    "df1 = pd.read_csv('https://raw.githubusercontent.com/vcsgithub/vcsgithub.github.io/master/lds1.csv')\n",
    "df1"
   ]
  },
  {
   "cell_type": "markdown",
   "id": "ae2438e5",
   "metadata": {},
   "source": [
    "# Attributes"
   ]
  },
  {
   "cell_type": "code",
   "execution_count": 93,
   "id": "a202ba48",
   "metadata": {},
   "outputs": [
    {
     "name": "stdout",
     "output_type": "stream",
     "text": [
      "<class 'pandas.core.frame.DataFrame'>\n",
      "Index: 9 entries, Kolkata_FMCG to Indi_Services\n",
      "Data columns (total 10 columns):\n",
      " #   Column   Non-Null Count  Dtype  \n",
      "---  ------   --------------  -----  \n",
      " 0   Vol      9 non-null      int64  \n",
      " 1   Rev      9 non-null      float64\n",
      " 2   Exp      9 non-null      int64  \n",
      " 3   Sector   9 non-null      object \n",
      " 4   EmpCnt   9 non-null      int64  \n",
      " 5   HQ       9 non-null      object \n",
      " 6   MNC      9 non-null      int64  \n",
      " 7   StockID  9 non-null      object \n",
      " 8   GST      9 non-null      object \n",
      " 9   Started  9 non-null      object \n",
      "dtypes: float64(1), int64(4), object(5)\n",
      "memory usage: 792.0+ bytes\n"
     ]
    }
   ],
   "source": [
    "df1.info()"
   ]
  },
  {
   "cell_type": "code",
   "execution_count": 94,
   "id": "834858e8",
   "metadata": {},
   "outputs": [
    {
     "data": {
      "text/html": [
       "<div>\n",
       "<style scoped>\n",
       "    .dataframe tbody tr th:only-of-type {\n",
       "        vertical-align: middle;\n",
       "    }\n",
       "\n",
       "    .dataframe tbody tr th {\n",
       "        vertical-align: top;\n",
       "    }\n",
       "\n",
       "    .dataframe thead th {\n",
       "        text-align: right;\n",
       "    }\n",
       "</style>\n",
       "<table border=\"1\" class=\"dataframe\">\n",
       "  <thead>\n",
       "    <tr style=\"text-align: right;\">\n",
       "      <th></th>\n",
       "      <th>Vol</th>\n",
       "      <th>Rev</th>\n",
       "      <th>Exp</th>\n",
       "      <th>EmpCnt</th>\n",
       "      <th>MNC</th>\n",
       "    </tr>\n",
       "  </thead>\n",
       "  <tbody>\n",
       "    <tr>\n",
       "      <th>count</th>\n",
       "      <td>9.000000</td>\n",
       "      <td>9.000000</td>\n",
       "      <td>9.000000</td>\n",
       "      <td>9.000000</td>\n",
       "      <td>9.000000</td>\n",
       "    </tr>\n",
       "    <tr>\n",
       "      <th>mean</th>\n",
       "      <td>940.444444</td>\n",
       "      <td>844.277778</td>\n",
       "      <td>666.333333</td>\n",
       "      <td>2469.333333</td>\n",
       "      <td>0.444444</td>\n",
       "    </tr>\n",
       "    <tr>\n",
       "      <th>std</th>\n",
       "      <td>31.460734</td>\n",
       "      <td>53.389788</td>\n",
       "      <td>90.689029</td>\n",
       "      <td>4006.439036</td>\n",
       "      <td>0.527046</td>\n",
       "    </tr>\n",
       "    <tr>\n",
       "      <th>min</th>\n",
       "      <td>899.000000</td>\n",
       "      <td>733.000000</td>\n",
       "      <td>605.000000</td>\n",
       "      <td>119.000000</td>\n",
       "      <td>0.000000</td>\n",
       "    </tr>\n",
       "    <tr>\n",
       "      <th>25%</th>\n",
       "      <td>925.000000</td>\n",
       "      <td>821.000000</td>\n",
       "      <td>609.000000</td>\n",
       "      <td>1154.000000</td>\n",
       "      <td>0.000000</td>\n",
       "    </tr>\n",
       "    <tr>\n",
       "      <th>50%</th>\n",
       "      <td>931.000000</td>\n",
       "      <td>863.200000</td>\n",
       "      <td>650.000000</td>\n",
       "      <td>1379.000000</td>\n",
       "      <td>0.000000</td>\n",
       "    </tr>\n",
       "    <tr>\n",
       "      <th>75%</th>\n",
       "      <td>966.000000</td>\n",
       "      <td>874.400000</td>\n",
       "      <td>674.000000</td>\n",
       "      <td>1656.000000</td>\n",
       "      <td>1.000000</td>\n",
       "    </tr>\n",
       "    <tr>\n",
       "      <th>max</th>\n",
       "      <td>992.000000</td>\n",
       "      <td>917.000000</td>\n",
       "      <td>895.000000</td>\n",
       "      <td>13023.000000</td>\n",
       "      <td>1.000000</td>\n",
       "    </tr>\n",
       "  </tbody>\n",
       "</table>\n",
       "</div>"
      ],
      "text/plain": [
       "              Vol         Rev         Exp        EmpCnt       MNC\n",
       "count    9.000000    9.000000    9.000000      9.000000  9.000000\n",
       "mean   940.444444  844.277778  666.333333   2469.333333  0.444444\n",
       "std     31.460734   53.389788   90.689029   4006.439036  0.527046\n",
       "min    899.000000  733.000000  605.000000    119.000000  0.000000\n",
       "25%    925.000000  821.000000  609.000000   1154.000000  0.000000\n",
       "50%    931.000000  863.200000  650.000000   1379.000000  0.000000\n",
       "75%    966.000000  874.400000  674.000000   1656.000000  1.000000\n",
       "max    992.000000  917.000000  895.000000  13023.000000  1.000000"
      ]
     },
     "execution_count": 94,
     "metadata": {},
     "output_type": "execute_result"
    }
   ],
   "source": [
    "df1.describe()"
   ]
  },
  {
   "cell_type": "code",
   "execution_count": 95,
   "id": "376d7804",
   "metadata": {},
   "outputs": [
    {
     "data": {
      "text/html": [
       "<div>\n",
       "<style scoped>\n",
       "    .dataframe tbody tr th:only-of-type {\n",
       "        vertical-align: middle;\n",
       "    }\n",
       "\n",
       "    .dataframe tbody tr th {\n",
       "        vertical-align: top;\n",
       "    }\n",
       "\n",
       "    .dataframe thead th {\n",
       "        text-align: right;\n",
       "    }\n",
       "</style>\n",
       "<table border=\"1\" class=\"dataframe\">\n",
       "  <thead>\n",
       "    <tr style=\"text-align: right;\">\n",
       "      <th></th>\n",
       "      <th>Sector</th>\n",
       "      <th>HQ</th>\n",
       "      <th>StockID</th>\n",
       "      <th>GST</th>\n",
       "      <th>Started</th>\n",
       "    </tr>\n",
       "  </thead>\n",
       "  <tbody>\n",
       "    <tr>\n",
       "      <th>count</th>\n",
       "      <td>9</td>\n",
       "      <td>9</td>\n",
       "      <td>9</td>\n",
       "      <td>9</td>\n",
       "      <td>9</td>\n",
       "    </tr>\n",
       "    <tr>\n",
       "      <th>unique</th>\n",
       "      <td>3</td>\n",
       "      <td>5</td>\n",
       "      <td>9</td>\n",
       "      <td>2</td>\n",
       "      <td>9</td>\n",
       "    </tr>\n",
       "    <tr>\n",
       "      <th>top</th>\n",
       "      <td>Pub</td>\n",
       "      <td>NCR</td>\n",
       "      <td>KFMC</td>\n",
       "      <td>Services</td>\n",
       "      <td>Jan 1920</td>\n",
       "    </tr>\n",
       "    <tr>\n",
       "      <th>freq</th>\n",
       "      <td>5</td>\n",
       "      <td>2</td>\n",
       "      <td>1</td>\n",
       "      <td>6</td>\n",
       "      <td>1</td>\n",
       "    </tr>\n",
       "  </tbody>\n",
       "</table>\n",
       "</div>"
      ],
      "text/plain": [
       "       Sector   HQ StockID       GST   Started\n",
       "count       9    9       9         9         9\n",
       "unique      3    5       9         2         9\n",
       "top       Pub  NCR    KFMC  Services  Jan 1920\n",
       "freq        5    2       1         6         1"
      ]
     },
     "execution_count": 95,
     "metadata": {},
     "output_type": "execute_result"
    }
   ],
   "source": [
    "df1.describe(include='object')"
   ]
  },
  {
   "cell_type": "code",
   "execution_count": 96,
   "id": "6732a82c",
   "metadata": {},
   "outputs": [
    {
     "data": {
      "text/html": [
       "<div>\n",
       "<style scoped>\n",
       "    .dataframe tbody tr th:only-of-type {\n",
       "        vertical-align: middle;\n",
       "    }\n",
       "\n",
       "    .dataframe tbody tr th {\n",
       "        vertical-align: top;\n",
       "    }\n",
       "\n",
       "    .dataframe thead th {\n",
       "        text-align: right;\n",
       "    }\n",
       "</style>\n",
       "<table border=\"1\" class=\"dataframe\">\n",
       "  <thead>\n",
       "    <tr style=\"text-align: right;\">\n",
       "      <th></th>\n",
       "      <th>Vol</th>\n",
       "      <th>Rev</th>\n",
       "      <th>Exp</th>\n",
       "      <th>Sector</th>\n",
       "      <th>EmpCnt</th>\n",
       "      <th>HQ</th>\n",
       "      <th>MNC</th>\n",
       "      <th>StockID</th>\n",
       "      <th>GST</th>\n",
       "      <th>Started</th>\n",
       "    </tr>\n",
       "  </thead>\n",
       "  <tbody>\n",
       "    <tr>\n",
       "      <th>count</th>\n",
       "      <td>9.000000</td>\n",
       "      <td>9.000000</td>\n",
       "      <td>9.000000</td>\n",
       "      <td>9</td>\n",
       "      <td>9.000000</td>\n",
       "      <td>9</td>\n",
       "      <td>9.000000</td>\n",
       "      <td>9</td>\n",
       "      <td>9</td>\n",
       "      <td>9</td>\n",
       "    </tr>\n",
       "    <tr>\n",
       "      <th>unique</th>\n",
       "      <td>NaN</td>\n",
       "      <td>NaN</td>\n",
       "      <td>NaN</td>\n",
       "      <td>3</td>\n",
       "      <td>NaN</td>\n",
       "      <td>5</td>\n",
       "      <td>NaN</td>\n",
       "      <td>9</td>\n",
       "      <td>2</td>\n",
       "      <td>9</td>\n",
       "    </tr>\n",
       "    <tr>\n",
       "      <th>top</th>\n",
       "      <td>NaN</td>\n",
       "      <td>NaN</td>\n",
       "      <td>NaN</td>\n",
       "      <td>Pub</td>\n",
       "      <td>NaN</td>\n",
       "      <td>NCR</td>\n",
       "      <td>NaN</td>\n",
       "      <td>KFMC</td>\n",
       "      <td>Services</td>\n",
       "      <td>Jan 1920</td>\n",
       "    </tr>\n",
       "    <tr>\n",
       "      <th>freq</th>\n",
       "      <td>NaN</td>\n",
       "      <td>NaN</td>\n",
       "      <td>NaN</td>\n",
       "      <td>5</td>\n",
       "      <td>NaN</td>\n",
       "      <td>2</td>\n",
       "      <td>NaN</td>\n",
       "      <td>1</td>\n",
       "      <td>6</td>\n",
       "      <td>1</td>\n",
       "    </tr>\n",
       "    <tr>\n",
       "      <th>mean</th>\n",
       "      <td>940.444444</td>\n",
       "      <td>844.277778</td>\n",
       "      <td>666.333333</td>\n",
       "      <td>NaN</td>\n",
       "      <td>2469.333333</td>\n",
       "      <td>NaN</td>\n",
       "      <td>0.444444</td>\n",
       "      <td>NaN</td>\n",
       "      <td>NaN</td>\n",
       "      <td>NaN</td>\n",
       "    </tr>\n",
       "    <tr>\n",
       "      <th>std</th>\n",
       "      <td>31.460734</td>\n",
       "      <td>53.389788</td>\n",
       "      <td>90.689029</td>\n",
       "      <td>NaN</td>\n",
       "      <td>4006.439036</td>\n",
       "      <td>NaN</td>\n",
       "      <td>0.527046</td>\n",
       "      <td>NaN</td>\n",
       "      <td>NaN</td>\n",
       "      <td>NaN</td>\n",
       "    </tr>\n",
       "    <tr>\n",
       "      <th>min</th>\n",
       "      <td>899.000000</td>\n",
       "      <td>733.000000</td>\n",
       "      <td>605.000000</td>\n",
       "      <td>NaN</td>\n",
       "      <td>119.000000</td>\n",
       "      <td>NaN</td>\n",
       "      <td>0.000000</td>\n",
       "      <td>NaN</td>\n",
       "      <td>NaN</td>\n",
       "      <td>NaN</td>\n",
       "    </tr>\n",
       "    <tr>\n",
       "      <th>25%</th>\n",
       "      <td>925.000000</td>\n",
       "      <td>821.000000</td>\n",
       "      <td>609.000000</td>\n",
       "      <td>NaN</td>\n",
       "      <td>1154.000000</td>\n",
       "      <td>NaN</td>\n",
       "      <td>0.000000</td>\n",
       "      <td>NaN</td>\n",
       "      <td>NaN</td>\n",
       "      <td>NaN</td>\n",
       "    </tr>\n",
       "    <tr>\n",
       "      <th>50%</th>\n",
       "      <td>931.000000</td>\n",
       "      <td>863.200000</td>\n",
       "      <td>650.000000</td>\n",
       "      <td>NaN</td>\n",
       "      <td>1379.000000</td>\n",
       "      <td>NaN</td>\n",
       "      <td>0.000000</td>\n",
       "      <td>NaN</td>\n",
       "      <td>NaN</td>\n",
       "      <td>NaN</td>\n",
       "    </tr>\n",
       "    <tr>\n",
       "      <th>75%</th>\n",
       "      <td>966.000000</td>\n",
       "      <td>874.400000</td>\n",
       "      <td>674.000000</td>\n",
       "      <td>NaN</td>\n",
       "      <td>1656.000000</td>\n",
       "      <td>NaN</td>\n",
       "      <td>1.000000</td>\n",
       "      <td>NaN</td>\n",
       "      <td>NaN</td>\n",
       "      <td>NaN</td>\n",
       "    </tr>\n",
       "    <tr>\n",
       "      <th>max</th>\n",
       "      <td>992.000000</td>\n",
       "      <td>917.000000</td>\n",
       "      <td>895.000000</td>\n",
       "      <td>NaN</td>\n",
       "      <td>13023.000000</td>\n",
       "      <td>NaN</td>\n",
       "      <td>1.000000</td>\n",
       "      <td>NaN</td>\n",
       "      <td>NaN</td>\n",
       "      <td>NaN</td>\n",
       "    </tr>\n",
       "  </tbody>\n",
       "</table>\n",
       "</div>"
      ],
      "text/plain": [
       "               Vol         Rev         Exp Sector        EmpCnt   HQ  \\\n",
       "count     9.000000    9.000000    9.000000      9      9.000000    9   \n",
       "unique         NaN         NaN         NaN      3           NaN    5   \n",
       "top            NaN         NaN         NaN    Pub           NaN  NCR   \n",
       "freq           NaN         NaN         NaN      5           NaN    2   \n",
       "mean    940.444444  844.277778  666.333333    NaN   2469.333333  NaN   \n",
       "std      31.460734   53.389788   90.689029    NaN   4006.439036  NaN   \n",
       "min     899.000000  733.000000  605.000000    NaN    119.000000  NaN   \n",
       "25%     925.000000  821.000000  609.000000    NaN   1154.000000  NaN   \n",
       "50%     931.000000  863.200000  650.000000    NaN   1379.000000  NaN   \n",
       "75%     966.000000  874.400000  674.000000    NaN   1656.000000  NaN   \n",
       "max     992.000000  917.000000  895.000000    NaN  13023.000000  NaN   \n",
       "\n",
       "             MNC StockID       GST   Started  \n",
       "count   9.000000       9         9         9  \n",
       "unique       NaN       9         2         9  \n",
       "top          NaN    KFMC  Services  Jan 1920  \n",
       "freq         NaN       1         6         1  \n",
       "mean    0.444444     NaN       NaN       NaN  \n",
       "std     0.527046     NaN       NaN       NaN  \n",
       "min     0.000000     NaN       NaN       NaN  \n",
       "25%     0.000000     NaN       NaN       NaN  \n",
       "50%     0.000000     NaN       NaN       NaN  \n",
       "75%     1.000000     NaN       NaN       NaN  \n",
       "max     1.000000     NaN       NaN       NaN  "
      ]
     },
     "execution_count": 96,
     "metadata": {},
     "output_type": "execute_result"
    }
   ],
   "source": [
    "df1.describe(include='all')"
   ]
  },
  {
   "cell_type": "code",
   "execution_count": 97,
   "id": "c5e6f803",
   "metadata": {},
   "outputs": [
    {
     "name": "stdout",
     "output_type": "stream",
     "text": [
      "<class 'float'>\n"
     ]
    }
   ],
   "source": [
    "print(type(np.NaN))"
   ]
  },
  {
   "cell_type": "code",
   "execution_count": 98,
   "id": "98e4b0ea",
   "metadata": {},
   "outputs": [],
   "source": [
    "import numpy as np"
   ]
  },
  {
   "cell_type": "code",
   "execution_count": 99,
   "id": "a8164480",
   "metadata": {},
   "outputs": [
    {
     "data": {
      "text/plain": [
       "(9, 10)"
      ]
     },
     "execution_count": 99,
     "metadata": {},
     "output_type": "execute_result"
    }
   ],
   "source": [
    "df1.shape"
   ]
  },
  {
   "cell_type": "code",
   "execution_count": 100,
   "id": "771feda7",
   "metadata": {},
   "outputs": [
    {
     "data": {
      "text/plain": [
       "array([[925, 874.4, 676, 'Pub', 1379, 'Kol', 1, 'KFMC', 'Goods',\n",
       "        'Jan 1920'],\n",
       "       [931, 863.5, 605, 'Pub', 1935, 'NCR', 0, 'NCRL', 'Services',\n",
       "        'Feb 1960'],\n",
       "       [931, 839.8, 615, 'Pvt', 154, 'Mum', 0, 'SPRT', 'Services',\n",
       "        'Mar 1943'],\n",
       "       [899, 917.0, 674, 'Pub', 1443, 'Mum', 0, 'BFIN', 'Services',\n",
       "        'Apr 1925'],\n",
       "       [900, 881.6, 650, 'Gov', 1361, 'Blr', 0, 'BSYS', 'Services',\n",
       "        'Apr 1950'],\n",
       "       [992, 821.0, 665, 'Pub', 1154, 'Che', 1, 'SHIP', 'Services',\n",
       "        'Nov 1930'],\n",
       "       [966, 805.0, 895, 'Pvt', 119, 'Blr', 1, 'BREW', 'Goods',\n",
       "        'Oct 1971'],\n",
       "       [966, 863.2, 608, 'Pub', 1656, 'Che', 1, 'CHEM', 'Goods',\n",
       "        'Aug 1928'],\n",
       "       [954, 733.0, 609, 'Gov', 13023, 'NCR', 0, 'INDI', 'Services',\n",
       "        'Mar 1920']], dtype=object)"
      ]
     },
     "execution_count": 100,
     "metadata": {},
     "output_type": "execute_result"
    }
   ],
   "source": [
    "df1.values"
   ]
  },
  {
   "cell_type": "code",
   "execution_count": 101,
   "id": "47637a9c",
   "metadata": {},
   "outputs": [
    {
     "data": {
      "text/plain": [
       "Index(['Kolkata_FMCG', 'NCR_Leagles', 'Bombay_Sporting', 'Bombay_Finance',\n",
       "       'Bangalore_Systems', 'Chennai_Shipping', 'Bangalore_Breweries',\n",
       "       'Chennai_Chemicals', 'Indi_Services'],\n",
       "      dtype='object')"
      ]
     },
     "execution_count": 101,
     "metadata": {},
     "output_type": "execute_result"
    }
   ],
   "source": [
    "df1.index"
   ]
  },
  {
   "cell_type": "code",
   "execution_count": 102,
   "id": "94d9a54d",
   "metadata": {},
   "outputs": [
    {
     "data": {
      "text/plain": [
       "Index(['Vol', 'Rev', 'Exp', 'Sector', 'EmpCnt', 'HQ', 'MNC', 'StockID', 'GST',\n",
       "       'Started'],\n",
       "      dtype='object')"
      ]
     },
     "execution_count": 102,
     "metadata": {},
     "output_type": "execute_result"
    }
   ],
   "source": [
    "df1.columns"
   ]
  },
  {
   "cell_type": "code",
   "execution_count": 103,
   "id": "a6ce24fe",
   "metadata": {},
   "outputs": [
    {
     "data": {
      "text/html": [
       "<div>\n",
       "<style scoped>\n",
       "    .dataframe tbody tr th:only-of-type {\n",
       "        vertical-align: middle;\n",
       "    }\n",
       "\n",
       "    .dataframe tbody tr th {\n",
       "        vertical-align: top;\n",
       "    }\n",
       "\n",
       "    .dataframe thead th {\n",
       "        text-align: right;\n",
       "    }\n",
       "</style>\n",
       "<table border=\"1\" class=\"dataframe\">\n",
       "  <thead>\n",
       "    <tr style=\"text-align: right;\">\n",
       "      <th></th>\n",
       "      <th>Vol</th>\n",
       "      <th>Rev</th>\n",
       "      <th>Exp</th>\n",
       "      <th>Sector</th>\n",
       "      <th>EmpCnt</th>\n",
       "      <th>HQ</th>\n",
       "      <th>MNC</th>\n",
       "      <th>StockID</th>\n",
       "      <th>GST</th>\n",
       "      <th>Started</th>\n",
       "    </tr>\n",
       "  </thead>\n",
       "  <tbody>\n",
       "    <tr>\n",
       "      <th>Kolkata_FMCG</th>\n",
       "      <td>925</td>\n",
       "      <td>874.4</td>\n",
       "      <td>676</td>\n",
       "      <td>Pub</td>\n",
       "      <td>1379</td>\n",
       "      <td>Kol</td>\n",
       "      <td>1</td>\n",
       "      <td>KFMC</td>\n",
       "      <td>Goods</td>\n",
       "      <td>Jan 1920</td>\n",
       "    </tr>\n",
       "    <tr>\n",
       "      <th>NCR_Leagles</th>\n",
       "      <td>931</td>\n",
       "      <td>863.5</td>\n",
       "      <td>605</td>\n",
       "      <td>Pub</td>\n",
       "      <td>1935</td>\n",
       "      <td>NCR</td>\n",
       "      <td>0</td>\n",
       "      <td>NCRL</td>\n",
       "      <td>Services</td>\n",
       "      <td>Feb 1960</td>\n",
       "    </tr>\n",
       "    <tr>\n",
       "      <th>Bombay_Sporting</th>\n",
       "      <td>931</td>\n",
       "      <td>839.8</td>\n",
       "      <td>615</td>\n",
       "      <td>Pvt</td>\n",
       "      <td>154</td>\n",
       "      <td>Mum</td>\n",
       "      <td>0</td>\n",
       "      <td>SPRT</td>\n",
       "      <td>Services</td>\n",
       "      <td>Mar 1943</td>\n",
       "    </tr>\n",
       "    <tr>\n",
       "      <th>Bombay_Finance</th>\n",
       "      <td>899</td>\n",
       "      <td>917.0</td>\n",
       "      <td>674</td>\n",
       "      <td>Pub</td>\n",
       "      <td>1443</td>\n",
       "      <td>Mum</td>\n",
       "      <td>0</td>\n",
       "      <td>BFIN</td>\n",
       "      <td>Services</td>\n",
       "      <td>Apr 1925</td>\n",
       "    </tr>\n",
       "    <tr>\n",
       "      <th>Bangalore_Systems</th>\n",
       "      <td>900</td>\n",
       "      <td>881.6</td>\n",
       "      <td>650</td>\n",
       "      <td>Gov</td>\n",
       "      <td>1361</td>\n",
       "      <td>Blr</td>\n",
       "      <td>0</td>\n",
       "      <td>BSYS</td>\n",
       "      <td>Services</td>\n",
       "      <td>Apr 1950</td>\n",
       "    </tr>\n",
       "  </tbody>\n",
       "</table>\n",
       "</div>"
      ],
      "text/plain": [
       "                   Vol    Rev  Exp Sector  EmpCnt   HQ  MNC StockID       GST  \\\n",
       "Kolkata_FMCG       925  874.4  676    Pub    1379  Kol    1    KFMC     Goods   \n",
       "NCR_Leagles        931  863.5  605    Pub    1935  NCR    0    NCRL  Services   \n",
       "Bombay_Sporting    931  839.8  615    Pvt     154  Mum    0    SPRT  Services   \n",
       "Bombay_Finance     899  917.0  674    Pub    1443  Mum    0    BFIN  Services   \n",
       "Bangalore_Systems  900  881.6  650    Gov    1361  Blr    0    BSYS  Services   \n",
       "\n",
       "                    Started  \n",
       "Kolkata_FMCG       Jan 1920  \n",
       "NCR_Leagles        Feb 1960  \n",
       "Bombay_Sporting    Mar 1943  \n",
       "Bombay_Finance     Apr 1925  \n",
       "Bangalore_Systems  Apr 1950  "
      ]
     },
     "execution_count": 103,
     "metadata": {},
     "output_type": "execute_result"
    }
   ],
   "source": [
    "df1.head()"
   ]
  },
  {
   "cell_type": "code",
   "execution_count": 104,
   "id": "9270b936",
   "metadata": {},
   "outputs": [
    {
     "data": {
      "text/html": [
       "<div>\n",
       "<style scoped>\n",
       "    .dataframe tbody tr th:only-of-type {\n",
       "        vertical-align: middle;\n",
       "    }\n",
       "\n",
       "    .dataframe tbody tr th {\n",
       "        vertical-align: top;\n",
       "    }\n",
       "\n",
       "    .dataframe thead th {\n",
       "        text-align: right;\n",
       "    }\n",
       "</style>\n",
       "<table border=\"1\" class=\"dataframe\">\n",
       "  <thead>\n",
       "    <tr style=\"text-align: right;\">\n",
       "      <th></th>\n",
       "      <th>Vol</th>\n",
       "      <th>Rev</th>\n",
       "      <th>Exp</th>\n",
       "      <th>Sector</th>\n",
       "      <th>EmpCnt</th>\n",
       "      <th>HQ</th>\n",
       "      <th>MNC</th>\n",
       "      <th>StockID</th>\n",
       "      <th>GST</th>\n",
       "      <th>Started</th>\n",
       "    </tr>\n",
       "  </thead>\n",
       "  <tbody>\n",
       "    <tr>\n",
       "      <th>Kolkata_FMCG</th>\n",
       "      <td>925</td>\n",
       "      <td>874.4</td>\n",
       "      <td>676</td>\n",
       "      <td>Pub</td>\n",
       "      <td>1379</td>\n",
       "      <td>Kol</td>\n",
       "      <td>1</td>\n",
       "      <td>KFMC</td>\n",
       "      <td>Goods</td>\n",
       "      <td>Jan 1920</td>\n",
       "    </tr>\n",
       "    <tr>\n",
       "      <th>NCR_Leagles</th>\n",
       "      <td>931</td>\n",
       "      <td>863.5</td>\n",
       "      <td>605</td>\n",
       "      <td>Pub</td>\n",
       "      <td>1935</td>\n",
       "      <td>NCR</td>\n",
       "      <td>0</td>\n",
       "      <td>NCRL</td>\n",
       "      <td>Services</td>\n",
       "      <td>Feb 1960</td>\n",
       "    </tr>\n",
       "    <tr>\n",
       "      <th>Bombay_Sporting</th>\n",
       "      <td>931</td>\n",
       "      <td>839.8</td>\n",
       "      <td>615</td>\n",
       "      <td>Pvt</td>\n",
       "      <td>154</td>\n",
       "      <td>Mum</td>\n",
       "      <td>0</td>\n",
       "      <td>SPRT</td>\n",
       "      <td>Services</td>\n",
       "      <td>Mar 1943</td>\n",
       "    </tr>\n",
       "  </tbody>\n",
       "</table>\n",
       "</div>"
      ],
      "text/plain": [
       "                 Vol    Rev  Exp Sector  EmpCnt   HQ  MNC StockID       GST  \\\n",
       "Kolkata_FMCG     925  874.4  676    Pub    1379  Kol    1    KFMC     Goods   \n",
       "NCR_Leagles      931  863.5  605    Pub    1935  NCR    0    NCRL  Services   \n",
       "Bombay_Sporting  931  839.8  615    Pvt     154  Mum    0    SPRT  Services   \n",
       "\n",
       "                  Started  \n",
       "Kolkata_FMCG     Jan 1920  \n",
       "NCR_Leagles      Feb 1960  \n",
       "Bombay_Sporting  Mar 1943  "
      ]
     },
     "execution_count": 104,
     "metadata": {},
     "output_type": "execute_result"
    }
   ],
   "source": [
    "df1.head(3)"
   ]
  },
  {
   "cell_type": "code",
   "execution_count": 105,
   "id": "1e6536bb",
   "metadata": {},
   "outputs": [
    {
     "data": {
      "text/html": [
       "<div>\n",
       "<style scoped>\n",
       "    .dataframe tbody tr th:only-of-type {\n",
       "        vertical-align: middle;\n",
       "    }\n",
       "\n",
       "    .dataframe tbody tr th {\n",
       "        vertical-align: top;\n",
       "    }\n",
       "\n",
       "    .dataframe thead th {\n",
       "        text-align: right;\n",
       "    }\n",
       "</style>\n",
       "<table border=\"1\" class=\"dataframe\">\n",
       "  <thead>\n",
       "    <tr style=\"text-align: right;\">\n",
       "      <th></th>\n",
       "      <th>Vol</th>\n",
       "      <th>Rev</th>\n",
       "      <th>Exp</th>\n",
       "      <th>Sector</th>\n",
       "      <th>EmpCnt</th>\n",
       "      <th>HQ</th>\n",
       "      <th>MNC</th>\n",
       "      <th>StockID</th>\n",
       "      <th>GST</th>\n",
       "      <th>Started</th>\n",
       "    </tr>\n",
       "  </thead>\n",
       "  <tbody>\n",
       "    <tr>\n",
       "      <th>Bangalore_Systems</th>\n",
       "      <td>900</td>\n",
       "      <td>881.6</td>\n",
       "      <td>650</td>\n",
       "      <td>Gov</td>\n",
       "      <td>1361</td>\n",
       "      <td>Blr</td>\n",
       "      <td>0</td>\n",
       "      <td>BSYS</td>\n",
       "      <td>Services</td>\n",
       "      <td>Apr 1950</td>\n",
       "    </tr>\n",
       "    <tr>\n",
       "      <th>Chennai_Shipping</th>\n",
       "      <td>992</td>\n",
       "      <td>821.0</td>\n",
       "      <td>665</td>\n",
       "      <td>Pub</td>\n",
       "      <td>1154</td>\n",
       "      <td>Che</td>\n",
       "      <td>1</td>\n",
       "      <td>SHIP</td>\n",
       "      <td>Services</td>\n",
       "      <td>Nov 1930</td>\n",
       "    </tr>\n",
       "    <tr>\n",
       "      <th>Bangalore_Breweries</th>\n",
       "      <td>966</td>\n",
       "      <td>805.0</td>\n",
       "      <td>895</td>\n",
       "      <td>Pvt</td>\n",
       "      <td>119</td>\n",
       "      <td>Blr</td>\n",
       "      <td>1</td>\n",
       "      <td>BREW</td>\n",
       "      <td>Goods</td>\n",
       "      <td>Oct 1971</td>\n",
       "    </tr>\n",
       "    <tr>\n",
       "      <th>Chennai_Chemicals</th>\n",
       "      <td>966</td>\n",
       "      <td>863.2</td>\n",
       "      <td>608</td>\n",
       "      <td>Pub</td>\n",
       "      <td>1656</td>\n",
       "      <td>Che</td>\n",
       "      <td>1</td>\n",
       "      <td>CHEM</td>\n",
       "      <td>Goods</td>\n",
       "      <td>Aug 1928</td>\n",
       "    </tr>\n",
       "    <tr>\n",
       "      <th>Indi_Services</th>\n",
       "      <td>954</td>\n",
       "      <td>733.0</td>\n",
       "      <td>609</td>\n",
       "      <td>Gov</td>\n",
       "      <td>13023</td>\n",
       "      <td>NCR</td>\n",
       "      <td>0</td>\n",
       "      <td>INDI</td>\n",
       "      <td>Services</td>\n",
       "      <td>Mar 1920</td>\n",
       "    </tr>\n",
       "  </tbody>\n",
       "</table>\n",
       "</div>"
      ],
      "text/plain": [
       "                     Vol    Rev  Exp Sector  EmpCnt   HQ  MNC StockID  \\\n",
       "Bangalore_Systems    900  881.6  650    Gov    1361  Blr    0    BSYS   \n",
       "Chennai_Shipping     992  821.0  665    Pub    1154  Che    1    SHIP   \n",
       "Bangalore_Breweries  966  805.0  895    Pvt     119  Blr    1    BREW   \n",
       "Chennai_Chemicals    966  863.2  608    Pub    1656  Che    1    CHEM   \n",
       "Indi_Services        954  733.0  609    Gov   13023  NCR    0    INDI   \n",
       "\n",
       "                          GST   Started  \n",
       "Bangalore_Systems    Services  Apr 1950  \n",
       "Chennai_Shipping     Services  Nov 1930  \n",
       "Bangalore_Breweries     Goods  Oct 1971  \n",
       "Chennai_Chemicals       Goods  Aug 1928  \n",
       "Indi_Services        Services  Mar 1920  "
      ]
     },
     "execution_count": 105,
     "metadata": {},
     "output_type": "execute_result"
    }
   ],
   "source": [
    "df1.tail()"
   ]
  },
  {
   "cell_type": "code",
   "execution_count": 106,
   "id": "e9f1cd1f",
   "metadata": {},
   "outputs": [
    {
     "data": {
      "text/plain": [
       "Vol        9\n",
       "Rev        9\n",
       "Exp        9\n",
       "Sector     9\n",
       "EmpCnt     9\n",
       "HQ         9\n",
       "MNC        9\n",
       "StockID    9\n",
       "GST        9\n",
       "Started    9\n",
       "dtype: int64"
      ]
     },
     "execution_count": 106,
     "metadata": {},
     "output_type": "execute_result"
    }
   ],
   "source": [
    "df1.count()"
   ]
  },
  {
   "cell_type": "code",
   "execution_count": 107,
   "id": "d2d68820",
   "metadata": {},
   "outputs": [
    {
     "name": "stdout",
     "output_type": "stream",
     "text": [
      "<class 'pandas.core.series.Series'>\n"
     ]
    },
    {
     "data": {
      "text/plain": [
       "Vol             992\n",
       "Rev           917.0\n",
       "Exp             895\n",
       "Sector          Pvt\n",
       "EmpCnt        13023\n",
       "HQ              NCR\n",
       "MNC               1\n",
       "StockID        SPRT\n",
       "GST        Services\n",
       "Started    Oct 1971\n",
       "dtype: object"
      ]
     },
     "execution_count": 107,
     "metadata": {},
     "output_type": "execute_result"
    }
   ],
   "source": [
    "x = df1.max()\n",
    "print(type(x))\n",
    "x"
   ]
  },
  {
   "cell_type": "code",
   "execution_count": 108,
   "id": "9d3a9316",
   "metadata": {},
   "outputs": [
    {
     "data": {
      "text/plain": [
       "Vol             899\n",
       "Rev           733.0\n",
       "Exp             605\n",
       "Sector          Gov\n",
       "EmpCnt          119\n",
       "HQ              Blr\n",
       "MNC               0\n",
       "StockID        BFIN\n",
       "GST           Goods\n",
       "Started    Apr 1925\n",
       "dtype: object"
      ]
     },
     "execution_count": 108,
     "metadata": {},
     "output_type": "execute_result"
    }
   ],
   "source": [
    "df1.min()"
   ]
  },
  {
   "cell_type": "code",
   "execution_count": 109,
   "id": "f9cffaaa",
   "metadata": {},
   "outputs": [
    {
     "name": "stderr",
     "output_type": "stream",
     "text": [
      "C:\\Users\\dhili\\AppData\\Local\\Temp\\ipykernel_28184\\2053335143.py:1: FutureWarning: The default value of numeric_only in DataFrame.mean is deprecated. In a future version, it will default to False. In addition, specifying 'numeric_only=None' is deprecated. Select only valid columns or specify the value of numeric_only to silence this warning.\n",
      "  df1.mean()\n"
     ]
    },
    {
     "data": {
      "text/plain": [
       "Vol        940.444444\n",
       "Rev        844.277778\n",
       "Exp        666.333333\n",
       "EmpCnt    2469.333333\n",
       "MNC          0.444444\n",
       "dtype: float64"
      ]
     },
     "execution_count": 109,
     "metadata": {},
     "output_type": "execute_result"
    }
   ],
   "source": [
    "df1.mean()"
   ]
  },
  {
   "cell_type": "code",
   "execution_count": 110,
   "id": "4c78b76e",
   "metadata": {},
   "outputs": [
    {
     "data": {
      "text/plain": [
       "(9, 10)"
      ]
     },
     "execution_count": 110,
     "metadata": {},
     "output_type": "execute_result"
    }
   ],
   "source": [
    "df1.shape"
   ]
  },
  {
   "cell_type": "code",
   "execution_count": 111,
   "id": "94a7eaa2",
   "metadata": {},
   "outputs": [
    {
     "name": "stdout",
     "output_type": "stream",
     "text": [
      "                     Vol    Rev  Exp Sector  EmpCnt   HQ  MNC StockID  \\\n",
      "Kolkata_FMCG         925  874.4  676    Pub    1379  Kol    1    KFMC   \n",
      "NCR_Leagles          931  863.5  605    Pub    1935  NCR    0    NCRL   \n",
      "Bombay_Sporting      931  839.8  615    Pvt     154  Mum    0    SPRT   \n",
      "Bombay_Finance       899  917.0  674    Pub    1443  Mum    0    BFIN   \n",
      "Bangalore_Systems    900  881.6  650    Gov    1361  Blr    0    BSYS   \n",
      "Chennai_Shipping     992  821.0  665    Pub    1154  Che    1    SHIP   \n",
      "Bangalore_Breweries  966  805.0  895    Pvt     119  Blr    1    BREW   \n",
      "Chennai_Chemicals    966  863.2  608    Pub    1656  Che    1    CHEM   \n",
      "Indi_Services        954  733.0  609    Gov   13023  NCR    0    INDI   \n",
      "\n",
      "                          GST   Started  \n",
      "Kolkata_FMCG            Goods  Jan 1920  \n",
      "NCR_Leagles          Services  Feb 1960  \n",
      "Bombay_Sporting      Services  Mar 1943  \n",
      "Bombay_Finance       Services  Apr 1925  \n",
      "Bangalore_Systems    Services  Apr 1950  \n",
      "Chennai_Shipping     Services  Nov 1930  \n",
      "Bangalore_Breweries     Goods  Oct 1971  \n",
      "Chennai_Chemicals       Goods  Aug 1928  \n",
      "Indi_Services        Services  Mar 1920  \n"
     ]
    }
   ],
   "source": [
    "print(df1)"
   ]
  },
  {
   "cell_type": "markdown",
   "id": "6d408191",
   "metadata": {},
   "source": [
    "# Access of DataFrames"
   ]
  },
  {
   "cell_type": "code",
   "execution_count": 112,
   "id": "f1adfeb0",
   "metadata": {},
   "outputs": [
    {
     "data": {
      "text/html": [
       "<div>\n",
       "<style scoped>\n",
       "    .dataframe tbody tr th:only-of-type {\n",
       "        vertical-align: middle;\n",
       "    }\n",
       "\n",
       "    .dataframe tbody tr th {\n",
       "        vertical-align: top;\n",
       "    }\n",
       "\n",
       "    .dataframe thead th {\n",
       "        text-align: right;\n",
       "    }\n",
       "</style>\n",
       "<table border=\"1\" class=\"dataframe\">\n",
       "  <thead>\n",
       "    <tr style=\"text-align: right;\">\n",
       "      <th></th>\n",
       "      <th>Vol</th>\n",
       "      <th>Rev</th>\n",
       "      <th>Exp</th>\n",
       "      <th>Sector</th>\n",
       "      <th>EmpCnt</th>\n",
       "      <th>HQ</th>\n",
       "      <th>MNC</th>\n",
       "      <th>StockID</th>\n",
       "      <th>GST</th>\n",
       "      <th>Started</th>\n",
       "    </tr>\n",
       "  </thead>\n",
       "  <tbody>\n",
       "    <tr>\n",
       "      <th>Kolkata_FMCG</th>\n",
       "      <td>925</td>\n",
       "      <td>874.4</td>\n",
       "      <td>676</td>\n",
       "      <td>Pub</td>\n",
       "      <td>1379</td>\n",
       "      <td>Kol</td>\n",
       "      <td>1</td>\n",
       "      <td>KFMC</td>\n",
       "      <td>Goods</td>\n",
       "      <td>Jan 1920</td>\n",
       "    </tr>\n",
       "    <tr>\n",
       "      <th>NCR_Leagles</th>\n",
       "      <td>931</td>\n",
       "      <td>863.5</td>\n",
       "      <td>605</td>\n",
       "      <td>Pub</td>\n",
       "      <td>1935</td>\n",
       "      <td>NCR</td>\n",
       "      <td>0</td>\n",
       "      <td>NCRL</td>\n",
       "      <td>Services</td>\n",
       "      <td>Feb 1960</td>\n",
       "    </tr>\n",
       "    <tr>\n",
       "      <th>Bombay_Sporting</th>\n",
       "      <td>931</td>\n",
       "      <td>839.8</td>\n",
       "      <td>615</td>\n",
       "      <td>Pvt</td>\n",
       "      <td>154</td>\n",
       "      <td>Mum</td>\n",
       "      <td>0</td>\n",
       "      <td>SPRT</td>\n",
       "      <td>Services</td>\n",
       "      <td>Mar 1943</td>\n",
       "    </tr>\n",
       "    <tr>\n",
       "      <th>Bombay_Finance</th>\n",
       "      <td>899</td>\n",
       "      <td>917.0</td>\n",
       "      <td>674</td>\n",
       "      <td>Pub</td>\n",
       "      <td>1443</td>\n",
       "      <td>Mum</td>\n",
       "      <td>0</td>\n",
       "      <td>BFIN</td>\n",
       "      <td>Services</td>\n",
       "      <td>Apr 1925</td>\n",
       "    </tr>\n",
       "    <tr>\n",
       "      <th>Bangalore_Systems</th>\n",
       "      <td>900</td>\n",
       "      <td>881.6</td>\n",
       "      <td>650</td>\n",
       "      <td>Gov</td>\n",
       "      <td>1361</td>\n",
       "      <td>Blr</td>\n",
       "      <td>0</td>\n",
       "      <td>BSYS</td>\n",
       "      <td>Services</td>\n",
       "      <td>Apr 1950</td>\n",
       "    </tr>\n",
       "    <tr>\n",
       "      <th>Chennai_Shipping</th>\n",
       "      <td>992</td>\n",
       "      <td>821.0</td>\n",
       "      <td>665</td>\n",
       "      <td>Pub</td>\n",
       "      <td>1154</td>\n",
       "      <td>Che</td>\n",
       "      <td>1</td>\n",
       "      <td>SHIP</td>\n",
       "      <td>Services</td>\n",
       "      <td>Nov 1930</td>\n",
       "    </tr>\n",
       "    <tr>\n",
       "      <th>Bangalore_Breweries</th>\n",
       "      <td>966</td>\n",
       "      <td>805.0</td>\n",
       "      <td>895</td>\n",
       "      <td>Pvt</td>\n",
       "      <td>119</td>\n",
       "      <td>Blr</td>\n",
       "      <td>1</td>\n",
       "      <td>BREW</td>\n",
       "      <td>Goods</td>\n",
       "      <td>Oct 1971</td>\n",
       "    </tr>\n",
       "    <tr>\n",
       "      <th>Chennai_Chemicals</th>\n",
       "      <td>966</td>\n",
       "      <td>863.2</td>\n",
       "      <td>608</td>\n",
       "      <td>Pub</td>\n",
       "      <td>1656</td>\n",
       "      <td>Che</td>\n",
       "      <td>1</td>\n",
       "      <td>CHEM</td>\n",
       "      <td>Goods</td>\n",
       "      <td>Aug 1928</td>\n",
       "    </tr>\n",
       "    <tr>\n",
       "      <th>Indi_Services</th>\n",
       "      <td>954</td>\n",
       "      <td>733.0</td>\n",
       "      <td>609</td>\n",
       "      <td>Gov</td>\n",
       "      <td>13023</td>\n",
       "      <td>NCR</td>\n",
       "      <td>0</td>\n",
       "      <td>INDI</td>\n",
       "      <td>Services</td>\n",
       "      <td>Mar 1920</td>\n",
       "    </tr>\n",
       "  </tbody>\n",
       "</table>\n",
       "</div>"
      ],
      "text/plain": [
       "                     Vol    Rev  Exp Sector  EmpCnt   HQ  MNC StockID  \\\n",
       "Kolkata_FMCG         925  874.4  676    Pub    1379  Kol    1    KFMC   \n",
       "NCR_Leagles          931  863.5  605    Pub    1935  NCR    0    NCRL   \n",
       "Bombay_Sporting      931  839.8  615    Pvt     154  Mum    0    SPRT   \n",
       "Bombay_Finance       899  917.0  674    Pub    1443  Mum    0    BFIN   \n",
       "Bangalore_Systems    900  881.6  650    Gov    1361  Blr    0    BSYS   \n",
       "Chennai_Shipping     992  821.0  665    Pub    1154  Che    1    SHIP   \n",
       "Bangalore_Breweries  966  805.0  895    Pvt     119  Blr    1    BREW   \n",
       "Chennai_Chemicals    966  863.2  608    Pub    1656  Che    1    CHEM   \n",
       "Indi_Services        954  733.0  609    Gov   13023  NCR    0    INDI   \n",
       "\n",
       "                          GST   Started  \n",
       "Kolkata_FMCG            Goods  Jan 1920  \n",
       "NCR_Leagles          Services  Feb 1960  \n",
       "Bombay_Sporting      Services  Mar 1943  \n",
       "Bombay_Finance       Services  Apr 1925  \n",
       "Bangalore_Systems    Services  Apr 1950  \n",
       "Chennai_Shipping     Services  Nov 1930  \n",
       "Bangalore_Breweries     Goods  Oct 1971  \n",
       "Chennai_Chemicals       Goods  Aug 1928  \n",
       "Indi_Services        Services  Mar 1920  "
      ]
     },
     "execution_count": 112,
     "metadata": {},
     "output_type": "execute_result"
    }
   ],
   "source": [
    "df1"
   ]
  },
  {
   "cell_type": "code",
   "execution_count": 113,
   "id": "83c6c4cf",
   "metadata": {},
   "outputs": [
    {
     "name": "stdout",
     "output_type": "stream",
     "text": [
      "<class 'pandas.core.series.Series'>\n"
     ]
    },
    {
     "data": {
      "text/plain": [
       "Kolkata_FMCG           874.4\n",
       "NCR_Leagles            863.5\n",
       "Bombay_Sporting        839.8\n",
       "Bombay_Finance         917.0\n",
       "Bangalore_Systems      881.6\n",
       "Chennai_Shipping       821.0\n",
       "Bangalore_Breweries    805.0\n",
       "Chennai_Chemicals      863.2\n",
       "Indi_Services          733.0\n",
       "Name: Rev, dtype: float64"
      ]
     },
     "execution_count": 113,
     "metadata": {},
     "output_type": "execute_result"
    }
   ],
   "source": [
    "x = df1['Rev']\n",
    "print(type(x))\n",
    "x"
   ]
  },
  {
   "cell_type": "code",
   "execution_count": 114,
   "id": "a9be3182",
   "metadata": {},
   "outputs": [
    {
     "data": {
      "text/plain": [
       "Kolkata_FMCG           874.4\n",
       "NCR_Leagles            863.5\n",
       "Bombay_Sporting        839.8\n",
       "Bombay_Finance         917.0\n",
       "Bangalore_Systems      881.6\n",
       "Chennai_Shipping       821.0\n",
       "Bangalore_Breweries    805.0\n",
       "Chennai_Chemicals      863.2\n",
       "Indi_Services          733.0\n",
       "Name: Rev, dtype: float64"
      ]
     },
     "execution_count": 114,
     "metadata": {},
     "output_type": "execute_result"
    }
   ],
   "source": [
    "df1.Rev"
   ]
  },
  {
   "cell_type": "code",
   "execution_count": null,
   "id": "89412f94",
   "metadata": {},
   "outputs": [],
   "source": [
    "df1['Bombay_Sporting']  ##  Error"
   ]
  },
  {
   "cell_type": "code",
   "execution_count": 115,
   "id": "b999d24d",
   "metadata": {},
   "outputs": [
    {
     "data": {
      "text/html": [
       "<div>\n",
       "<style scoped>\n",
       "    .dataframe tbody tr th:only-of-type {\n",
       "        vertical-align: middle;\n",
       "    }\n",
       "\n",
       "    .dataframe tbody tr th {\n",
       "        vertical-align: top;\n",
       "    }\n",
       "\n",
       "    .dataframe thead th {\n",
       "        text-align: right;\n",
       "    }\n",
       "</style>\n",
       "<table border=\"1\" class=\"dataframe\">\n",
       "  <thead>\n",
       "    <tr style=\"text-align: right;\">\n",
       "      <th></th>\n",
       "      <th>Rev</th>\n",
       "      <th>HQ</th>\n",
       "    </tr>\n",
       "  </thead>\n",
       "  <tbody>\n",
       "    <tr>\n",
       "      <th>Kolkata_FMCG</th>\n",
       "      <td>874.4</td>\n",
       "      <td>Kol</td>\n",
       "    </tr>\n",
       "    <tr>\n",
       "      <th>NCR_Leagles</th>\n",
       "      <td>863.5</td>\n",
       "      <td>NCR</td>\n",
       "    </tr>\n",
       "    <tr>\n",
       "      <th>Bombay_Sporting</th>\n",
       "      <td>839.8</td>\n",
       "      <td>Mum</td>\n",
       "    </tr>\n",
       "    <tr>\n",
       "      <th>Bombay_Finance</th>\n",
       "      <td>917.0</td>\n",
       "      <td>Mum</td>\n",
       "    </tr>\n",
       "    <tr>\n",
       "      <th>Bangalore_Systems</th>\n",
       "      <td>881.6</td>\n",
       "      <td>Blr</td>\n",
       "    </tr>\n",
       "    <tr>\n",
       "      <th>Chennai_Shipping</th>\n",
       "      <td>821.0</td>\n",
       "      <td>Che</td>\n",
       "    </tr>\n",
       "    <tr>\n",
       "      <th>Bangalore_Breweries</th>\n",
       "      <td>805.0</td>\n",
       "      <td>Blr</td>\n",
       "    </tr>\n",
       "    <tr>\n",
       "      <th>Chennai_Chemicals</th>\n",
       "      <td>863.2</td>\n",
       "      <td>Che</td>\n",
       "    </tr>\n",
       "    <tr>\n",
       "      <th>Indi_Services</th>\n",
       "      <td>733.0</td>\n",
       "      <td>NCR</td>\n",
       "    </tr>\n",
       "  </tbody>\n",
       "</table>\n",
       "</div>"
      ],
      "text/plain": [
       "                       Rev   HQ\n",
       "Kolkata_FMCG         874.4  Kol\n",
       "NCR_Leagles          863.5  NCR\n",
       "Bombay_Sporting      839.8  Mum\n",
       "Bombay_Finance       917.0  Mum\n",
       "Bangalore_Systems    881.6  Blr\n",
       "Chennai_Shipping     821.0  Che\n",
       "Bangalore_Breweries  805.0  Blr\n",
       "Chennai_Chemicals    863.2  Che\n",
       "Indi_Services        733.0  NCR"
      ]
     },
     "execution_count": 115,
     "metadata": {},
     "output_type": "execute_result"
    }
   ],
   "source": [
    "df1[ ['Rev', 'HQ']  ]"
   ]
  },
  {
   "cell_type": "code",
   "execution_count": 116,
   "id": "4a2f30b7",
   "metadata": {},
   "outputs": [
    {
     "ename": "KeyError",
     "evalue": "\"None of [Index(['Bombay_Sporting', 'Chennai_Shipping'], dtype='object')] are in the [columns]\"",
     "output_type": "error",
     "traceback": [
      "\u001b[1;31m---------------------------------------------------------------------------\u001b[0m",
      "\u001b[1;31mKeyError\u001b[0m                                  Traceback (most recent call last)",
      "Cell \u001b[1;32mIn[116], line 1\u001b[0m\n\u001b[1;32m----> 1\u001b[0m df1[ [\u001b[38;5;124m'\u001b[39m\u001b[38;5;124mBombay_Sporting\u001b[39m\u001b[38;5;124m'\u001b[39m,\u001b[38;5;124m'\u001b[39m\u001b[38;5;124mChennai_Shipping\u001b[39m\u001b[38;5;124m'\u001b[39m]   ]\n",
      "File \u001b[1;32mC:\\Users\\Dhilip\\Lib\\site-packages\\pandas\\core\\frame.py:3813\u001b[0m, in \u001b[0;36mDataFrame.__getitem__\u001b[1;34m(self, key)\u001b[0m\n\u001b[0;32m   3811\u001b[0m     \u001b[38;5;28;01mif\u001b[39;00m is_iterator(key):\n\u001b[0;32m   3812\u001b[0m         key \u001b[38;5;241m=\u001b[39m \u001b[38;5;28mlist\u001b[39m(key)\n\u001b[1;32m-> 3813\u001b[0m     indexer \u001b[38;5;241m=\u001b[39m \u001b[38;5;28mself\u001b[39m\u001b[38;5;241m.\u001b[39mcolumns\u001b[38;5;241m.\u001b[39m_get_indexer_strict(key, \u001b[38;5;124m\"\u001b[39m\u001b[38;5;124mcolumns\u001b[39m\u001b[38;5;124m\"\u001b[39m)[\u001b[38;5;241m1\u001b[39m]\n\u001b[0;32m   3815\u001b[0m \u001b[38;5;66;03m# take() does not accept boolean indexers\u001b[39;00m\n\u001b[0;32m   3816\u001b[0m \u001b[38;5;28;01mif\u001b[39;00m \u001b[38;5;28mgetattr\u001b[39m(indexer, \u001b[38;5;124m\"\u001b[39m\u001b[38;5;124mdtype\u001b[39m\u001b[38;5;124m\"\u001b[39m, \u001b[38;5;28;01mNone\u001b[39;00m) \u001b[38;5;241m==\u001b[39m \u001b[38;5;28mbool\u001b[39m:\n",
      "File \u001b[1;32mC:\\Users\\Dhilip\\Lib\\site-packages\\pandas\\core\\indexes\\base.py:6070\u001b[0m, in \u001b[0;36mIndex._get_indexer_strict\u001b[1;34m(self, key, axis_name)\u001b[0m\n\u001b[0;32m   6067\u001b[0m \u001b[38;5;28;01melse\u001b[39;00m:\n\u001b[0;32m   6068\u001b[0m     keyarr, indexer, new_indexer \u001b[38;5;241m=\u001b[39m \u001b[38;5;28mself\u001b[39m\u001b[38;5;241m.\u001b[39m_reindex_non_unique(keyarr)\n\u001b[1;32m-> 6070\u001b[0m \u001b[38;5;28mself\u001b[39m\u001b[38;5;241m.\u001b[39m_raise_if_missing(keyarr, indexer, axis_name)\n\u001b[0;32m   6072\u001b[0m keyarr \u001b[38;5;241m=\u001b[39m \u001b[38;5;28mself\u001b[39m\u001b[38;5;241m.\u001b[39mtake(indexer)\n\u001b[0;32m   6073\u001b[0m \u001b[38;5;28;01mif\u001b[39;00m \u001b[38;5;28misinstance\u001b[39m(key, Index):\n\u001b[0;32m   6074\u001b[0m     \u001b[38;5;66;03m# GH 42790 - Preserve name from an Index\u001b[39;00m\n",
      "File \u001b[1;32mC:\\Users\\Dhilip\\Lib\\site-packages\\pandas\\core\\indexes\\base.py:6130\u001b[0m, in \u001b[0;36mIndex._raise_if_missing\u001b[1;34m(self, key, indexer, axis_name)\u001b[0m\n\u001b[0;32m   6128\u001b[0m     \u001b[38;5;28;01mif\u001b[39;00m use_interval_msg:\n\u001b[0;32m   6129\u001b[0m         key \u001b[38;5;241m=\u001b[39m \u001b[38;5;28mlist\u001b[39m(key)\n\u001b[1;32m-> 6130\u001b[0m     \u001b[38;5;28;01mraise\u001b[39;00m \u001b[38;5;167;01mKeyError\u001b[39;00m(\u001b[38;5;124mf\u001b[39m\u001b[38;5;124m\"\u001b[39m\u001b[38;5;124mNone of [\u001b[39m\u001b[38;5;132;01m{\u001b[39;00mkey\u001b[38;5;132;01m}\u001b[39;00m\u001b[38;5;124m] are in the [\u001b[39m\u001b[38;5;132;01m{\u001b[39;00maxis_name\u001b[38;5;132;01m}\u001b[39;00m\u001b[38;5;124m]\u001b[39m\u001b[38;5;124m\"\u001b[39m)\n\u001b[0;32m   6132\u001b[0m not_found \u001b[38;5;241m=\u001b[39m \u001b[38;5;28mlist\u001b[39m(ensure_index(key)[missing_mask\u001b[38;5;241m.\u001b[39mnonzero()[\u001b[38;5;241m0\u001b[39m]]\u001b[38;5;241m.\u001b[39munique())\n\u001b[0;32m   6133\u001b[0m \u001b[38;5;28;01mraise\u001b[39;00m \u001b[38;5;167;01mKeyError\u001b[39;00m(\u001b[38;5;124mf\u001b[39m\u001b[38;5;124m\"\u001b[39m\u001b[38;5;132;01m{\u001b[39;00mnot_found\u001b[38;5;132;01m}\u001b[39;00m\u001b[38;5;124m not in index\u001b[39m\u001b[38;5;124m\"\u001b[39m)\n",
      "\u001b[1;31mKeyError\u001b[0m: \"None of [Index(['Bombay_Sporting', 'Chennai_Shipping'], dtype='object')] are in the [columns]\""
     ]
    }
   ],
   "source": [
    "df1[ ['Bombay_Sporting','Chennai_Shipping']   ]"
   ]
  },
  {
   "cell_type": "code",
   "execution_count": 117,
   "id": "f7240a17",
   "metadata": {},
   "outputs": [
    {
     "data": {
      "text/html": [
       "<div>\n",
       "<style scoped>\n",
       "    .dataframe tbody tr th:only-of-type {\n",
       "        vertical-align: middle;\n",
       "    }\n",
       "\n",
       "    .dataframe tbody tr th {\n",
       "        vertical-align: top;\n",
       "    }\n",
       "\n",
       "    .dataframe thead th {\n",
       "        text-align: right;\n",
       "    }\n",
       "</style>\n",
       "<table border=\"1\" class=\"dataframe\">\n",
       "  <thead>\n",
       "    <tr style=\"text-align: right;\">\n",
       "      <th></th>\n",
       "      <th>Vol</th>\n",
       "      <th>Rev</th>\n",
       "      <th>Exp</th>\n",
       "      <th>Sector</th>\n",
       "      <th>EmpCnt</th>\n",
       "      <th>HQ</th>\n",
       "      <th>MNC</th>\n",
       "      <th>StockID</th>\n",
       "      <th>GST</th>\n",
       "      <th>Started</th>\n",
       "    </tr>\n",
       "  </thead>\n",
       "  <tbody>\n",
       "    <tr>\n",
       "      <th>Kolkata_FMCG</th>\n",
       "      <td>925</td>\n",
       "      <td>874.4</td>\n",
       "      <td>676</td>\n",
       "      <td>Pub</td>\n",
       "      <td>1379</td>\n",
       "      <td>Kol</td>\n",
       "      <td>1</td>\n",
       "      <td>KFMC</td>\n",
       "      <td>Goods</td>\n",
       "      <td>Jan 1920</td>\n",
       "    </tr>\n",
       "    <tr>\n",
       "      <th>NCR_Leagles</th>\n",
       "      <td>931</td>\n",
       "      <td>863.5</td>\n",
       "      <td>605</td>\n",
       "      <td>Pub</td>\n",
       "      <td>1935</td>\n",
       "      <td>NCR</td>\n",
       "      <td>0</td>\n",
       "      <td>NCRL</td>\n",
       "      <td>Services</td>\n",
       "      <td>Feb 1960</td>\n",
       "    </tr>\n",
       "    <tr>\n",
       "      <th>Bombay_Sporting</th>\n",
       "      <td>931</td>\n",
       "      <td>839.8</td>\n",
       "      <td>615</td>\n",
       "      <td>Pvt</td>\n",
       "      <td>154</td>\n",
       "      <td>Mum</td>\n",
       "      <td>0</td>\n",
       "      <td>SPRT</td>\n",
       "      <td>Services</td>\n",
       "      <td>Mar 1943</td>\n",
       "    </tr>\n",
       "    <tr>\n",
       "      <th>Bombay_Finance</th>\n",
       "      <td>899</td>\n",
       "      <td>917.0</td>\n",
       "      <td>674</td>\n",
       "      <td>Pub</td>\n",
       "      <td>1443</td>\n",
       "      <td>Mum</td>\n",
       "      <td>0</td>\n",
       "      <td>BFIN</td>\n",
       "      <td>Services</td>\n",
       "      <td>Apr 1925</td>\n",
       "    </tr>\n",
       "    <tr>\n",
       "      <th>Bangalore_Systems</th>\n",
       "      <td>900</td>\n",
       "      <td>881.6</td>\n",
       "      <td>650</td>\n",
       "      <td>Gov</td>\n",
       "      <td>1361</td>\n",
       "      <td>Blr</td>\n",
       "      <td>0</td>\n",
       "      <td>BSYS</td>\n",
       "      <td>Services</td>\n",
       "      <td>Apr 1950</td>\n",
       "    </tr>\n",
       "    <tr>\n",
       "      <th>Chennai_Shipping</th>\n",
       "      <td>992</td>\n",
       "      <td>821.0</td>\n",
       "      <td>665</td>\n",
       "      <td>Pub</td>\n",
       "      <td>1154</td>\n",
       "      <td>Che</td>\n",
       "      <td>1</td>\n",
       "      <td>SHIP</td>\n",
       "      <td>Services</td>\n",
       "      <td>Nov 1930</td>\n",
       "    </tr>\n",
       "    <tr>\n",
       "      <th>Bangalore_Breweries</th>\n",
       "      <td>966</td>\n",
       "      <td>805.0</td>\n",
       "      <td>895</td>\n",
       "      <td>Pvt</td>\n",
       "      <td>119</td>\n",
       "      <td>Blr</td>\n",
       "      <td>1</td>\n",
       "      <td>BREW</td>\n",
       "      <td>Goods</td>\n",
       "      <td>Oct 1971</td>\n",
       "    </tr>\n",
       "    <tr>\n",
       "      <th>Chennai_Chemicals</th>\n",
       "      <td>966</td>\n",
       "      <td>863.2</td>\n",
       "      <td>608</td>\n",
       "      <td>Pub</td>\n",
       "      <td>1656</td>\n",
       "      <td>Che</td>\n",
       "      <td>1</td>\n",
       "      <td>CHEM</td>\n",
       "      <td>Goods</td>\n",
       "      <td>Aug 1928</td>\n",
       "    </tr>\n",
       "    <tr>\n",
       "      <th>Indi_Services</th>\n",
       "      <td>954</td>\n",
       "      <td>733.0</td>\n",
       "      <td>609</td>\n",
       "      <td>Gov</td>\n",
       "      <td>13023</td>\n",
       "      <td>NCR</td>\n",
       "      <td>0</td>\n",
       "      <td>INDI</td>\n",
       "      <td>Services</td>\n",
       "      <td>Mar 1920</td>\n",
       "    </tr>\n",
       "  </tbody>\n",
       "</table>\n",
       "</div>"
      ],
      "text/plain": [
       "                     Vol    Rev  Exp Sector  EmpCnt   HQ  MNC StockID  \\\n",
       "Kolkata_FMCG         925  874.4  676    Pub    1379  Kol    1    KFMC   \n",
       "NCR_Leagles          931  863.5  605    Pub    1935  NCR    0    NCRL   \n",
       "Bombay_Sporting      931  839.8  615    Pvt     154  Mum    0    SPRT   \n",
       "Bombay_Finance       899  917.0  674    Pub    1443  Mum    0    BFIN   \n",
       "Bangalore_Systems    900  881.6  650    Gov    1361  Blr    0    BSYS   \n",
       "Chennai_Shipping     992  821.0  665    Pub    1154  Che    1    SHIP   \n",
       "Bangalore_Breweries  966  805.0  895    Pvt     119  Blr    1    BREW   \n",
       "Chennai_Chemicals    966  863.2  608    Pub    1656  Che    1    CHEM   \n",
       "Indi_Services        954  733.0  609    Gov   13023  NCR    0    INDI   \n",
       "\n",
       "                          GST   Started  \n",
       "Kolkata_FMCG            Goods  Jan 1920  \n",
       "NCR_Leagles          Services  Feb 1960  \n",
       "Bombay_Sporting      Services  Mar 1943  \n",
       "Bombay_Finance       Services  Apr 1925  \n",
       "Bangalore_Systems    Services  Apr 1950  \n",
       "Chennai_Shipping     Services  Nov 1930  \n",
       "Bangalore_Breweries     Goods  Oct 1971  \n",
       "Chennai_Chemicals       Goods  Aug 1928  \n",
       "Indi_Services        Services  Mar 1920  "
      ]
     },
     "execution_count": 117,
     "metadata": {},
     "output_type": "execute_result"
    }
   ],
   "source": [
    "df1"
   ]
  },
  {
   "cell_type": "code",
   "execution_count": 118,
   "id": "50cae65d",
   "metadata": {},
   "outputs": [
    {
     "data": {
      "text/html": [
       "<div>\n",
       "<style scoped>\n",
       "    .dataframe tbody tr th:only-of-type {\n",
       "        vertical-align: middle;\n",
       "    }\n",
       "\n",
       "    .dataframe tbody tr th {\n",
       "        vertical-align: top;\n",
       "    }\n",
       "\n",
       "    .dataframe thead th {\n",
       "        text-align: right;\n",
       "    }\n",
       "</style>\n",
       "<table border=\"1\" class=\"dataframe\">\n",
       "  <thead>\n",
       "    <tr style=\"text-align: right;\">\n",
       "      <th></th>\n",
       "      <th>Vol</th>\n",
       "      <th>Rev</th>\n",
       "      <th>Exp</th>\n",
       "      <th>Sector</th>\n",
       "      <th>EmpCnt</th>\n",
       "      <th>HQ</th>\n",
       "      <th>MNC</th>\n",
       "      <th>StockID</th>\n",
       "      <th>GST</th>\n",
       "      <th>Started</th>\n",
       "    </tr>\n",
       "  </thead>\n",
       "  <tbody>\n",
       "    <tr>\n",
       "      <th>Bombay_Sporting</th>\n",
       "      <td>931</td>\n",
       "      <td>839.8</td>\n",
       "      <td>615</td>\n",
       "      <td>Pvt</td>\n",
       "      <td>154</td>\n",
       "      <td>Mum</td>\n",
       "      <td>0</td>\n",
       "      <td>SPRT</td>\n",
       "      <td>Services</td>\n",
       "      <td>Mar 1943</td>\n",
       "    </tr>\n",
       "    <tr>\n",
       "      <th>Bangalore_Systems</th>\n",
       "      <td>900</td>\n",
       "      <td>881.6</td>\n",
       "      <td>650</td>\n",
       "      <td>Gov</td>\n",
       "      <td>1361</td>\n",
       "      <td>Blr</td>\n",
       "      <td>0</td>\n",
       "      <td>BSYS</td>\n",
       "      <td>Services</td>\n",
       "      <td>Apr 1950</td>\n",
       "    </tr>\n",
       "    <tr>\n",
       "      <th>Bangalore_Breweries</th>\n",
       "      <td>966</td>\n",
       "      <td>805.0</td>\n",
       "      <td>895</td>\n",
       "      <td>Pvt</td>\n",
       "      <td>119</td>\n",
       "      <td>Blr</td>\n",
       "      <td>1</td>\n",
       "      <td>BREW</td>\n",
       "      <td>Goods</td>\n",
       "      <td>Oct 1971</td>\n",
       "    </tr>\n",
       "  </tbody>\n",
       "</table>\n",
       "</div>"
      ],
      "text/plain": [
       "                     Vol    Rev  Exp Sector  EmpCnt   HQ  MNC StockID  \\\n",
       "Bombay_Sporting      931  839.8  615    Pvt     154  Mum    0    SPRT   \n",
       "Bangalore_Systems    900  881.6  650    Gov    1361  Blr    0    BSYS   \n",
       "Bangalore_Breweries  966  805.0  895    Pvt     119  Blr    1    BREW   \n",
       "\n",
       "                          GST   Started  \n",
       "Bombay_Sporting      Services  Mar 1943  \n",
       "Bangalore_Systems    Services  Apr 1950  \n",
       "Bangalore_Breweries     Goods  Oct 1971  "
      ]
     },
     "execution_count": 118,
     "metadata": {},
     "output_type": "execute_result"
    }
   ],
   "source": [
    "df1[ 'Bombay_Sporting': 'Bangalore_Breweries' :2 ]"
   ]
  },
  {
   "cell_type": "code",
   "execution_count": 119,
   "id": "acf97064",
   "metadata": {},
   "outputs": [
    {
     "data": {
      "text/html": [
       "<div>\n",
       "<style scoped>\n",
       "    .dataframe tbody tr th:only-of-type {\n",
       "        vertical-align: middle;\n",
       "    }\n",
       "\n",
       "    .dataframe tbody tr th {\n",
       "        vertical-align: top;\n",
       "    }\n",
       "\n",
       "    .dataframe thead th {\n",
       "        text-align: right;\n",
       "    }\n",
       "</style>\n",
       "<table border=\"1\" class=\"dataframe\">\n",
       "  <thead>\n",
       "    <tr style=\"text-align: right;\">\n",
       "      <th></th>\n",
       "      <th>Vol</th>\n",
       "      <th>Rev</th>\n",
       "      <th>Exp</th>\n",
       "      <th>Sector</th>\n",
       "      <th>EmpCnt</th>\n",
       "      <th>HQ</th>\n",
       "      <th>MNC</th>\n",
       "      <th>StockID</th>\n",
       "      <th>GST</th>\n",
       "      <th>Started</th>\n",
       "    </tr>\n",
       "  </thead>\n",
       "  <tbody>\n",
       "    <tr>\n",
       "      <th>Chennai_Shipping</th>\n",
       "      <td>992</td>\n",
       "      <td>821.0</td>\n",
       "      <td>665</td>\n",
       "      <td>Pub</td>\n",
       "      <td>1154</td>\n",
       "      <td>Che</td>\n",
       "      <td>1</td>\n",
       "      <td>SHIP</td>\n",
       "      <td>Services</td>\n",
       "      <td>Nov 1930</td>\n",
       "    </tr>\n",
       "  </tbody>\n",
       "</table>\n",
       "</div>"
      ],
      "text/plain": [
       "                  Vol    Rev  Exp Sector  EmpCnt   HQ  MNC StockID       GST  \\\n",
       "Chennai_Shipping  992  821.0  665    Pub    1154  Che    1    SHIP  Services   \n",
       "\n",
       "                   Started  \n",
       "Chennai_Shipping  Nov 1930  "
      ]
     },
     "execution_count": 119,
     "metadata": {},
     "output_type": "execute_result"
    }
   ],
   "source": [
    "df1[ 'Chennai_Shipping': 'Chennai_Shipping' ]"
   ]
  },
  {
   "cell_type": "code",
   "execution_count": 120,
   "id": "8c97502a",
   "metadata": {},
   "outputs": [
    {
     "ename": "KeyError",
     "evalue": "'Rev'",
     "output_type": "error",
     "traceback": [
      "\u001b[1;31m---------------------------------------------------------------------------\u001b[0m",
      "\u001b[1;31mKeyError\u001b[0m                                  Traceback (most recent call last)",
      "File \u001b[1;32mC:\\Users\\Dhilip\\Lib\\site-packages\\pandas\\core\\indexes\\base.py:3802\u001b[0m, in \u001b[0;36mIndex.get_loc\u001b[1;34m(self, key, method, tolerance)\u001b[0m\n\u001b[0;32m   3801\u001b[0m \u001b[38;5;28;01mtry\u001b[39;00m:\n\u001b[1;32m-> 3802\u001b[0m     \u001b[38;5;28;01mreturn\u001b[39;00m \u001b[38;5;28mself\u001b[39m\u001b[38;5;241m.\u001b[39m_engine\u001b[38;5;241m.\u001b[39mget_loc(casted_key)\n\u001b[0;32m   3803\u001b[0m \u001b[38;5;28;01mexcept\u001b[39;00m \u001b[38;5;167;01mKeyError\u001b[39;00m \u001b[38;5;28;01mas\u001b[39;00m err:\n",
      "File \u001b[1;32mC:\\Users\\Dhilip\\Lib\\site-packages\\pandas\\_libs\\index.pyx:138\u001b[0m, in \u001b[0;36mpandas._libs.index.IndexEngine.get_loc\u001b[1;34m()\u001b[0m\n",
      "File \u001b[1;32mC:\\Users\\Dhilip\\Lib\\site-packages\\pandas\\_libs\\index.pyx:165\u001b[0m, in \u001b[0;36mpandas._libs.index.IndexEngine.get_loc\u001b[1;34m()\u001b[0m\n",
      "File \u001b[1;32mpandas\\_libs\\hashtable_class_helper.pxi:5745\u001b[0m, in \u001b[0;36mpandas._libs.hashtable.PyObjectHashTable.get_item\u001b[1;34m()\u001b[0m\n",
      "File \u001b[1;32mpandas\\_libs\\hashtable_class_helper.pxi:5753\u001b[0m, in \u001b[0;36mpandas._libs.hashtable.PyObjectHashTable.get_item\u001b[1;34m()\u001b[0m\n",
      "\u001b[1;31mKeyError\u001b[0m: 'Rev'",
      "\nThe above exception was the direct cause of the following exception:\n",
      "\u001b[1;31mKeyError\u001b[0m                                  Traceback (most recent call last)",
      "Cell \u001b[1;32mIn[120], line 1\u001b[0m\n\u001b[1;32m----> 1\u001b[0m df1[ \u001b[38;5;124m'\u001b[39m\u001b[38;5;124mRev\u001b[39m\u001b[38;5;124m'\u001b[39m: \u001b[38;5;124m'\u001b[39m\u001b[38;5;124mHQ\u001b[39m\u001b[38;5;124m'\u001b[39m ]\n",
      "File \u001b[1;32mC:\\Users\\Dhilip\\Lib\\site-packages\\pandas\\core\\frame.py:3779\u001b[0m, in \u001b[0;36mDataFrame.__getitem__\u001b[1;34m(self, key)\u001b[0m\n\u001b[0;32m   3777\u001b[0m         \u001b[38;5;28;01mreturn\u001b[39;00m \u001b[38;5;28mself\u001b[39m\u001b[38;5;241m.\u001b[39m_getitem_multilevel(key)\n\u001b[0;32m   3778\u001b[0m \u001b[38;5;66;03m# Do we have a slicer (on rows)?\u001b[39;00m\n\u001b[1;32m-> 3779\u001b[0m indexer \u001b[38;5;241m=\u001b[39m convert_to_index_sliceable(\u001b[38;5;28mself\u001b[39m, key)\n\u001b[0;32m   3780\u001b[0m \u001b[38;5;28;01mif\u001b[39;00m indexer \u001b[38;5;129;01mis\u001b[39;00m \u001b[38;5;129;01mnot\u001b[39;00m \u001b[38;5;28;01mNone\u001b[39;00m:\n\u001b[0;32m   3781\u001b[0m     \u001b[38;5;28;01mif\u001b[39;00m \u001b[38;5;28misinstance\u001b[39m(indexer, np\u001b[38;5;241m.\u001b[39mndarray):\n",
      "File \u001b[1;32mC:\\Users\\Dhilip\\Lib\\site-packages\\pandas\\core\\indexing.py:2494\u001b[0m, in \u001b[0;36mconvert_to_index_sliceable\u001b[1;34m(obj, key)\u001b[0m\n\u001b[0;32m   2492\u001b[0m idx \u001b[38;5;241m=\u001b[39m obj\u001b[38;5;241m.\u001b[39mindex\n\u001b[0;32m   2493\u001b[0m \u001b[38;5;28;01mif\u001b[39;00m \u001b[38;5;28misinstance\u001b[39m(key, \u001b[38;5;28mslice\u001b[39m):\n\u001b[1;32m-> 2494\u001b[0m     \u001b[38;5;28;01mreturn\u001b[39;00m idx\u001b[38;5;241m.\u001b[39m_convert_slice_indexer(key, kind\u001b[38;5;241m=\u001b[39m\u001b[38;5;124m\"\u001b[39m\u001b[38;5;124mgetitem\u001b[39m\u001b[38;5;124m\"\u001b[39m)\n\u001b[0;32m   2496\u001b[0m \u001b[38;5;28;01melif\u001b[39;00m \u001b[38;5;28misinstance\u001b[39m(key, \u001b[38;5;28mstr\u001b[39m):\n\u001b[0;32m   2497\u001b[0m \n\u001b[0;32m   2498\u001b[0m     \u001b[38;5;66;03m# we are an actual column\u001b[39;00m\n\u001b[0;32m   2499\u001b[0m     \u001b[38;5;28;01mif\u001b[39;00m key \u001b[38;5;129;01min\u001b[39;00m obj\u001b[38;5;241m.\u001b[39mcolumns:\n",
      "File \u001b[1;32mC:\\Users\\Dhilip\\Lib\\site-packages\\pandas\\core\\indexes\\base.py:4284\u001b[0m, in \u001b[0;36mIndex._convert_slice_indexer\u001b[1;34m(self, key, kind)\u001b[0m\n\u001b[0;32m   4282\u001b[0m     indexer \u001b[38;5;241m=\u001b[39m key\n\u001b[0;32m   4283\u001b[0m \u001b[38;5;28;01melse\u001b[39;00m:\n\u001b[1;32m-> 4284\u001b[0m     indexer \u001b[38;5;241m=\u001b[39m \u001b[38;5;28mself\u001b[39m\u001b[38;5;241m.\u001b[39mslice_indexer(start, stop, step)\n\u001b[0;32m   4286\u001b[0m \u001b[38;5;28;01mreturn\u001b[39;00m indexer\n",
      "File \u001b[1;32mC:\\Users\\Dhilip\\Lib\\site-packages\\pandas\\core\\indexes\\base.py:6559\u001b[0m, in \u001b[0;36mIndex.slice_indexer\u001b[1;34m(self, start, end, step, kind)\u001b[0m\n\u001b[0;32m   6516\u001b[0m \u001b[38;5;250m\u001b[39m\u001b[38;5;124;03m\"\"\"\u001b[39;00m\n\u001b[0;32m   6517\u001b[0m \u001b[38;5;124;03mCompute the slice indexer for input labels and step.\u001b[39;00m\n\u001b[0;32m   6518\u001b[0m \n\u001b[1;32m   (...)\u001b[0m\n\u001b[0;32m   6555\u001b[0m \u001b[38;5;124;03mslice(1, 3, None)\u001b[39;00m\n\u001b[0;32m   6556\u001b[0m \u001b[38;5;124;03m\"\"\"\u001b[39;00m\n\u001b[0;32m   6557\u001b[0m \u001b[38;5;28mself\u001b[39m\u001b[38;5;241m.\u001b[39m_deprecated_arg(kind, \u001b[38;5;124m\"\u001b[39m\u001b[38;5;124mkind\u001b[39m\u001b[38;5;124m\"\u001b[39m, \u001b[38;5;124m\"\u001b[39m\u001b[38;5;124mslice_indexer\u001b[39m\u001b[38;5;124m\"\u001b[39m)\n\u001b[1;32m-> 6559\u001b[0m start_slice, end_slice \u001b[38;5;241m=\u001b[39m \u001b[38;5;28mself\u001b[39m\u001b[38;5;241m.\u001b[39mslice_locs(start, end, step\u001b[38;5;241m=\u001b[39mstep)\n\u001b[0;32m   6561\u001b[0m \u001b[38;5;66;03m# return a slice\u001b[39;00m\n\u001b[0;32m   6562\u001b[0m \u001b[38;5;28;01mif\u001b[39;00m \u001b[38;5;129;01mnot\u001b[39;00m is_scalar(start_slice):\n",
      "File \u001b[1;32mC:\\Users\\Dhilip\\Lib\\site-packages\\pandas\\core\\indexes\\base.py:6767\u001b[0m, in \u001b[0;36mIndex.slice_locs\u001b[1;34m(self, start, end, step, kind)\u001b[0m\n\u001b[0;32m   6765\u001b[0m start_slice \u001b[38;5;241m=\u001b[39m \u001b[38;5;28;01mNone\u001b[39;00m\n\u001b[0;32m   6766\u001b[0m \u001b[38;5;28;01mif\u001b[39;00m start \u001b[38;5;129;01mis\u001b[39;00m \u001b[38;5;129;01mnot\u001b[39;00m \u001b[38;5;28;01mNone\u001b[39;00m:\n\u001b[1;32m-> 6767\u001b[0m     start_slice \u001b[38;5;241m=\u001b[39m \u001b[38;5;28mself\u001b[39m\u001b[38;5;241m.\u001b[39mget_slice_bound(start, \u001b[38;5;124m\"\u001b[39m\u001b[38;5;124mleft\u001b[39m\u001b[38;5;124m\"\u001b[39m)\n\u001b[0;32m   6768\u001b[0m \u001b[38;5;28;01mif\u001b[39;00m start_slice \u001b[38;5;129;01mis\u001b[39;00m \u001b[38;5;28;01mNone\u001b[39;00m:\n\u001b[0;32m   6769\u001b[0m     start_slice \u001b[38;5;241m=\u001b[39m \u001b[38;5;241m0\u001b[39m\n",
      "File \u001b[1;32mC:\\Users\\Dhilip\\Lib\\site-packages\\pandas\\core\\indexes\\base.py:6686\u001b[0m, in \u001b[0;36mIndex.get_slice_bound\u001b[1;34m(self, label, side, kind)\u001b[0m\n\u001b[0;32m   6683\u001b[0m         \u001b[38;5;28;01mreturn\u001b[39;00m \u001b[38;5;28mself\u001b[39m\u001b[38;5;241m.\u001b[39m_searchsorted_monotonic(label, side)\n\u001b[0;32m   6684\u001b[0m     \u001b[38;5;28;01mexcept\u001b[39;00m \u001b[38;5;167;01mValueError\u001b[39;00m:\n\u001b[0;32m   6685\u001b[0m         \u001b[38;5;66;03m# raise the original KeyError\u001b[39;00m\n\u001b[1;32m-> 6686\u001b[0m         \u001b[38;5;28;01mraise\u001b[39;00m err\n\u001b[0;32m   6688\u001b[0m \u001b[38;5;28;01mif\u001b[39;00m \u001b[38;5;28misinstance\u001b[39m(slc, np\u001b[38;5;241m.\u001b[39mndarray):\n\u001b[0;32m   6689\u001b[0m     \u001b[38;5;66;03m# get_loc may return a boolean array, which\u001b[39;00m\n\u001b[0;32m   6690\u001b[0m     \u001b[38;5;66;03m# is OK as long as they are representable by a slice.\u001b[39;00m\n\u001b[0;32m   6691\u001b[0m     \u001b[38;5;28;01massert\u001b[39;00m is_bool_dtype(slc\u001b[38;5;241m.\u001b[39mdtype)\n",
      "File \u001b[1;32mC:\\Users\\Dhilip\\Lib\\site-packages\\pandas\\core\\indexes\\base.py:6680\u001b[0m, in \u001b[0;36mIndex.get_slice_bound\u001b[1;34m(self, label, side, kind)\u001b[0m\n\u001b[0;32m   6678\u001b[0m \u001b[38;5;66;03m# we need to look up the label\u001b[39;00m\n\u001b[0;32m   6679\u001b[0m \u001b[38;5;28;01mtry\u001b[39;00m:\n\u001b[1;32m-> 6680\u001b[0m     slc \u001b[38;5;241m=\u001b[39m \u001b[38;5;28mself\u001b[39m\u001b[38;5;241m.\u001b[39mget_loc(label)\n\u001b[0;32m   6681\u001b[0m \u001b[38;5;28;01mexcept\u001b[39;00m \u001b[38;5;167;01mKeyError\u001b[39;00m \u001b[38;5;28;01mas\u001b[39;00m err:\n\u001b[0;32m   6682\u001b[0m     \u001b[38;5;28;01mtry\u001b[39;00m:\n",
      "File \u001b[1;32mC:\\Users\\Dhilip\\Lib\\site-packages\\pandas\\core\\indexes\\base.py:3804\u001b[0m, in \u001b[0;36mIndex.get_loc\u001b[1;34m(self, key, method, tolerance)\u001b[0m\n\u001b[0;32m   3802\u001b[0m     \u001b[38;5;28;01mreturn\u001b[39;00m \u001b[38;5;28mself\u001b[39m\u001b[38;5;241m.\u001b[39m_engine\u001b[38;5;241m.\u001b[39mget_loc(casted_key)\n\u001b[0;32m   3803\u001b[0m \u001b[38;5;28;01mexcept\u001b[39;00m \u001b[38;5;167;01mKeyError\u001b[39;00m \u001b[38;5;28;01mas\u001b[39;00m err:\n\u001b[1;32m-> 3804\u001b[0m     \u001b[38;5;28;01mraise\u001b[39;00m \u001b[38;5;167;01mKeyError\u001b[39;00m(key) \u001b[38;5;28;01mfrom\u001b[39;00m \u001b[38;5;21;01merr\u001b[39;00m\n\u001b[0;32m   3805\u001b[0m \u001b[38;5;28;01mexcept\u001b[39;00m \u001b[38;5;167;01mTypeError\u001b[39;00m:\n\u001b[0;32m   3806\u001b[0m     \u001b[38;5;66;03m# If we have a listlike key, _check_indexing_error will raise\u001b[39;00m\n\u001b[0;32m   3807\u001b[0m     \u001b[38;5;66;03m#  InvalidIndexError. Otherwise we fall through and re-raise\u001b[39;00m\n\u001b[0;32m   3808\u001b[0m     \u001b[38;5;66;03m#  the TypeError.\u001b[39;00m\n\u001b[0;32m   3809\u001b[0m     \u001b[38;5;28mself\u001b[39m\u001b[38;5;241m.\u001b[39m_check_indexing_error(key)\n",
      "\u001b[1;31mKeyError\u001b[0m: 'Rev'"
     ]
    }
   ],
   "source": [
    "df1[ 'Rev': 'HQ' ]"
   ]
  },
  {
   "cell_type": "code",
   "execution_count": null,
   "id": "416e74e2",
   "metadata": {},
   "outputs": [],
   "source": [
    "df1"
   ]
  },
  {
   "cell_type": "code",
   "execution_count": 121,
   "id": "e6d3e0e5",
   "metadata": {},
   "outputs": [
    {
     "data": {
      "text/plain": [
       "NCR_Leagles    1935\n",
       "Name: EmpCnt, dtype: int64"
      ]
     },
     "execution_count": 121,
     "metadata": {},
     "output_type": "execute_result"
    }
   ],
   "source": [
    "df1['NCR_Leagles':'NCR_Leagles']['EmpCnt']"
   ]
  },
  {
   "cell_type": "code",
   "execution_count": 122,
   "id": "b02efd6a",
   "metadata": {},
   "outputs": [
    {
     "data": {
      "text/plain": [
       "1935"
      ]
     },
     "execution_count": 122,
     "metadata": {},
     "output_type": "execute_result"
    }
   ],
   "source": [
    "df1['EmpCnt']['NCR_Leagles']"
   ]
  },
  {
   "cell_type": "markdown",
   "id": "64c359db",
   "metadata": {},
   "source": [
    "Integer location based access"
   ]
  },
  {
   "cell_type": "code",
   "execution_count": 123,
   "id": "40154c0e",
   "metadata": {},
   "outputs": [
    {
     "data": {
      "text/html": [
       "<div>\n",
       "<style scoped>\n",
       "    .dataframe tbody tr th:only-of-type {\n",
       "        vertical-align: middle;\n",
       "    }\n",
       "\n",
       "    .dataframe tbody tr th {\n",
       "        vertical-align: top;\n",
       "    }\n",
       "\n",
       "    .dataframe thead th {\n",
       "        text-align: right;\n",
       "    }\n",
       "</style>\n",
       "<table border=\"1\" class=\"dataframe\">\n",
       "  <thead>\n",
       "    <tr style=\"text-align: right;\">\n",
       "      <th></th>\n",
       "      <th>Vol</th>\n",
       "      <th>Rev</th>\n",
       "      <th>Exp</th>\n",
       "      <th>Sector</th>\n",
       "      <th>EmpCnt</th>\n",
       "      <th>HQ</th>\n",
       "      <th>MNC</th>\n",
       "      <th>StockID</th>\n",
       "      <th>GST</th>\n",
       "      <th>Started</th>\n",
       "    </tr>\n",
       "  </thead>\n",
       "  <tbody>\n",
       "    <tr>\n",
       "      <th>Kolkata_FMCG</th>\n",
       "      <td>925</td>\n",
       "      <td>874.4</td>\n",
       "      <td>676</td>\n",
       "      <td>Pub</td>\n",
       "      <td>1379</td>\n",
       "      <td>Kol</td>\n",
       "      <td>1</td>\n",
       "      <td>KFMC</td>\n",
       "      <td>Goods</td>\n",
       "      <td>Jan 1920</td>\n",
       "    </tr>\n",
       "    <tr>\n",
       "      <th>NCR_Leagles</th>\n",
       "      <td>931</td>\n",
       "      <td>863.5</td>\n",
       "      <td>605</td>\n",
       "      <td>Pub</td>\n",
       "      <td>1935</td>\n",
       "      <td>NCR</td>\n",
       "      <td>0</td>\n",
       "      <td>NCRL</td>\n",
       "      <td>Services</td>\n",
       "      <td>Feb 1960</td>\n",
       "    </tr>\n",
       "    <tr>\n",
       "      <th>Bombay_Sporting</th>\n",
       "      <td>931</td>\n",
       "      <td>839.8</td>\n",
       "      <td>615</td>\n",
       "      <td>Pvt</td>\n",
       "      <td>154</td>\n",
       "      <td>Mum</td>\n",
       "      <td>0</td>\n",
       "      <td>SPRT</td>\n",
       "      <td>Services</td>\n",
       "      <td>Mar 1943</td>\n",
       "    </tr>\n",
       "    <tr>\n",
       "      <th>Bombay_Finance</th>\n",
       "      <td>899</td>\n",
       "      <td>917.0</td>\n",
       "      <td>674</td>\n",
       "      <td>Pub</td>\n",
       "      <td>1443</td>\n",
       "      <td>Mum</td>\n",
       "      <td>0</td>\n",
       "      <td>BFIN</td>\n",
       "      <td>Services</td>\n",
       "      <td>Apr 1925</td>\n",
       "    </tr>\n",
       "    <tr>\n",
       "      <th>Bangalore_Systems</th>\n",
       "      <td>900</td>\n",
       "      <td>881.6</td>\n",
       "      <td>650</td>\n",
       "      <td>Gov</td>\n",
       "      <td>1361</td>\n",
       "      <td>Blr</td>\n",
       "      <td>0</td>\n",
       "      <td>BSYS</td>\n",
       "      <td>Services</td>\n",
       "      <td>Apr 1950</td>\n",
       "    </tr>\n",
       "    <tr>\n",
       "      <th>Chennai_Shipping</th>\n",
       "      <td>992</td>\n",
       "      <td>821.0</td>\n",
       "      <td>665</td>\n",
       "      <td>Pub</td>\n",
       "      <td>1154</td>\n",
       "      <td>Che</td>\n",
       "      <td>1</td>\n",
       "      <td>SHIP</td>\n",
       "      <td>Services</td>\n",
       "      <td>Nov 1930</td>\n",
       "    </tr>\n",
       "    <tr>\n",
       "      <th>Bangalore_Breweries</th>\n",
       "      <td>966</td>\n",
       "      <td>805.0</td>\n",
       "      <td>895</td>\n",
       "      <td>Pvt</td>\n",
       "      <td>119</td>\n",
       "      <td>Blr</td>\n",
       "      <td>1</td>\n",
       "      <td>BREW</td>\n",
       "      <td>Goods</td>\n",
       "      <td>Oct 1971</td>\n",
       "    </tr>\n",
       "    <tr>\n",
       "      <th>Chennai_Chemicals</th>\n",
       "      <td>966</td>\n",
       "      <td>863.2</td>\n",
       "      <td>608</td>\n",
       "      <td>Pub</td>\n",
       "      <td>1656</td>\n",
       "      <td>Che</td>\n",
       "      <td>1</td>\n",
       "      <td>CHEM</td>\n",
       "      <td>Goods</td>\n",
       "      <td>Aug 1928</td>\n",
       "    </tr>\n",
       "    <tr>\n",
       "      <th>Indi_Services</th>\n",
       "      <td>954</td>\n",
       "      <td>733.0</td>\n",
       "      <td>609</td>\n",
       "      <td>Gov</td>\n",
       "      <td>13023</td>\n",
       "      <td>NCR</td>\n",
       "      <td>0</td>\n",
       "      <td>INDI</td>\n",
       "      <td>Services</td>\n",
       "      <td>Mar 1920</td>\n",
       "    </tr>\n",
       "  </tbody>\n",
       "</table>\n",
       "</div>"
      ],
      "text/plain": [
       "                     Vol    Rev  Exp Sector  EmpCnt   HQ  MNC StockID  \\\n",
       "Kolkata_FMCG         925  874.4  676    Pub    1379  Kol    1    KFMC   \n",
       "NCR_Leagles          931  863.5  605    Pub    1935  NCR    0    NCRL   \n",
       "Bombay_Sporting      931  839.8  615    Pvt     154  Mum    0    SPRT   \n",
       "Bombay_Finance       899  917.0  674    Pub    1443  Mum    0    BFIN   \n",
       "Bangalore_Systems    900  881.6  650    Gov    1361  Blr    0    BSYS   \n",
       "Chennai_Shipping     992  821.0  665    Pub    1154  Che    1    SHIP   \n",
       "Bangalore_Breweries  966  805.0  895    Pvt     119  Blr    1    BREW   \n",
       "Chennai_Chemicals    966  863.2  608    Pub    1656  Che    1    CHEM   \n",
       "Indi_Services        954  733.0  609    Gov   13023  NCR    0    INDI   \n",
       "\n",
       "                          GST   Started  \n",
       "Kolkata_FMCG            Goods  Jan 1920  \n",
       "NCR_Leagles          Services  Feb 1960  \n",
       "Bombay_Sporting      Services  Mar 1943  \n",
       "Bombay_Finance       Services  Apr 1925  \n",
       "Bangalore_Systems    Services  Apr 1950  \n",
       "Chennai_Shipping     Services  Nov 1930  \n",
       "Bangalore_Breweries     Goods  Oct 1971  \n",
       "Chennai_Chemicals       Goods  Aug 1928  \n",
       "Indi_Services        Services  Mar 1920  "
      ]
     },
     "execution_count": 123,
     "metadata": {},
     "output_type": "execute_result"
    }
   ],
   "source": [
    "df1"
   ]
  },
  {
   "cell_type": "code",
   "execution_count": 124,
   "id": "67c3bd09",
   "metadata": {},
   "outputs": [
    {
     "data": {
      "text/plain": [
       "Vol             925\n",
       "Rev           874.4\n",
       "Exp             676\n",
       "Sector          Pub\n",
       "EmpCnt         1379\n",
       "HQ              Kol\n",
       "MNC               1\n",
       "StockID        KFMC\n",
       "GST           Goods\n",
       "Started    Jan 1920\n",
       "Name: Kolkata_FMCG, dtype: object"
      ]
     },
     "execution_count": 124,
     "metadata": {},
     "output_type": "execute_result"
    }
   ],
   "source": [
    "df1.iloc[0]"
   ]
  },
  {
   "cell_type": "code",
   "execution_count": 125,
   "id": "c9b99dd8",
   "metadata": {},
   "outputs": [
    {
     "data": {
      "text/plain": [
       "925"
      ]
     },
     "execution_count": 125,
     "metadata": {},
     "output_type": "execute_result"
    }
   ],
   "source": [
    "df1.iloc[0,0]"
   ]
  },
  {
   "cell_type": "code",
   "execution_count": null,
   "id": "734fe5fb",
   "metadata": {},
   "outputs": [],
   "source": [
    "df1.iloc['Kolkata_FMCG']   ## Error"
   ]
  },
  {
   "cell_type": "code",
   "execution_count": null,
   "id": "5c7a379f",
   "metadata": {},
   "outputs": [],
   "source": [
    "df1"
   ]
  },
  {
   "cell_type": "code",
   "execution_count": 126,
   "id": "278d3218",
   "metadata": {},
   "outputs": [
    {
     "data": {
      "text/html": [
       "<div>\n",
       "<style scoped>\n",
       "    .dataframe tbody tr th:only-of-type {\n",
       "        vertical-align: middle;\n",
       "    }\n",
       "\n",
       "    .dataframe tbody tr th {\n",
       "        vertical-align: top;\n",
       "    }\n",
       "\n",
       "    .dataframe thead th {\n",
       "        text-align: right;\n",
       "    }\n",
       "</style>\n",
       "<table border=\"1\" class=\"dataframe\">\n",
       "  <thead>\n",
       "    <tr style=\"text-align: right;\">\n",
       "      <th></th>\n",
       "      <th>Vol</th>\n",
       "      <th>Rev</th>\n",
       "      <th>Exp</th>\n",
       "      <th>Sector</th>\n",
       "      <th>EmpCnt</th>\n",
       "      <th>HQ</th>\n",
       "      <th>MNC</th>\n",
       "      <th>StockID</th>\n",
       "      <th>GST</th>\n",
       "      <th>Started</th>\n",
       "    </tr>\n",
       "  </thead>\n",
       "  <tbody>\n",
       "    <tr>\n",
       "      <th>Bombay_Sporting</th>\n",
       "      <td>931</td>\n",
       "      <td>839.8</td>\n",
       "      <td>615</td>\n",
       "      <td>Pvt</td>\n",
       "      <td>154</td>\n",
       "      <td>Mum</td>\n",
       "      <td>0</td>\n",
       "      <td>SPRT</td>\n",
       "      <td>Services</td>\n",
       "      <td>Mar 1943</td>\n",
       "    </tr>\n",
       "    <tr>\n",
       "      <th>Bangalore_Systems</th>\n",
       "      <td>900</td>\n",
       "      <td>881.6</td>\n",
       "      <td>650</td>\n",
       "      <td>Gov</td>\n",
       "      <td>1361</td>\n",
       "      <td>Blr</td>\n",
       "      <td>0</td>\n",
       "      <td>BSYS</td>\n",
       "      <td>Services</td>\n",
       "      <td>Apr 1950</td>\n",
       "    </tr>\n",
       "    <tr>\n",
       "      <th>Bangalore_Breweries</th>\n",
       "      <td>966</td>\n",
       "      <td>805.0</td>\n",
       "      <td>895</td>\n",
       "      <td>Pvt</td>\n",
       "      <td>119</td>\n",
       "      <td>Blr</td>\n",
       "      <td>1</td>\n",
       "      <td>BREW</td>\n",
       "      <td>Goods</td>\n",
       "      <td>Oct 1971</td>\n",
       "    </tr>\n",
       "  </tbody>\n",
       "</table>\n",
       "</div>"
      ],
      "text/plain": [
       "                     Vol    Rev  Exp Sector  EmpCnt   HQ  MNC StockID  \\\n",
       "Bombay_Sporting      931  839.8  615    Pvt     154  Mum    0    SPRT   \n",
       "Bangalore_Systems    900  881.6  650    Gov    1361  Blr    0    BSYS   \n",
       "Bangalore_Breweries  966  805.0  895    Pvt     119  Blr    1    BREW   \n",
       "\n",
       "                          GST   Started  \n",
       "Bombay_Sporting      Services  Mar 1943  \n",
       "Bangalore_Systems    Services  Apr 1950  \n",
       "Bangalore_Breweries     Goods  Oct 1971  "
      ]
     },
     "execution_count": 126,
     "metadata": {},
     "output_type": "execute_result"
    }
   ],
   "source": [
    "df1.iloc[2:8:2]  ##  2:8:2  2,4,6,   ####  8,10,12..."
   ]
  },
  {
   "cell_type": "code",
   "execution_count": 127,
   "id": "a9c65a7d",
   "metadata": {},
   "outputs": [
    {
     "data": {
      "text/html": [
       "<div>\n",
       "<style scoped>\n",
       "    .dataframe tbody tr th:only-of-type {\n",
       "        vertical-align: middle;\n",
       "    }\n",
       "\n",
       "    .dataframe tbody tr th {\n",
       "        vertical-align: top;\n",
       "    }\n",
       "\n",
       "    .dataframe thead th {\n",
       "        text-align: right;\n",
       "    }\n",
       "</style>\n",
       "<table border=\"1\" class=\"dataframe\">\n",
       "  <thead>\n",
       "    <tr style=\"text-align: right;\">\n",
       "      <th></th>\n",
       "      <th>Exp</th>\n",
       "      <th>Sector</th>\n",
       "      <th>EmpCnt</th>\n",
       "    </tr>\n",
       "  </thead>\n",
       "  <tbody>\n",
       "    <tr>\n",
       "      <th>Bombay_Sporting</th>\n",
       "      <td>615</td>\n",
       "      <td>Pvt</td>\n",
       "      <td>154</td>\n",
       "    </tr>\n",
       "    <tr>\n",
       "      <th>Bombay_Finance</th>\n",
       "      <td>674</td>\n",
       "      <td>Pub</td>\n",
       "      <td>1443</td>\n",
       "    </tr>\n",
       "    <tr>\n",
       "      <th>Bangalore_Systems</th>\n",
       "      <td>650</td>\n",
       "      <td>Gov</td>\n",
       "      <td>1361</td>\n",
       "    </tr>\n",
       "    <tr>\n",
       "      <th>Chennai_Shipping</th>\n",
       "      <td>665</td>\n",
       "      <td>Pub</td>\n",
       "      <td>1154</td>\n",
       "    </tr>\n",
       "    <tr>\n",
       "      <th>Bangalore_Breweries</th>\n",
       "      <td>895</td>\n",
       "      <td>Pvt</td>\n",
       "      <td>119</td>\n",
       "    </tr>\n",
       "  </tbody>\n",
       "</table>\n",
       "</div>"
      ],
      "text/plain": [
       "                     Exp Sector  EmpCnt\n",
       "Bombay_Sporting      615    Pvt     154\n",
       "Bombay_Finance       674    Pub    1443\n",
       "Bangalore_Systems    650    Gov    1361\n",
       "Chennai_Shipping     665    Pub    1154\n",
       "Bangalore_Breweries  895    Pvt     119"
      ]
     },
     "execution_count": 127,
     "metadata": {},
     "output_type": "execute_result"
    }
   ],
   "source": [
    "df1.iloc[2:7,  2:5]"
   ]
  },
  {
   "cell_type": "code",
   "execution_count": null,
   "id": "62771b85",
   "metadata": {},
   "outputs": [],
   "source": [
    "df1"
   ]
  },
  {
   "cell_type": "code",
   "execution_count": 128,
   "id": "55ee70c6",
   "metadata": {},
   "outputs": [
    {
     "data": {
      "text/html": [
       "<div>\n",
       "<style scoped>\n",
       "    .dataframe tbody tr th:only-of-type {\n",
       "        vertical-align: middle;\n",
       "    }\n",
       "\n",
       "    .dataframe tbody tr th {\n",
       "        vertical-align: top;\n",
       "    }\n",
       "\n",
       "    .dataframe thead th {\n",
       "        text-align: right;\n",
       "    }\n",
       "</style>\n",
       "<table border=\"1\" class=\"dataframe\">\n",
       "  <thead>\n",
       "    <tr style=\"text-align: right;\">\n",
       "      <th></th>\n",
       "      <th>Vol</th>\n",
       "      <th>Rev</th>\n",
       "      <th>Exp</th>\n",
       "      <th>Sector</th>\n",
       "      <th>EmpCnt</th>\n",
       "      <th>HQ</th>\n",
       "      <th>MNC</th>\n",
       "      <th>StockID</th>\n",
       "      <th>GST</th>\n",
       "      <th>Started</th>\n",
       "    </tr>\n",
       "  </thead>\n",
       "  <tbody>\n",
       "    <tr>\n",
       "      <th>NCR_Leagles</th>\n",
       "      <td>931</td>\n",
       "      <td>863.5</td>\n",
       "      <td>605</td>\n",
       "      <td>Pub</td>\n",
       "      <td>1935</td>\n",
       "      <td>NCR</td>\n",
       "      <td>0</td>\n",
       "      <td>NCRL</td>\n",
       "      <td>Services</td>\n",
       "      <td>Feb 1960</td>\n",
       "    </tr>\n",
       "    <tr>\n",
       "      <th>Bombay_Sporting</th>\n",
       "      <td>931</td>\n",
       "      <td>839.8</td>\n",
       "      <td>615</td>\n",
       "      <td>Pvt</td>\n",
       "      <td>154</td>\n",
       "      <td>Mum</td>\n",
       "      <td>0</td>\n",
       "      <td>SPRT</td>\n",
       "      <td>Services</td>\n",
       "      <td>Mar 1943</td>\n",
       "    </tr>\n",
       "    <tr>\n",
       "      <th>Bangalore_Breweries</th>\n",
       "      <td>966</td>\n",
       "      <td>805.0</td>\n",
       "      <td>895</td>\n",
       "      <td>Pvt</td>\n",
       "      <td>119</td>\n",
       "      <td>Blr</td>\n",
       "      <td>1</td>\n",
       "      <td>BREW</td>\n",
       "      <td>Goods</td>\n",
       "      <td>Oct 1971</td>\n",
       "    </tr>\n",
       "    <tr>\n",
       "      <th>Indi_Services</th>\n",
       "      <td>954</td>\n",
       "      <td>733.0</td>\n",
       "      <td>609</td>\n",
       "      <td>Gov</td>\n",
       "      <td>13023</td>\n",
       "      <td>NCR</td>\n",
       "      <td>0</td>\n",
       "      <td>INDI</td>\n",
       "      <td>Services</td>\n",
       "      <td>Mar 1920</td>\n",
       "    </tr>\n",
       "  </tbody>\n",
       "</table>\n",
       "</div>"
      ],
      "text/plain": [
       "                     Vol    Rev  Exp Sector  EmpCnt   HQ  MNC StockID  \\\n",
       "NCR_Leagles          931  863.5  605    Pub    1935  NCR    0    NCRL   \n",
       "Bombay_Sporting      931  839.8  615    Pvt     154  Mum    0    SPRT   \n",
       "Bangalore_Breweries  966  805.0  895    Pvt     119  Blr    1    BREW   \n",
       "Indi_Services        954  733.0  609    Gov   13023  NCR    0    INDI   \n",
       "\n",
       "                          GST   Started  \n",
       "NCR_Leagles          Services  Feb 1960  \n",
       "Bombay_Sporting      Services  Mar 1943  \n",
       "Bangalore_Breweries     Goods  Oct 1971  \n",
       "Indi_Services        Services  Mar 1920  "
      ]
     },
     "execution_count": 128,
     "metadata": {},
     "output_type": "execute_result"
    }
   ],
   "source": [
    "df1.iloc[  [1,2,-3,-1]  ]"
   ]
  },
  {
   "cell_type": "code",
   "execution_count": 130,
   "id": "e48e89ad",
   "metadata": {},
   "outputs": [
    {
     "data": {
      "text/html": [
       "<div>\n",
       "<style scoped>\n",
       "    .dataframe tbody tr th:only-of-type {\n",
       "        vertical-align: middle;\n",
       "    }\n",
       "\n",
       "    .dataframe tbody tr th {\n",
       "        vertical-align: top;\n",
       "    }\n",
       "\n",
       "    .dataframe thead th {\n",
       "        text-align: right;\n",
       "    }\n",
       "</style>\n",
       "<table border=\"1\" class=\"dataframe\">\n",
       "  <thead>\n",
       "    <tr style=\"text-align: right;\">\n",
       "      <th></th>\n",
       "      <th>Rev</th>\n",
       "      <th>Exp</th>\n",
       "      <th>HQ</th>\n",
       "      <th>GST</th>\n",
       "      <th>Started</th>\n",
       "    </tr>\n",
       "  </thead>\n",
       "  <tbody>\n",
       "    <tr>\n",
       "      <th>NCR_Leagles</th>\n",
       "      <td>863.5</td>\n",
       "      <td>605</td>\n",
       "      <td>NCR</td>\n",
       "      <td>Services</td>\n",
       "      <td>Feb 1960</td>\n",
       "    </tr>\n",
       "    <tr>\n",
       "      <th>Bombay_Sporting</th>\n",
       "      <td>839.8</td>\n",
       "      <td>615</td>\n",
       "      <td>Mum</td>\n",
       "      <td>Services</td>\n",
       "      <td>Mar 1943</td>\n",
       "    </tr>\n",
       "    <tr>\n",
       "      <th>Bangalore_Breweries</th>\n",
       "      <td>805.0</td>\n",
       "      <td>895</td>\n",
       "      <td>Blr</td>\n",
       "      <td>Goods</td>\n",
       "      <td>Oct 1971</td>\n",
       "    </tr>\n",
       "    <tr>\n",
       "      <th>Indi_Services</th>\n",
       "      <td>733.0</td>\n",
       "      <td>609</td>\n",
       "      <td>NCR</td>\n",
       "      <td>Services</td>\n",
       "      <td>Mar 1920</td>\n",
       "    </tr>\n",
       "  </tbody>\n",
       "</table>\n",
       "</div>"
      ],
      "text/plain": [
       "                       Rev  Exp   HQ       GST   Started\n",
       "NCR_Leagles          863.5  605  NCR  Services  Feb 1960\n",
       "Bombay_Sporting      839.8  615  Mum  Services  Mar 1943\n",
       "Bangalore_Breweries  805.0  895  Blr     Goods  Oct 1971\n",
       "Indi_Services        733.0  609  NCR  Services  Mar 1920"
      ]
     },
     "execution_count": 130,
     "metadata": {},
     "output_type": "execute_result"
    }
   ],
   "source": [
    "df1.iloc[ [1,2,-3,-1],  [1,2,5,-2,-1]  ]"
   ]
  },
  {
   "cell_type": "code",
   "execution_count": 131,
   "id": "808c23bb",
   "metadata": {},
   "outputs": [
    {
     "data": {
      "text/html": [
       "<div>\n",
       "<style scoped>\n",
       "    .dataframe tbody tr th:only-of-type {\n",
       "        vertical-align: middle;\n",
       "    }\n",
       "\n",
       "    .dataframe tbody tr th {\n",
       "        vertical-align: top;\n",
       "    }\n",
       "\n",
       "    .dataframe thead th {\n",
       "        text-align: right;\n",
       "    }\n",
       "</style>\n",
       "<table border=\"1\" class=\"dataframe\">\n",
       "  <thead>\n",
       "    <tr style=\"text-align: right;\">\n",
       "      <th></th>\n",
       "      <th>Vol</th>\n",
       "      <th>Rev</th>\n",
       "      <th>Exp</th>\n",
       "      <th>Sector</th>\n",
       "      <th>EmpCnt</th>\n",
       "      <th>HQ</th>\n",
       "      <th>MNC</th>\n",
       "      <th>StockID</th>\n",
       "      <th>GST</th>\n",
       "      <th>Started</th>\n",
       "    </tr>\n",
       "  </thead>\n",
       "  <tbody>\n",
       "    <tr>\n",
       "      <th>Kolkata_FMCG</th>\n",
       "      <td>925</td>\n",
       "      <td>874.4</td>\n",
       "      <td>676</td>\n",
       "      <td>Pub</td>\n",
       "      <td>1379</td>\n",
       "      <td>Kol</td>\n",
       "      <td>1</td>\n",
       "      <td>KFMC</td>\n",
       "      <td>Goods</td>\n",
       "      <td>Jan 1920</td>\n",
       "    </tr>\n",
       "    <tr>\n",
       "      <th>NCR_Leagles</th>\n",
       "      <td>931</td>\n",
       "      <td>863.5</td>\n",
       "      <td>605</td>\n",
       "      <td>Pub</td>\n",
       "      <td>1935</td>\n",
       "      <td>NCR</td>\n",
       "      <td>0</td>\n",
       "      <td>NCRL</td>\n",
       "      <td>Services</td>\n",
       "      <td>Feb 1960</td>\n",
       "    </tr>\n",
       "    <tr>\n",
       "      <th>Bombay_Sporting</th>\n",
       "      <td>931</td>\n",
       "      <td>839.8</td>\n",
       "      <td>615</td>\n",
       "      <td>Pvt</td>\n",
       "      <td>154</td>\n",
       "      <td>Mum</td>\n",
       "      <td>0</td>\n",
       "      <td>SPRT</td>\n",
       "      <td>Services</td>\n",
       "      <td>Mar 1943</td>\n",
       "    </tr>\n",
       "    <tr>\n",
       "      <th>Bombay_Finance</th>\n",
       "      <td>899</td>\n",
       "      <td>917.0</td>\n",
       "      <td>674</td>\n",
       "      <td>Pub</td>\n",
       "      <td>1443</td>\n",
       "      <td>Mum</td>\n",
       "      <td>0</td>\n",
       "      <td>BFIN</td>\n",
       "      <td>Services</td>\n",
       "      <td>Apr 1925</td>\n",
       "    </tr>\n",
       "    <tr>\n",
       "      <th>Bangalore_Systems</th>\n",
       "      <td>900</td>\n",
       "      <td>881.6</td>\n",
       "      <td>650</td>\n",
       "      <td>Gov</td>\n",
       "      <td>1361</td>\n",
       "      <td>Blr</td>\n",
       "      <td>0</td>\n",
       "      <td>BSYS</td>\n",
       "      <td>Services</td>\n",
       "      <td>Apr 1950</td>\n",
       "    </tr>\n",
       "    <tr>\n",
       "      <th>Chennai_Shipping</th>\n",
       "      <td>992</td>\n",
       "      <td>821.0</td>\n",
       "      <td>665</td>\n",
       "      <td>Pub</td>\n",
       "      <td>1154</td>\n",
       "      <td>Che</td>\n",
       "      <td>1</td>\n",
       "      <td>SHIP</td>\n",
       "      <td>Services</td>\n",
       "      <td>Nov 1930</td>\n",
       "    </tr>\n",
       "    <tr>\n",
       "      <th>Bangalore_Breweries</th>\n",
       "      <td>966</td>\n",
       "      <td>805.0</td>\n",
       "      <td>895</td>\n",
       "      <td>Pvt</td>\n",
       "      <td>119</td>\n",
       "      <td>Blr</td>\n",
       "      <td>1</td>\n",
       "      <td>BREW</td>\n",
       "      <td>Goods</td>\n",
       "      <td>Oct 1971</td>\n",
       "    </tr>\n",
       "    <tr>\n",
       "      <th>Chennai_Chemicals</th>\n",
       "      <td>966</td>\n",
       "      <td>863.2</td>\n",
       "      <td>608</td>\n",
       "      <td>Pub</td>\n",
       "      <td>1656</td>\n",
       "      <td>Che</td>\n",
       "      <td>1</td>\n",
       "      <td>CHEM</td>\n",
       "      <td>Goods</td>\n",
       "      <td>Aug 1928</td>\n",
       "    </tr>\n",
       "    <tr>\n",
       "      <th>Indi_Services</th>\n",
       "      <td>954</td>\n",
       "      <td>733.0</td>\n",
       "      <td>609</td>\n",
       "      <td>Gov</td>\n",
       "      <td>13023</td>\n",
       "      <td>NCR</td>\n",
       "      <td>0</td>\n",
       "      <td>INDI</td>\n",
       "      <td>Services</td>\n",
       "      <td>Mar 1920</td>\n",
       "    </tr>\n",
       "  </tbody>\n",
       "</table>\n",
       "</div>"
      ],
      "text/plain": [
       "                     Vol    Rev  Exp Sector  EmpCnt   HQ  MNC StockID  \\\n",
       "Kolkata_FMCG         925  874.4  676    Pub    1379  Kol    1    KFMC   \n",
       "NCR_Leagles          931  863.5  605    Pub    1935  NCR    0    NCRL   \n",
       "Bombay_Sporting      931  839.8  615    Pvt     154  Mum    0    SPRT   \n",
       "Bombay_Finance       899  917.0  674    Pub    1443  Mum    0    BFIN   \n",
       "Bangalore_Systems    900  881.6  650    Gov    1361  Blr    0    BSYS   \n",
       "Chennai_Shipping     992  821.0  665    Pub    1154  Che    1    SHIP   \n",
       "Bangalore_Breweries  966  805.0  895    Pvt     119  Blr    1    BREW   \n",
       "Chennai_Chemicals    966  863.2  608    Pub    1656  Che    1    CHEM   \n",
       "Indi_Services        954  733.0  609    Gov   13023  NCR    0    INDI   \n",
       "\n",
       "                          GST   Started  \n",
       "Kolkata_FMCG            Goods  Jan 1920  \n",
       "NCR_Leagles          Services  Feb 1960  \n",
       "Bombay_Sporting      Services  Mar 1943  \n",
       "Bombay_Finance       Services  Apr 1925  \n",
       "Bangalore_Systems    Services  Apr 1950  \n",
       "Chennai_Shipping     Services  Nov 1930  \n",
       "Bangalore_Breweries     Goods  Oct 1971  \n",
       "Chennai_Chemicals       Goods  Aug 1928  \n",
       "Indi_Services        Services  Mar 1920  "
      ]
     },
     "execution_count": 131,
     "metadata": {},
     "output_type": "execute_result"
    }
   ],
   "source": [
    "df1"
   ]
  },
  {
   "cell_type": "code",
   "execution_count": 132,
   "id": "0f446cb8",
   "metadata": {},
   "outputs": [
    {
     "data": {
      "text/html": [
       "<div>\n",
       "<style scoped>\n",
       "    .dataframe tbody tr th:only-of-type {\n",
       "        vertical-align: middle;\n",
       "    }\n",
       "\n",
       "    .dataframe tbody tr th {\n",
       "        vertical-align: top;\n",
       "    }\n",
       "\n",
       "    .dataframe thead th {\n",
       "        text-align: right;\n",
       "    }\n",
       "</style>\n",
       "<table border=\"1\" class=\"dataframe\">\n",
       "  <thead>\n",
       "    <tr style=\"text-align: right;\">\n",
       "      <th></th>\n",
       "      <th>EmpCnt</th>\n",
       "      <th>HQ</th>\n",
       "    </tr>\n",
       "  </thead>\n",
       "  <tbody>\n",
       "    <tr>\n",
       "      <th>Kolkata_FMCG</th>\n",
       "      <td>1379</td>\n",
       "      <td>Kol</td>\n",
       "    </tr>\n",
       "    <tr>\n",
       "      <th>NCR_Leagles</th>\n",
       "      <td>1935</td>\n",
       "      <td>NCR</td>\n",
       "    </tr>\n",
       "    <tr>\n",
       "      <th>Bombay_Sporting</th>\n",
       "      <td>154</td>\n",
       "      <td>Mum</td>\n",
       "    </tr>\n",
       "    <tr>\n",
       "      <th>Bombay_Finance</th>\n",
       "      <td>1443</td>\n",
       "      <td>Mum</td>\n",
       "    </tr>\n",
       "    <tr>\n",
       "      <th>Bangalore_Systems</th>\n",
       "      <td>1361</td>\n",
       "      <td>Blr</td>\n",
       "    </tr>\n",
       "    <tr>\n",
       "      <th>Chennai_Shipping</th>\n",
       "      <td>1154</td>\n",
       "      <td>Che</td>\n",
       "    </tr>\n",
       "    <tr>\n",
       "      <th>Bangalore_Breweries</th>\n",
       "      <td>119</td>\n",
       "      <td>Blr</td>\n",
       "    </tr>\n",
       "    <tr>\n",
       "      <th>Chennai_Chemicals</th>\n",
       "      <td>1656</td>\n",
       "      <td>Che</td>\n",
       "    </tr>\n",
       "    <tr>\n",
       "      <th>Indi_Services</th>\n",
       "      <td>13023</td>\n",
       "      <td>NCR</td>\n",
       "    </tr>\n",
       "  </tbody>\n",
       "</table>\n",
       "</div>"
      ],
      "text/plain": [
       "                     EmpCnt   HQ\n",
       "Kolkata_FMCG           1379  Kol\n",
       "NCR_Leagles            1935  NCR\n",
       "Bombay_Sporting         154  Mum\n",
       "Bombay_Finance         1443  Mum\n",
       "Bangalore_Systems      1361  Blr\n",
       "Chennai_Shipping       1154  Che\n",
       "Bangalore_Breweries     119  Blr\n",
       "Chennai_Chemicals      1656  Che\n",
       "Indi_Services         13023  NCR"
      ]
     },
     "execution_count": 132,
     "metadata": {},
     "output_type": "execute_result"
    }
   ],
   "source": [
    "df1.iloc[ : ,  [4,5]]"
   ]
  },
  {
   "cell_type": "markdown",
   "id": "529ea438",
   "metadata": {},
   "source": [
    "Label based Access"
   ]
  },
  {
   "cell_type": "code",
   "execution_count": null,
   "id": "6119c4c9",
   "metadata": {},
   "outputs": [],
   "source": [
    "df1"
   ]
  },
  {
   "cell_type": "code",
   "execution_count": null,
   "id": "e3585105",
   "metadata": {},
   "outputs": [],
   "source": [
    "df1.loc[0]  ##  Error"
   ]
  },
  {
   "cell_type": "code",
   "execution_count": 133,
   "id": "6479e5b4",
   "metadata": {},
   "outputs": [
    {
     "data": {
      "text/html": [
       "<div>\n",
       "<style scoped>\n",
       "    .dataframe tbody tr th:only-of-type {\n",
       "        vertical-align: middle;\n",
       "    }\n",
       "\n",
       "    .dataframe tbody tr th {\n",
       "        vertical-align: top;\n",
       "    }\n",
       "\n",
       "    .dataframe thead th {\n",
       "        text-align: right;\n",
       "    }\n",
       "</style>\n",
       "<table border=\"1\" class=\"dataframe\">\n",
       "  <thead>\n",
       "    <tr style=\"text-align: right;\">\n",
       "      <th></th>\n",
       "      <th>Vol</th>\n",
       "      <th>Rev</th>\n",
       "      <th>Exp</th>\n",
       "      <th>Sector</th>\n",
       "      <th>EmpCnt</th>\n",
       "      <th>HQ</th>\n",
       "      <th>MNC</th>\n",
       "      <th>StockID</th>\n",
       "      <th>GST</th>\n",
       "      <th>Started</th>\n",
       "    </tr>\n",
       "  </thead>\n",
       "  <tbody>\n",
       "    <tr>\n",
       "      <th>Kolkata_FMCG</th>\n",
       "      <td>925</td>\n",
       "      <td>874.4</td>\n",
       "      <td>676</td>\n",
       "      <td>Pub</td>\n",
       "      <td>1379</td>\n",
       "      <td>Kol</td>\n",
       "      <td>1</td>\n",
       "      <td>KFMC</td>\n",
       "      <td>Goods</td>\n",
       "      <td>Jan 1920</td>\n",
       "    </tr>\n",
       "    <tr>\n",
       "      <th>NCR_Leagles</th>\n",
       "      <td>931</td>\n",
       "      <td>863.5</td>\n",
       "      <td>605</td>\n",
       "      <td>Pub</td>\n",
       "      <td>1935</td>\n",
       "      <td>NCR</td>\n",
       "      <td>0</td>\n",
       "      <td>NCRL</td>\n",
       "      <td>Services</td>\n",
       "      <td>Feb 1960</td>\n",
       "    </tr>\n",
       "    <tr>\n",
       "      <th>Bombay_Sporting</th>\n",
       "      <td>931</td>\n",
       "      <td>839.8</td>\n",
       "      <td>615</td>\n",
       "      <td>Pvt</td>\n",
       "      <td>154</td>\n",
       "      <td>Mum</td>\n",
       "      <td>0</td>\n",
       "      <td>SPRT</td>\n",
       "      <td>Services</td>\n",
       "      <td>Mar 1943</td>\n",
       "    </tr>\n",
       "    <tr>\n",
       "      <th>Bombay_Finance</th>\n",
       "      <td>899</td>\n",
       "      <td>917.0</td>\n",
       "      <td>674</td>\n",
       "      <td>Pub</td>\n",
       "      <td>1443</td>\n",
       "      <td>Mum</td>\n",
       "      <td>0</td>\n",
       "      <td>BFIN</td>\n",
       "      <td>Services</td>\n",
       "      <td>Apr 1925</td>\n",
       "    </tr>\n",
       "    <tr>\n",
       "      <th>Bangalore_Systems</th>\n",
       "      <td>900</td>\n",
       "      <td>881.6</td>\n",
       "      <td>650</td>\n",
       "      <td>Gov</td>\n",
       "      <td>1361</td>\n",
       "      <td>Blr</td>\n",
       "      <td>0</td>\n",
       "      <td>BSYS</td>\n",
       "      <td>Services</td>\n",
       "      <td>Apr 1950</td>\n",
       "    </tr>\n",
       "    <tr>\n",
       "      <th>Chennai_Shipping</th>\n",
       "      <td>992</td>\n",
       "      <td>821.0</td>\n",
       "      <td>665</td>\n",
       "      <td>Pub</td>\n",
       "      <td>1154</td>\n",
       "      <td>Che</td>\n",
       "      <td>1</td>\n",
       "      <td>SHIP</td>\n",
       "      <td>Services</td>\n",
       "      <td>Nov 1930</td>\n",
       "    </tr>\n",
       "    <tr>\n",
       "      <th>Bangalore_Breweries</th>\n",
       "      <td>966</td>\n",
       "      <td>805.0</td>\n",
       "      <td>895</td>\n",
       "      <td>Pvt</td>\n",
       "      <td>119</td>\n",
       "      <td>Blr</td>\n",
       "      <td>1</td>\n",
       "      <td>BREW</td>\n",
       "      <td>Goods</td>\n",
       "      <td>Oct 1971</td>\n",
       "    </tr>\n",
       "    <tr>\n",
       "      <th>Chennai_Chemicals</th>\n",
       "      <td>966</td>\n",
       "      <td>863.2</td>\n",
       "      <td>608</td>\n",
       "      <td>Pub</td>\n",
       "      <td>1656</td>\n",
       "      <td>Che</td>\n",
       "      <td>1</td>\n",
       "      <td>CHEM</td>\n",
       "      <td>Goods</td>\n",
       "      <td>Aug 1928</td>\n",
       "    </tr>\n",
       "    <tr>\n",
       "      <th>Indi_Services</th>\n",
       "      <td>954</td>\n",
       "      <td>733.0</td>\n",
       "      <td>609</td>\n",
       "      <td>Gov</td>\n",
       "      <td>13023</td>\n",
       "      <td>NCR</td>\n",
       "      <td>0</td>\n",
       "      <td>INDI</td>\n",
       "      <td>Services</td>\n",
       "      <td>Mar 1920</td>\n",
       "    </tr>\n",
       "  </tbody>\n",
       "</table>\n",
       "</div>"
      ],
      "text/plain": [
       "                     Vol    Rev  Exp Sector  EmpCnt   HQ  MNC StockID  \\\n",
       "Kolkata_FMCG         925  874.4  676    Pub    1379  Kol    1    KFMC   \n",
       "NCR_Leagles          931  863.5  605    Pub    1935  NCR    0    NCRL   \n",
       "Bombay_Sporting      931  839.8  615    Pvt     154  Mum    0    SPRT   \n",
       "Bombay_Finance       899  917.0  674    Pub    1443  Mum    0    BFIN   \n",
       "Bangalore_Systems    900  881.6  650    Gov    1361  Blr    0    BSYS   \n",
       "Chennai_Shipping     992  821.0  665    Pub    1154  Che    1    SHIP   \n",
       "Bangalore_Breweries  966  805.0  895    Pvt     119  Blr    1    BREW   \n",
       "Chennai_Chemicals    966  863.2  608    Pub    1656  Che    1    CHEM   \n",
       "Indi_Services        954  733.0  609    Gov   13023  NCR    0    INDI   \n",
       "\n",
       "                          GST   Started  \n",
       "Kolkata_FMCG            Goods  Jan 1920  \n",
       "NCR_Leagles          Services  Feb 1960  \n",
       "Bombay_Sporting      Services  Mar 1943  \n",
       "Bombay_Finance       Services  Apr 1925  \n",
       "Bangalore_Systems    Services  Apr 1950  \n",
       "Chennai_Shipping     Services  Nov 1930  \n",
       "Bangalore_Breweries     Goods  Oct 1971  \n",
       "Chennai_Chemicals       Goods  Aug 1928  \n",
       "Indi_Services        Services  Mar 1920  "
      ]
     },
     "execution_count": 133,
     "metadata": {},
     "output_type": "execute_result"
    }
   ],
   "source": [
    "df1"
   ]
  },
  {
   "cell_type": "code",
   "execution_count": 134,
   "id": "68292cc0",
   "metadata": {},
   "outputs": [
    {
     "data": {
      "text/plain": [
       "Vol             899\n",
       "Rev           917.0\n",
       "Exp             674\n",
       "Sector          Pub\n",
       "EmpCnt         1443\n",
       "HQ              Mum\n",
       "MNC               0\n",
       "StockID        BFIN\n",
       "GST        Services\n",
       "Started    Apr 1925\n",
       "Name: Bombay_Finance, dtype: object"
      ]
     },
     "execution_count": 134,
     "metadata": {},
     "output_type": "execute_result"
    }
   ],
   "source": [
    "df1.loc['Bombay_Finance']"
   ]
  },
  {
   "cell_type": "code",
   "execution_count": 135,
   "id": "770f6786",
   "metadata": {},
   "outputs": [
    {
     "data": {
      "text/plain": [
       "'Mum'"
      ]
     },
     "execution_count": 135,
     "metadata": {},
     "output_type": "execute_result"
    }
   ],
   "source": [
    "df1.loc['Bombay_Finance', 'HQ']"
   ]
  },
  {
   "cell_type": "code",
   "execution_count": 136,
   "id": "d785e0a8",
   "metadata": {},
   "outputs": [
    {
     "data": {
      "text/html": [
       "<div>\n",
       "<style scoped>\n",
       "    .dataframe tbody tr th:only-of-type {\n",
       "        vertical-align: middle;\n",
       "    }\n",
       "\n",
       "    .dataframe tbody tr th {\n",
       "        vertical-align: top;\n",
       "    }\n",
       "\n",
       "    .dataframe thead th {\n",
       "        text-align: right;\n",
       "    }\n",
       "</style>\n",
       "<table border=\"1\" class=\"dataframe\">\n",
       "  <thead>\n",
       "    <tr style=\"text-align: right;\">\n",
       "      <th></th>\n",
       "      <th>Vol</th>\n",
       "      <th>Rev</th>\n",
       "      <th>Exp</th>\n",
       "      <th>Sector</th>\n",
       "      <th>EmpCnt</th>\n",
       "      <th>HQ</th>\n",
       "      <th>MNC</th>\n",
       "      <th>StockID</th>\n",
       "      <th>GST</th>\n",
       "      <th>Started</th>\n",
       "    </tr>\n",
       "  </thead>\n",
       "  <tbody>\n",
       "    <tr>\n",
       "      <th>Bombay_Sporting</th>\n",
       "      <td>931</td>\n",
       "      <td>839.8</td>\n",
       "      <td>615</td>\n",
       "      <td>Pvt</td>\n",
       "      <td>154</td>\n",
       "      <td>Mum</td>\n",
       "      <td>0</td>\n",
       "      <td>SPRT</td>\n",
       "      <td>Services</td>\n",
       "      <td>Mar 1943</td>\n",
       "    </tr>\n",
       "    <tr>\n",
       "      <th>Bangalore_Systems</th>\n",
       "      <td>900</td>\n",
       "      <td>881.6</td>\n",
       "      <td>650</td>\n",
       "      <td>Gov</td>\n",
       "      <td>1361</td>\n",
       "      <td>Blr</td>\n",
       "      <td>0</td>\n",
       "      <td>BSYS</td>\n",
       "      <td>Services</td>\n",
       "      <td>Apr 1950</td>\n",
       "    </tr>\n",
       "    <tr>\n",
       "      <th>Bangalore_Breweries</th>\n",
       "      <td>966</td>\n",
       "      <td>805.0</td>\n",
       "      <td>895</td>\n",
       "      <td>Pvt</td>\n",
       "      <td>119</td>\n",
       "      <td>Blr</td>\n",
       "      <td>1</td>\n",
       "      <td>BREW</td>\n",
       "      <td>Goods</td>\n",
       "      <td>Oct 1971</td>\n",
       "    </tr>\n",
       "  </tbody>\n",
       "</table>\n",
       "</div>"
      ],
      "text/plain": [
       "                     Vol    Rev  Exp Sector  EmpCnt   HQ  MNC StockID  \\\n",
       "Bombay_Sporting      931  839.8  615    Pvt     154  Mum    0    SPRT   \n",
       "Bangalore_Systems    900  881.6  650    Gov    1361  Blr    0    BSYS   \n",
       "Bangalore_Breweries  966  805.0  895    Pvt     119  Blr    1    BREW   \n",
       "\n",
       "                          GST   Started  \n",
       "Bombay_Sporting      Services  Mar 1943  \n",
       "Bangalore_Systems    Services  Apr 1950  \n",
       "Bangalore_Breweries     Goods  Oct 1971  "
      ]
     },
     "execution_count": 136,
     "metadata": {},
     "output_type": "execute_result"
    }
   ],
   "source": [
    "df1.loc['Bombay_Sporting':'Chennai_Chemicals':2 ]"
   ]
  },
  {
   "cell_type": "code",
   "execution_count": 137,
   "id": "6f864dcb",
   "metadata": {},
   "outputs": [
    {
     "data": {
      "text/html": [
       "<div>\n",
       "<style scoped>\n",
       "    .dataframe tbody tr th:only-of-type {\n",
       "        vertical-align: middle;\n",
       "    }\n",
       "\n",
       "    .dataframe tbody tr th {\n",
       "        vertical-align: top;\n",
       "    }\n",
       "\n",
       "    .dataframe thead th {\n",
       "        text-align: right;\n",
       "    }\n",
       "</style>\n",
       "<table border=\"1\" class=\"dataframe\">\n",
       "  <thead>\n",
       "    <tr style=\"text-align: right;\">\n",
       "      <th></th>\n",
       "      <th>Rev</th>\n",
       "      <th>Exp</th>\n",
       "      <th>Sector</th>\n",
       "      <th>EmpCnt</th>\n",
       "      <th>HQ</th>\n",
       "      <th>MNC</th>\n",
       "    </tr>\n",
       "  </thead>\n",
       "  <tbody>\n",
       "    <tr>\n",
       "      <th>Bombay_Sporting</th>\n",
       "      <td>839.8</td>\n",
       "      <td>615</td>\n",
       "      <td>Pvt</td>\n",
       "      <td>154</td>\n",
       "      <td>Mum</td>\n",
       "      <td>0</td>\n",
       "    </tr>\n",
       "    <tr>\n",
       "      <th>Bangalore_Systems</th>\n",
       "      <td>881.6</td>\n",
       "      <td>650</td>\n",
       "      <td>Gov</td>\n",
       "      <td>1361</td>\n",
       "      <td>Blr</td>\n",
       "      <td>0</td>\n",
       "    </tr>\n",
       "    <tr>\n",
       "      <th>Bangalore_Breweries</th>\n",
       "      <td>805.0</td>\n",
       "      <td>895</td>\n",
       "      <td>Pvt</td>\n",
       "      <td>119</td>\n",
       "      <td>Blr</td>\n",
       "      <td>1</td>\n",
       "    </tr>\n",
       "  </tbody>\n",
       "</table>\n",
       "</div>"
      ],
      "text/plain": [
       "                       Rev  Exp Sector  EmpCnt   HQ  MNC\n",
       "Bombay_Sporting      839.8  615    Pvt     154  Mum    0\n",
       "Bangalore_Systems    881.6  650    Gov    1361  Blr    0\n",
       "Bangalore_Breweries  805.0  895    Pvt     119  Blr    1"
      ]
     },
     "execution_count": 137,
     "metadata": {},
     "output_type": "execute_result"
    }
   ],
   "source": [
    "df1.loc['Bombay_Sporting':'Chennai_Chemicals':2 ,   'Rev':'MNC']"
   ]
  },
  {
   "cell_type": "code",
   "execution_count": 138,
   "id": "29342a7e",
   "metadata": {},
   "outputs": [
    {
     "data": {
      "text/html": [
       "<div>\n",
       "<style scoped>\n",
       "    .dataframe tbody tr th:only-of-type {\n",
       "        vertical-align: middle;\n",
       "    }\n",
       "\n",
       "    .dataframe tbody tr th {\n",
       "        vertical-align: top;\n",
       "    }\n",
       "\n",
       "    .dataframe thead th {\n",
       "        text-align: right;\n",
       "    }\n",
       "</style>\n",
       "<table border=\"1\" class=\"dataframe\">\n",
       "  <thead>\n",
       "    <tr style=\"text-align: right;\">\n",
       "      <th></th>\n",
       "      <th>Vol</th>\n",
       "      <th>Rev</th>\n",
       "      <th>Exp</th>\n",
       "      <th>Sector</th>\n",
       "      <th>EmpCnt</th>\n",
       "      <th>HQ</th>\n",
       "      <th>MNC</th>\n",
       "      <th>StockID</th>\n",
       "      <th>GST</th>\n",
       "      <th>Started</th>\n",
       "    </tr>\n",
       "  </thead>\n",
       "  <tbody>\n",
       "    <tr>\n",
       "      <th>Kolkata_FMCG</th>\n",
       "      <td>925</td>\n",
       "      <td>874.4</td>\n",
       "      <td>676</td>\n",
       "      <td>Pub</td>\n",
       "      <td>1379</td>\n",
       "      <td>Kol</td>\n",
       "      <td>1</td>\n",
       "      <td>KFMC</td>\n",
       "      <td>Goods</td>\n",
       "      <td>Jan 1920</td>\n",
       "    </tr>\n",
       "    <tr>\n",
       "      <th>NCR_Leagles</th>\n",
       "      <td>931</td>\n",
       "      <td>863.5</td>\n",
       "      <td>605</td>\n",
       "      <td>Pub</td>\n",
       "      <td>1935</td>\n",
       "      <td>NCR</td>\n",
       "      <td>0</td>\n",
       "      <td>NCRL</td>\n",
       "      <td>Services</td>\n",
       "      <td>Feb 1960</td>\n",
       "    </tr>\n",
       "    <tr>\n",
       "      <th>Bombay_Sporting</th>\n",
       "      <td>931</td>\n",
       "      <td>839.8</td>\n",
       "      <td>615</td>\n",
       "      <td>Pvt</td>\n",
       "      <td>154</td>\n",
       "      <td>Mum</td>\n",
       "      <td>0</td>\n",
       "      <td>SPRT</td>\n",
       "      <td>Services</td>\n",
       "      <td>Mar 1943</td>\n",
       "    </tr>\n",
       "    <tr>\n",
       "      <th>Bombay_Finance</th>\n",
       "      <td>899</td>\n",
       "      <td>917.0</td>\n",
       "      <td>674</td>\n",
       "      <td>Pub</td>\n",
       "      <td>1443</td>\n",
       "      <td>Mum</td>\n",
       "      <td>0</td>\n",
       "      <td>BFIN</td>\n",
       "      <td>Services</td>\n",
       "      <td>Apr 1925</td>\n",
       "    </tr>\n",
       "    <tr>\n",
       "      <th>Bangalore_Systems</th>\n",
       "      <td>900</td>\n",
       "      <td>881.6</td>\n",
       "      <td>650</td>\n",
       "      <td>Gov</td>\n",
       "      <td>1361</td>\n",
       "      <td>Blr</td>\n",
       "      <td>0</td>\n",
       "      <td>BSYS</td>\n",
       "      <td>Services</td>\n",
       "      <td>Apr 1950</td>\n",
       "    </tr>\n",
       "    <tr>\n",
       "      <th>Chennai_Shipping</th>\n",
       "      <td>992</td>\n",
       "      <td>821.0</td>\n",
       "      <td>665</td>\n",
       "      <td>Pub</td>\n",
       "      <td>1154</td>\n",
       "      <td>Che</td>\n",
       "      <td>1</td>\n",
       "      <td>SHIP</td>\n",
       "      <td>Services</td>\n",
       "      <td>Nov 1930</td>\n",
       "    </tr>\n",
       "    <tr>\n",
       "      <th>Bangalore_Breweries</th>\n",
       "      <td>966</td>\n",
       "      <td>805.0</td>\n",
       "      <td>895</td>\n",
       "      <td>Pvt</td>\n",
       "      <td>119</td>\n",
       "      <td>Blr</td>\n",
       "      <td>1</td>\n",
       "      <td>BREW</td>\n",
       "      <td>Goods</td>\n",
       "      <td>Oct 1971</td>\n",
       "    </tr>\n",
       "    <tr>\n",
       "      <th>Chennai_Chemicals</th>\n",
       "      <td>966</td>\n",
       "      <td>863.2</td>\n",
       "      <td>608</td>\n",
       "      <td>Pub</td>\n",
       "      <td>1656</td>\n",
       "      <td>Che</td>\n",
       "      <td>1</td>\n",
       "      <td>CHEM</td>\n",
       "      <td>Goods</td>\n",
       "      <td>Aug 1928</td>\n",
       "    </tr>\n",
       "    <tr>\n",
       "      <th>Indi_Services</th>\n",
       "      <td>954</td>\n",
       "      <td>733.0</td>\n",
       "      <td>609</td>\n",
       "      <td>Gov</td>\n",
       "      <td>13023</td>\n",
       "      <td>NCR</td>\n",
       "      <td>0</td>\n",
       "      <td>INDI</td>\n",
       "      <td>Services</td>\n",
       "      <td>Mar 1920</td>\n",
       "    </tr>\n",
       "  </tbody>\n",
       "</table>\n",
       "</div>"
      ],
      "text/plain": [
       "                     Vol    Rev  Exp Sector  EmpCnt   HQ  MNC StockID  \\\n",
       "Kolkata_FMCG         925  874.4  676    Pub    1379  Kol    1    KFMC   \n",
       "NCR_Leagles          931  863.5  605    Pub    1935  NCR    0    NCRL   \n",
       "Bombay_Sporting      931  839.8  615    Pvt     154  Mum    0    SPRT   \n",
       "Bombay_Finance       899  917.0  674    Pub    1443  Mum    0    BFIN   \n",
       "Bangalore_Systems    900  881.6  650    Gov    1361  Blr    0    BSYS   \n",
       "Chennai_Shipping     992  821.0  665    Pub    1154  Che    1    SHIP   \n",
       "Bangalore_Breweries  966  805.0  895    Pvt     119  Blr    1    BREW   \n",
       "Chennai_Chemicals    966  863.2  608    Pub    1656  Che    1    CHEM   \n",
       "Indi_Services        954  733.0  609    Gov   13023  NCR    0    INDI   \n",
       "\n",
       "                          GST   Started  \n",
       "Kolkata_FMCG            Goods  Jan 1920  \n",
       "NCR_Leagles          Services  Feb 1960  \n",
       "Bombay_Sporting      Services  Mar 1943  \n",
       "Bombay_Finance       Services  Apr 1925  \n",
       "Bangalore_Systems    Services  Apr 1950  \n",
       "Chennai_Shipping     Services  Nov 1930  \n",
       "Bangalore_Breweries     Goods  Oct 1971  \n",
       "Chennai_Chemicals       Goods  Aug 1928  \n",
       "Indi_Services        Services  Mar 1920  "
      ]
     },
     "execution_count": 138,
     "metadata": {},
     "output_type": "execute_result"
    }
   ],
   "source": [
    "df1"
   ]
  },
  {
   "cell_type": "code",
   "execution_count": 139,
   "id": "41adac7b",
   "metadata": {},
   "outputs": [
    {
     "data": {
      "text/html": [
       "<div>\n",
       "<style scoped>\n",
       "    .dataframe tbody tr th:only-of-type {\n",
       "        vertical-align: middle;\n",
       "    }\n",
       "\n",
       "    .dataframe tbody tr th {\n",
       "        vertical-align: top;\n",
       "    }\n",
       "\n",
       "    .dataframe thead th {\n",
       "        text-align: right;\n",
       "    }\n",
       "</style>\n",
       "<table border=\"1\" class=\"dataframe\">\n",
       "  <thead>\n",
       "    <tr style=\"text-align: right;\">\n",
       "      <th></th>\n",
       "      <th>Vol</th>\n",
       "      <th>Rev</th>\n",
       "      <th>Exp</th>\n",
       "      <th>Sector</th>\n",
       "      <th>EmpCnt</th>\n",
       "      <th>HQ</th>\n",
       "      <th>MNC</th>\n",
       "      <th>StockID</th>\n",
       "      <th>GST</th>\n",
       "      <th>Started</th>\n",
       "    </tr>\n",
       "  </thead>\n",
       "  <tbody>\n",
       "    <tr>\n",
       "      <th>NCR_Leagles</th>\n",
       "      <td>931</td>\n",
       "      <td>863.5</td>\n",
       "      <td>605</td>\n",
       "      <td>Pub</td>\n",
       "      <td>1935</td>\n",
       "      <td>NCR</td>\n",
       "      <td>0</td>\n",
       "      <td>NCRL</td>\n",
       "      <td>Services</td>\n",
       "      <td>Feb 1960</td>\n",
       "    </tr>\n",
       "    <tr>\n",
       "      <th>Bombay_Sporting</th>\n",
       "      <td>931</td>\n",
       "      <td>839.8</td>\n",
       "      <td>615</td>\n",
       "      <td>Pvt</td>\n",
       "      <td>154</td>\n",
       "      <td>Mum</td>\n",
       "      <td>0</td>\n",
       "      <td>SPRT</td>\n",
       "      <td>Services</td>\n",
       "      <td>Mar 1943</td>\n",
       "    </tr>\n",
       "    <tr>\n",
       "      <th>Chennai_Chemicals</th>\n",
       "      <td>966</td>\n",
       "      <td>863.2</td>\n",
       "      <td>608</td>\n",
       "      <td>Pub</td>\n",
       "      <td>1656</td>\n",
       "      <td>Che</td>\n",
       "      <td>1</td>\n",
       "      <td>CHEM</td>\n",
       "      <td>Goods</td>\n",
       "      <td>Aug 1928</td>\n",
       "    </tr>\n",
       "    <tr>\n",
       "      <th>Indi_Services</th>\n",
       "      <td>954</td>\n",
       "      <td>733.0</td>\n",
       "      <td>609</td>\n",
       "      <td>Gov</td>\n",
       "      <td>13023</td>\n",
       "      <td>NCR</td>\n",
       "      <td>0</td>\n",
       "      <td>INDI</td>\n",
       "      <td>Services</td>\n",
       "      <td>Mar 1920</td>\n",
       "    </tr>\n",
       "  </tbody>\n",
       "</table>\n",
       "</div>"
      ],
      "text/plain": [
       "                   Vol    Rev  Exp Sector  EmpCnt   HQ  MNC StockID       GST  \\\n",
       "NCR_Leagles        931  863.5  605    Pub    1935  NCR    0    NCRL  Services   \n",
       "Bombay_Sporting    931  839.8  615    Pvt     154  Mum    0    SPRT  Services   \n",
       "Chennai_Chemicals  966  863.2  608    Pub    1656  Che    1    CHEM     Goods   \n",
       "Indi_Services      954  733.0  609    Gov   13023  NCR    0    INDI  Services   \n",
       "\n",
       "                    Started  \n",
       "NCR_Leagles        Feb 1960  \n",
       "Bombay_Sporting    Mar 1943  \n",
       "Chennai_Chemicals  Aug 1928  \n",
       "Indi_Services      Mar 1920  "
      ]
     },
     "execution_count": 139,
     "metadata": {},
     "output_type": "execute_result"
    }
   ],
   "source": [
    "df1.loc[  ['NCR_Leagles', 'Bombay_Sporting', 'Chennai_Chemicals','Indi_Services' ] ]"
   ]
  },
  {
   "cell_type": "code",
   "execution_count": 140,
   "id": "cd6da23b",
   "metadata": {},
   "outputs": [
    {
     "data": {
      "text/html": [
       "<div>\n",
       "<style scoped>\n",
       "    .dataframe tbody tr th:only-of-type {\n",
       "        vertical-align: middle;\n",
       "    }\n",
       "\n",
       "    .dataframe tbody tr th {\n",
       "        vertical-align: top;\n",
       "    }\n",
       "\n",
       "    .dataframe thead th {\n",
       "        text-align: right;\n",
       "    }\n",
       "</style>\n",
       "<table border=\"1\" class=\"dataframe\">\n",
       "  <thead>\n",
       "    <tr style=\"text-align: right;\">\n",
       "      <th></th>\n",
       "      <th>Vol</th>\n",
       "      <th>GST</th>\n",
       "      <th>HQ</th>\n",
       "    </tr>\n",
       "  </thead>\n",
       "  <tbody>\n",
       "    <tr>\n",
       "      <th>NCR_Leagles</th>\n",
       "      <td>931</td>\n",
       "      <td>Services</td>\n",
       "      <td>NCR</td>\n",
       "    </tr>\n",
       "    <tr>\n",
       "      <th>Bombay_Sporting</th>\n",
       "      <td>931</td>\n",
       "      <td>Services</td>\n",
       "      <td>Mum</td>\n",
       "    </tr>\n",
       "    <tr>\n",
       "      <th>Chennai_Chemicals</th>\n",
       "      <td>966</td>\n",
       "      <td>Goods</td>\n",
       "      <td>Che</td>\n",
       "    </tr>\n",
       "    <tr>\n",
       "      <th>Indi_Services</th>\n",
       "      <td>954</td>\n",
       "      <td>Services</td>\n",
       "      <td>NCR</td>\n",
       "    </tr>\n",
       "  </tbody>\n",
       "</table>\n",
       "</div>"
      ],
      "text/plain": [
       "                   Vol       GST   HQ\n",
       "NCR_Leagles        931  Services  NCR\n",
       "Bombay_Sporting    931  Services  Mum\n",
       "Chennai_Chemicals  966     Goods  Che\n",
       "Indi_Services      954  Services  NCR"
      ]
     },
     "execution_count": 140,
     "metadata": {},
     "output_type": "execute_result"
    }
   ],
   "source": [
    "df1.loc[  ['NCR_Leagles', 'Bombay_Sporting', 'Chennai_Chemicals','Indi_Services' ],  ['Vol','GST','HQ'] ]"
   ]
  },
  {
   "cell_type": "code",
   "execution_count": null,
   "id": "85e66ea1",
   "metadata": {},
   "outputs": [],
   "source": [
    "df1"
   ]
  },
  {
   "cell_type": "code",
   "execution_count": 141,
   "id": "5ea01794",
   "metadata": {},
   "outputs": [
    {
     "data": {
      "text/html": [
       "<div>\n",
       "<style scoped>\n",
       "    .dataframe tbody tr th:only-of-type {\n",
       "        vertical-align: middle;\n",
       "    }\n",
       "\n",
       "    .dataframe tbody tr th {\n",
       "        vertical-align: top;\n",
       "    }\n",
       "\n",
       "    .dataframe thead th {\n",
       "        text-align: right;\n",
       "    }\n",
       "</style>\n",
       "<table border=\"1\" class=\"dataframe\">\n",
       "  <thead>\n",
       "    <tr style=\"text-align: right;\">\n",
       "      <th></th>\n",
       "      <th>EmpCnt</th>\n",
       "      <th>HQ</th>\n",
       "    </tr>\n",
       "  </thead>\n",
       "  <tbody>\n",
       "    <tr>\n",
       "      <th>Kolkata_FMCG</th>\n",
       "      <td>1379</td>\n",
       "      <td>Kol</td>\n",
       "    </tr>\n",
       "    <tr>\n",
       "      <th>NCR_Leagles</th>\n",
       "      <td>1935</td>\n",
       "      <td>NCR</td>\n",
       "    </tr>\n",
       "    <tr>\n",
       "      <th>Bombay_Sporting</th>\n",
       "      <td>154</td>\n",
       "      <td>Mum</td>\n",
       "    </tr>\n",
       "    <tr>\n",
       "      <th>Bombay_Finance</th>\n",
       "      <td>1443</td>\n",
       "      <td>Mum</td>\n",
       "    </tr>\n",
       "    <tr>\n",
       "      <th>Bangalore_Systems</th>\n",
       "      <td>1361</td>\n",
       "      <td>Blr</td>\n",
       "    </tr>\n",
       "    <tr>\n",
       "      <th>Chennai_Shipping</th>\n",
       "      <td>1154</td>\n",
       "      <td>Che</td>\n",
       "    </tr>\n",
       "    <tr>\n",
       "      <th>Bangalore_Breweries</th>\n",
       "      <td>119</td>\n",
       "      <td>Blr</td>\n",
       "    </tr>\n",
       "    <tr>\n",
       "      <th>Chennai_Chemicals</th>\n",
       "      <td>1656</td>\n",
       "      <td>Che</td>\n",
       "    </tr>\n",
       "    <tr>\n",
       "      <th>Indi_Services</th>\n",
       "      <td>13023</td>\n",
       "      <td>NCR</td>\n",
       "    </tr>\n",
       "  </tbody>\n",
       "</table>\n",
       "</div>"
      ],
      "text/plain": [
       "                     EmpCnt   HQ\n",
       "Kolkata_FMCG           1379  Kol\n",
       "NCR_Leagles            1935  NCR\n",
       "Bombay_Sporting         154  Mum\n",
       "Bombay_Finance         1443  Mum\n",
       "Bangalore_Systems      1361  Blr\n",
       "Chennai_Shipping       1154  Che\n",
       "Bangalore_Breweries     119  Blr\n",
       "Chennai_Chemicals      1656  Che\n",
       "Indi_Services         13023  NCR"
      ]
     },
     "execution_count": 141,
     "metadata": {},
     "output_type": "execute_result"
    }
   ],
   "source": [
    "df1.loc[ : , ['EmpCnt','HQ']]"
   ]
  },
  {
   "cell_type": "code",
   "execution_count": 142,
   "id": "85d328d8",
   "metadata": {},
   "outputs": [
    {
     "data": {
      "text/plain": [
       "EmpCnt    1361\n",
       "HQ         Blr\n",
       "Name: Bangalore_Systems, dtype: object"
      ]
     },
     "execution_count": 142,
     "metadata": {},
     "output_type": "execute_result"
    }
   ],
   "source": [
    "df1.loc[ 'Bangalore_Systems' , ['EmpCnt','HQ']]"
   ]
  },
  {
   "cell_type": "raw",
   "id": "0acb7aef",
   "metadata": {},
   "source": [
    "#Grammer\n",
    "\n",
    "Direct Access\n",
    "integer index based Access\n",
    "label based Access\n",
    "********\n",
    "\n",
    "Direct Access:\n",
    "\n",
    "    df1[<col_name_only>]  or df1.col_name\n",
    "\n",
    "    df1[ [list of col names only] ] \n",
    "\n",
    "    df1[ row_name_only_slice ]\n",
    "\n",
    "********\n",
    "integer index based Access\n",
    "\n",
    "    df1.iloc[row_n_index]\n",
    "    df1.iloc[row_n_index, col_n_index]\n",
    "    \n",
    "    df1.iloc[row_n_slice]\n",
    "    df1.iloc[row_n_slice, col_n_slice]\n",
    "    \n",
    "    df1.iloc[ [list of row_n_indices]  ]\n",
    "    df1.iloc[ [list of row_n_indices] ,  [list of col_n_indices]  ]\n",
    "\n",
    "\n",
    "    ##combo of above\n",
    "\n",
    "********\n",
    "Label   based Access\n",
    "    df1.loc[row_label]\n",
    "    df1.loc[row_label, col_label]\n",
    "    \n",
    "    df1.loc[row_label_slice]\n",
    "    df1.loc[row_label_slice, col_label_slice]\n",
    "    \n",
    "    df1.loc[ [list of row_labels]  ]\n",
    "    df1.loc[ [list of row_labels] ,  [list of col_labels]  ]\n",
    "    \n",
    "    ## combo of above\n",
    "    \n",
    "    \n",
    "********\n",
    "Conditional Access\n",
    "\n",
    "   df1[condition]  or    df1.loc[condition]\n",
    "   \n",
    "   df1.loc[condition, column_label]\n",
    " "
   ]
  },
  {
   "cell_type": "code",
   "execution_count": null,
   "id": "377ac575",
   "metadata": {},
   "outputs": [],
   "source": [
    "df1.loc[ 'Bombay_Finance':'Chennai_Chemicals' ,  'Vol':'HQ' ]"
   ]
  },
  {
   "cell_type": "markdown",
   "id": "8942a3ec",
   "metadata": {},
   "source": [
    "Conditional Access"
   ]
  },
  {
   "cell_type": "code",
   "execution_count": null,
   "id": "f69ccfa4",
   "metadata": {},
   "outputs": [],
   "source": [
    "df1"
   ]
  },
  {
   "cell_type": "code",
   "execution_count": null,
   "id": "0090303d",
   "metadata": {},
   "outputs": [],
   "source": [
    "mask = df1.Vol > 925\n",
    "mask"
   ]
  },
  {
   "cell_type": "code",
   "execution_count": null,
   "id": "171ccf79",
   "metadata": {},
   "outputs": [],
   "source": [
    "df1[mask]"
   ]
  },
  {
   "cell_type": "code",
   "execution_count": null,
   "id": "90d604e6",
   "metadata": {},
   "outputs": [],
   "source": [
    "df1[df1.Vol > 925]"
   ]
  },
  {
   "cell_type": "code",
   "execution_count": 143,
   "id": "a008c59f",
   "metadata": {},
   "outputs": [
    {
     "data": {
      "text/html": [
       "<div>\n",
       "<style scoped>\n",
       "    .dataframe tbody tr th:only-of-type {\n",
       "        vertical-align: middle;\n",
       "    }\n",
       "\n",
       "    .dataframe tbody tr th {\n",
       "        vertical-align: top;\n",
       "    }\n",
       "\n",
       "    .dataframe thead th {\n",
       "        text-align: right;\n",
       "    }\n",
       "</style>\n",
       "<table border=\"1\" class=\"dataframe\">\n",
       "  <thead>\n",
       "    <tr style=\"text-align: right;\">\n",
       "      <th></th>\n",
       "      <th>Vol</th>\n",
       "      <th>Rev</th>\n",
       "      <th>Exp</th>\n",
       "      <th>Sector</th>\n",
       "      <th>EmpCnt</th>\n",
       "      <th>HQ</th>\n",
       "      <th>MNC</th>\n",
       "      <th>StockID</th>\n",
       "      <th>GST</th>\n",
       "      <th>Started</th>\n",
       "    </tr>\n",
       "  </thead>\n",
       "  <tbody>\n",
       "    <tr>\n",
       "      <th>NCR_Leagles</th>\n",
       "      <td>931</td>\n",
       "      <td>863.5</td>\n",
       "      <td>605</td>\n",
       "      <td>Pub</td>\n",
       "      <td>1935</td>\n",
       "      <td>NCR</td>\n",
       "      <td>0</td>\n",
       "      <td>NCRL</td>\n",
       "      <td>Services</td>\n",
       "      <td>Feb 1960</td>\n",
       "    </tr>\n",
       "    <tr>\n",
       "      <th>Chennai_Shipping</th>\n",
       "      <td>992</td>\n",
       "      <td>821.0</td>\n",
       "      <td>665</td>\n",
       "      <td>Pub</td>\n",
       "      <td>1154</td>\n",
       "      <td>Che</td>\n",
       "      <td>1</td>\n",
       "      <td>SHIP</td>\n",
       "      <td>Services</td>\n",
       "      <td>Nov 1930</td>\n",
       "    </tr>\n",
       "    <tr>\n",
       "      <th>Chennai_Chemicals</th>\n",
       "      <td>966</td>\n",
       "      <td>863.2</td>\n",
       "      <td>608</td>\n",
       "      <td>Pub</td>\n",
       "      <td>1656</td>\n",
       "      <td>Che</td>\n",
       "      <td>1</td>\n",
       "      <td>CHEM</td>\n",
       "      <td>Goods</td>\n",
       "      <td>Aug 1928</td>\n",
       "    </tr>\n",
       "  </tbody>\n",
       "</table>\n",
       "</div>"
      ],
      "text/plain": [
       "                   Vol    Rev  Exp Sector  EmpCnt   HQ  MNC StockID       GST  \\\n",
       "NCR_Leagles        931  863.5  605    Pub    1935  NCR    0    NCRL  Services   \n",
       "Chennai_Shipping   992  821.0  665    Pub    1154  Che    1    SHIP  Services   \n",
       "Chennai_Chemicals  966  863.2  608    Pub    1656  Che    1    CHEM     Goods   \n",
       "\n",
       "                    Started  \n",
       "NCR_Leagles        Feb 1960  \n",
       "Chennai_Shipping   Nov 1930  \n",
       "Chennai_Chemicals  Aug 1928  "
      ]
     },
     "execution_count": 143,
     "metadata": {},
     "output_type": "execute_result"
    }
   ],
   "source": [
    "df1[  (df1.Vol > 925) & (df1.Sector=='Pub')]"
   ]
  },
  {
   "cell_type": "code",
   "execution_count": null,
   "id": "db46d826",
   "metadata": {},
   "outputs": [],
   "source": [
    "df1"
   ]
  },
  {
   "cell_type": "code",
   "execution_count": null,
   "id": "71ad3abe",
   "metadata": {},
   "outputs": [],
   "source": [
    "df1.Vol.max()"
   ]
  },
  {
   "cell_type": "code",
   "execution_count": 144,
   "id": "3d341fba",
   "metadata": {},
   "outputs": [
    {
     "data": {
      "text/html": [
       "<div>\n",
       "<style scoped>\n",
       "    .dataframe tbody tr th:only-of-type {\n",
       "        vertical-align: middle;\n",
       "    }\n",
       "\n",
       "    .dataframe tbody tr th {\n",
       "        vertical-align: top;\n",
       "    }\n",
       "\n",
       "    .dataframe thead th {\n",
       "        text-align: right;\n",
       "    }\n",
       "</style>\n",
       "<table border=\"1\" class=\"dataframe\">\n",
       "  <thead>\n",
       "    <tr style=\"text-align: right;\">\n",
       "      <th></th>\n",
       "      <th>Vol</th>\n",
       "      <th>Rev</th>\n",
       "      <th>Exp</th>\n",
       "      <th>Sector</th>\n",
       "      <th>EmpCnt</th>\n",
       "      <th>HQ</th>\n",
       "      <th>MNC</th>\n",
       "      <th>StockID</th>\n",
       "      <th>GST</th>\n",
       "      <th>Started</th>\n",
       "    </tr>\n",
       "  </thead>\n",
       "  <tbody>\n",
       "    <tr>\n",
       "      <th>Chennai_Shipping</th>\n",
       "      <td>992</td>\n",
       "      <td>821.0</td>\n",
       "      <td>665</td>\n",
       "      <td>Pub</td>\n",
       "      <td>1154</td>\n",
       "      <td>Che</td>\n",
       "      <td>1</td>\n",
       "      <td>SHIP</td>\n",
       "      <td>Services</td>\n",
       "      <td>Nov 1930</td>\n",
       "    </tr>\n",
       "  </tbody>\n",
       "</table>\n",
       "</div>"
      ],
      "text/plain": [
       "                  Vol    Rev  Exp Sector  EmpCnt   HQ  MNC StockID       GST  \\\n",
       "Chennai_Shipping  992  821.0  665    Pub    1154  Che    1    SHIP  Services   \n",
       "\n",
       "                   Started  \n",
       "Chennai_Shipping  Nov 1930  "
      ]
     },
     "execution_count": 144,
     "metadata": {},
     "output_type": "execute_result"
    }
   ],
   "source": [
    "df1[df1.Vol == df1.Vol.max()]"
   ]
  },
  {
   "cell_type": "code",
   "execution_count": 145,
   "id": "25980c64",
   "metadata": {},
   "outputs": [
    {
     "data": {
      "text/plain": [
       "940.4444444444445"
      ]
     },
     "execution_count": 145,
     "metadata": {},
     "output_type": "execute_result"
    }
   ],
   "source": [
    "df1.Vol.mean()"
   ]
  },
  {
   "cell_type": "code",
   "execution_count": 146,
   "id": "9ef349a6",
   "metadata": {},
   "outputs": [
    {
     "data": {
      "text/html": [
       "<div>\n",
       "<style scoped>\n",
       "    .dataframe tbody tr th:only-of-type {\n",
       "        vertical-align: middle;\n",
       "    }\n",
       "\n",
       "    .dataframe tbody tr th {\n",
       "        vertical-align: top;\n",
       "    }\n",
       "\n",
       "    .dataframe thead th {\n",
       "        text-align: right;\n",
       "    }\n",
       "</style>\n",
       "<table border=\"1\" class=\"dataframe\">\n",
       "  <thead>\n",
       "    <tr style=\"text-align: right;\">\n",
       "      <th></th>\n",
       "      <th>Vol</th>\n",
       "      <th>Rev</th>\n",
       "      <th>Exp</th>\n",
       "      <th>Sector</th>\n",
       "      <th>EmpCnt</th>\n",
       "      <th>HQ</th>\n",
       "      <th>MNC</th>\n",
       "      <th>StockID</th>\n",
       "      <th>GST</th>\n",
       "      <th>Started</th>\n",
       "    </tr>\n",
       "  </thead>\n",
       "  <tbody>\n",
       "    <tr>\n",
       "      <th>Chennai_Shipping</th>\n",
       "      <td>992</td>\n",
       "      <td>821.0</td>\n",
       "      <td>665</td>\n",
       "      <td>Pub</td>\n",
       "      <td>1154</td>\n",
       "      <td>Che</td>\n",
       "      <td>1</td>\n",
       "      <td>SHIP</td>\n",
       "      <td>Services</td>\n",
       "      <td>Nov 1930</td>\n",
       "    </tr>\n",
       "    <tr>\n",
       "      <th>Bangalore_Breweries</th>\n",
       "      <td>966</td>\n",
       "      <td>805.0</td>\n",
       "      <td>895</td>\n",
       "      <td>Pvt</td>\n",
       "      <td>119</td>\n",
       "      <td>Blr</td>\n",
       "      <td>1</td>\n",
       "      <td>BREW</td>\n",
       "      <td>Goods</td>\n",
       "      <td>Oct 1971</td>\n",
       "    </tr>\n",
       "    <tr>\n",
       "      <th>Chennai_Chemicals</th>\n",
       "      <td>966</td>\n",
       "      <td>863.2</td>\n",
       "      <td>608</td>\n",
       "      <td>Pub</td>\n",
       "      <td>1656</td>\n",
       "      <td>Che</td>\n",
       "      <td>1</td>\n",
       "      <td>CHEM</td>\n",
       "      <td>Goods</td>\n",
       "      <td>Aug 1928</td>\n",
       "    </tr>\n",
       "    <tr>\n",
       "      <th>Indi_Services</th>\n",
       "      <td>954</td>\n",
       "      <td>733.0</td>\n",
       "      <td>609</td>\n",
       "      <td>Gov</td>\n",
       "      <td>13023</td>\n",
       "      <td>NCR</td>\n",
       "      <td>0</td>\n",
       "      <td>INDI</td>\n",
       "      <td>Services</td>\n",
       "      <td>Mar 1920</td>\n",
       "    </tr>\n",
       "  </tbody>\n",
       "</table>\n",
       "</div>"
      ],
      "text/plain": [
       "                     Vol    Rev  Exp Sector  EmpCnt   HQ  MNC StockID  \\\n",
       "Chennai_Shipping     992  821.0  665    Pub    1154  Che    1    SHIP   \n",
       "Bangalore_Breweries  966  805.0  895    Pvt     119  Blr    1    BREW   \n",
       "Chennai_Chemicals    966  863.2  608    Pub    1656  Che    1    CHEM   \n",
       "Indi_Services        954  733.0  609    Gov   13023  NCR    0    INDI   \n",
       "\n",
       "                          GST   Started  \n",
       "Chennai_Shipping     Services  Nov 1930  \n",
       "Bangalore_Breweries     Goods  Oct 1971  \n",
       "Chennai_Chemicals       Goods  Aug 1928  \n",
       "Indi_Services        Services  Mar 1920  "
      ]
     },
     "execution_count": 146,
     "metadata": {},
     "output_type": "execute_result"
    }
   ],
   "source": [
    "df1[df1.Vol >= df1.Vol.mean()]"
   ]
  },
  {
   "cell_type": "code",
   "execution_count": 149,
   "id": "3ee356ab",
   "metadata": {},
   "outputs": [
    {
     "data": {
      "text/html": [
       "<div>\n",
       "<style scoped>\n",
       "    .dataframe tbody tr th:only-of-type {\n",
       "        vertical-align: middle;\n",
       "    }\n",
       "\n",
       "    .dataframe tbody tr th {\n",
       "        vertical-align: top;\n",
       "    }\n",
       "\n",
       "    .dataframe thead th {\n",
       "        text-align: right;\n",
       "    }\n",
       "</style>\n",
       "<table border=\"1\" class=\"dataframe\">\n",
       "  <thead>\n",
       "    <tr style=\"text-align: right;\">\n",
       "      <th></th>\n",
       "      <th>Vol</th>\n",
       "      <th>Rev</th>\n",
       "      <th>Exp</th>\n",
       "      <th>Sector</th>\n",
       "      <th>EmpCnt</th>\n",
       "      <th>HQ</th>\n",
       "      <th>MNC</th>\n",
       "      <th>StockID</th>\n",
       "      <th>GST</th>\n",
       "      <th>Started</th>\n",
       "    </tr>\n",
       "  </thead>\n",
       "  <tbody>\n",
       "    <tr>\n",
       "      <th>Kolkata_FMCG</th>\n",
       "      <td>925</td>\n",
       "      <td>874.4</td>\n",
       "      <td>676</td>\n",
       "      <td>Pub</td>\n",
       "      <td>1379</td>\n",
       "      <td>Kol</td>\n",
       "      <td>1</td>\n",
       "      <td>KFMC</td>\n",
       "      <td>Goods</td>\n",
       "      <td>Jan 1920</td>\n",
       "    </tr>\n",
       "    <tr>\n",
       "      <th>NCR_Leagles</th>\n",
       "      <td>931</td>\n",
       "      <td>863.5</td>\n",
       "      <td>605</td>\n",
       "      <td>Pub</td>\n",
       "      <td>1935</td>\n",
       "      <td>NCR</td>\n",
       "      <td>0</td>\n",
       "      <td>NCRL</td>\n",
       "      <td>Services</td>\n",
       "      <td>Feb 1960</td>\n",
       "    </tr>\n",
       "    <tr>\n",
       "      <th>Bombay_Sporting</th>\n",
       "      <td>931</td>\n",
       "      <td>839.8</td>\n",
       "      <td>615</td>\n",
       "      <td>Pvt</td>\n",
       "      <td>154</td>\n",
       "      <td>Mum</td>\n",
       "      <td>0</td>\n",
       "      <td>SPRT</td>\n",
       "      <td>Services</td>\n",
       "      <td>Mar 1943</td>\n",
       "    </tr>\n",
       "    <tr>\n",
       "      <th>Bombay_Finance</th>\n",
       "      <td>899</td>\n",
       "      <td>917.0</td>\n",
       "      <td>674</td>\n",
       "      <td>Pub</td>\n",
       "      <td>1443</td>\n",
       "      <td>Mum</td>\n",
       "      <td>0</td>\n",
       "      <td>BFIN</td>\n",
       "      <td>Services</td>\n",
       "      <td>Apr 1925</td>\n",
       "    </tr>\n",
       "    <tr>\n",
       "      <th>Bangalore_Systems</th>\n",
       "      <td>900</td>\n",
       "      <td>881.6</td>\n",
       "      <td>650</td>\n",
       "      <td>Gov</td>\n",
       "      <td>1361</td>\n",
       "      <td>Blr</td>\n",
       "      <td>0</td>\n",
       "      <td>BSYS</td>\n",
       "      <td>Services</td>\n",
       "      <td>Apr 1950</td>\n",
       "    </tr>\n",
       "    <tr>\n",
       "      <th>Chennai_Shipping</th>\n",
       "      <td>992</td>\n",
       "      <td>821.0</td>\n",
       "      <td>665</td>\n",
       "      <td>Pub</td>\n",
       "      <td>1154</td>\n",
       "      <td>Che</td>\n",
       "      <td>1</td>\n",
       "      <td>SHIP</td>\n",
       "      <td>Services</td>\n",
       "      <td>Nov 1930</td>\n",
       "    </tr>\n",
       "    <tr>\n",
       "      <th>Bangalore_Breweries</th>\n",
       "      <td>966</td>\n",
       "      <td>805.0</td>\n",
       "      <td>895</td>\n",
       "      <td>Pvt</td>\n",
       "      <td>119</td>\n",
       "      <td>Blr</td>\n",
       "      <td>1</td>\n",
       "      <td>BREW</td>\n",
       "      <td>Goods</td>\n",
       "      <td>Oct 1971</td>\n",
       "    </tr>\n",
       "    <tr>\n",
       "      <th>Chennai_Chemicals</th>\n",
       "      <td>966</td>\n",
       "      <td>863.2</td>\n",
       "      <td>608</td>\n",
       "      <td>Pub</td>\n",
       "      <td>1656</td>\n",
       "      <td>Che</td>\n",
       "      <td>1</td>\n",
       "      <td>CHEM</td>\n",
       "      <td>Goods</td>\n",
       "      <td>Aug 1928</td>\n",
       "    </tr>\n",
       "    <tr>\n",
       "      <th>Indi_Services</th>\n",
       "      <td>954</td>\n",
       "      <td>733.0</td>\n",
       "      <td>609</td>\n",
       "      <td>Gov</td>\n",
       "      <td>13023</td>\n",
       "      <td>NCR</td>\n",
       "      <td>0</td>\n",
       "      <td>INDI</td>\n",
       "      <td>Services</td>\n",
       "      <td>Mar 1920</td>\n",
       "    </tr>\n",
       "  </tbody>\n",
       "</table>\n",
       "</div>"
      ],
      "text/plain": [
       "                     Vol    Rev  Exp Sector  EmpCnt   HQ  MNC StockID  \\\n",
       "Kolkata_FMCG         925  874.4  676    Pub    1379  Kol    1    KFMC   \n",
       "NCR_Leagles          931  863.5  605    Pub    1935  NCR    0    NCRL   \n",
       "Bombay_Sporting      931  839.8  615    Pvt     154  Mum    0    SPRT   \n",
       "Bombay_Finance       899  917.0  674    Pub    1443  Mum    0    BFIN   \n",
       "Bangalore_Systems    900  881.6  650    Gov    1361  Blr    0    BSYS   \n",
       "Chennai_Shipping     992  821.0  665    Pub    1154  Che    1    SHIP   \n",
       "Bangalore_Breweries  966  805.0  895    Pvt     119  Blr    1    BREW   \n",
       "Chennai_Chemicals    966  863.2  608    Pub    1656  Che    1    CHEM   \n",
       "Indi_Services        954  733.0  609    Gov   13023  NCR    0    INDI   \n",
       "\n",
       "                          GST   Started  \n",
       "Kolkata_FMCG            Goods  Jan 1920  \n",
       "NCR_Leagles          Services  Feb 1960  \n",
       "Bombay_Sporting      Services  Mar 1943  \n",
       "Bombay_Finance       Services  Apr 1925  \n",
       "Bangalore_Systems    Services  Apr 1950  \n",
       "Chennai_Shipping     Services  Nov 1930  \n",
       "Bangalore_Breweries     Goods  Oct 1971  \n",
       "Chennai_Chemicals       Goods  Aug 1928  \n",
       "Indi_Services        Services  Mar 1920  "
      ]
     },
     "execution_count": 149,
     "metadata": {},
     "output_type": "execute_result"
    }
   ],
   "source": [
    "df1"
   ]
  },
  {
   "cell_type": "code",
   "execution_count": 147,
   "id": "cd3a9da4",
   "metadata": {},
   "outputs": [
    {
     "data": {
      "text/plain": [
       "9"
      ]
     },
     "execution_count": 147,
     "metadata": {},
     "output_type": "execute_result"
    }
   ],
   "source": [
    "df1.GST.count()"
   ]
  },
  {
   "cell_type": "code",
   "execution_count": 148,
   "id": "0cbf7cc0",
   "metadata": {},
   "outputs": [
    {
     "data": {
      "text/plain": [
       "Services    6\n",
       "Goods       3\n",
       "Name: GST, dtype: int64"
      ]
     },
     "execution_count": 148,
     "metadata": {},
     "output_type": "execute_result"
    }
   ],
   "source": [
    "df1.GST.value_counts()"
   ]
  },
  {
   "cell_type": "code",
   "execution_count": null,
   "id": "c65e98f7",
   "metadata": {},
   "outputs": [],
   "source": [
    "## give the empcnt of all services companies"
   ]
  },
  {
   "cell_type": "code",
   "execution_count": 150,
   "id": "a457eba6",
   "metadata": {},
   "outputs": [
    {
     "data": {
      "text/plain": [
       "NCR_Leagles           1935\n",
       "Bombay_Sporting        154\n",
       "Bombay_Finance        1443\n",
       "Bangalore_Systems     1361\n",
       "Chennai_Shipping      1154\n",
       "Indi_Services        13023\n",
       "Name: EmpCnt, dtype: int64"
      ]
     },
     "execution_count": 150,
     "metadata": {},
     "output_type": "execute_result"
    }
   ],
   "source": [
    "df1[df1.GST == 'Services'][ 'EmpCnt']\n"
   ]
  },
  {
   "cell_type": "code",
   "execution_count": 151,
   "id": "9aa6a1ec",
   "metadata": {},
   "outputs": [
    {
     "data": {
      "text/plain": [
       "NCR_Leagles           1935\n",
       "Bombay_Sporting        154\n",
       "Bombay_Finance        1443\n",
       "Bangalore_Systems     1361\n",
       "Chennai_Shipping      1154\n",
       "Indi_Services        13023\n",
       "Name: EmpCnt, dtype: int64"
      ]
     },
     "execution_count": 151,
     "metadata": {},
     "output_type": "execute_result"
    }
   ],
   "source": [
    "df1.loc[ df1.GST == 'Services', 'EmpCnt' ]"
   ]
  },
  {
   "cell_type": "markdown",
   "id": "40dc7bda",
   "metadata": {},
   "source": [
    "Mutability"
   ]
  },
  {
   "cell_type": "code",
   "execution_count": null,
   "id": "ce95d6a5",
   "metadata": {},
   "outputs": [],
   "source": [
    "df1"
   ]
  },
  {
   "cell_type": "code",
   "execution_count": null,
   "id": "641bc170",
   "metadata": {},
   "outputs": [],
   "source": [
    "df1.loc['Bombay_Sporting', 'EmpCnt'] = 999"
   ]
  },
  {
   "cell_type": "code",
   "execution_count": null,
   "id": "e7a175ae",
   "metadata": {},
   "outputs": [],
   "source": [
    "df1"
   ]
  },
  {
   "cell_type": "code",
   "execution_count": null,
   "id": "cfde9a21",
   "metadata": {},
   "outputs": [],
   "source": [
    "df1.loc[df1.Vol > 925]"
   ]
  },
  {
   "cell_type": "code",
   "execution_count": null,
   "id": "8351a533",
   "metadata": {},
   "outputs": [],
   "source": [
    "df1.loc[df1.Vol > 925, 'Vol']"
   ]
  },
  {
   "cell_type": "code",
   "execution_count": null,
   "id": "27f867c3",
   "metadata": {},
   "outputs": [],
   "source": [
    "df1.loc[df1.Vol > 925, 'Vol'] = 999"
   ]
  },
  {
   "cell_type": "code",
   "execution_count": null,
   "id": "8952464c",
   "metadata": {},
   "outputs": [],
   "source": [
    "df1"
   ]
  },
  {
   "cell_type": "code",
   "execution_count": null,
   "id": "47ad077d",
   "metadata": {},
   "outputs": [],
   "source": [
    "df1['Profits'] = df1.Rev - df1.Exp\n",
    "df1"
   ]
  },
  {
   "cell_type": "code",
   "execution_count": null,
   "id": "b6cb3da9",
   "metadata": {},
   "outputs": [],
   "source": [
    "df1"
   ]
  },
  {
   "cell_type": "code",
   "execution_count": 152,
   "id": "3203b757",
   "metadata": {},
   "outputs": [
    {
     "data": {
      "text/html": [
       "<div>\n",
       "<style scoped>\n",
       "    .dataframe tbody tr th:only-of-type {\n",
       "        vertical-align: middle;\n",
       "    }\n",
       "\n",
       "    .dataframe tbody tr th {\n",
       "        vertical-align: top;\n",
       "    }\n",
       "\n",
       "    .dataframe thead th {\n",
       "        text-align: right;\n",
       "    }\n",
       "</style>\n",
       "<table border=\"1\" class=\"dataframe\">\n",
       "  <thead>\n",
       "    <tr style=\"text-align: right;\">\n",
       "      <th></th>\n",
       "      <th>Rev</th>\n",
       "      <th>EmpCnt</th>\n",
       "      <th>HQ</th>\n",
       "    </tr>\n",
       "  </thead>\n",
       "  <tbody>\n",
       "    <tr>\n",
       "      <th>Kolkata_FMCG</th>\n",
       "      <td>874.4</td>\n",
       "      <td>1379</td>\n",
       "      <td>Kol</td>\n",
       "    </tr>\n",
       "    <tr>\n",
       "      <th>NCR_Leagles</th>\n",
       "      <td>863.5</td>\n",
       "      <td>1935</td>\n",
       "      <td>NCR</td>\n",
       "    </tr>\n",
       "    <tr>\n",
       "      <th>Bombay_Sporting</th>\n",
       "      <td>839.8</td>\n",
       "      <td>154</td>\n",
       "      <td>Mum</td>\n",
       "    </tr>\n",
       "    <tr>\n",
       "      <th>Chennai_Shipping</th>\n",
       "      <td>821.0</td>\n",
       "      <td>1154</td>\n",
       "      <td>Che</td>\n",
       "    </tr>\n",
       "    <tr>\n",
       "      <th>Bangalore_Breweries</th>\n",
       "      <td>805.0</td>\n",
       "      <td>119</td>\n",
       "      <td>Blr</td>\n",
       "    </tr>\n",
       "    <tr>\n",
       "      <th>Chennai_Chemicals</th>\n",
       "      <td>863.2</td>\n",
       "      <td>1656</td>\n",
       "      <td>Che</td>\n",
       "    </tr>\n",
       "    <tr>\n",
       "      <th>Indi_Services</th>\n",
       "      <td>733.0</td>\n",
       "      <td>13023</td>\n",
       "      <td>NCR</td>\n",
       "    </tr>\n",
       "  </tbody>\n",
       "</table>\n",
       "</div>"
      ],
      "text/plain": [
       "                       Rev  EmpCnt   HQ\n",
       "Kolkata_FMCG         874.4    1379  Kol\n",
       "NCR_Leagles          863.5    1935  NCR\n",
       "Bombay_Sporting      839.8     154  Mum\n",
       "Chennai_Shipping     821.0    1154  Che\n",
       "Bangalore_Breweries  805.0     119  Blr\n",
       "Chennai_Chemicals    863.2    1656  Che\n",
       "Indi_Services        733.0   13023  NCR"
      ]
     },
     "execution_count": 152,
     "metadata": {},
     "output_type": "execute_result"
    }
   ],
   "source": [
    "df1.loc[df1.Vol > 900,  ['Rev', 'EmpCnt', 'HQ'] ]"
   ]
  },
  {
   "cell_type": "code",
   "execution_count": 153,
   "id": "f756878b",
   "metadata": {},
   "outputs": [
    {
     "data": {
      "text/html": [
       "<div>\n",
       "<style scoped>\n",
       "    .dataframe tbody tr th:only-of-type {\n",
       "        vertical-align: middle;\n",
       "    }\n",
       "\n",
       "    .dataframe tbody tr th {\n",
       "        vertical-align: top;\n",
       "    }\n",
       "\n",
       "    .dataframe thead th {\n",
       "        text-align: right;\n",
       "    }\n",
       "</style>\n",
       "<table border=\"1\" class=\"dataframe\">\n",
       "  <thead>\n",
       "    <tr style=\"text-align: right;\">\n",
       "      <th></th>\n",
       "      <th>Rev</th>\n",
       "      <th>EmpCnt</th>\n",
       "      <th>HQ</th>\n",
       "    </tr>\n",
       "  </thead>\n",
       "  <tbody>\n",
       "    <tr>\n",
       "      <th>Kolkata_FMCG</th>\n",
       "      <td>874.4</td>\n",
       "      <td>1379</td>\n",
       "      <td>Kol</td>\n",
       "    </tr>\n",
       "    <tr>\n",
       "      <th>NCR_Leagles</th>\n",
       "      <td>863.5</td>\n",
       "      <td>1935</td>\n",
       "      <td>NCR</td>\n",
       "    </tr>\n",
       "    <tr>\n",
       "      <th>Bombay_Sporting</th>\n",
       "      <td>839.8</td>\n",
       "      <td>154</td>\n",
       "      <td>Mum</td>\n",
       "    </tr>\n",
       "    <tr>\n",
       "      <th>Chennai_Shipping</th>\n",
       "      <td>821.0</td>\n",
       "      <td>1154</td>\n",
       "      <td>Che</td>\n",
       "    </tr>\n",
       "    <tr>\n",
       "      <th>Bangalore_Breweries</th>\n",
       "      <td>805.0</td>\n",
       "      <td>119</td>\n",
       "      <td>Blr</td>\n",
       "    </tr>\n",
       "    <tr>\n",
       "      <th>Chennai_Chemicals</th>\n",
       "      <td>863.2</td>\n",
       "      <td>1656</td>\n",
       "      <td>Che</td>\n",
       "    </tr>\n",
       "  </tbody>\n",
       "</table>\n",
       "</div>"
      ],
      "text/plain": [
       "                       Rev  EmpCnt   HQ\n",
       "Kolkata_FMCG         874.4    1379  Kol\n",
       "NCR_Leagles          863.5    1935  NCR\n",
       "Bombay_Sporting      839.8     154  Mum\n",
       "Chennai_Shipping     821.0    1154  Che\n",
       "Bangalore_Breweries  805.0     119  Blr\n",
       "Chennai_Chemicals    863.2    1656  Che"
      ]
     },
     "execution_count": 153,
     "metadata": {},
     "output_type": "execute_result"
    }
   ],
   "source": [
    "df1.loc[(df1.Vol > 900) & (df1.Rev > 800),  ['Rev', 'EmpCnt', 'HQ'] ]"
   ]
  },
  {
   "cell_type": "code",
   "execution_count": 154,
   "id": "fb598595",
   "metadata": {},
   "outputs": [
    {
     "data": {
      "text/html": [
       "<div>\n",
       "<style scoped>\n",
       "    .dataframe tbody tr th:only-of-type {\n",
       "        vertical-align: middle;\n",
       "    }\n",
       "\n",
       "    .dataframe tbody tr th {\n",
       "        vertical-align: top;\n",
       "    }\n",
       "\n",
       "    .dataframe thead th {\n",
       "        text-align: right;\n",
       "    }\n",
       "</style>\n",
       "<table border=\"1\" class=\"dataframe\">\n",
       "  <thead>\n",
       "    <tr style=\"text-align: right;\">\n",
       "      <th></th>\n",
       "      <th>Rev</th>\n",
       "      <th>EmpCnt</th>\n",
       "      <th>HQ</th>\n",
       "      <th>GST</th>\n",
       "    </tr>\n",
       "  </thead>\n",
       "  <tbody>\n",
       "    <tr>\n",
       "      <th>Kolkata_FMCG</th>\n",
       "      <td>874.4</td>\n",
       "      <td>1379</td>\n",
       "      <td>Kol</td>\n",
       "      <td>Goods</td>\n",
       "    </tr>\n",
       "    <tr>\n",
       "      <th>NCR_Leagles</th>\n",
       "      <td>863.5</td>\n",
       "      <td>1935</td>\n",
       "      <td>NCR</td>\n",
       "      <td>Services</td>\n",
       "    </tr>\n",
       "    <tr>\n",
       "      <th>Bombay_Sporting</th>\n",
       "      <td>839.8</td>\n",
       "      <td>154</td>\n",
       "      <td>Mum</td>\n",
       "      <td>Services</td>\n",
       "    </tr>\n",
       "    <tr>\n",
       "      <th>Chennai_Shipping</th>\n",
       "      <td>821.0</td>\n",
       "      <td>1154</td>\n",
       "      <td>Che</td>\n",
       "      <td>Services</td>\n",
       "    </tr>\n",
       "    <tr>\n",
       "      <th>Bangalore_Breweries</th>\n",
       "      <td>805.0</td>\n",
       "      <td>119</td>\n",
       "      <td>Blr</td>\n",
       "      <td>Goods</td>\n",
       "    </tr>\n",
       "    <tr>\n",
       "      <th>Chennai_Chemicals</th>\n",
       "      <td>863.2</td>\n",
       "      <td>1656</td>\n",
       "      <td>Che</td>\n",
       "      <td>Goods</td>\n",
       "    </tr>\n",
       "  </tbody>\n",
       "</table>\n",
       "</div>"
      ],
      "text/plain": [
       "                       Rev  EmpCnt   HQ       GST\n",
       "Kolkata_FMCG         874.4    1379  Kol     Goods\n",
       "NCR_Leagles          863.5    1935  NCR  Services\n",
       "Bombay_Sporting      839.8     154  Mum  Services\n",
       "Chennai_Shipping     821.0    1154  Che  Services\n",
       "Bangalore_Breweries  805.0     119  Blr     Goods\n",
       "Chennai_Chemicals    863.2    1656  Che     Goods"
      ]
     },
     "execution_count": 154,
     "metadata": {},
     "output_type": "execute_result"
    }
   ],
   "source": [
    "df1.loc[np.logical_and(df1.Vol>900, df1.Rev>800),  ['Rev', 'EmpCnt', 'HQ', 'GST'] ]"
   ]
  },
  {
   "cell_type": "code",
   "execution_count": 155,
   "id": "d728daa9",
   "metadata": {},
   "outputs": [
    {
     "data": {
      "text/html": [
       "<div>\n",
       "<style scoped>\n",
       "    .dataframe tbody tr th:only-of-type {\n",
       "        vertical-align: middle;\n",
       "    }\n",
       "\n",
       "    .dataframe tbody tr th {\n",
       "        vertical-align: top;\n",
       "    }\n",
       "\n",
       "    .dataframe thead th {\n",
       "        text-align: right;\n",
       "    }\n",
       "</style>\n",
       "<table border=\"1\" class=\"dataframe\">\n",
       "  <thead>\n",
       "    <tr style=\"text-align: right;\">\n",
       "      <th></th>\n",
       "      <th>Rev</th>\n",
       "      <th>EmpCnt</th>\n",
       "      <th>HQ</th>\n",
       "      <th>GST</th>\n",
       "    </tr>\n",
       "  </thead>\n",
       "  <tbody>\n",
       "    <tr>\n",
       "      <th>Kolkata_FMCG</th>\n",
       "      <td>874.4</td>\n",
       "      <td>1379</td>\n",
       "      <td>Kol</td>\n",
       "      <td>Goods</td>\n",
       "    </tr>\n",
       "    <tr>\n",
       "      <th>NCR_Leagles</th>\n",
       "      <td>863.5</td>\n",
       "      <td>1935</td>\n",
       "      <td>NCR</td>\n",
       "      <td>Services</td>\n",
       "    </tr>\n",
       "    <tr>\n",
       "      <th>Bombay_Sporting</th>\n",
       "      <td>839.8</td>\n",
       "      <td>154</td>\n",
       "      <td>Mum</td>\n",
       "      <td>Services</td>\n",
       "    </tr>\n",
       "    <tr>\n",
       "      <th>Chennai_Shipping</th>\n",
       "      <td>821.0</td>\n",
       "      <td>1154</td>\n",
       "      <td>Che</td>\n",
       "      <td>Services</td>\n",
       "    </tr>\n",
       "    <tr>\n",
       "      <th>Bangalore_Breweries</th>\n",
       "      <td>805.0</td>\n",
       "      <td>119</td>\n",
       "      <td>Blr</td>\n",
       "      <td>Goods</td>\n",
       "    </tr>\n",
       "    <tr>\n",
       "      <th>Chennai_Chemicals</th>\n",
       "      <td>863.2</td>\n",
       "      <td>1656</td>\n",
       "      <td>Che</td>\n",
       "      <td>Goods</td>\n",
       "    </tr>\n",
       "  </tbody>\n",
       "</table>\n",
       "</div>"
      ],
      "text/plain": [
       "                       Rev  EmpCnt   HQ       GST\n",
       "Kolkata_FMCG         874.4    1379  Kol     Goods\n",
       "NCR_Leagles          863.5    1935  NCR  Services\n",
       "Bombay_Sporting      839.8     154  Mum  Services\n",
       "Chennai_Shipping     821.0    1154  Che  Services\n",
       "Bangalore_Breweries  805.0     119  Blr     Goods\n",
       "Chennai_Chemicals    863.2    1656  Che     Goods"
      ]
     },
     "execution_count": 155,
     "metadata": {},
     "output_type": "execute_result"
    }
   ],
   "source": [
    "df1.loc[np.logical_and(df1.Vol>900, df1.Rev>800),  ['Rev', 'EmpCnt', 'HQ', 'GST'] ]"
   ]
  },
  {
   "cell_type": "code",
   "execution_count": 156,
   "id": "352d445c",
   "metadata": {},
   "outputs": [
    {
     "data": {
      "text/html": [
       "<div>\n",
       "<style scoped>\n",
       "    .dataframe tbody tr th:only-of-type {\n",
       "        vertical-align: middle;\n",
       "    }\n",
       "\n",
       "    .dataframe tbody tr th {\n",
       "        vertical-align: top;\n",
       "    }\n",
       "\n",
       "    .dataframe thead th {\n",
       "        text-align: right;\n",
       "    }\n",
       "</style>\n",
       "<table border=\"1\" class=\"dataframe\">\n",
       "  <thead>\n",
       "    <tr style=\"text-align: right;\">\n",
       "      <th></th>\n",
       "      <th>Rev</th>\n",
       "      <th>EmpCnt</th>\n",
       "      <th>HQ</th>\n",
       "      <th>GST</th>\n",
       "    </tr>\n",
       "  </thead>\n",
       "  <tbody>\n",
       "    <tr>\n",
       "      <th>NCR_Leagles</th>\n",
       "      <td>863.5</td>\n",
       "      <td>1935</td>\n",
       "      <td>NCR</td>\n",
       "      <td>Services</td>\n",
       "    </tr>\n",
       "    <tr>\n",
       "      <th>Bombay_Sporting</th>\n",
       "      <td>839.8</td>\n",
       "      <td>154</td>\n",
       "      <td>Mum</td>\n",
       "      <td>Services</td>\n",
       "    </tr>\n",
       "    <tr>\n",
       "      <th>Chennai_Shipping</th>\n",
       "      <td>821.0</td>\n",
       "      <td>1154</td>\n",
       "      <td>Che</td>\n",
       "      <td>Services</td>\n",
       "    </tr>\n",
       "  </tbody>\n",
       "</table>\n",
       "</div>"
      ],
      "text/plain": [
       "                    Rev  EmpCnt   HQ       GST\n",
       "NCR_Leagles       863.5    1935  NCR  Services\n",
       "Bombay_Sporting   839.8     154  Mum  Services\n",
       "Chennai_Shipping  821.0    1154  Che  Services"
      ]
     },
     "execution_count": 156,
     "metadata": {},
     "output_type": "execute_result"
    }
   ],
   "source": [
    "df1.loc[(df1.Vol > 900) & (df1.Rev > 800) & (df1.GST == 'Services' ),  ['Rev', 'EmpCnt', 'HQ','GST'] ]"
   ]
  },
  {
   "cell_type": "code",
   "execution_count": null,
   "id": "2a32030a",
   "metadata": {},
   "outputs": [],
   "source": [
    "### np.logical_and.reduce"
   ]
  },
  {
   "cell_type": "markdown",
   "id": "ca24d4b8",
   "metadata": {},
   "source": [
    "# Sorting"
   ]
  },
  {
   "cell_type": "code",
   "execution_count": 157,
   "id": "4a7cbb38",
   "metadata": {},
   "outputs": [
    {
     "data": {
      "text/html": [
       "<div>\n",
       "<style scoped>\n",
       "    .dataframe tbody tr th:only-of-type {\n",
       "        vertical-align: middle;\n",
       "    }\n",
       "\n",
       "    .dataframe tbody tr th {\n",
       "        vertical-align: top;\n",
       "    }\n",
       "\n",
       "    .dataframe thead th {\n",
       "        text-align: right;\n",
       "    }\n",
       "</style>\n",
       "<table border=\"1\" class=\"dataframe\">\n",
       "  <thead>\n",
       "    <tr style=\"text-align: right;\">\n",
       "      <th></th>\n",
       "      <th>Vol</th>\n",
       "      <th>Rev</th>\n",
       "      <th>Exp</th>\n",
       "      <th>Sector</th>\n",
       "      <th>EmpCnt</th>\n",
       "      <th>HQ</th>\n",
       "      <th>MNC</th>\n",
       "      <th>StockID</th>\n",
       "      <th>GST</th>\n",
       "      <th>Started</th>\n",
       "    </tr>\n",
       "  </thead>\n",
       "  <tbody>\n",
       "    <tr>\n",
       "      <th>Kolkata_FMCG</th>\n",
       "      <td>925</td>\n",
       "      <td>874.4</td>\n",
       "      <td>676</td>\n",
       "      <td>Pub</td>\n",
       "      <td>1379</td>\n",
       "      <td>Kol</td>\n",
       "      <td>1</td>\n",
       "      <td>KFMC</td>\n",
       "      <td>Goods</td>\n",
       "      <td>Jan 1920</td>\n",
       "    </tr>\n",
       "    <tr>\n",
       "      <th>NCR_Leagles</th>\n",
       "      <td>931</td>\n",
       "      <td>863.5</td>\n",
       "      <td>605</td>\n",
       "      <td>Pub</td>\n",
       "      <td>1935</td>\n",
       "      <td>NCR</td>\n",
       "      <td>0</td>\n",
       "      <td>NCRL</td>\n",
       "      <td>Services</td>\n",
       "      <td>Feb 1960</td>\n",
       "    </tr>\n",
       "    <tr>\n",
       "      <th>Bombay_Sporting</th>\n",
       "      <td>931</td>\n",
       "      <td>839.8</td>\n",
       "      <td>615</td>\n",
       "      <td>Pvt</td>\n",
       "      <td>154</td>\n",
       "      <td>Mum</td>\n",
       "      <td>0</td>\n",
       "      <td>SPRT</td>\n",
       "      <td>Services</td>\n",
       "      <td>Mar 1943</td>\n",
       "    </tr>\n",
       "    <tr>\n",
       "      <th>Bombay_Finance</th>\n",
       "      <td>899</td>\n",
       "      <td>917.0</td>\n",
       "      <td>674</td>\n",
       "      <td>Pub</td>\n",
       "      <td>1443</td>\n",
       "      <td>Mum</td>\n",
       "      <td>0</td>\n",
       "      <td>BFIN</td>\n",
       "      <td>Services</td>\n",
       "      <td>Apr 1925</td>\n",
       "    </tr>\n",
       "    <tr>\n",
       "      <th>Bangalore_Systems</th>\n",
       "      <td>900</td>\n",
       "      <td>881.6</td>\n",
       "      <td>650</td>\n",
       "      <td>Gov</td>\n",
       "      <td>1361</td>\n",
       "      <td>Blr</td>\n",
       "      <td>0</td>\n",
       "      <td>BSYS</td>\n",
       "      <td>Services</td>\n",
       "      <td>Apr 1950</td>\n",
       "    </tr>\n",
       "    <tr>\n",
       "      <th>Chennai_Shipping</th>\n",
       "      <td>992</td>\n",
       "      <td>821.0</td>\n",
       "      <td>665</td>\n",
       "      <td>Pub</td>\n",
       "      <td>1154</td>\n",
       "      <td>Che</td>\n",
       "      <td>1</td>\n",
       "      <td>SHIP</td>\n",
       "      <td>Services</td>\n",
       "      <td>Nov 1930</td>\n",
       "    </tr>\n",
       "    <tr>\n",
       "      <th>Bangalore_Breweries</th>\n",
       "      <td>966</td>\n",
       "      <td>805.0</td>\n",
       "      <td>895</td>\n",
       "      <td>Pvt</td>\n",
       "      <td>119</td>\n",
       "      <td>Blr</td>\n",
       "      <td>1</td>\n",
       "      <td>BREW</td>\n",
       "      <td>Goods</td>\n",
       "      <td>Oct 1971</td>\n",
       "    </tr>\n",
       "    <tr>\n",
       "      <th>Chennai_Chemicals</th>\n",
       "      <td>966</td>\n",
       "      <td>863.2</td>\n",
       "      <td>608</td>\n",
       "      <td>Pub</td>\n",
       "      <td>1656</td>\n",
       "      <td>Che</td>\n",
       "      <td>1</td>\n",
       "      <td>CHEM</td>\n",
       "      <td>Goods</td>\n",
       "      <td>Aug 1928</td>\n",
       "    </tr>\n",
       "    <tr>\n",
       "      <th>Indi_Services</th>\n",
       "      <td>954</td>\n",
       "      <td>733.0</td>\n",
       "      <td>609</td>\n",
       "      <td>Gov</td>\n",
       "      <td>13023</td>\n",
       "      <td>NCR</td>\n",
       "      <td>0</td>\n",
       "      <td>INDI</td>\n",
       "      <td>Services</td>\n",
       "      <td>Mar 1920</td>\n",
       "    </tr>\n",
       "  </tbody>\n",
       "</table>\n",
       "</div>"
      ],
      "text/plain": [
       "                     Vol    Rev  Exp Sector  EmpCnt   HQ  MNC StockID  \\\n",
       "Kolkata_FMCG         925  874.4  676    Pub    1379  Kol    1    KFMC   \n",
       "NCR_Leagles          931  863.5  605    Pub    1935  NCR    0    NCRL   \n",
       "Bombay_Sporting      931  839.8  615    Pvt     154  Mum    0    SPRT   \n",
       "Bombay_Finance       899  917.0  674    Pub    1443  Mum    0    BFIN   \n",
       "Bangalore_Systems    900  881.6  650    Gov    1361  Blr    0    BSYS   \n",
       "Chennai_Shipping     992  821.0  665    Pub    1154  Che    1    SHIP   \n",
       "Bangalore_Breweries  966  805.0  895    Pvt     119  Blr    1    BREW   \n",
       "Chennai_Chemicals    966  863.2  608    Pub    1656  Che    1    CHEM   \n",
       "Indi_Services        954  733.0  609    Gov   13023  NCR    0    INDI   \n",
       "\n",
       "                          GST   Started  \n",
       "Kolkata_FMCG            Goods  Jan 1920  \n",
       "NCR_Leagles          Services  Feb 1960  \n",
       "Bombay_Sporting      Services  Mar 1943  \n",
       "Bombay_Finance       Services  Apr 1925  \n",
       "Bangalore_Systems    Services  Apr 1950  \n",
       "Chennai_Shipping     Services  Nov 1930  \n",
       "Bangalore_Breweries     Goods  Oct 1971  \n",
       "Chennai_Chemicals       Goods  Aug 1928  \n",
       "Indi_Services        Services  Mar 1920  "
      ]
     },
     "execution_count": 157,
     "metadata": {},
     "output_type": "execute_result"
    }
   ],
   "source": [
    "df1 = pd.read_csv('https://raw.githubusercontent.com/vcsgithub/vcsgithub.github.io/master/lds1.csv')\n",
    "df1"
   ]
  },
  {
   "cell_type": "markdown",
   "id": "5e2806af",
   "metadata": {},
   "source": [
    "0sort by labels"
   ]
  },
  {
   "cell_type": "code",
   "execution_count": 158,
   "id": "2f7216d8",
   "metadata": {},
   "outputs": [],
   "source": [
    "pd.set_option('display.width', 100)"
   ]
  },
  {
   "cell_type": "code",
   "execution_count": 159,
   "id": "33fe7063",
   "metadata": {},
   "outputs": [
    {
     "name": "stdout",
     "output_type": "stream",
     "text": [
      "None\n",
      "\n",
      "                     Vol    Rev  Exp Sector  EmpCnt   HQ  MNC StockID       GST   Started\n",
      "Bangalore_Breweries  966  805.0  895    Pvt     119  Blr    1    BREW     Goods  Oct 1971\n",
      "Bangalore_Systems    900  881.6  650    Gov    1361  Blr    0    BSYS  Services  Apr 1950\n",
      "Bombay_Finance       899  917.0  674    Pub    1443  Mum    0    BFIN  Services  Apr 1925\n",
      "Bombay_Sporting      931  839.8  615    Pvt     154  Mum    0    SPRT  Services  Mar 1943\n",
      "Chennai_Chemicals    966  863.2  608    Pub    1656  Che    1    CHEM     Goods  Aug 1928\n",
      "Chennai_Shipping     992  821.0  665    Pub    1154  Che    1    SHIP  Services  Nov 1930\n",
      "Indi_Services        954  733.0  609    Gov   13023  NCR    0    INDI  Services  Mar 1920\n",
      "Kolkata_FMCG         925  874.4  676    Pub    1379  Kol    1    KFMC     Goods  Jan 1920\n",
      "NCR_Leagles          931  863.5  605    Pub    1935  NCR    0    NCRL  Services  Feb 1960\n"
     ]
    }
   ],
   "source": [
    "df2 = df1.sort_index(axis=0, ascending=True, inplace=True)\n",
    "print(df2)\n",
    "print()\n",
    "print(df1)"
   ]
  },
  {
   "cell_type": "code",
   "execution_count": 160,
   "id": "53db2809",
   "metadata": {},
   "outputs": [
    {
     "name": "stdout",
     "output_type": "stream",
     "text": [
      "                     Vol    Rev  Exp Sector  EmpCnt   HQ  MNC StockID       GST   Started\n",
      "Bangalore_Breweries  966  805.0  895    Pvt     119  Blr    1    BREW     Goods  Oct 1971\n",
      "Bangalore_Systems    900  881.6  650    Gov    1361  Blr    0    BSYS  Services  Apr 1950\n",
      "Bombay_Finance       899  917.0  674    Pub    1443  Mum    0    BFIN  Services  Apr 1925\n",
      "Bombay_Sporting      931  839.8  615    Pvt     154  Mum    0    SPRT  Services  Mar 1943\n",
      "Chennai_Chemicals    966  863.2  608    Pub    1656  Che    1    CHEM     Goods  Aug 1928\n",
      "Chennai_Shipping     992  821.0  665    Pub    1154  Che    1    SHIP  Services  Nov 1930\n",
      "Indi_Services        954  733.0  609    Gov   13023  NCR    0    INDI  Services  Mar 1920\n",
      "Kolkata_FMCG         925  874.4  676    Pub    1379  Kol    1    KFMC     Goods  Jan 1920\n",
      "NCR_Leagles          931  863.5  605    Pub    1935  NCR    0    NCRL  Services  Feb 1960\n",
      "\n",
      "                     Vol    Rev  Exp Sector  EmpCnt   HQ  MNC StockID       GST   Started\n",
      "Bangalore_Breweries  966  805.0  895    Pvt     119  Blr    1    BREW     Goods  Oct 1971\n",
      "Bangalore_Systems    900  881.6  650    Gov    1361  Blr    0    BSYS  Services  Apr 1950\n",
      "Bombay_Finance       899  917.0  674    Pub    1443  Mum    0    BFIN  Services  Apr 1925\n",
      "Bombay_Sporting      931  839.8  615    Pvt     154  Mum    0    SPRT  Services  Mar 1943\n",
      "Chennai_Chemicals    966  863.2  608    Pub    1656  Che    1    CHEM     Goods  Aug 1928\n",
      "Chennai_Shipping     992  821.0  665    Pub    1154  Che    1    SHIP  Services  Nov 1930\n",
      "Indi_Services        954  733.0  609    Gov   13023  NCR    0    INDI  Services  Mar 1920\n",
      "Kolkata_FMCG         925  874.4  676    Pub    1379  Kol    1    KFMC     Goods  Jan 1920\n",
      "NCR_Leagles          931  863.5  605    Pub    1935  NCR    0    NCRL  Services  Feb 1960\n"
     ]
    }
   ],
   "source": [
    "df2 = df1.sort_index(axis=0, ascending=True, inplace=False)\n",
    "print(df2)\n",
    "print()\n",
    "print(df1)"
   ]
  },
  {
   "cell_type": "code",
   "execution_count": 161,
   "id": "430e0dfa",
   "metadata": {},
   "outputs": [
    {
     "name": "stdout",
     "output_type": "stream",
     "text": [
      "['p', 'y', 't', 'h', 'o', 'n']\n",
      "None\n",
      "['p', 'y', 't', 'h', 'o', 'n', 'hello']\n"
     ]
    }
   ],
   "source": [
    "mylist1 = list('python')\n",
    "print(mylist1)\n",
    "x = mylist1.append('hello')\n",
    "print(x)\n",
    "print(mylist1)"
   ]
  },
  {
   "cell_type": "code",
   "execution_count": 162,
   "id": "a30493df",
   "metadata": {},
   "outputs": [
    {
     "data": {
      "text/html": [
       "<div>\n",
       "<style scoped>\n",
       "    .dataframe tbody tr th:only-of-type {\n",
       "        vertical-align: middle;\n",
       "    }\n",
       "\n",
       "    .dataframe tbody tr th {\n",
       "        vertical-align: top;\n",
       "    }\n",
       "\n",
       "    .dataframe thead th {\n",
       "        text-align: right;\n",
       "    }\n",
       "</style>\n",
       "<table border=\"1\" class=\"dataframe\">\n",
       "  <thead>\n",
       "    <tr style=\"text-align: right;\">\n",
       "      <th></th>\n",
       "      <th>Vol</th>\n",
       "      <th>Rev</th>\n",
       "      <th>Exp</th>\n",
       "      <th>Sector</th>\n",
       "      <th>EmpCnt</th>\n",
       "      <th>HQ</th>\n",
       "      <th>MNC</th>\n",
       "      <th>StockID</th>\n",
       "      <th>GST</th>\n",
       "      <th>Started</th>\n",
       "    </tr>\n",
       "  </thead>\n",
       "  <tbody>\n",
       "    <tr>\n",
       "      <th>Kolkata_FMCG</th>\n",
       "      <td>925</td>\n",
       "      <td>874.4</td>\n",
       "      <td>676</td>\n",
       "      <td>Pub</td>\n",
       "      <td>1379</td>\n",
       "      <td>Kol</td>\n",
       "      <td>1</td>\n",
       "      <td>KFMC</td>\n",
       "      <td>Goods</td>\n",
       "      <td>Jan 1920</td>\n",
       "    </tr>\n",
       "    <tr>\n",
       "      <th>NCR_Leagles</th>\n",
       "      <td>931</td>\n",
       "      <td>863.5</td>\n",
       "      <td>605</td>\n",
       "      <td>Pub</td>\n",
       "      <td>1935</td>\n",
       "      <td>NCR</td>\n",
       "      <td>0</td>\n",
       "      <td>NCRL</td>\n",
       "      <td>Services</td>\n",
       "      <td>Feb 1960</td>\n",
       "    </tr>\n",
       "    <tr>\n",
       "      <th>Bombay_Sporting</th>\n",
       "      <td>931</td>\n",
       "      <td>839.8</td>\n",
       "      <td>615</td>\n",
       "      <td>Pvt</td>\n",
       "      <td>154</td>\n",
       "      <td>Mum</td>\n",
       "      <td>0</td>\n",
       "      <td>SPRT</td>\n",
       "      <td>Services</td>\n",
       "      <td>Mar 1943</td>\n",
       "    </tr>\n",
       "    <tr>\n",
       "      <th>Bombay_Finance</th>\n",
       "      <td>899</td>\n",
       "      <td>917.0</td>\n",
       "      <td>674</td>\n",
       "      <td>Pub</td>\n",
       "      <td>1443</td>\n",
       "      <td>Mum</td>\n",
       "      <td>0</td>\n",
       "      <td>BFIN</td>\n",
       "      <td>Services</td>\n",
       "      <td>Apr 1925</td>\n",
       "    </tr>\n",
       "    <tr>\n",
       "      <th>Bangalore_Systems</th>\n",
       "      <td>900</td>\n",
       "      <td>881.6</td>\n",
       "      <td>650</td>\n",
       "      <td>Gov</td>\n",
       "      <td>1361</td>\n",
       "      <td>Blr</td>\n",
       "      <td>0</td>\n",
       "      <td>BSYS</td>\n",
       "      <td>Services</td>\n",
       "      <td>Apr 1950</td>\n",
       "    </tr>\n",
       "    <tr>\n",
       "      <th>Chennai_Shipping</th>\n",
       "      <td>992</td>\n",
       "      <td>821.0</td>\n",
       "      <td>665</td>\n",
       "      <td>Pub</td>\n",
       "      <td>1154</td>\n",
       "      <td>Che</td>\n",
       "      <td>1</td>\n",
       "      <td>SHIP</td>\n",
       "      <td>Services</td>\n",
       "      <td>Nov 1930</td>\n",
       "    </tr>\n",
       "    <tr>\n",
       "      <th>Bangalore_Breweries</th>\n",
       "      <td>966</td>\n",
       "      <td>805.0</td>\n",
       "      <td>895</td>\n",
       "      <td>Pvt</td>\n",
       "      <td>119</td>\n",
       "      <td>Blr</td>\n",
       "      <td>1</td>\n",
       "      <td>BREW</td>\n",
       "      <td>Goods</td>\n",
       "      <td>Oct 1971</td>\n",
       "    </tr>\n",
       "    <tr>\n",
       "      <th>Chennai_Chemicals</th>\n",
       "      <td>966</td>\n",
       "      <td>863.2</td>\n",
       "      <td>608</td>\n",
       "      <td>Pub</td>\n",
       "      <td>1656</td>\n",
       "      <td>Che</td>\n",
       "      <td>1</td>\n",
       "      <td>CHEM</td>\n",
       "      <td>Goods</td>\n",
       "      <td>Aug 1928</td>\n",
       "    </tr>\n",
       "    <tr>\n",
       "      <th>Indi_Services</th>\n",
       "      <td>954</td>\n",
       "      <td>733.0</td>\n",
       "      <td>609</td>\n",
       "      <td>Gov</td>\n",
       "      <td>13023</td>\n",
       "      <td>NCR</td>\n",
       "      <td>0</td>\n",
       "      <td>INDI</td>\n",
       "      <td>Services</td>\n",
       "      <td>Mar 1920</td>\n",
       "    </tr>\n",
       "  </tbody>\n",
       "</table>\n",
       "</div>"
      ],
      "text/plain": [
       "                     Vol    Rev  Exp Sector  EmpCnt   HQ  MNC StockID       GST   Started\n",
       "Kolkata_FMCG         925  874.4  676    Pub    1379  Kol    1    KFMC     Goods  Jan 1920\n",
       "NCR_Leagles          931  863.5  605    Pub    1935  NCR    0    NCRL  Services  Feb 1960\n",
       "Bombay_Sporting      931  839.8  615    Pvt     154  Mum    0    SPRT  Services  Mar 1943\n",
       "Bombay_Finance       899  917.0  674    Pub    1443  Mum    0    BFIN  Services  Apr 1925\n",
       "Bangalore_Systems    900  881.6  650    Gov    1361  Blr    0    BSYS  Services  Apr 1950\n",
       "Chennai_Shipping     992  821.0  665    Pub    1154  Che    1    SHIP  Services  Nov 1930\n",
       "Bangalore_Breweries  966  805.0  895    Pvt     119  Blr    1    BREW     Goods  Oct 1971\n",
       "Chennai_Chemicals    966  863.2  608    Pub    1656  Che    1    CHEM     Goods  Aug 1928\n",
       "Indi_Services        954  733.0  609    Gov   13023  NCR    0    INDI  Services  Mar 1920"
      ]
     },
     "execution_count": 162,
     "metadata": {},
     "output_type": "execute_result"
    }
   ],
   "source": [
    "df1 = pd.read_csv('https://raw.githubusercontent.com/vcsgithub/vcsgithub.github.io/master/lds1.csv')\n",
    "df1"
   ]
  },
  {
   "cell_type": "code",
   "execution_count": 163,
   "id": "570fb7ad",
   "metadata": {},
   "outputs": [
    {
     "name": "stdout",
     "output_type": "stream",
     "text": [
      "                     Vol    Rev  Exp Sector  EmpCnt   HQ  MNC StockID       GST   Started\n",
      "NCR_Leagles          931  863.5  605    Pub    1935  NCR    0    NCRL  Services  Feb 1960\n",
      "Kolkata_FMCG         925  874.4  676    Pub    1379  Kol    1    KFMC     Goods  Jan 1920\n",
      "Indi_Services        954  733.0  609    Gov   13023  NCR    0    INDI  Services  Mar 1920\n",
      "Chennai_Shipping     992  821.0  665    Pub    1154  Che    1    SHIP  Services  Nov 1930\n",
      "Chennai_Chemicals    966  863.2  608    Pub    1656  Che    1    CHEM     Goods  Aug 1928\n",
      "Bombay_Sporting      931  839.8  615    Pvt     154  Mum    0    SPRT  Services  Mar 1943\n",
      "Bombay_Finance       899  917.0  674    Pub    1443  Mum    0    BFIN  Services  Apr 1925\n",
      "Bangalore_Systems    900  881.6  650    Gov    1361  Blr    0    BSYS  Services  Apr 1950\n",
      "Bangalore_Breweries  966  805.0  895    Pvt     119  Blr    1    BREW     Goods  Oct 1971\n"
     ]
    }
   ],
   "source": [
    "df2 = df1.sort_index(axis=0, ascending=False, inplace=False)\n",
    "print(df2)"
   ]
  },
  {
   "cell_type": "code",
   "execution_count": null,
   "id": "93d9296b",
   "metadata": {},
   "outputs": [],
   "source": [
    "df2 = df1.sort_index(axis=1, ascending=False, inplace=False)\n",
    "print(df2)"
   ]
  },
  {
   "cell_type": "code",
   "execution_count": null,
   "id": "c879ef92",
   "metadata": {},
   "outputs": [],
   "source": [
    "df2 = df1.sort_index(axis=1, ascending=True, inplace=False)\n",
    "print(df2)"
   ]
  },
  {
   "cell_type": "code",
   "execution_count": 164,
   "id": "adfd6a3b",
   "metadata": {},
   "outputs": [
    {
     "data": {
      "text/html": [
       "<div>\n",
       "<style scoped>\n",
       "    .dataframe tbody tr th:only-of-type {\n",
       "        vertical-align: middle;\n",
       "    }\n",
       "\n",
       "    .dataframe tbody tr th {\n",
       "        vertical-align: top;\n",
       "    }\n",
       "\n",
       "    .dataframe thead th {\n",
       "        text-align: right;\n",
       "    }\n",
       "</style>\n",
       "<table border=\"1\" class=\"dataframe\">\n",
       "  <thead>\n",
       "    <tr style=\"text-align: right;\">\n",
       "      <th></th>\n",
       "      <th>EmpCnt</th>\n",
       "      <th>Exp</th>\n",
       "      <th>GST</th>\n",
       "      <th>HQ</th>\n",
       "      <th>MNC</th>\n",
       "      <th>Rev</th>\n",
       "      <th>Sector</th>\n",
       "      <th>Started</th>\n",
       "      <th>StockID</th>\n",
       "      <th>Vol</th>\n",
       "    </tr>\n",
       "  </thead>\n",
       "  <tbody>\n",
       "    <tr>\n",
       "      <th>Bangalore_Breweries</th>\n",
       "      <td>119</td>\n",
       "      <td>895</td>\n",
       "      <td>Goods</td>\n",
       "      <td>Blr</td>\n",
       "      <td>1</td>\n",
       "      <td>805.0</td>\n",
       "      <td>Pvt</td>\n",
       "      <td>Oct 1971</td>\n",
       "      <td>BREW</td>\n",
       "      <td>966</td>\n",
       "    </tr>\n",
       "    <tr>\n",
       "      <th>Bangalore_Systems</th>\n",
       "      <td>1361</td>\n",
       "      <td>650</td>\n",
       "      <td>Services</td>\n",
       "      <td>Blr</td>\n",
       "      <td>0</td>\n",
       "      <td>881.6</td>\n",
       "      <td>Gov</td>\n",
       "      <td>Apr 1950</td>\n",
       "      <td>BSYS</td>\n",
       "      <td>900</td>\n",
       "    </tr>\n",
       "    <tr>\n",
       "      <th>Bombay_Finance</th>\n",
       "      <td>1443</td>\n",
       "      <td>674</td>\n",
       "      <td>Services</td>\n",
       "      <td>Mum</td>\n",
       "      <td>0</td>\n",
       "      <td>917.0</td>\n",
       "      <td>Pub</td>\n",
       "      <td>Apr 1925</td>\n",
       "      <td>BFIN</td>\n",
       "      <td>899</td>\n",
       "    </tr>\n",
       "    <tr>\n",
       "      <th>Bombay_Sporting</th>\n",
       "      <td>154</td>\n",
       "      <td>615</td>\n",
       "      <td>Services</td>\n",
       "      <td>Mum</td>\n",
       "      <td>0</td>\n",
       "      <td>839.8</td>\n",
       "      <td>Pvt</td>\n",
       "      <td>Mar 1943</td>\n",
       "      <td>SPRT</td>\n",
       "      <td>931</td>\n",
       "    </tr>\n",
       "    <tr>\n",
       "      <th>Chennai_Chemicals</th>\n",
       "      <td>1656</td>\n",
       "      <td>608</td>\n",
       "      <td>Goods</td>\n",
       "      <td>Che</td>\n",
       "      <td>1</td>\n",
       "      <td>863.2</td>\n",
       "      <td>Pub</td>\n",
       "      <td>Aug 1928</td>\n",
       "      <td>CHEM</td>\n",
       "      <td>966</td>\n",
       "    </tr>\n",
       "    <tr>\n",
       "      <th>Chennai_Shipping</th>\n",
       "      <td>1154</td>\n",
       "      <td>665</td>\n",
       "      <td>Services</td>\n",
       "      <td>Che</td>\n",
       "      <td>1</td>\n",
       "      <td>821.0</td>\n",
       "      <td>Pub</td>\n",
       "      <td>Nov 1930</td>\n",
       "      <td>SHIP</td>\n",
       "      <td>992</td>\n",
       "    </tr>\n",
       "    <tr>\n",
       "      <th>Indi_Services</th>\n",
       "      <td>13023</td>\n",
       "      <td>609</td>\n",
       "      <td>Services</td>\n",
       "      <td>NCR</td>\n",
       "      <td>0</td>\n",
       "      <td>733.0</td>\n",
       "      <td>Gov</td>\n",
       "      <td>Mar 1920</td>\n",
       "      <td>INDI</td>\n",
       "      <td>954</td>\n",
       "    </tr>\n",
       "    <tr>\n",
       "      <th>Kolkata_FMCG</th>\n",
       "      <td>1379</td>\n",
       "      <td>676</td>\n",
       "      <td>Goods</td>\n",
       "      <td>Kol</td>\n",
       "      <td>1</td>\n",
       "      <td>874.4</td>\n",
       "      <td>Pub</td>\n",
       "      <td>Jan 1920</td>\n",
       "      <td>KFMC</td>\n",
       "      <td>925</td>\n",
       "    </tr>\n",
       "    <tr>\n",
       "      <th>NCR_Leagles</th>\n",
       "      <td>1935</td>\n",
       "      <td>605</td>\n",
       "      <td>Services</td>\n",
       "      <td>NCR</td>\n",
       "      <td>0</td>\n",
       "      <td>863.5</td>\n",
       "      <td>Pub</td>\n",
       "      <td>Feb 1960</td>\n",
       "      <td>NCRL</td>\n",
       "      <td>931</td>\n",
       "    </tr>\n",
       "  </tbody>\n",
       "</table>\n",
       "</div>"
      ],
      "text/plain": [
       "                     EmpCnt  Exp       GST   HQ  MNC    Rev Sector   Started StockID  Vol\n",
       "Bangalore_Breweries     119  895     Goods  Blr    1  805.0    Pvt  Oct 1971    BREW  966\n",
       "Bangalore_Systems      1361  650  Services  Blr    0  881.6    Gov  Apr 1950    BSYS  900\n",
       "Bombay_Finance         1443  674  Services  Mum    0  917.0    Pub  Apr 1925    BFIN  899\n",
       "Bombay_Sporting         154  615  Services  Mum    0  839.8    Pvt  Mar 1943    SPRT  931\n",
       "Chennai_Chemicals      1656  608     Goods  Che    1  863.2    Pub  Aug 1928    CHEM  966\n",
       "Chennai_Shipping       1154  665  Services  Che    1  821.0    Pub  Nov 1930    SHIP  992\n",
       "Indi_Services         13023  609  Services  NCR    0  733.0    Gov  Mar 1920    INDI  954\n",
       "Kolkata_FMCG           1379  676     Goods  Kol    1  874.4    Pub  Jan 1920    KFMC  925\n",
       "NCR_Leagles            1935  605  Services  NCR    0  863.5    Pub  Feb 1960    NCRL  931"
      ]
     },
     "execution_count": 164,
     "metadata": {},
     "output_type": "execute_result"
    }
   ],
   "source": [
    "df2 = df1.sort_index(axis=0, ascending=True, inplace=False).sort_index(axis=1, ascending=True, inplace=False)\n",
    "df2"
   ]
  },
  {
   "cell_type": "markdown",
   "id": "08d65115",
   "metadata": {},
   "source": [
    "sort by values"
   ]
  },
  {
   "cell_type": "code",
   "execution_count": 165,
   "id": "ae703418",
   "metadata": {},
   "outputs": [
    {
     "data": {
      "text/html": [
       "<div>\n",
       "<style scoped>\n",
       "    .dataframe tbody tr th:only-of-type {\n",
       "        vertical-align: middle;\n",
       "    }\n",
       "\n",
       "    .dataframe tbody tr th {\n",
       "        vertical-align: top;\n",
       "    }\n",
       "\n",
       "    .dataframe thead th {\n",
       "        text-align: right;\n",
       "    }\n",
       "</style>\n",
       "<table border=\"1\" class=\"dataframe\">\n",
       "  <thead>\n",
       "    <tr style=\"text-align: right;\">\n",
       "      <th></th>\n",
       "      <th>Vol</th>\n",
       "      <th>Rev</th>\n",
       "      <th>Exp</th>\n",
       "      <th>Sector</th>\n",
       "      <th>EmpCnt</th>\n",
       "      <th>HQ</th>\n",
       "      <th>MNC</th>\n",
       "      <th>StockID</th>\n",
       "      <th>GST</th>\n",
       "      <th>Started</th>\n",
       "    </tr>\n",
       "  </thead>\n",
       "  <tbody>\n",
       "    <tr>\n",
       "      <th>Kolkata_FMCG</th>\n",
       "      <td>925</td>\n",
       "      <td>874.4</td>\n",
       "      <td>676</td>\n",
       "      <td>Pub</td>\n",
       "      <td>1379</td>\n",
       "      <td>Kol</td>\n",
       "      <td>1</td>\n",
       "      <td>KFMC</td>\n",
       "      <td>Goods</td>\n",
       "      <td>Jan 1920</td>\n",
       "    </tr>\n",
       "    <tr>\n",
       "      <th>NCR_Leagles</th>\n",
       "      <td>931</td>\n",
       "      <td>863.5</td>\n",
       "      <td>605</td>\n",
       "      <td>Pub</td>\n",
       "      <td>1935</td>\n",
       "      <td>NCR</td>\n",
       "      <td>0</td>\n",
       "      <td>NCRL</td>\n",
       "      <td>Services</td>\n",
       "      <td>Feb 1960</td>\n",
       "    </tr>\n",
       "    <tr>\n",
       "      <th>Bombay_Sporting</th>\n",
       "      <td>931</td>\n",
       "      <td>839.8</td>\n",
       "      <td>615</td>\n",
       "      <td>Pvt</td>\n",
       "      <td>154</td>\n",
       "      <td>Mum</td>\n",
       "      <td>0</td>\n",
       "      <td>SPRT</td>\n",
       "      <td>Services</td>\n",
       "      <td>Mar 1943</td>\n",
       "    </tr>\n",
       "    <tr>\n",
       "      <th>Bombay_Finance</th>\n",
       "      <td>899</td>\n",
       "      <td>917.0</td>\n",
       "      <td>674</td>\n",
       "      <td>Pub</td>\n",
       "      <td>1443</td>\n",
       "      <td>Mum</td>\n",
       "      <td>0</td>\n",
       "      <td>BFIN</td>\n",
       "      <td>Services</td>\n",
       "      <td>Apr 1925</td>\n",
       "    </tr>\n",
       "    <tr>\n",
       "      <th>Bangalore_Systems</th>\n",
       "      <td>900</td>\n",
       "      <td>881.6</td>\n",
       "      <td>650</td>\n",
       "      <td>Gov</td>\n",
       "      <td>1361</td>\n",
       "      <td>Blr</td>\n",
       "      <td>0</td>\n",
       "      <td>BSYS</td>\n",
       "      <td>Services</td>\n",
       "      <td>Apr 1950</td>\n",
       "    </tr>\n",
       "    <tr>\n",
       "      <th>Chennai_Shipping</th>\n",
       "      <td>992</td>\n",
       "      <td>821.0</td>\n",
       "      <td>665</td>\n",
       "      <td>Pub</td>\n",
       "      <td>1154</td>\n",
       "      <td>Che</td>\n",
       "      <td>1</td>\n",
       "      <td>SHIP</td>\n",
       "      <td>Services</td>\n",
       "      <td>Nov 1930</td>\n",
       "    </tr>\n",
       "    <tr>\n",
       "      <th>Bangalore_Breweries</th>\n",
       "      <td>966</td>\n",
       "      <td>805.0</td>\n",
       "      <td>895</td>\n",
       "      <td>Pvt</td>\n",
       "      <td>119</td>\n",
       "      <td>Blr</td>\n",
       "      <td>1</td>\n",
       "      <td>BREW</td>\n",
       "      <td>Goods</td>\n",
       "      <td>Oct 1971</td>\n",
       "    </tr>\n",
       "    <tr>\n",
       "      <th>Chennai_Chemicals</th>\n",
       "      <td>966</td>\n",
       "      <td>863.2</td>\n",
       "      <td>608</td>\n",
       "      <td>Pub</td>\n",
       "      <td>1656</td>\n",
       "      <td>Che</td>\n",
       "      <td>1</td>\n",
       "      <td>CHEM</td>\n",
       "      <td>Goods</td>\n",
       "      <td>Aug 1928</td>\n",
       "    </tr>\n",
       "    <tr>\n",
       "      <th>Indi_Services</th>\n",
       "      <td>954</td>\n",
       "      <td>733.0</td>\n",
       "      <td>609</td>\n",
       "      <td>Gov</td>\n",
       "      <td>13023</td>\n",
       "      <td>NCR</td>\n",
       "      <td>0</td>\n",
       "      <td>INDI</td>\n",
       "      <td>Services</td>\n",
       "      <td>Mar 1920</td>\n",
       "    </tr>\n",
       "  </tbody>\n",
       "</table>\n",
       "</div>"
      ],
      "text/plain": [
       "                     Vol    Rev  Exp Sector  EmpCnt   HQ  MNC StockID       GST   Started\n",
       "Kolkata_FMCG         925  874.4  676    Pub    1379  Kol    1    KFMC     Goods  Jan 1920\n",
       "NCR_Leagles          931  863.5  605    Pub    1935  NCR    0    NCRL  Services  Feb 1960\n",
       "Bombay_Sporting      931  839.8  615    Pvt     154  Mum    0    SPRT  Services  Mar 1943\n",
       "Bombay_Finance       899  917.0  674    Pub    1443  Mum    0    BFIN  Services  Apr 1925\n",
       "Bangalore_Systems    900  881.6  650    Gov    1361  Blr    0    BSYS  Services  Apr 1950\n",
       "Chennai_Shipping     992  821.0  665    Pub    1154  Che    1    SHIP  Services  Nov 1930\n",
       "Bangalore_Breweries  966  805.0  895    Pvt     119  Blr    1    BREW     Goods  Oct 1971\n",
       "Chennai_Chemicals    966  863.2  608    Pub    1656  Che    1    CHEM     Goods  Aug 1928\n",
       "Indi_Services        954  733.0  609    Gov   13023  NCR    0    INDI  Services  Mar 1920"
      ]
     },
     "execution_count": 165,
     "metadata": {},
     "output_type": "execute_result"
    }
   ],
   "source": [
    "df1 = pd.read_csv('https://raw.githubusercontent.com/vcsgithub/vcsgithub.github.io/master/lds1.csv')\n",
    "df1"
   ]
  },
  {
   "cell_type": "code",
   "execution_count": null,
   "id": "470a135f",
   "metadata": {},
   "outputs": [],
   "source": [
    "df2 = df1.sort_values(by='Vol', axis=0, ascending=True, inplace=False)\n",
    "df2"
   ]
  },
  {
   "cell_type": "code",
   "execution_count": null,
   "id": "c339d1d1",
   "metadata": {},
   "outputs": [],
   "source": [
    "df2 = df1.sort_values(by=['Vol','Rev'] , axis=0, ascending=[True,True],  inplace=False)\n",
    "df2"
   ]
  },
  {
   "cell_type": "code",
   "execution_count": null,
   "id": "8976f698",
   "metadata": {},
   "outputs": [],
   "source": [
    "df2 = df1.sort_values(by=['Vol','Rev'] , axis=0, ascending=[True,False],  inplace=False)\n",
    "df2"
   ]
  },
  {
   "cell_type": "code",
   "execution_count": 166,
   "id": "b914c653",
   "metadata": {},
   "outputs": [
    {
     "ename": "TypeError",
     "evalue": "'>' not supported between instances of 'numpy.ndarray' and 'str'",
     "output_type": "error",
     "traceback": [
      "\u001b[1;31m---------------------------------------------------------------------------\u001b[0m",
      "\u001b[1;31mTypeError\u001b[0m                                 Traceback (most recent call last)",
      "Cell \u001b[1;32mIn[166], line 1\u001b[0m\n\u001b[1;32m----> 1\u001b[0m df2 \u001b[38;5;241m=\u001b[39m df1\u001b[38;5;241m.\u001b[39msort_values(by\u001b[38;5;241m=\u001b[39m\u001b[38;5;124m'\u001b[39m\u001b[38;5;124mBangalore_Systems\u001b[39m\u001b[38;5;124m'\u001b[39m, axis\u001b[38;5;241m=\u001b[39m\u001b[38;5;241m1\u001b[39m, ascending\u001b[38;5;241m=\u001b[39m\u001b[38;5;28;01mTrue\u001b[39;00m, inplace\u001b[38;5;241m=\u001b[39m\u001b[38;5;28;01mFalse\u001b[39;00m)\n\u001b[0;32m      2\u001b[0m df2\n",
      "File \u001b[1;32mC:\\Users\\Dhilip\\Lib\\site-packages\\pandas\\util\\_decorators.py:331\u001b[0m, in \u001b[0;36mdeprecate_nonkeyword_arguments.<locals>.decorate.<locals>.wrapper\u001b[1;34m(*args, **kwargs)\u001b[0m\n\u001b[0;32m    325\u001b[0m \u001b[38;5;28;01mif\u001b[39;00m \u001b[38;5;28mlen\u001b[39m(args) \u001b[38;5;241m>\u001b[39m num_allow_args:\n\u001b[0;32m    326\u001b[0m     warnings\u001b[38;5;241m.\u001b[39mwarn(\n\u001b[0;32m    327\u001b[0m         msg\u001b[38;5;241m.\u001b[39mformat(arguments\u001b[38;5;241m=\u001b[39m_format_argument_list(allow_args)),\n\u001b[0;32m    328\u001b[0m         \u001b[38;5;167;01mFutureWarning\u001b[39;00m,\n\u001b[0;32m    329\u001b[0m         stacklevel\u001b[38;5;241m=\u001b[39mfind_stack_level(),\n\u001b[0;32m    330\u001b[0m     )\n\u001b[1;32m--> 331\u001b[0m \u001b[38;5;28;01mreturn\u001b[39;00m func(\u001b[38;5;241m*\u001b[39margs, \u001b[38;5;241m*\u001b[39m\u001b[38;5;241m*\u001b[39mkwargs)\n",
      "File \u001b[1;32mC:\\Users\\Dhilip\\Lib\\site-packages\\pandas\\core\\frame.py:6923\u001b[0m, in \u001b[0;36mDataFrame.sort_values\u001b[1;34m(self, by, axis, ascending, inplace, kind, na_position, ignore_index, key)\u001b[0m\n\u001b[0;32m   6920\u001b[0m     \u001b[38;5;28;01mif\u001b[39;00m \u001b[38;5;28misinstance\u001b[39m(ascending, (\u001b[38;5;28mtuple\u001b[39m, \u001b[38;5;28mlist\u001b[39m)):\n\u001b[0;32m   6921\u001b[0m         ascending \u001b[38;5;241m=\u001b[39m ascending[\u001b[38;5;241m0\u001b[39m]\n\u001b[1;32m-> 6923\u001b[0m     indexer \u001b[38;5;241m=\u001b[39m nargsort(\n\u001b[0;32m   6924\u001b[0m         k, kind\u001b[38;5;241m=\u001b[39mkind, ascending\u001b[38;5;241m=\u001b[39mascending, na_position\u001b[38;5;241m=\u001b[39mna_position, key\u001b[38;5;241m=\u001b[39mkey\n\u001b[0;32m   6925\u001b[0m     )\n\u001b[0;32m   6926\u001b[0m \u001b[38;5;28;01melse\u001b[39;00m:\n\u001b[0;32m   6927\u001b[0m     \u001b[38;5;28;01mreturn\u001b[39;00m \u001b[38;5;28mself\u001b[39m\u001b[38;5;241m.\u001b[39mcopy()\n",
      "File \u001b[1;32mC:\\Users\\Dhilip\\Lib\\site-packages\\pandas\\core\\sorting.py:438\u001b[0m, in \u001b[0;36mnargsort\u001b[1;34m(items, kind, ascending, na_position, key, mask)\u001b[0m\n\u001b[0;32m    436\u001b[0m     non_nans \u001b[38;5;241m=\u001b[39m non_nans[::\u001b[38;5;241m-\u001b[39m\u001b[38;5;241m1\u001b[39m]\n\u001b[0;32m    437\u001b[0m     non_nan_idx \u001b[38;5;241m=\u001b[39m non_nan_idx[::\u001b[38;5;241m-\u001b[39m\u001b[38;5;241m1\u001b[39m]\n\u001b[1;32m--> 438\u001b[0m indexer \u001b[38;5;241m=\u001b[39m non_nan_idx[non_nans\u001b[38;5;241m.\u001b[39margsort(kind\u001b[38;5;241m=\u001b[39mkind)]\n\u001b[0;32m    439\u001b[0m \u001b[38;5;28;01mif\u001b[39;00m \u001b[38;5;129;01mnot\u001b[39;00m ascending:\n\u001b[0;32m    440\u001b[0m     indexer \u001b[38;5;241m=\u001b[39m indexer[::\u001b[38;5;241m-\u001b[39m\u001b[38;5;241m1\u001b[39m]\n",
      "\u001b[1;31mTypeError\u001b[0m: '>' not supported between instances of 'numpy.ndarray' and 'str'"
     ]
    }
   ],
   "source": [
    "df2 = df1.sort_values(by='Bangalore_Systems', axis=1, ascending=True, inplace=False)\n",
    "df2  ##  Error"
   ]
  },
  {
   "cell_type": "code",
   "execution_count": null,
   "id": "9624f2c1",
   "metadata": {},
   "outputs": [],
   "source": [
    "'abcd' > 'pqrs'"
   ]
  },
  {
   "cell_type": "code",
   "execution_count": null,
   "id": "551ed9d0",
   "metadata": {},
   "outputs": [],
   "source": [
    "123 > 456"
   ]
  },
  {
   "cell_type": "code",
   "execution_count": null,
   "id": "4be61c7e",
   "metadata": {},
   "outputs": [],
   "source": [
    "123 > 'abc'"
   ]
  },
  {
   "cell_type": "code",
   "execution_count": null,
   "id": "8655ef45",
   "metadata": {},
   "outputs": [],
   "source": [
    "df2 = df1[['Vol','Rev','Exp','EmpCnt']].sort_values(by='Bangalore_Breweries', axis=1, ascending=True, inplace=False)\n",
    "df2 "
   ]
  },
  {
   "cell_type": "code",
   "execution_count": null,
   "id": "12de7add",
   "metadata": {},
   "outputs": [],
   "source": [
    "df1.select_dtypes(np.number).sort_values(by='Bangalore_Breweries', axis=1, ascending=True, inplace=False)"
   ]
  },
  {
   "cell_type": "code",
   "execution_count": null,
   "id": "90ef811a",
   "metadata": {},
   "outputs": [],
   "source": [
    "df1.select_dtypes(object).sort_values(by='Bangalore_Breweries', axis=1, ascending=True, inplace=False)"
   ]
  },
  {
   "cell_type": "code",
   "execution_count": null,
   "id": "8f356d30",
   "metadata": {},
   "outputs": [],
   "source": [
    "'abcd' > 'pqrs'"
   ]
  },
  {
   "cell_type": "code",
   "execution_count": null,
   "id": "4f337c47",
   "metadata": {},
   "outputs": [],
   "source": [
    "ord('B')"
   ]
  },
  {
   "cell_type": "code",
   "execution_count": null,
   "id": "1742972e",
   "metadata": {},
   "outputs": [],
   "source": [
    "ord('R')"
   ]
  },
  {
   "cell_type": "code",
   "execution_count": null,
   "id": "0e9fdb73",
   "metadata": {},
   "outputs": [],
   "source": [
    "ord('l')"
   ]
  },
  {
   "cell_type": "code",
   "execution_count": null,
   "id": "a0d3cb7e",
   "metadata": {},
   "outputs": [],
   "source": [
    "df1.select_dtypes(np.int64)"
   ]
  },
  {
   "cell_type": "code",
   "execution_count": 167,
   "id": "481bb7ee",
   "metadata": {},
   "outputs": [
    {
     "data": {
      "text/html": [
       "<div>\n",
       "<style scoped>\n",
       "    .dataframe tbody tr th:only-of-type {\n",
       "        vertical-align: middle;\n",
       "    }\n",
       "\n",
       "    .dataframe tbody tr th {\n",
       "        vertical-align: top;\n",
       "    }\n",
       "\n",
       "    .dataframe thead th {\n",
       "        text-align: right;\n",
       "    }\n",
       "</style>\n",
       "<table border=\"1\" class=\"dataframe\">\n",
       "  <thead>\n",
       "    <tr style=\"text-align: right;\">\n",
       "      <th></th>\n",
       "      <th>Rev</th>\n",
       "      <th>EmpCnt</th>\n",
       "    </tr>\n",
       "  </thead>\n",
       "  <tbody>\n",
       "    <tr>\n",
       "      <th>Kolkata_FMCG</th>\n",
       "      <td>874.4</td>\n",
       "      <td>1379</td>\n",
       "    </tr>\n",
       "    <tr>\n",
       "      <th>NCR_Leagles</th>\n",
       "      <td>863.5</td>\n",
       "      <td>1935</td>\n",
       "    </tr>\n",
       "    <tr>\n",
       "      <th>Bombay_Sporting</th>\n",
       "      <td>839.8</td>\n",
       "      <td>154</td>\n",
       "    </tr>\n",
       "    <tr>\n",
       "      <th>Bombay_Finance</th>\n",
       "      <td>917.0</td>\n",
       "      <td>1443</td>\n",
       "    </tr>\n",
       "    <tr>\n",
       "      <th>Bangalore_Systems</th>\n",
       "      <td>881.6</td>\n",
       "      <td>1361</td>\n",
       "    </tr>\n",
       "    <tr>\n",
       "      <th>Chennai_Shipping</th>\n",
       "      <td>821.0</td>\n",
       "      <td>1154</td>\n",
       "    </tr>\n",
       "    <tr>\n",
       "      <th>Bangalore_Breweries</th>\n",
       "      <td>805.0</td>\n",
       "      <td>119</td>\n",
       "    </tr>\n",
       "    <tr>\n",
       "      <th>Chennai_Chemicals</th>\n",
       "      <td>863.2</td>\n",
       "      <td>1656</td>\n",
       "    </tr>\n",
       "    <tr>\n",
       "      <th>Indi_Services</th>\n",
       "      <td>733.0</td>\n",
       "      <td>13023</td>\n",
       "    </tr>\n",
       "  </tbody>\n",
       "</table>\n",
       "</div>"
      ],
      "text/plain": [
       "                       Rev  EmpCnt\n",
       "Kolkata_FMCG         874.4    1379\n",
       "NCR_Leagles          863.5    1935\n",
       "Bombay_Sporting      839.8     154\n",
       "Bombay_Finance       917.0    1443\n",
       "Bangalore_Systems    881.6    1361\n",
       "Chennai_Shipping     821.0    1154\n",
       "Bangalore_Breweries  805.0     119\n",
       "Chennai_Chemicals    863.2    1656\n",
       "Indi_Services        733.0   13023"
      ]
     },
     "execution_count": 167,
     "metadata": {},
     "output_type": "execute_result"
    }
   ],
   "source": [
    "df1[[\"EmpCnt\", \"Rev\"]].sort_values(by=\"Bangalore_Systems\", axis=1)\n"
   ]
  },
  {
   "cell_type": "markdown",
   "id": "01dc0b67",
   "metadata": {},
   "source": [
    "# Ranking"
   ]
  },
  {
   "cell_type": "code",
   "execution_count": null,
   "id": "ee66c73f",
   "metadata": {},
   "outputs": [],
   "source": [
    "df1 = pd.read_csv('https://raw.githubusercontent.com/vcsgithub/vcsgithub.github.io/master/lds1.csv')\n",
    "df1"
   ]
  },
  {
   "cell_type": "code",
   "execution_count": null,
   "id": "9873d4b4",
   "metadata": {},
   "outputs": [],
   "source": [
    "df1['Volrank'] = df1.Vol.rank(axis=0,method='average', ascending=False)"
   ]
  },
  {
   "cell_type": "code",
   "execution_count": null,
   "id": "56a176fc",
   "metadata": {},
   "outputs": [],
   "source": [
    "df1"
   ]
  },
  {
   "cell_type": "code",
   "execution_count": null,
   "id": "c4012baf",
   "metadata": {},
   "outputs": [],
   "source": [
    "df1['Volrank'] = df1.Vol.rank(axis=0,method='dense', ascending=False)\n",
    "df1"
   ]
  },
  {
   "cell_type": "code",
   "execution_count": null,
   "id": "d2774667",
   "metadata": {},
   "outputs": [],
   "source": [
    "df1['Volrank'] = df1.Vol.rank(axis=0,method='min', ascending=False)\n",
    "df1"
   ]
  },
  {
   "cell_type": "code",
   "execution_count": null,
   "id": "b0f4444e",
   "metadata": {},
   "outputs": [],
   "source": [
    "df1['Volrank'] = df1.Vol.rank(axis=0,method='max', ascending=False)\n",
    "df1"
   ]
  },
  {
   "cell_type": "code",
   "execution_count": null,
   "id": "608eb85e",
   "metadata": {},
   "outputs": [],
   "source": [
    "df1['Volrank'] = df1.Vol.rank(axis=0,method='first', ascending=False)\n",
    "df1"
   ]
  },
  {
   "cell_type": "markdown",
   "id": "1882298f",
   "metadata": {},
   "source": [
    "read/write from/to difference file formats"
   ]
  },
  {
   "cell_type": "code",
   "execution_count": null,
   "id": "0120b5bf",
   "metadata": {},
   "outputs": [],
   "source": [
    "df1"
   ]
  },
  {
   "cell_type": "code",
   "execution_count": null,
   "id": "a2088bff",
   "metadata": {},
   "outputs": [],
   "source": [
    "df1.to_csv('file.csv')"
   ]
  },
  {
   "cell_type": "code",
   "execution_count": null,
   "id": "8b399bad",
   "metadata": {},
   "outputs": [],
   "source": [
    "df1.to_json('file.json')"
   ]
  },
  {
   "cell_type": "code",
   "execution_count": null,
   "id": "f52fa47b",
   "metadata": {},
   "outputs": [],
   "source": [
    "df1.to_excel('file.xlsx')"
   ]
  },
  {
   "cell_type": "code",
   "execution_count": null,
   "id": "5a1bf548",
   "metadata": {},
   "outputs": [],
   "source": [
    "df1.to_html('file.html')"
   ]
  },
  {
   "cell_type": "code",
   "execution_count": null,
   "id": "3c2e1414",
   "metadata": {},
   "outputs": [],
   "source": [
    "df2 = pd.read_csv('file.csv')\n",
    "df2"
   ]
  },
  {
   "cell_type": "code",
   "execution_count": null,
   "id": "65c19623",
   "metadata": {},
   "outputs": [],
   "source": [
    "df2 = pd.read_csv('file.csv', index_col=0)\n",
    "df2"
   ]
  },
  {
   "cell_type": "code",
   "execution_count": null,
   "id": "b7371359",
   "metadata": {},
   "outputs": [],
   "source": [
    "df2 = pd.read_excel('file.xlsx', index_col=0)\n",
    "df2"
   ]
  },
  {
   "cell_type": "code",
   "execution_count": null,
   "id": "5e25f323",
   "metadata": {},
   "outputs": [],
   "source": [
    "df2 = pd.read_json('file.json')\n",
    "df2"
   ]
  },
  {
   "cell_type": "code",
   "execution_count": null,
   "id": "cafd8060",
   "metadata": {},
   "outputs": [],
   "source": [
    "listofdf = pd.read_html('file.html', index_col=0)\n",
    "listofdf[0]"
   ]
  },
  {
   "cell_type": "code",
   "execution_count": null,
   "id": "45db3a5a",
   "metadata": {},
   "outputs": [],
   "source": [
    "listofdf[0]"
   ]
  },
  {
   "cell_type": "markdown",
   "id": "7a74cc98",
   "metadata": {},
   "source": [
    "# Drops"
   ]
  },
  {
   "cell_type": "code",
   "execution_count": null,
   "id": "d41e3637",
   "metadata": {},
   "outputs": [],
   "source": [
    "df1 = pd.read_csv('https://raw.githubusercontent.com/vcsgithub/vcsgithub.github.io/master/lds1.csv')\n",
    "df1"
   ]
  },
  {
   "cell_type": "code",
   "execution_count": null,
   "id": "ac4a6d9f",
   "metadata": {},
   "outputs": [],
   "source": [
    "df2 = df1.drop(columns='Vol')\n",
    "df2"
   ]
  },
  {
   "cell_type": "code",
   "execution_count": null,
   "id": "8da79d05",
   "metadata": {},
   "outputs": [],
   "source": [
    "df2 = df1.drop(columns=['Vol','HQ','GST'])\n",
    "df2"
   ]
  },
  {
   "cell_type": "code",
   "execution_count": null,
   "id": "0b817cbf",
   "metadata": {},
   "outputs": [],
   "source": [
    "df2 = df1.drop(columns=['Vol','HQ','GST'], index=['Bombay_Sporting', 'Bangalore_Breweries'])\n",
    "df2"
   ]
  },
  {
   "cell_type": "code",
   "execution_count": null,
   "id": "8bd412a2",
   "metadata": {},
   "outputs": [],
   "source": [
    "df2 = df1.drop(inplace=True, columns=['Vol','HQ','GST'], index=['Bombay_Sporting', 'Bangalore_Breweries'])\n",
    "df2"
   ]
  },
  {
   "cell_type": "code",
   "execution_count": null,
   "id": "f8c5727c",
   "metadata": {},
   "outputs": [],
   "source": [
    "df1"
   ]
  },
  {
   "cell_type": "code",
   "execution_count": null,
   "id": "d12bc09d",
   "metadata": {},
   "outputs": [],
   "source": [
    "df2 = df1.drop(columns=\"Rev\")"
   ]
  },
  {
   "cell_type": "code",
   "execution_count": null,
   "id": "38e2c9ae",
   "metadata": {},
   "outputs": [],
   "source": [
    "df2"
   ]
  },
  {
   "cell_type": "code",
   "execution_count": null,
   "id": "71a1cc40",
   "metadata": {},
   "outputs": [],
   "source": [
    "df1 = pd.read_csv('https://raw.githubusercontent.com/vcsgithub/vcsgithub.github.io/master/lds1.csv')\n",
    "df1"
   ]
  },
  {
   "cell_type": "code",
   "execution_count": null,
   "id": "3cd24d81",
   "metadata": {},
   "outputs": [],
   "source": [
    "df1.drop(labels='Vol', axis=1)"
   ]
  },
  {
   "cell_type": "code",
   "execution_count": null,
   "id": "6a7f1950",
   "metadata": {},
   "outputs": [],
   "source": [
    "df1.drop(labels=['Vol','HQ'], axis=1)"
   ]
  },
  {
   "cell_type": "code",
   "execution_count": null,
   "id": "1d6e11ab",
   "metadata": {},
   "outputs": [],
   "source": [
    "df1.drop(labels=['Bombay_Finance','Chennai_Shipping'], axis=0)"
   ]
  },
  {
   "cell_type": "code",
   "execution_count": null,
   "id": "306c6f4f",
   "metadata": {},
   "outputs": [],
   "source": [
    "np.dsplit(n8_12,4)\n"
   ]
  },
  {
   "cell_type": "markdown",
   "id": "ea49db95",
   "metadata": {},
   "source": [
    "dsplit"
   ]
  },
  {
   "cell_type": "code",
   "execution_count": null,
   "id": "d94897b3",
   "metadata": {},
   "outputs": [],
   "source": [
    "n4_8_24 = np.arange(4*8*24).reshape(4,8,24)\n",
    "print(n4_8_24.shape)\n",
    "\n",
    "print()\n",
    "\n",
    "n = np.dsplit(n4_8_24,4)\n",
    "print(len(n))\n",
    "\n",
    "print()\n",
    "\n",
    "print(n[0].shape)\n",
    "\n",
    "print(n[0])"
   ]
  },
  {
   "cell_type": "markdown",
   "id": "0f3ae09d",
   "metadata": {},
   "source": [
    "# 25-Aug-2021.  Pandas"
   ]
  },
  {
   "cell_type": "markdown",
   "id": "742d614c",
   "metadata": {},
   "source": [
    "# Pivot Table"
   ]
  },
  {
   "cell_type": "code",
   "execution_count": null,
   "id": "cdc123e8",
   "metadata": {},
   "outputs": [],
   "source": [
    "df1 = pd.read_csv('https://raw.githubusercontent.com/vcsgithub/vcsgithub.github.io/master/lds1.csv')\n",
    "df1"
   ]
  },
  {
   "cell_type": "code",
   "execution_count": null,
   "id": "82d3db70",
   "metadata": {},
   "outputs": [],
   "source": [
    "dfp = pd.pivot_table(df1, index='Sector', aggfunc='mean')\n",
    "dfp"
   ]
  },
  {
   "cell_type": "code",
   "execution_count": null,
   "id": "6063943e",
   "metadata": {},
   "outputs": [],
   "source": [
    "dfp = pd.pivot_table(df1, index='Sector', aggfunc='max')\n",
    "dfp"
   ]
  },
  {
   "cell_type": "code",
   "execution_count": null,
   "id": "0e3d630a",
   "metadata": {},
   "outputs": [],
   "source": [
    "dfp = pd.pivot_table(df1, index='Sector', aggfunc='min')\n",
    "dfp"
   ]
  },
  {
   "cell_type": "code",
   "execution_count": null,
   "id": "07a0a95f",
   "metadata": {},
   "outputs": [],
   "source": [
    "dfp = pd.pivot_table(df1, index='Sector', aggfunc=np.min)\n",
    "dfp"
   ]
  },
  {
   "cell_type": "code",
   "execution_count": null,
   "id": "0519c4de",
   "metadata": {},
   "outputs": [],
   "source": [
    "dfp = pd.pivot_table(df1, index='Sector', aggfunc=[np.min,np.max, np.mean])\n",
    "dfp"
   ]
  },
  {
   "cell_type": "code",
   "execution_count": null,
   "id": "83833082",
   "metadata": {},
   "outputs": [],
   "source": [
    "dfp = pd.pivot_table(df1, index='Sector', values=['Rev','Vol'],aggfunc=[np.min,np.max, np.mean])\n",
    "dfp"
   ]
  },
  {
   "cell_type": "code",
   "execution_count": null,
   "id": "0cf52808",
   "metadata": {},
   "outputs": [],
   "source": [
    "dfp = pd.pivot_table(df1, index=['Sector','GST'], values=['Rev','Vol'],aggfunc=['count',np.min,np.max, np.mean])\n",
    "dfp"
   ]
  },
  {
   "cell_type": "code",
   "execution_count": null,
   "id": "5452294d",
   "metadata": {},
   "outputs": [],
   "source": [
    "dfp = pd.pivot_table(df1, index=['Sector'], columns='GST',values=['Rev','Vol'],aggfunc=['count',np.mean])\n",
    "dfp"
   ]
  },
  {
   "cell_type": "code",
   "execution_count": null,
   "id": "a1973418",
   "metadata": {},
   "outputs": [],
   "source": [
    "pd.pivot_table(df1, index = 'HQ', values = ['Rev','Exp'], aggfunc=np.max)"
   ]
  },
  {
   "cell_type": "code",
   "execution_count": null,
   "id": "18c27a3f",
   "metadata": {},
   "outputs": [],
   "source": [
    "dfp = pd.pivot_table(df1, index='Sector' ,values='Vol',aggfunc=[np.max,np.min])\n",
    "dfp"
   ]
  },
  {
   "cell_type": "code",
   "execution_count": null,
   "id": "cf094236",
   "metadata": {},
   "outputs": [],
   "source": [
    "def diffmaxmin(ps1):\n",
    "    #print(ps1)\n",
    "    #print()\n",
    "    d = ps1.max() - ps1.min()\n",
    "    return d"
   ]
  },
  {
   "cell_type": "code",
   "execution_count": null,
   "id": "23351aab",
   "metadata": {},
   "outputs": [],
   "source": [
    "dfp = pd.pivot_table(df1, index='Sector' ,values='Vol',aggfunc=[np.max,np.min,diffmaxmin])\n",
    "dfp"
   ]
  },
  {
   "cell_type": "code",
   "execution_count": null,
   "id": "f9f579da",
   "metadata": {},
   "outputs": [],
   "source": [
    "df1.loc[df1.Sector=='Gov','Vol']"
   ]
  },
  {
   "cell_type": "code",
   "execution_count": null,
   "id": "a1092de9",
   "metadata": {},
   "outputs": [],
   "source": [
    "dfp = pd.pivot_table(df1, index='Sector' ,values=['Vol','Rev'],aggfunc=[np.max,np.min,diffmaxmin])\n",
    "dfp"
   ]
  },
  {
   "cell_type": "markdown",
   "id": "1ba52867",
   "metadata": {},
   "source": [
    "# Groupby"
   ]
  },
  {
   "cell_type": "code",
   "execution_count": null,
   "id": "95f0085e",
   "metadata": {},
   "outputs": [],
   "source": [
    "df1"
   ]
  },
  {
   "cell_type": "code",
   "execution_count": null,
   "id": "cbbfe083",
   "metadata": {},
   "outputs": [],
   "source": [
    "dfg = df1.groupby(by='Sector')\n",
    "print(type(dfg))\n",
    "print(dfg)"
   ]
  },
  {
   "cell_type": "code",
   "execution_count": null,
   "id": "c64bf869",
   "metadata": {},
   "outputs": [],
   "source": [
    "list(dfg)"
   ]
  },
  {
   "cell_type": "code",
   "execution_count": null,
   "id": "1f3aa35f",
   "metadata": {},
   "outputs": [],
   "source": [
    "for item in dfg:\n",
    "    print(type(item))\n",
    "    print(item)\n",
    "    print()"
   ]
  },
  {
   "cell_type": "code",
   "execution_count": null,
   "id": "38d3c224",
   "metadata": {},
   "outputs": [],
   "source": [
    "dfglist = list(dfg)\n",
    "dfglist[0]"
   ]
  },
  {
   "cell_type": "code",
   "execution_count": null,
   "id": "1b9bb3e2",
   "metadata": {},
   "outputs": [],
   "source": [
    "print(dfglist[2][0])\n",
    "print(dfglist[2][1])"
   ]
  },
  {
   "cell_type": "code",
   "execution_count": null,
   "id": "45958129",
   "metadata": {},
   "outputs": [],
   "source": [
    "dfglist[0][1]"
   ]
  },
  {
   "cell_type": "code",
   "execution_count": null,
   "id": "33b42af1",
   "metadata": {},
   "outputs": [],
   "source": [
    "pd.set_option('display.width',100)"
   ]
  },
  {
   "cell_type": "code",
   "execution_count": 174,
   "id": "31b5874d",
   "metadata": {},
   "outputs": [
    {
     "name": "stderr",
     "output_type": "stream",
     "text": [
      "C:\\Users\\dhili\\AppData\\Local\\Temp\\ipykernel_28184\\2334218767.py:1: FutureWarning: The default value of numeric_only in DataFrameGroupBy.mean is deprecated. In a future version, numeric_only will default to False. Either specify numeric_only or select only columns which should be valid for the function.\n",
      "  df1.groupby(by='Sector').mean()\n"
     ]
    },
    {
     "data": {
      "text/html": [
       "<div>\n",
       "<style scoped>\n",
       "    .dataframe tbody tr th:only-of-type {\n",
       "        vertical-align: middle;\n",
       "    }\n",
       "\n",
       "    .dataframe tbody tr th {\n",
       "        vertical-align: top;\n",
       "    }\n",
       "\n",
       "    .dataframe thead th {\n",
       "        text-align: right;\n",
       "    }\n",
       "</style>\n",
       "<table border=\"1\" class=\"dataframe\">\n",
       "  <thead>\n",
       "    <tr style=\"text-align: right;\">\n",
       "      <th></th>\n",
       "      <th>Vol</th>\n",
       "      <th>Rev</th>\n",
       "      <th>Exp</th>\n",
       "      <th>EmpCnt</th>\n",
       "      <th>MNC</th>\n",
       "      <th>gvolrank</th>\n",
       "    </tr>\n",
       "    <tr>\n",
       "      <th>Sector</th>\n",
       "      <th></th>\n",
       "      <th></th>\n",
       "      <th></th>\n",
       "      <th></th>\n",
       "      <th></th>\n",
       "      <th></th>\n",
       "    </tr>\n",
       "  </thead>\n",
       "  <tbody>\n",
       "    <tr>\n",
       "      <th>Gov</th>\n",
       "      <td>927.0</td>\n",
       "      <td>807.30</td>\n",
       "      <td>629.5</td>\n",
       "      <td>7192.0</td>\n",
       "      <td>0.0</td>\n",
       "      <td>1.5</td>\n",
       "    </tr>\n",
       "    <tr>\n",
       "      <th>Pub</th>\n",
       "      <td>942.6</td>\n",
       "      <td>867.82</td>\n",
       "      <td>645.6</td>\n",
       "      <td>1513.4</td>\n",
       "      <td>0.6</td>\n",
       "      <td>3.0</td>\n",
       "    </tr>\n",
       "    <tr>\n",
       "      <th>Pvt</th>\n",
       "      <td>948.5</td>\n",
       "      <td>822.40</td>\n",
       "      <td>755.0</td>\n",
       "      <td>136.5</td>\n",
       "      <td>0.5</td>\n",
       "      <td>1.5</td>\n",
       "    </tr>\n",
       "  </tbody>\n",
       "</table>\n",
       "</div>"
      ],
      "text/plain": [
       "          Vol     Rev    Exp  EmpCnt  MNC  gvolrank\n",
       "Sector                                             \n",
       "Gov     927.0  807.30  629.5  7192.0  0.0       1.5\n",
       "Pub     942.6  867.82  645.6  1513.4  0.6       3.0\n",
       "Pvt     948.5  822.40  755.0   136.5  0.5       1.5"
      ]
     },
     "execution_count": 174,
     "metadata": {},
     "output_type": "execute_result"
    }
   ],
   "source": [
    "df1.groupby(by='Sector').mean()"
   ]
  },
  {
   "cell_type": "code",
   "execution_count": 175,
   "id": "5d7151c5",
   "metadata": {},
   "outputs": [
    {
     "data": {
      "text/html": [
       "<div>\n",
       "<style scoped>\n",
       "    .dataframe tbody tr th:only-of-type {\n",
       "        vertical-align: middle;\n",
       "    }\n",
       "\n",
       "    .dataframe tbody tr th {\n",
       "        vertical-align: top;\n",
       "    }\n",
       "\n",
       "    .dataframe thead th {\n",
       "        text-align: right;\n",
       "    }\n",
       "</style>\n",
       "<table border=\"1\" class=\"dataframe\">\n",
       "  <thead>\n",
       "    <tr style=\"text-align: right;\">\n",
       "      <th></th>\n",
       "      <th>Vol</th>\n",
       "      <th>Rev</th>\n",
       "      <th>Exp</th>\n",
       "      <th>EmpCnt</th>\n",
       "      <th>HQ</th>\n",
       "      <th>MNC</th>\n",
       "      <th>StockID</th>\n",
       "      <th>GST</th>\n",
       "      <th>Started</th>\n",
       "      <th>gvolrank</th>\n",
       "    </tr>\n",
       "    <tr>\n",
       "      <th>Sector</th>\n",
       "      <th></th>\n",
       "      <th></th>\n",
       "      <th></th>\n",
       "      <th></th>\n",
       "      <th></th>\n",
       "      <th></th>\n",
       "      <th></th>\n",
       "      <th></th>\n",
       "      <th></th>\n",
       "      <th></th>\n",
       "    </tr>\n",
       "  </thead>\n",
       "  <tbody>\n",
       "    <tr>\n",
       "      <th>Gov</th>\n",
       "      <td>954</td>\n",
       "      <td>881.6</td>\n",
       "      <td>650</td>\n",
       "      <td>13023</td>\n",
       "      <td>NCR</td>\n",
       "      <td>0</td>\n",
       "      <td>INDI</td>\n",
       "      <td>Services</td>\n",
       "      <td>Mar 1920</td>\n",
       "      <td>2.0</td>\n",
       "    </tr>\n",
       "    <tr>\n",
       "      <th>Pub</th>\n",
       "      <td>992</td>\n",
       "      <td>917.0</td>\n",
       "      <td>676</td>\n",
       "      <td>1935</td>\n",
       "      <td>NCR</td>\n",
       "      <td>1</td>\n",
       "      <td>SHIP</td>\n",
       "      <td>Services</td>\n",
       "      <td>Nov 1930</td>\n",
       "      <td>5.0</td>\n",
       "    </tr>\n",
       "    <tr>\n",
       "      <th>Pvt</th>\n",
       "      <td>966</td>\n",
       "      <td>839.8</td>\n",
       "      <td>895</td>\n",
       "      <td>154</td>\n",
       "      <td>Mum</td>\n",
       "      <td>1</td>\n",
       "      <td>SPRT</td>\n",
       "      <td>Services</td>\n",
       "      <td>Oct 1971</td>\n",
       "      <td>2.0</td>\n",
       "    </tr>\n",
       "  </tbody>\n",
       "</table>\n",
       "</div>"
      ],
      "text/plain": [
       "        Vol    Rev  Exp  EmpCnt   HQ  MNC StockID       GST   Started  gvolrank\n",
       "Sector                                                                         \n",
       "Gov     954  881.6  650   13023  NCR    0    INDI  Services  Mar 1920       2.0\n",
       "Pub     992  917.0  676    1935  NCR    1    SHIP  Services  Nov 1930       5.0\n",
       "Pvt     966  839.8  895     154  Mum    1    SPRT  Services  Oct 1971       2.0"
      ]
     },
     "execution_count": 175,
     "metadata": {},
     "output_type": "execute_result"
    }
   ],
   "source": [
    "df1.groupby(by='Sector').max()"
   ]
  },
  {
   "cell_type": "code",
   "execution_count": 176,
   "id": "1c563388",
   "metadata": {},
   "outputs": [
    {
     "data": {
      "text/plain": [
       "Sector\n",
       "Gov    954\n",
       "Pub    992\n",
       "Pvt    966\n",
       "Name: Vol, dtype: int64"
      ]
     },
     "execution_count": 176,
     "metadata": {},
     "output_type": "execute_result"
    }
   ],
   "source": [
    "df1.groupby(by='Sector').max()['Vol']"
   ]
  },
  {
   "cell_type": "code",
   "execution_count": 177,
   "id": "b94beb88",
   "metadata": {},
   "outputs": [
    {
     "data": {
      "text/plain": [
       "Sector\n",
       "Gov    954\n",
       "Pub    992\n",
       "Pvt    966\n",
       "Name: Vol, dtype: int64"
      ]
     },
     "execution_count": 177,
     "metadata": {},
     "output_type": "execute_result"
    }
   ],
   "source": [
    "df1.groupby(by='Sector')['Vol'].max()"
   ]
  },
  {
   "cell_type": "code",
   "execution_count": 178,
   "id": "46b82c05",
   "metadata": {},
   "outputs": [
    {
     "data": {
      "text/plain": [
       "Sector\n",
       "Gov    954\n",
       "Pub    992\n",
       "Pvt    966\n",
       "Name: Vol, dtype: int64"
      ]
     },
     "execution_count": 178,
     "metadata": {},
     "output_type": "execute_result"
    }
   ],
   "source": [
    "df1.groupby(by='Sector')['Vol'].agg('max')"
   ]
  },
  {
   "cell_type": "code",
   "execution_count": 179,
   "id": "4c168933",
   "metadata": {},
   "outputs": [
    {
     "data": {
      "text/html": [
       "<div>\n",
       "<style scoped>\n",
       "    .dataframe tbody tr th:only-of-type {\n",
       "        vertical-align: middle;\n",
       "    }\n",
       "\n",
       "    .dataframe tbody tr th {\n",
       "        vertical-align: top;\n",
       "    }\n",
       "\n",
       "    .dataframe thead th {\n",
       "        text-align: right;\n",
       "    }\n",
       "</style>\n",
       "<table border=\"1\" class=\"dataframe\">\n",
       "  <thead>\n",
       "    <tr style=\"text-align: right;\">\n",
       "      <th></th>\n",
       "      <th>max</th>\n",
       "      <th>min</th>\n",
       "    </tr>\n",
       "    <tr>\n",
       "      <th>Sector</th>\n",
       "      <th></th>\n",
       "      <th></th>\n",
       "    </tr>\n",
       "  </thead>\n",
       "  <tbody>\n",
       "    <tr>\n",
       "      <th>Gov</th>\n",
       "      <td>954</td>\n",
       "      <td>900</td>\n",
       "    </tr>\n",
       "    <tr>\n",
       "      <th>Pub</th>\n",
       "      <td>992</td>\n",
       "      <td>899</td>\n",
       "    </tr>\n",
       "    <tr>\n",
       "      <th>Pvt</th>\n",
       "      <td>966</td>\n",
       "      <td>931</td>\n",
       "    </tr>\n",
       "  </tbody>\n",
       "</table>\n",
       "</div>"
      ],
      "text/plain": [
       "        max  min\n",
       "Sector          \n",
       "Gov     954  900\n",
       "Pub     992  899\n",
       "Pvt     966  931"
      ]
     },
     "execution_count": 179,
     "metadata": {},
     "output_type": "execute_result"
    }
   ],
   "source": [
    "df1.groupby(by='Sector')['Vol'].agg(['max','min'])"
   ]
  },
  {
   "cell_type": "code",
   "execution_count": 180,
   "id": "0259a942",
   "metadata": {},
   "outputs": [
    {
     "data": {
      "text/html": [
       "<div>\n",
       "<style scoped>\n",
       "    .dataframe tbody tr th:only-of-type {\n",
       "        vertical-align: middle;\n",
       "    }\n",
       "\n",
       "    .dataframe tbody tr th {\n",
       "        vertical-align: top;\n",
       "    }\n",
       "\n",
       "    .dataframe thead th {\n",
       "        text-align: right;\n",
       "    }\n",
       "</style>\n",
       "<table border=\"1\" class=\"dataframe\">\n",
       "  <thead>\n",
       "    <tr style=\"text-align: right;\">\n",
       "      <th></th>\n",
       "      <th>max</th>\n",
       "      <th>min</th>\n",
       "      <th>mean</th>\n",
       "    </tr>\n",
       "    <tr>\n",
       "      <th>Sector</th>\n",
       "      <th></th>\n",
       "      <th></th>\n",
       "      <th></th>\n",
       "    </tr>\n",
       "  </thead>\n",
       "  <tbody>\n",
       "    <tr>\n",
       "      <th>Gov</th>\n",
       "      <td>954</td>\n",
       "      <td>900</td>\n",
       "      <td>927.0</td>\n",
       "    </tr>\n",
       "    <tr>\n",
       "      <th>Pub</th>\n",
       "      <td>992</td>\n",
       "      <td>899</td>\n",
       "      <td>942.6</td>\n",
       "    </tr>\n",
       "    <tr>\n",
       "      <th>Pvt</th>\n",
       "      <td>966</td>\n",
       "      <td>931</td>\n",
       "      <td>948.5</td>\n",
       "    </tr>\n",
       "  </tbody>\n",
       "</table>\n",
       "</div>"
      ],
      "text/plain": [
       "        max  min   mean\n",
       "Sector                 \n",
       "Gov     954  900  927.0\n",
       "Pub     992  899  942.6\n",
       "Pvt     966  931  948.5"
      ]
     },
     "execution_count": 180,
     "metadata": {},
     "output_type": "execute_result"
    }
   ],
   "source": [
    "df1.groupby(by='Sector')['Vol'].agg(['max','min', np.mean])"
   ]
  },
  {
   "cell_type": "code",
   "execution_count": 181,
   "id": "60cd3f32",
   "metadata": {},
   "outputs": [
    {
     "name": "stderr",
     "output_type": "stream",
     "text": [
      "C:\\Users\\dhili\\AppData\\Local\\Temp\\ipykernel_28184\\2516234217.py:1: FutureWarning: ['HQ', 'StockID', 'GST', 'Started'] did not aggregate successfully. If any error is raised this will raise in a future version of pandas. Drop these columns/ops to avoid this warning.\n",
      "  df1.groupby(by='Sector').agg(['max','min', np.mean])\n"
     ]
    },
    {
     "data": {
      "text/html": [
       "<div>\n",
       "<style scoped>\n",
       "    .dataframe tbody tr th:only-of-type {\n",
       "        vertical-align: middle;\n",
       "    }\n",
       "\n",
       "    .dataframe tbody tr th {\n",
       "        vertical-align: top;\n",
       "    }\n",
       "\n",
       "    .dataframe thead tr th {\n",
       "        text-align: left;\n",
       "    }\n",
       "\n",
       "    .dataframe thead tr:last-of-type th {\n",
       "        text-align: right;\n",
       "    }\n",
       "</style>\n",
       "<table border=\"1\" class=\"dataframe\">\n",
       "  <thead>\n",
       "    <tr>\n",
       "      <th></th>\n",
       "      <th colspan=\"3\" halign=\"left\">Vol</th>\n",
       "      <th colspan=\"3\" halign=\"left\">Rev</th>\n",
       "      <th colspan=\"3\" halign=\"left\">Exp</th>\n",
       "      <th colspan=\"3\" halign=\"left\">EmpCnt</th>\n",
       "      <th colspan=\"3\" halign=\"left\">MNC</th>\n",
       "      <th colspan=\"3\" halign=\"left\">gvolrank</th>\n",
       "    </tr>\n",
       "    <tr>\n",
       "      <th></th>\n",
       "      <th>max</th>\n",
       "      <th>min</th>\n",
       "      <th>mean</th>\n",
       "      <th>max</th>\n",
       "      <th>min</th>\n",
       "      <th>mean</th>\n",
       "      <th>max</th>\n",
       "      <th>min</th>\n",
       "      <th>mean</th>\n",
       "      <th>max</th>\n",
       "      <th>min</th>\n",
       "      <th>mean</th>\n",
       "      <th>max</th>\n",
       "      <th>min</th>\n",
       "      <th>mean</th>\n",
       "      <th>max</th>\n",
       "      <th>min</th>\n",
       "      <th>mean</th>\n",
       "    </tr>\n",
       "    <tr>\n",
       "      <th>Sector</th>\n",
       "      <th></th>\n",
       "      <th></th>\n",
       "      <th></th>\n",
       "      <th></th>\n",
       "      <th></th>\n",
       "      <th></th>\n",
       "      <th></th>\n",
       "      <th></th>\n",
       "      <th></th>\n",
       "      <th></th>\n",
       "      <th></th>\n",
       "      <th></th>\n",
       "      <th></th>\n",
       "      <th></th>\n",
       "      <th></th>\n",
       "      <th></th>\n",
       "      <th></th>\n",
       "      <th></th>\n",
       "    </tr>\n",
       "  </thead>\n",
       "  <tbody>\n",
       "    <tr>\n",
       "      <th>Gov</th>\n",
       "      <td>954</td>\n",
       "      <td>900</td>\n",
       "      <td>927.0</td>\n",
       "      <td>881.6</td>\n",
       "      <td>733.0</td>\n",
       "      <td>807.30</td>\n",
       "      <td>650</td>\n",
       "      <td>609</td>\n",
       "      <td>629.5</td>\n",
       "      <td>13023</td>\n",
       "      <td>1361</td>\n",
       "      <td>7192.0</td>\n",
       "      <td>0</td>\n",
       "      <td>0</td>\n",
       "      <td>0.0</td>\n",
       "      <td>2.0</td>\n",
       "      <td>1.0</td>\n",
       "      <td>1.5</td>\n",
       "    </tr>\n",
       "    <tr>\n",
       "      <th>Pub</th>\n",
       "      <td>992</td>\n",
       "      <td>899</td>\n",
       "      <td>942.6</td>\n",
       "      <td>917.0</td>\n",
       "      <td>821.0</td>\n",
       "      <td>867.82</td>\n",
       "      <td>676</td>\n",
       "      <td>605</td>\n",
       "      <td>645.6</td>\n",
       "      <td>1935</td>\n",
       "      <td>1154</td>\n",
       "      <td>1513.4</td>\n",
       "      <td>1</td>\n",
       "      <td>0</td>\n",
       "      <td>0.6</td>\n",
       "      <td>5.0</td>\n",
       "      <td>1.0</td>\n",
       "      <td>3.0</td>\n",
       "    </tr>\n",
       "    <tr>\n",
       "      <th>Pvt</th>\n",
       "      <td>966</td>\n",
       "      <td>931</td>\n",
       "      <td>948.5</td>\n",
       "      <td>839.8</td>\n",
       "      <td>805.0</td>\n",
       "      <td>822.40</td>\n",
       "      <td>895</td>\n",
       "      <td>615</td>\n",
       "      <td>755.0</td>\n",
       "      <td>154</td>\n",
       "      <td>119</td>\n",
       "      <td>136.5</td>\n",
       "      <td>1</td>\n",
       "      <td>0</td>\n",
       "      <td>0.5</td>\n",
       "      <td>2.0</td>\n",
       "      <td>1.0</td>\n",
       "      <td>1.5</td>\n",
       "    </tr>\n",
       "  </tbody>\n",
       "</table>\n",
       "</div>"
      ],
      "text/plain": [
       "        Vol                Rev                 Exp             EmpCnt               MNC           \\\n",
       "        max  min   mean    max    min    mean  max  min   mean    max   min    mean max min mean   \n",
       "Sector                                                                                             \n",
       "Gov     954  900  927.0  881.6  733.0  807.30  650  609  629.5  13023  1361  7192.0   0   0  0.0   \n",
       "Pub     992  899  942.6  917.0  821.0  867.82  676  605  645.6   1935  1154  1513.4   1   0  0.6   \n",
       "Pvt     966  931  948.5  839.8  805.0  822.40  895  615  755.0    154   119   136.5   1   0  0.5   \n",
       "\n",
       "       gvolrank            \n",
       "            max  min mean  \n",
       "Sector                     \n",
       "Gov         2.0  1.0  1.5  \n",
       "Pub         5.0  1.0  3.0  \n",
       "Pvt         2.0  1.0  1.5  "
      ]
     },
     "execution_count": 181,
     "metadata": {},
     "output_type": "execute_result"
    }
   ],
   "source": [
    "df1.groupby(by='Sector').agg(['max','min', np.mean])"
   ]
  },
  {
   "cell_type": "code",
   "execution_count": 182,
   "id": "58066cb2",
   "metadata": {},
   "outputs": [
    {
     "ename": "NameError",
     "evalue": "name 'diffmaxmin' is not defined",
     "output_type": "error",
     "traceback": [
      "\u001b[1;31m---------------------------------------------------------------------------\u001b[0m",
      "\u001b[1;31mNameError\u001b[0m                                 Traceback (most recent call last)",
      "Cell \u001b[1;32mIn[182], line 1\u001b[0m\n\u001b[1;32m----> 1\u001b[0m df1\u001b[38;5;241m.\u001b[39mgroupby(by\u001b[38;5;241m=\u001b[39m\u001b[38;5;124m'\u001b[39m\u001b[38;5;124mSector\u001b[39m\u001b[38;5;124m'\u001b[39m)\u001b[38;5;241m.\u001b[39magg([\u001b[38;5;124m'\u001b[39m\u001b[38;5;124mmax\u001b[39m\u001b[38;5;124m'\u001b[39m,\u001b[38;5;124m'\u001b[39m\u001b[38;5;124mmin\u001b[39m\u001b[38;5;124m'\u001b[39m, diffmaxmin])\n",
      "\u001b[1;31mNameError\u001b[0m: name 'diffmaxmin' is not defined"
     ]
    }
   ],
   "source": [
    "df1.groupby(by='Sector').agg(['max','min', diffmaxmin])"
   ]
  },
  {
   "cell_type": "code",
   "execution_count": 183,
   "id": "5131cc52",
   "metadata": {},
   "outputs": [
    {
     "ename": "NameError",
     "evalue": "name 'diffmaxmin' is not defined",
     "output_type": "error",
     "traceback": [
      "\u001b[1;31m---------------------------------------------------------------------------\u001b[0m",
      "\u001b[1;31mNameError\u001b[0m                                 Traceback (most recent call last)",
      "Cell \u001b[1;32mIn[183], line 1\u001b[0m\n\u001b[1;32m----> 1\u001b[0m df1\u001b[38;5;241m.\u001b[39mgroupby(by\u001b[38;5;241m=\u001b[39m[\u001b[38;5;124m'\u001b[39m\u001b[38;5;124mSector\u001b[39m\u001b[38;5;124m'\u001b[39m,\u001b[38;5;124m'\u001b[39m\u001b[38;5;124mGST\u001b[39m\u001b[38;5;124m'\u001b[39m])\u001b[38;5;241m.\u001b[39magg([\u001b[38;5;124m'\u001b[39m\u001b[38;5;124mmax\u001b[39m\u001b[38;5;124m'\u001b[39m,\u001b[38;5;124m'\u001b[39m\u001b[38;5;124mmin\u001b[39m\u001b[38;5;124m'\u001b[39m, diffmaxmin])\n",
      "\u001b[1;31mNameError\u001b[0m: name 'diffmaxmin' is not defined"
     ]
    }
   ],
   "source": [
    "df1.groupby(by=['Sector','GST']).agg(['max','min', diffmaxmin])"
   ]
  },
  {
   "cell_type": "code",
   "execution_count": 184,
   "id": "f2e2188f",
   "metadata": {},
   "outputs": [
    {
     "ename": "NameError",
     "evalue": "name 'diffmaxmin' is not defined",
     "output_type": "error",
     "traceback": [
      "\u001b[1;31m---------------------------------------------------------------------------\u001b[0m",
      "\u001b[1;31mNameError\u001b[0m                                 Traceback (most recent call last)",
      "Cell \u001b[1;32mIn[184], line 1\u001b[0m\n\u001b[1;32m----> 1\u001b[0m df1\u001b[38;5;241m.\u001b[39mgroupby(by\u001b[38;5;241m=\u001b[39m[\u001b[38;5;124m'\u001b[39m\u001b[38;5;124mSector\u001b[39m\u001b[38;5;124m'\u001b[39m,\u001b[38;5;124m'\u001b[39m\u001b[38;5;124mGST\u001b[39m\u001b[38;5;124m'\u001b[39m])[\u001b[38;5;124m'\u001b[39m\u001b[38;5;124mVol\u001b[39m\u001b[38;5;124m'\u001b[39m]\u001b[38;5;241m.\u001b[39magg([\u001b[38;5;124m'\u001b[39m\u001b[38;5;124mmax\u001b[39m\u001b[38;5;124m'\u001b[39m,\u001b[38;5;124m'\u001b[39m\u001b[38;5;124mmin\u001b[39m\u001b[38;5;124m'\u001b[39m, diffmaxmin])\n",
      "\u001b[1;31mNameError\u001b[0m: name 'diffmaxmin' is not defined"
     ]
    }
   ],
   "source": [
    "df1.groupby(by=['Sector','GST'])['Vol'].agg(['max','min', diffmaxmin])"
   ]
  },
  {
   "cell_type": "code",
   "execution_count": 185,
   "id": "2f0f3d55",
   "metadata": {},
   "outputs": [],
   "source": [
    "df1['gvolrank'] = df1.groupby(by='Sector')['Vol'].rank()"
   ]
  },
  {
   "cell_type": "code",
   "execution_count": 186,
   "id": "838cd404",
   "metadata": {},
   "outputs": [
    {
     "data": {
      "text/plain": [
       "Sector\n",
       "Gov    954\n",
       "Pub    992\n",
       "Pvt    966\n",
       "Name: Vol, dtype: int64"
      ]
     },
     "execution_count": 186,
     "metadata": {},
     "output_type": "execute_result"
    }
   ],
   "source": [
    "df1.groupby(by='Sector')['Vol'].max()"
   ]
  },
  {
   "cell_type": "code",
   "execution_count": 187,
   "id": "3e8c29ae",
   "metadata": {},
   "outputs": [
    {
     "data": {
      "text/plain": [
       "Sector\n",
       "Gov    954\n",
       "Pub    992\n",
       "Pvt    966\n",
       "Name: Vol, dtype: int64"
      ]
     },
     "execution_count": 187,
     "metadata": {},
     "output_type": "execute_result"
    }
   ],
   "source": [
    "df1.groupby(by='Sector')['Vol'].apply(max)"
   ]
  },
  {
   "cell_type": "markdown",
   "id": "9463acfc",
   "metadata": {},
   "source": [
    "# Crosstab"
   ]
  },
  {
   "cell_type": "code",
   "execution_count": 188,
   "id": "5b409c90",
   "metadata": {},
   "outputs": [
    {
     "data": {
      "text/html": [
       "<div>\n",
       "<style scoped>\n",
       "    .dataframe tbody tr th:only-of-type {\n",
       "        vertical-align: middle;\n",
       "    }\n",
       "\n",
       "    .dataframe tbody tr th {\n",
       "        vertical-align: top;\n",
       "    }\n",
       "\n",
       "    .dataframe thead th {\n",
       "        text-align: right;\n",
       "    }\n",
       "</style>\n",
       "<table border=\"1\" class=\"dataframe\">\n",
       "  <thead>\n",
       "    <tr style=\"text-align: right;\">\n",
       "      <th></th>\n",
       "      <th>Vol</th>\n",
       "      <th>Rev</th>\n",
       "      <th>Exp</th>\n",
       "      <th>Sector</th>\n",
       "      <th>EmpCnt</th>\n",
       "      <th>HQ</th>\n",
       "      <th>MNC</th>\n",
       "      <th>StockID</th>\n",
       "      <th>GST</th>\n",
       "      <th>Started</th>\n",
       "      <th>gvolrank</th>\n",
       "    </tr>\n",
       "  </thead>\n",
       "  <tbody>\n",
       "    <tr>\n",
       "      <th>Kolkata_FMCG</th>\n",
       "      <td>925</td>\n",
       "      <td>874.4</td>\n",
       "      <td>676</td>\n",
       "      <td>Pub</td>\n",
       "      <td>1379</td>\n",
       "      <td>Kol</td>\n",
       "      <td>1</td>\n",
       "      <td>KFMC</td>\n",
       "      <td>Goods</td>\n",
       "      <td>Jan 1920</td>\n",
       "      <td>2.0</td>\n",
       "    </tr>\n",
       "    <tr>\n",
       "      <th>NCR_Leagles</th>\n",
       "      <td>931</td>\n",
       "      <td>863.5</td>\n",
       "      <td>605</td>\n",
       "      <td>Pub</td>\n",
       "      <td>1935</td>\n",
       "      <td>NCR</td>\n",
       "      <td>0</td>\n",
       "      <td>NCRL</td>\n",
       "      <td>Services</td>\n",
       "      <td>Feb 1960</td>\n",
       "      <td>3.0</td>\n",
       "    </tr>\n",
       "    <tr>\n",
       "      <th>Bombay_Sporting</th>\n",
       "      <td>931</td>\n",
       "      <td>839.8</td>\n",
       "      <td>615</td>\n",
       "      <td>Pvt</td>\n",
       "      <td>154</td>\n",
       "      <td>Mum</td>\n",
       "      <td>0</td>\n",
       "      <td>SPRT</td>\n",
       "      <td>Services</td>\n",
       "      <td>Mar 1943</td>\n",
       "      <td>1.0</td>\n",
       "    </tr>\n",
       "    <tr>\n",
       "      <th>Bombay_Finance</th>\n",
       "      <td>899</td>\n",
       "      <td>917.0</td>\n",
       "      <td>674</td>\n",
       "      <td>Pub</td>\n",
       "      <td>1443</td>\n",
       "      <td>Mum</td>\n",
       "      <td>0</td>\n",
       "      <td>BFIN</td>\n",
       "      <td>Services</td>\n",
       "      <td>Apr 1925</td>\n",
       "      <td>1.0</td>\n",
       "    </tr>\n",
       "    <tr>\n",
       "      <th>Bangalore_Systems</th>\n",
       "      <td>900</td>\n",
       "      <td>881.6</td>\n",
       "      <td>650</td>\n",
       "      <td>Gov</td>\n",
       "      <td>1361</td>\n",
       "      <td>Blr</td>\n",
       "      <td>0</td>\n",
       "      <td>BSYS</td>\n",
       "      <td>Services</td>\n",
       "      <td>Apr 1950</td>\n",
       "      <td>1.0</td>\n",
       "    </tr>\n",
       "    <tr>\n",
       "      <th>Chennai_Shipping</th>\n",
       "      <td>992</td>\n",
       "      <td>821.0</td>\n",
       "      <td>665</td>\n",
       "      <td>Pub</td>\n",
       "      <td>1154</td>\n",
       "      <td>Che</td>\n",
       "      <td>1</td>\n",
       "      <td>SHIP</td>\n",
       "      <td>Services</td>\n",
       "      <td>Nov 1930</td>\n",
       "      <td>5.0</td>\n",
       "    </tr>\n",
       "    <tr>\n",
       "      <th>Bangalore_Breweries</th>\n",
       "      <td>966</td>\n",
       "      <td>805.0</td>\n",
       "      <td>895</td>\n",
       "      <td>Pvt</td>\n",
       "      <td>119</td>\n",
       "      <td>Blr</td>\n",
       "      <td>1</td>\n",
       "      <td>BREW</td>\n",
       "      <td>Goods</td>\n",
       "      <td>Oct 1971</td>\n",
       "      <td>2.0</td>\n",
       "    </tr>\n",
       "    <tr>\n",
       "      <th>Chennai_Chemicals</th>\n",
       "      <td>966</td>\n",
       "      <td>863.2</td>\n",
       "      <td>608</td>\n",
       "      <td>Pub</td>\n",
       "      <td>1656</td>\n",
       "      <td>Che</td>\n",
       "      <td>1</td>\n",
       "      <td>CHEM</td>\n",
       "      <td>Goods</td>\n",
       "      <td>Aug 1928</td>\n",
       "      <td>4.0</td>\n",
       "    </tr>\n",
       "    <tr>\n",
       "      <th>Indi_Services</th>\n",
       "      <td>954</td>\n",
       "      <td>733.0</td>\n",
       "      <td>609</td>\n",
       "      <td>Gov</td>\n",
       "      <td>13023</td>\n",
       "      <td>NCR</td>\n",
       "      <td>0</td>\n",
       "      <td>INDI</td>\n",
       "      <td>Services</td>\n",
       "      <td>Mar 1920</td>\n",
       "      <td>2.0</td>\n",
       "    </tr>\n",
       "  </tbody>\n",
       "</table>\n",
       "</div>"
      ],
      "text/plain": [
       "                     Vol    Rev  Exp Sector  EmpCnt   HQ  MNC StockID       GST   Started  \\\n",
       "Kolkata_FMCG         925  874.4  676    Pub    1379  Kol    1    KFMC     Goods  Jan 1920   \n",
       "NCR_Leagles          931  863.5  605    Pub    1935  NCR    0    NCRL  Services  Feb 1960   \n",
       "Bombay_Sporting      931  839.8  615    Pvt     154  Mum    0    SPRT  Services  Mar 1943   \n",
       "Bombay_Finance       899  917.0  674    Pub    1443  Mum    0    BFIN  Services  Apr 1925   \n",
       "Bangalore_Systems    900  881.6  650    Gov    1361  Blr    0    BSYS  Services  Apr 1950   \n",
       "Chennai_Shipping     992  821.0  665    Pub    1154  Che    1    SHIP  Services  Nov 1930   \n",
       "Bangalore_Breweries  966  805.0  895    Pvt     119  Blr    1    BREW     Goods  Oct 1971   \n",
       "Chennai_Chemicals    966  863.2  608    Pub    1656  Che    1    CHEM     Goods  Aug 1928   \n",
       "Indi_Services        954  733.0  609    Gov   13023  NCR    0    INDI  Services  Mar 1920   \n",
       "\n",
       "                     gvolrank  \n",
       "Kolkata_FMCG              2.0  \n",
       "NCR_Leagles               3.0  \n",
       "Bombay_Sporting           1.0  \n",
       "Bombay_Finance            1.0  \n",
       "Bangalore_Systems         1.0  \n",
       "Chennai_Shipping          5.0  \n",
       "Bangalore_Breweries       2.0  \n",
       "Chennai_Chemicals         4.0  \n",
       "Indi_Services             2.0  "
      ]
     },
     "execution_count": 188,
     "metadata": {},
     "output_type": "execute_result"
    }
   ],
   "source": [
    "df1"
   ]
  },
  {
   "cell_type": "code",
   "execution_count": null,
   "id": "649f5bbf",
   "metadata": {},
   "outputs": [],
   "source": [
    "pd.crosstab(df1.Sector, df1.GST)"
   ]
  },
  {
   "cell_type": "code",
   "execution_count": null,
   "id": "dd5eca34",
   "metadata": {},
   "outputs": [],
   "source": [
    "pd.crosstab(df1.Sector, df1.GST, values=df1.Vol, aggfunc='mean')"
   ]
  },
  {
   "cell_type": "code",
   "execution_count": null,
   "id": "97580845",
   "metadata": {},
   "outputs": [],
   "source": [
    "## pd.crosstab(df1.Sector, df1.GST, values=[df1.Vol,df1.Rev],aggfunc=['mean','min']) ## ERROR"
   ]
  },
  {
   "cell_type": "markdown",
   "id": "d5b6c2a6",
   "metadata": {},
   "source": [
    "# Map"
   ]
  },
  {
   "cell_type": "code",
   "execution_count": null,
   "id": "0b0f8a83",
   "metadata": {},
   "outputs": [],
   "source": [
    "df1 = pd.read_csv('https://raw.githubusercontent.com/vcsgithub/vcsgithub.github.io/master/lds1.csv')\n",
    "df1"
   ]
  },
  {
   "cell_type": "code",
   "execution_count": null,
   "id": "831f9c6e",
   "metadata": {},
   "outputs": [],
   "source": [
    "md1 = {'Kol': 'EZ', 'Mum':'WZ', 'NCR':'NZ', 'Che':'SZ', 'Blr':'SZ'}"
   ]
  },
  {
   "cell_type": "code",
   "execution_count": null,
   "id": "e1125b0d",
   "metadata": {},
   "outputs": [],
   "source": [
    "df1['Zone'] = df1.HQ.map(md1)"
   ]
  },
  {
   "cell_type": "code",
   "execution_count": null,
   "id": "a4273a34",
   "metadata": {},
   "outputs": [],
   "source": [
    "df1"
   ]
  },
  {
   "cell_type": "code",
   "execution_count": null,
   "id": "2b3285a0",
   "metadata": {},
   "outputs": [],
   "source": [
    "##  > 950: 'Excellent Perforamnce, < 930: 'Average  ... 'Good'"
   ]
  },
  {
   "cell_type": "code",
   "execution_count": null,
   "id": "a763d665",
   "metadata": {},
   "outputs": [],
   "source": [
    "def sales_performance(sales_value):\n",
    "    if sales_value > 950:\n",
    "        return 'ExcellentSales'\n",
    "    elif sales_value < 930:\n",
    "        return 'AverageSales'\n",
    "    else:\n",
    "        return 'GoodSales'"
   ]
  },
  {
   "cell_type": "code",
   "execution_count": null,
   "id": "b429c252",
   "metadata": {},
   "outputs": [],
   "source": [
    "df1['Sales_Performance'] = df1.Vol.map(sales_performance)\n",
    "df1"
   ]
  },
  {
   "cell_type": "markdown",
   "id": "eda8a501",
   "metadata": {},
   "source": [
    "# Rename  of Labels"
   ]
  },
  {
   "cell_type": "code",
   "execution_count": 189,
   "id": "1e5533a5",
   "metadata": {},
   "outputs": [
    {
     "data": {
      "text/html": [
       "<div>\n",
       "<style scoped>\n",
       "    .dataframe tbody tr th:only-of-type {\n",
       "        vertical-align: middle;\n",
       "    }\n",
       "\n",
       "    .dataframe tbody tr th {\n",
       "        vertical-align: top;\n",
       "    }\n",
       "\n",
       "    .dataframe thead th {\n",
       "        text-align: right;\n",
       "    }\n",
       "</style>\n",
       "<table border=\"1\" class=\"dataframe\">\n",
       "  <thead>\n",
       "    <tr style=\"text-align: right;\">\n",
       "      <th></th>\n",
       "      <th>Vol</th>\n",
       "      <th>Rev</th>\n",
       "      <th>Exp</th>\n",
       "      <th>Sector</th>\n",
       "      <th>EmpCnt</th>\n",
       "      <th>HQ</th>\n",
       "      <th>MNC</th>\n",
       "      <th>StockID</th>\n",
       "      <th>GST</th>\n",
       "      <th>Started</th>\n",
       "    </tr>\n",
       "  </thead>\n",
       "  <tbody>\n",
       "    <tr>\n",
       "      <th>Kolkata_FMCG</th>\n",
       "      <td>925</td>\n",
       "      <td>874.4</td>\n",
       "      <td>676</td>\n",
       "      <td>Pub</td>\n",
       "      <td>1379</td>\n",
       "      <td>Kol</td>\n",
       "      <td>1</td>\n",
       "      <td>KFMC</td>\n",
       "      <td>Goods</td>\n",
       "      <td>Jan 1920</td>\n",
       "    </tr>\n",
       "    <tr>\n",
       "      <th>NCR_Leagles</th>\n",
       "      <td>931</td>\n",
       "      <td>863.5</td>\n",
       "      <td>605</td>\n",
       "      <td>Pub</td>\n",
       "      <td>1935</td>\n",
       "      <td>NCR</td>\n",
       "      <td>0</td>\n",
       "      <td>NCRL</td>\n",
       "      <td>Services</td>\n",
       "      <td>Feb 1960</td>\n",
       "    </tr>\n",
       "    <tr>\n",
       "      <th>Bombay_Sporting</th>\n",
       "      <td>931</td>\n",
       "      <td>839.8</td>\n",
       "      <td>615</td>\n",
       "      <td>Pvt</td>\n",
       "      <td>154</td>\n",
       "      <td>Mum</td>\n",
       "      <td>0</td>\n",
       "      <td>SPRT</td>\n",
       "      <td>Services</td>\n",
       "      <td>Mar 1943</td>\n",
       "    </tr>\n",
       "    <tr>\n",
       "      <th>Bombay_Finance</th>\n",
       "      <td>899</td>\n",
       "      <td>917.0</td>\n",
       "      <td>674</td>\n",
       "      <td>Pub</td>\n",
       "      <td>1443</td>\n",
       "      <td>Mum</td>\n",
       "      <td>0</td>\n",
       "      <td>BFIN</td>\n",
       "      <td>Services</td>\n",
       "      <td>Apr 1925</td>\n",
       "    </tr>\n",
       "    <tr>\n",
       "      <th>Bangalore_Systems</th>\n",
       "      <td>900</td>\n",
       "      <td>881.6</td>\n",
       "      <td>650</td>\n",
       "      <td>Gov</td>\n",
       "      <td>1361</td>\n",
       "      <td>Blr</td>\n",
       "      <td>0</td>\n",
       "      <td>BSYS</td>\n",
       "      <td>Services</td>\n",
       "      <td>Apr 1950</td>\n",
       "    </tr>\n",
       "    <tr>\n",
       "      <th>Chennai_Shipping</th>\n",
       "      <td>992</td>\n",
       "      <td>821.0</td>\n",
       "      <td>665</td>\n",
       "      <td>Pub</td>\n",
       "      <td>1154</td>\n",
       "      <td>Che</td>\n",
       "      <td>1</td>\n",
       "      <td>SHIP</td>\n",
       "      <td>Services</td>\n",
       "      <td>Nov 1930</td>\n",
       "    </tr>\n",
       "    <tr>\n",
       "      <th>Bangalore_Breweries</th>\n",
       "      <td>966</td>\n",
       "      <td>805.0</td>\n",
       "      <td>895</td>\n",
       "      <td>Pvt</td>\n",
       "      <td>119</td>\n",
       "      <td>Blr</td>\n",
       "      <td>1</td>\n",
       "      <td>BREW</td>\n",
       "      <td>Goods</td>\n",
       "      <td>Oct 1971</td>\n",
       "    </tr>\n",
       "    <tr>\n",
       "      <th>Chennai_Chemicals</th>\n",
       "      <td>966</td>\n",
       "      <td>863.2</td>\n",
       "      <td>608</td>\n",
       "      <td>Pub</td>\n",
       "      <td>1656</td>\n",
       "      <td>Che</td>\n",
       "      <td>1</td>\n",
       "      <td>CHEM</td>\n",
       "      <td>Goods</td>\n",
       "      <td>Aug 1928</td>\n",
       "    </tr>\n",
       "    <tr>\n",
       "      <th>Indi_Services</th>\n",
       "      <td>954</td>\n",
       "      <td>733.0</td>\n",
       "      <td>609</td>\n",
       "      <td>Gov</td>\n",
       "      <td>13023</td>\n",
       "      <td>NCR</td>\n",
       "      <td>0</td>\n",
       "      <td>INDI</td>\n",
       "      <td>Services</td>\n",
       "      <td>Mar 1920</td>\n",
       "    </tr>\n",
       "  </tbody>\n",
       "</table>\n",
       "</div>"
      ],
      "text/plain": [
       "                     Vol    Rev  Exp Sector  EmpCnt   HQ  MNC StockID       GST   Started\n",
       "Kolkata_FMCG         925  874.4  676    Pub    1379  Kol    1    KFMC     Goods  Jan 1920\n",
       "NCR_Leagles          931  863.5  605    Pub    1935  NCR    0    NCRL  Services  Feb 1960\n",
       "Bombay_Sporting      931  839.8  615    Pvt     154  Mum    0    SPRT  Services  Mar 1943\n",
       "Bombay_Finance       899  917.0  674    Pub    1443  Mum    0    BFIN  Services  Apr 1925\n",
       "Bangalore_Systems    900  881.6  650    Gov    1361  Blr    0    BSYS  Services  Apr 1950\n",
       "Chennai_Shipping     992  821.0  665    Pub    1154  Che    1    SHIP  Services  Nov 1930\n",
       "Bangalore_Breweries  966  805.0  895    Pvt     119  Blr    1    BREW     Goods  Oct 1971\n",
       "Chennai_Chemicals    966  863.2  608    Pub    1656  Che    1    CHEM     Goods  Aug 1928\n",
       "Indi_Services        954  733.0  609    Gov   13023  NCR    0    INDI  Services  Mar 1920"
      ]
     },
     "execution_count": 189,
     "metadata": {},
     "output_type": "execute_result"
    }
   ],
   "source": [
    "df1 = pd.read_csv('https://raw.githubusercontent.com/vcsgithub/vcsgithub.github.io/master/lds1.csv')\n",
    "df1"
   ]
  },
  {
   "cell_type": "code",
   "execution_count": 190,
   "id": "e14de9d0",
   "metadata": {},
   "outputs": [
    {
     "data": {
      "text/html": [
       "<div>\n",
       "<style scoped>\n",
       "    .dataframe tbody tr th:only-of-type {\n",
       "        vertical-align: middle;\n",
       "    }\n",
       "\n",
       "    .dataframe tbody tr th {\n",
       "        vertical-align: top;\n",
       "    }\n",
       "\n",
       "    .dataframe thead th {\n",
       "        text-align: right;\n",
       "    }\n",
       "</style>\n",
       "<table border=\"1\" class=\"dataframe\">\n",
       "  <thead>\n",
       "    <tr style=\"text-align: right;\">\n",
       "      <th></th>\n",
       "      <th>Volume</th>\n",
       "      <th>Revenue</th>\n",
       "      <th>Exp</th>\n",
       "      <th>Sector</th>\n",
       "      <th>EmpCnt</th>\n",
       "      <th>HQ</th>\n",
       "      <th>MNC</th>\n",
       "      <th>StockID</th>\n",
       "      <th>GST</th>\n",
       "      <th>Started</th>\n",
       "    </tr>\n",
       "  </thead>\n",
       "  <tbody>\n",
       "    <tr>\n",
       "      <th>Kolkata_FMCG</th>\n",
       "      <td>925</td>\n",
       "      <td>874.4</td>\n",
       "      <td>676</td>\n",
       "      <td>Pub</td>\n",
       "      <td>1379</td>\n",
       "      <td>Kol</td>\n",
       "      <td>1</td>\n",
       "      <td>KFMC</td>\n",
       "      <td>Goods</td>\n",
       "      <td>Jan 1920</td>\n",
       "    </tr>\n",
       "    <tr>\n",
       "      <th>NCR_Leagles</th>\n",
       "      <td>931</td>\n",
       "      <td>863.5</td>\n",
       "      <td>605</td>\n",
       "      <td>Pub</td>\n",
       "      <td>1935</td>\n",
       "      <td>NCR</td>\n",
       "      <td>0</td>\n",
       "      <td>NCRL</td>\n",
       "      <td>Services</td>\n",
       "      <td>Feb 1960</td>\n",
       "    </tr>\n",
       "    <tr>\n",
       "      <th>Bombay_Sporting</th>\n",
       "      <td>931</td>\n",
       "      <td>839.8</td>\n",
       "      <td>615</td>\n",
       "      <td>Pvt</td>\n",
       "      <td>154</td>\n",
       "      <td>Mum</td>\n",
       "      <td>0</td>\n",
       "      <td>SPRT</td>\n",
       "      <td>Services</td>\n",
       "      <td>Mar 1943</td>\n",
       "    </tr>\n",
       "    <tr>\n",
       "      <th>Bombay_Finance</th>\n",
       "      <td>899</td>\n",
       "      <td>917.0</td>\n",
       "      <td>674</td>\n",
       "      <td>Pub</td>\n",
       "      <td>1443</td>\n",
       "      <td>Mum</td>\n",
       "      <td>0</td>\n",
       "      <td>BFIN</td>\n",
       "      <td>Services</td>\n",
       "      <td>Apr 1925</td>\n",
       "    </tr>\n",
       "    <tr>\n",
       "      <th>Bangalore_Systems</th>\n",
       "      <td>900</td>\n",
       "      <td>881.6</td>\n",
       "      <td>650</td>\n",
       "      <td>Gov</td>\n",
       "      <td>1361</td>\n",
       "      <td>Blr</td>\n",
       "      <td>0</td>\n",
       "      <td>BSYS</td>\n",
       "      <td>Services</td>\n",
       "      <td>Apr 1950</td>\n",
       "    </tr>\n",
       "    <tr>\n",
       "      <th>Chennai_Shipping</th>\n",
       "      <td>992</td>\n",
       "      <td>821.0</td>\n",
       "      <td>665</td>\n",
       "      <td>Pub</td>\n",
       "      <td>1154</td>\n",
       "      <td>Che</td>\n",
       "      <td>1</td>\n",
       "      <td>SHIP</td>\n",
       "      <td>Services</td>\n",
       "      <td>Nov 1930</td>\n",
       "    </tr>\n",
       "    <tr>\n",
       "      <th>UB</th>\n",
       "      <td>966</td>\n",
       "      <td>805.0</td>\n",
       "      <td>895</td>\n",
       "      <td>Pvt</td>\n",
       "      <td>119</td>\n",
       "      <td>Blr</td>\n",
       "      <td>1</td>\n",
       "      <td>BREW</td>\n",
       "      <td>Goods</td>\n",
       "      <td>Oct 1971</td>\n",
       "    </tr>\n",
       "    <tr>\n",
       "      <th>Chennai_Chemicals</th>\n",
       "      <td>966</td>\n",
       "      <td>863.2</td>\n",
       "      <td>608</td>\n",
       "      <td>Pub</td>\n",
       "      <td>1656</td>\n",
       "      <td>Che</td>\n",
       "      <td>1</td>\n",
       "      <td>CHEM</td>\n",
       "      <td>Goods</td>\n",
       "      <td>Aug 1928</td>\n",
       "    </tr>\n",
       "    <tr>\n",
       "      <th>IR</th>\n",
       "      <td>954</td>\n",
       "      <td>733.0</td>\n",
       "      <td>609</td>\n",
       "      <td>Gov</td>\n",
       "      <td>13023</td>\n",
       "      <td>NCR</td>\n",
       "      <td>0</td>\n",
       "      <td>INDI</td>\n",
       "      <td>Services</td>\n",
       "      <td>Mar 1920</td>\n",
       "    </tr>\n",
       "  </tbody>\n",
       "</table>\n",
       "</div>"
      ],
      "text/plain": [
       "                   Volume  Revenue  Exp Sector  EmpCnt   HQ  MNC StockID       GST   Started\n",
       "Kolkata_FMCG          925    874.4  676    Pub    1379  Kol    1    KFMC     Goods  Jan 1920\n",
       "NCR_Leagles           931    863.5  605    Pub    1935  NCR    0    NCRL  Services  Feb 1960\n",
       "Bombay_Sporting       931    839.8  615    Pvt     154  Mum    0    SPRT  Services  Mar 1943\n",
       "Bombay_Finance        899    917.0  674    Pub    1443  Mum    0    BFIN  Services  Apr 1925\n",
       "Bangalore_Systems     900    881.6  650    Gov    1361  Blr    0    BSYS  Services  Apr 1950\n",
       "Chennai_Shipping      992    821.0  665    Pub    1154  Che    1    SHIP  Services  Nov 1930\n",
       "UB                    966    805.0  895    Pvt     119  Blr    1    BREW     Goods  Oct 1971\n",
       "Chennai_Chemicals     966    863.2  608    Pub    1656  Che    1    CHEM     Goods  Aug 1928\n",
       "IR                    954    733.0  609    Gov   13023  NCR    0    INDI  Services  Mar 1920"
      ]
     },
     "execution_count": 190,
     "metadata": {},
     "output_type": "execute_result"
    }
   ],
   "source": [
    "df2 = df1.rename(index={'Bangalore_Breweries':'UB','Indi_Services':'IR' }, columns={'Vol':'Volume', 'Rev':'Revenue'})\n",
    "df2"
   ]
  },
  {
   "cell_type": "code",
   "execution_count": null,
   "id": "252ee994",
   "metadata": {},
   "outputs": [],
   "source": [
    "df1"
   ]
  },
  {
   "cell_type": "markdown",
   "id": "6515e4e2",
   "metadata": {},
   "source": [
    "# Replace  Values"
   ]
  },
  {
   "cell_type": "code",
   "execution_count": null,
   "id": "29bb9342",
   "metadata": {},
   "outputs": [],
   "source": [
    "df1"
   ]
  },
  {
   "cell_type": "code",
   "execution_count": null,
   "id": "815ccfcc",
   "metadata": {},
   "outputs": [],
   "source": [
    "df1.Sector.replace('Pub','Public', inplace=True)\n",
    "df1"
   ]
  },
  {
   "cell_type": "code",
   "execution_count": null,
   "id": "b45a3475",
   "metadata": {},
   "outputs": [],
   "source": [
    "md1 = {'Kol': 'EZ', 'Mum':'WZ', 'NCR':'NZ', 'Che':'SZ', 'Blr':'SZ'}\n",
    "df1.HQ.replace(md1, inplace=True)\n",
    "df1"
   ]
  },
  {
   "cell_type": "markdown",
   "id": "50e90deb",
   "metadata": {},
   "source": [
    "# Handling Missing Data"
   ]
  },
  {
   "cell_type": "code",
   "execution_count": null,
   "id": "17ac0f72",
   "metadata": {},
   "outputs": [],
   "source": [
    "df0 = pd.read_csv('https://raw.githubusercontent.com/vcsgithub/vcsgithub.github.io/master/lds0.csv')\n",
    "df0"
   ]
  },
  {
   "cell_type": "code",
   "execution_count": null,
   "id": "d57fe3e9",
   "metadata": {},
   "outputs": [],
   "source": [
    "df0.shape"
   ]
  },
  {
   "cell_type": "code",
   "execution_count": null,
   "id": "577621c9",
   "metadata": {},
   "outputs": [],
   "source": [
    "df0.info()"
   ]
  },
  {
   "cell_type": "code",
   "execution_count": null,
   "id": "0b41658d",
   "metadata": {},
   "outputs": [],
   "source": [
    "df0"
   ]
  },
  {
   "cell_type": "code",
   "execution_count": null,
   "id": "360df58b",
   "metadata": {},
   "outputs": [],
   "source": [
    "df0.isnull()"
   ]
  },
  {
   "cell_type": "code",
   "execution_count": null,
   "id": "bf857bf7",
   "metadata": {},
   "outputs": [],
   "source": [
    "df0.isnull().sum()"
   ]
  },
  {
   "cell_type": "code",
   "execution_count": null,
   "id": "dedfbfc7",
   "metadata": {},
   "outputs": [],
   "source": [
    "df0.Rev.isnull()"
   ]
  },
  {
   "cell_type": "code",
   "execution_count": null,
   "id": "bc30f33d",
   "metadata": {},
   "outputs": [],
   "source": [
    "df0[df0.Rev.isnull()]"
   ]
  },
  {
   "cell_type": "code",
   "execution_count": null,
   "id": "e34f3f7e",
   "metadata": {},
   "outputs": [],
   "source": [
    "df0"
   ]
  },
  {
   "cell_type": "code",
   "execution_count": null,
   "id": "6e825089",
   "metadata": {},
   "outputs": [],
   "source": [
    "df0.dropna()"
   ]
  },
  {
   "cell_type": "code",
   "execution_count": null,
   "id": "c18baab2",
   "metadata": {},
   "outputs": [],
   "source": [
    "df0.dropna().info()"
   ]
  },
  {
   "cell_type": "code",
   "execution_count": null,
   "id": "e283c148",
   "metadata": {},
   "outputs": [],
   "source": [
    "df0"
   ]
  },
  {
   "cell_type": "code",
   "execution_count": null,
   "id": "007a80fb",
   "metadata": {},
   "outputs": [],
   "source": [
    "df0.Rev"
   ]
  },
  {
   "cell_type": "code",
   "execution_count": null,
   "id": "7bb81d44",
   "metadata": {},
   "outputs": [],
   "source": [
    "df0.fillna(999)"
   ]
  },
  {
   "cell_type": "code",
   "execution_count": null,
   "id": "82f92bfd",
   "metadata": {},
   "outputs": [],
   "source": [
    "df0"
   ]
  },
  {
   "cell_type": "code",
   "execution_count": null,
   "id": "9d9bd607",
   "metadata": {},
   "outputs": [],
   "source": [
    "df0.Rev"
   ]
  },
  {
   "cell_type": "code",
   "execution_count": null,
   "id": "de5e7a07",
   "metadata": {},
   "outputs": [],
   "source": [
    "df0.Rev.fillna(800)"
   ]
  },
  {
   "cell_type": "code",
   "execution_count": null,
   "id": "8f5c3057",
   "metadata": {},
   "outputs": [],
   "source": [
    "df0.Rev"
   ]
  },
  {
   "cell_type": "code",
   "execution_count": null,
   "id": "0e250231",
   "metadata": {},
   "outputs": [],
   "source": [
    "df0.Rev.mean()"
   ]
  },
  {
   "cell_type": "code",
   "execution_count": null,
   "id": "c82ce3c8",
   "metadata": {},
   "outputs": [],
   "source": [
    "df0.Rev.fillna(df0.Rev.mean(), inplace=True)"
   ]
  },
  {
   "cell_type": "code",
   "execution_count": null,
   "id": "8a0025e5",
   "metadata": {},
   "outputs": [],
   "source": [
    "df0"
   ]
  },
  {
   "cell_type": "code",
   "execution_count": null,
   "id": "1b1a9e51",
   "metadata": {},
   "outputs": [],
   "source": [
    "df0.EmpCnt.fillna(df0.EmpCnt.mean(), inplace=False)"
   ]
  },
  {
   "cell_type": "code",
   "execution_count": null,
   "id": "7b8f2ee4",
   "metadata": {},
   "outputs": [],
   "source": [
    "df0.EmpCnt.median()"
   ]
  },
  {
   "cell_type": "code",
   "execution_count": null,
   "id": "c31c82a4",
   "metadata": {},
   "outputs": [],
   "source": [
    "df0.EmpCnt.skew()"
   ]
  },
  {
   "cell_type": "code",
   "execution_count": null,
   "id": "c71d2913",
   "metadata": {},
   "outputs": [],
   "source": [
    "df0.EmpCnt.fillna(df0.EmpCnt.median(), inplace=True)"
   ]
  },
  {
   "cell_type": "code",
   "execution_count": null,
   "id": "f0f3f90e",
   "metadata": {},
   "outputs": [],
   "source": [
    "df0"
   ]
  },
  {
   "cell_type": "code",
   "execution_count": null,
   "id": "137f42ac",
   "metadata": {},
   "outputs": [],
   "source": [
    "df0.Sector.fillna(method='ffill')"
   ]
  },
  {
   "cell_type": "code",
   "execution_count": null,
   "id": "02acb558",
   "metadata": {},
   "outputs": [],
   "source": [
    "df0.Sector.fillna(method='bfill')"
   ]
  },
  {
   "cell_type": "code",
   "execution_count": null,
   "id": "be819c20",
   "metadata": {},
   "outputs": [],
   "source": [
    "df0"
   ]
  },
  {
   "cell_type": "code",
   "execution_count": null,
   "id": "cd0aa0b6",
   "metadata": {},
   "outputs": [],
   "source": [
    "df0.EmpCnt.kurt()"
   ]
  },
  {
   "cell_type": "markdown",
   "id": "ec32372b",
   "metadata": {},
   "source": [
    "# MultiLevel Indexed DataFrame"
   ]
  },
  {
   "cell_type": "raw",
   "id": "d4cd4b6b",
   "metadata": {},
   "source": [
    "                      2019  2019 2020  2020\n",
    "                      Q1    Q2   Q1    Q2\n",
    "Tata   FMCG\n",
    "Tata   Tech\n",
    "Birla  FMCG\n",
    "Birla  Tech\n",
    "Wipro  FMCG\n",
    "Wipro  Tech\n",
    "ITC    FMCG\n",
    "ITC    Tech"
   ]
  },
  {
   "cell_type": "code",
   "execution_count": null,
   "id": "581f5834",
   "metadata": {},
   "outputs": [],
   "source": [
    "np.random.seed(23)\n",
    "n84 = np.random.randint(low=10, high=100, size=(8,4))\n",
    "n84"
   ]
  },
  {
   "cell_type": "code",
   "execution_count": null,
   "id": "090e96f5",
   "metadata": {},
   "outputs": [],
   "source": [
    "row_labels_level0 = ['Tata','Birla','Wipro','ITC']\n",
    "row_labels_level1 = ['FMCG','Tech']\n",
    "\n",
    "col_labels_level0 = [2019,2020]\n",
    "col_labels_level1 = ['Q1', 'Q2']"
   ]
  },
  {
   "cell_type": "code",
   "execution_count": null,
   "id": "c88adbb7",
   "metadata": {},
   "outputs": [],
   "source": [
    "row_labels = pd.MultiIndex.from_product([row_labels_level0, row_labels_level1])\n",
    "row_labels"
   ]
  },
  {
   "cell_type": "code",
   "execution_count": null,
   "id": "79d70f37",
   "metadata": {},
   "outputs": [],
   "source": [
    "col_labels = pd.MultiIndex.from_product([col_labels_level0, col_labels_level1])\n",
    "col_labels"
   ]
  },
  {
   "cell_type": "code",
   "execution_count": null,
   "id": "a5032f0f",
   "metadata": {},
   "outputs": [],
   "source": [
    "df1 = pd.DataFrame(n84,  index=row_labels, columns=col_labels)\n",
    "df1"
   ]
  },
  {
   "cell_type": "code",
   "execution_count": null,
   "id": "ff567f9b",
   "metadata": {},
   "outputs": [],
   "source": [
    "df1.index"
   ]
  },
  {
   "cell_type": "code",
   "execution_count": null,
   "id": "c27596ae",
   "metadata": {},
   "outputs": [],
   "source": [
    "df1.columns"
   ]
  },
  {
   "cell_type": "code",
   "execution_count": null,
   "id": "1c16f32c",
   "metadata": {},
   "outputs": [],
   "source": [
    "df1"
   ]
  },
  {
   "cell_type": "code",
   "execution_count": null,
   "id": "f5e2c044",
   "metadata": {},
   "outputs": [],
   "source": [
    "df1.loc[('Birla', 'Tech'),  (2020, 'Q1')]"
   ]
  },
  {
   "cell_type": "markdown",
   "id": "f8aa12b9",
   "metadata": {},
   "source": [
    "# Stack-Unstack"
   ]
  },
  {
   "cell_type": "code",
   "execution_count": null,
   "id": "08b6eb0b",
   "metadata": {},
   "outputs": [],
   "source": [
    "df1"
   ]
  },
  {
   "cell_type": "code",
   "execution_count": null,
   "id": "30e90c41",
   "metadata": {},
   "outputs": [],
   "source": [
    "df1.columns.levels"
   ]
  },
  {
   "cell_type": "code",
   "execution_count": null,
   "id": "928498f7",
   "metadata": {},
   "outputs": [],
   "source": [
    "df1.index.levels"
   ]
  },
  {
   "cell_type": "code",
   "execution_count": null,
   "id": "82dea97d",
   "metadata": {},
   "outputs": [],
   "source": [
    "df1"
   ]
  },
  {
   "cell_type": "code",
   "execution_count": null,
   "id": "69a0df89",
   "metadata": {},
   "outputs": [],
   "source": [
    "df2 = df1.stack(level=-1)\n",
    "df2"
   ]
  },
  {
   "cell_type": "code",
   "execution_count": null,
   "id": "53c117cf",
   "metadata": {},
   "outputs": [],
   "source": [
    "df2.unstack(level=0)"
   ]
  },
  {
   "cell_type": "code",
   "execution_count": null,
   "id": "131e35b2",
   "metadata": {},
   "outputs": [],
   "source": [
    "df1"
   ]
  },
  {
   "cell_type": "raw",
   "id": "8a1f34ce",
   "metadata": {},
   "source": [
    "              tata birla\n",
    "              q1 q2\n",
    "2019  fmcg\n",
    "2020  tech"
   ]
  },
  {
   "cell_type": "code",
   "execution_count": null,
   "id": "999cee4b",
   "metadata": {},
   "outputs": [],
   "source": [
    "df1.stack(level=0).unstack(level=0).stack(level=0).unstack(level=-1).unstack(level=0).stack(level=-1)"
   ]
  },
  {
   "cell_type": "code",
   "execution_count": null,
   "id": "54c5b930",
   "metadata": {},
   "outputs": [],
   "source": [
    "df1.stack(level=0).unstack(level=0).stack(level=0).unstack(level=[-1,0]).stack(level=-1)"
   ]
  },
  {
   "cell_type": "code",
   "execution_count": null,
   "id": "77c0cd24",
   "metadata": {},
   "outputs": [],
   "source": [
    "df1.stack(level = 0).stack(level = 0).unstack(level = 0).unstack(level = 2)\n"
   ]
  },
  {
   "cell_type": "markdown",
   "id": "b4808a72",
   "metadata": {},
   "source": [
    "# Concatenation"
   ]
  },
  {
   "cell_type": "code",
   "execution_count": null,
   "id": "119ff109",
   "metadata": {},
   "outputs": [],
   "source": [
    "df11 = pd.read_csv('https://raw.githubusercontent.com/vcsgithub/vcsgithub.github.io/master/lds11.csv')\n",
    "df11"
   ]
  },
  {
   "cell_type": "code",
   "execution_count": null,
   "id": "2cc1cbdc",
   "metadata": {},
   "outputs": [],
   "source": [
    "df12 = pd.read_csv('https://raw.githubusercontent.com/vcsgithub/vcsgithub.github.io/master/lds12.csv')\n",
    "df12"
   ]
  },
  {
   "cell_type": "code",
   "execution_count": null,
   "id": "63db2cb5",
   "metadata": {},
   "outputs": [],
   "source": [
    "print(df11)\n",
    "print()\n",
    "print(df12)\n",
    "dfc = pd.concat(objs=(df11,df12), axis=0, join='outer', keys=None)\n",
    "dfc"
   ]
  },
  {
   "cell_type": "code",
   "execution_count": null,
   "id": "076fc990",
   "metadata": {},
   "outputs": [],
   "source": [
    "print(df11)\n",
    "print()\n",
    "print(df12)\n",
    "dfc = pd.concat(objs=(df11,df12), axis=0, join='inner', keys=None)\n",
    "dfc"
   ]
  },
  {
   "cell_type": "code",
   "execution_count": null,
   "id": "f6672327",
   "metadata": {},
   "outputs": [],
   "source": [
    "dfc.loc['Bombay_Sporting']"
   ]
  },
  {
   "cell_type": "code",
   "execution_count": null,
   "id": "68f24ce2",
   "metadata": {},
   "outputs": [],
   "source": [
    "print(df11)\n",
    "print()\n",
    "print(df12)\n",
    "dfc = pd.concat(objs=(df11,df12), axis=0, join='inner', keys=['q1', 'q2'])\n",
    "dfc"
   ]
  },
  {
   "cell_type": "code",
   "execution_count": null,
   "id": "23d820ef",
   "metadata": {},
   "outputs": [],
   "source": [
    "dfc.index"
   ]
  },
  {
   "cell_type": "code",
   "execution_count": null,
   "id": "0669e592",
   "metadata": {},
   "outputs": [],
   "source": [
    "dfc.columns"
   ]
  },
  {
   "cell_type": "code",
   "execution_count": null,
   "id": "c94c4971",
   "metadata": {},
   "outputs": [],
   "source": [
    "dfc.loc[('q2',   'Bombay_Sporting'), 'Exp']"
   ]
  },
  {
   "cell_type": "code",
   "execution_count": null,
   "id": "c1d0d891",
   "metadata": {},
   "outputs": [],
   "source": [
    "print(df11)\n",
    "print()\n",
    "print(df12)\n",
    "dfc = pd.concat(objs=(df11,df12), axis=1, join='inner', keys=['q1', 'q2'])\n",
    "dfc"
   ]
  },
  {
   "cell_type": "code",
   "execution_count": null,
   "id": "5aeb2db4",
   "metadata": {},
   "outputs": [],
   "source": [
    "print(df11)\n",
    "print()\n",
    "print(df12)\n",
    "dfc = pd.concat(objs=(df11,df12), axis=1, join='outer', keys=['q1', 'q2'])\n",
    "dfc"
   ]
  },
  {
   "cell_type": "markdown",
   "id": "f278f3cb",
   "metadata": {},
   "source": [
    "# Merging"
   ]
  },
  {
   "cell_type": "code",
   "execution_count": null,
   "id": "017fc019",
   "metadata": {},
   "outputs": [],
   "source": [
    "df21 = pd.read_csv('https://raw.githubusercontent.com/vcsgithub/vcsgithub.github.io/master/lds21.csv')\n",
    "df21"
   ]
  },
  {
   "cell_type": "code",
   "execution_count": null,
   "id": "15610b98",
   "metadata": {},
   "outputs": [],
   "source": [
    "df22 = pd.read_csv('https://raw.githubusercontent.com/vcsgithub/vcsgithub.github.io/master/lds22.csv')\n",
    "df22"
   ]
  },
  {
   "cell_type": "code",
   "execution_count": null,
   "id": "ed4a597b",
   "metadata": {},
   "outputs": [],
   "source": [
    "df23 = pd.read_csv('https://raw.githubusercontent.com/vcsgithub/vcsgithub.github.io/master/lds23.csv')\n",
    "df23"
   ]
  },
  {
   "cell_type": "code",
   "execution_count": null,
   "id": "9bbd8324",
   "metadata": {},
   "outputs": [],
   "source": [
    "dfm = pd.merge(df21,df22, on='HQ', how='inner', indicator=True)\n",
    "dfm"
   ]
  },
  {
   "cell_type": "code",
   "execution_count": null,
   "id": "a4a2d95d",
   "metadata": {},
   "outputs": [],
   "source": [
    "dfm = pd.merge(df21,df22, on='HQ', how='outer', indicator=True)\n",
    "dfm"
   ]
  },
  {
   "cell_type": "code",
   "execution_count": null,
   "id": "5f4e1adb",
   "metadata": {},
   "outputs": [],
   "source": [
    "dfm = pd.merge(df21,df22, on='HQ', how='left', indicator=True)\n",
    "dfm"
   ]
  },
  {
   "cell_type": "code",
   "execution_count": null,
   "id": "493e4f13",
   "metadata": {},
   "outputs": [],
   "source": [
    "dfm = pd.merge(df21,df22, on='HQ', how='right', indicator=True)\n",
    "dfm"
   ]
  },
  {
   "cell_type": "code",
   "execution_count": null,
   "id": "a4bd7e41",
   "metadata": {},
   "outputs": [],
   "source": [
    "dfm = pd.merge(df21,df23, on='HQ', how='inner', indicator=True)\n",
    "dfm"
   ]
  },
  {
   "cell_type": "code",
   "execution_count": null,
   "id": "2c17385e",
   "metadata": {},
   "outputs": [],
   "source": [
    "dfm = pd.merge(df23,df23, on='HQ', how='inner', indicator=True)\n",
    "dfm"
   ]
  },
  {
   "cell_type": "code",
   "execution_count": null,
   "id": "1040d217",
   "metadata": {},
   "outputs": [],
   "source": [
    "print(df21)\n",
    "print()\n",
    "print(df22)\n",
    "print()\n",
    "print(df23)\n",
    "print()"
   ]
  },
  {
   "cell_type": "code",
   "execution_count": null,
   "id": "6f52cf8d",
   "metadata": {},
   "outputs": [],
   "source": [
    "dfm = pd.merge(df21,df22, left_on='stock_id', right_on='stock_name', how='inner', suffixes=['_left', '_right'] ,indicator=True)\n",
    "dfm"
   ]
  },
  {
   "cell_type": "code",
   "execution_count": null,
   "id": "75259fd1",
   "metadata": {},
   "outputs": [],
   "source": [
    "dfm = pd.merge(df21,df22, left_on='stock_id', right_on='stock_name', how='outer', suffixes=['_left', '_right'] ,indicator=True)\n",
    "dfm"
   ]
  },
  {
   "cell_type": "code",
   "execution_count": null,
   "id": "9f2a9132",
   "metadata": {},
   "outputs": [],
   "source": [
    "dfm = pd.merge(df21,df22, how='cross', indicator=True)\n",
    "dfm"
   ]
  },
  {
   "cell_type": "markdown",
   "id": "e4b77018",
   "metadata": {},
   "source": [
    "# Duplicate Handling"
   ]
  },
  {
   "cell_type": "code",
   "execution_count": null,
   "id": "056c9922",
   "metadata": {},
   "outputs": [],
   "source": [
    "df33 = pd.read_csv('https://raw.githubusercontent.com/vcsgithub/vcsgithub.github.io/master/lds33.csv')\n",
    "df33"
   ]
  },
  {
   "cell_type": "code",
   "execution_count": null,
   "id": "866a8a82",
   "metadata": {},
   "outputs": [],
   "source": [
    "df33.duplicated(subset=None, keep='first')"
   ]
  },
  {
   "cell_type": "code",
   "execution_count": null,
   "id": "dea640ff",
   "metadata": {},
   "outputs": [],
   "source": [
    "df33.duplicated(subset=None, keep='last')"
   ]
  },
  {
   "cell_type": "code",
   "execution_count": null,
   "id": "d6db104e",
   "metadata": {},
   "outputs": [],
   "source": [
    "df33.duplicated(subset=None, keep=False)"
   ]
  },
  {
   "cell_type": "code",
   "execution_count": null,
   "id": "4d1c18b1",
   "metadata": {},
   "outputs": [],
   "source": [
    "df33.duplicated(subset=['City', 'Temperature'], keep=False)"
   ]
  },
  {
   "cell_type": "code",
   "execution_count": null,
   "id": "240336d1",
   "metadata": {},
   "outputs": [],
   "source": [
    "df33.duplicated(subset=['City', 'Temperature'], keep='first')"
   ]
  },
  {
   "cell_type": "code",
   "execution_count": null,
   "id": "f433ed84",
   "metadata": {},
   "outputs": [],
   "source": [
    "df33[df33.duplicated(subset=['City', 'Temperature'], keep='first')]"
   ]
  },
  {
   "cell_type": "code",
   "execution_count": null,
   "id": "ca629caf",
   "metadata": {},
   "outputs": [],
   "source": [
    "df33.drop_duplicates(keep='first', subset=None)"
   ]
  },
  {
   "cell_type": "code",
   "execution_count": null,
   "id": "ec9dd05a",
   "metadata": {},
   "outputs": [],
   "source": [
    "df33.drop_duplicates(keep='last', subset=None)"
   ]
  },
  {
   "cell_type": "code",
   "execution_count": null,
   "id": "2b879fe7",
   "metadata": {},
   "outputs": [],
   "source": [
    "df33.drop_duplicates(keep='last', subset=['City','Humidity'])"
   ]
  },
  {
   "cell_type": "markdown",
   "id": "b6fd2878",
   "metadata": {},
   "source": [
    "# Melting"
   ]
  },
  {
   "cell_type": "code",
   "execution_count": null,
   "id": "7ec33550",
   "metadata": {},
   "outputs": [],
   "source": [
    "df31 = pd.read_csv('https://raw.githubusercontent.com/vcsgithub/vcsgithub.github.io/master/lds31.csv')\n",
    "df31"
   ]
  },
  {
   "cell_type": "code",
   "execution_count": null,
   "id": "57935314",
   "metadata": {},
   "outputs": [],
   "source": [
    "pd.melt(frame=df31, id_vars=['Location', 'Temperature'])"
   ]
  },
  {
   "cell_type": "code",
   "execution_count": null,
   "id": "c01c1920",
   "metadata": {},
   "outputs": [],
   "source": [
    "print(df31)\n",
    "pd.melt(frame=df31, id_vars=['Location', 'Temperature'], var_name='melted_col_names', value_name='melted_col_values')"
   ]
  },
  {
   "cell_type": "code",
   "execution_count": null,
   "id": "8a6a896f",
   "metadata": {},
   "outputs": [],
   "source": [
    "print(df31)\n",
    "pd.melt(frame=df31, id_vars=['Location', 'Temperature'], value_vars=['Feb2019', 'Mar2019'], var_name='melted_col_names', value_name='melted_col_values')"
   ]
  },
  {
   "cell_type": "code",
   "execution_count": null,
   "id": "998c3737",
   "metadata": {},
   "outputs": [],
   "source": [
    "df1 = pd.DataFrame(n84,  index=row_labels, columns=col_labels)\n",
    "df1"
   ]
  },
  {
   "cell_type": "code",
   "execution_count": null,
   "id": "b87877a6",
   "metadata": {},
   "outputs": [],
   "source": [
    "pd.melt(df1, id_vars=[(2019,'Q1')],col_level=None)"
   ]
  },
  {
   "cell_type": "code",
   "execution_count": null,
   "id": "4d5ee680",
   "metadata": {},
   "outputs": [],
   "source": [
    "pd.melt(df1, id_vars=[(2019,'Q1')],col_level=1)"
   ]
  },
  {
   "cell_type": "code",
   "execution_count": null,
   "id": "ec590f1c",
   "metadata": {},
   "outputs": [],
   "source": []
  }
 ],
 "metadata": {
  "kernelspec": {
   "display_name": "Python 3 (ipykernel)",
   "language": "python",
   "name": "python3"
  },
  "language_info": {
   "codemirror_mode": {
    "name": "ipython",
    "version": 3
   },
   "file_extension": ".py",
   "mimetype": "text/x-python",
   "name": "python",
   "nbconvert_exporter": "python",
   "pygments_lexer": "ipython3",
   "version": "3.11.3"
  }
 },
 "nbformat": 4,
 "nbformat_minor": 5
}
