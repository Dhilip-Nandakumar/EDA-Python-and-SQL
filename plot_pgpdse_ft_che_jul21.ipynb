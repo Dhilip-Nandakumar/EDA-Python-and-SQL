{
 "cells": [
  {
   "cell_type": "markdown",
   "id": "0733f8e9",
   "metadata": {},
   "source": [
    "# 26-Aug-2021.  Plotting"
   ]
  },
  {
   "cell_type": "code",
   "execution_count": null,
   "id": "8c86e567",
   "metadata": {},
   "outputs": [],
   "source": [
    "import pandas as pd\n",
    "import numpy as np\n",
    "\n",
    "import matplotlib.pyplot as plt\n",
    "import seaborn as sns"
   ]
  },
  {
   "cell_type": "code",
   "execution_count": null,
   "id": "b524c31e",
   "metadata": {},
   "outputs": [],
   "source": [
    "df1 = pd.read_csv('https://raw.githubusercontent.com/vcsgithub/vcsgithub.github.io/master/lds41.csv')\n",
    "df1"
   ]
  },
  {
   "cell_type": "markdown",
   "id": "f283f6a8",
   "metadata": {},
   "source": [
    "# Scatter Plot"
   ]
  },
  {
   "cell_type": "code",
   "execution_count": null,
   "id": "2ba05827",
   "metadata": {},
   "outputs": [],
   "source": [
    "x1 = np.arange(1,10)\n",
    "y1 = x1 * 2\n",
    "y2 = x1 ** 2\n",
    "print(x1)\n",
    "print(y1)\n",
    "print(y2)"
   ]
  },
  {
   "cell_type": "code",
   "execution_count": null,
   "id": "281f9022",
   "metadata": {},
   "outputs": [],
   "source": [
    "plt.scatter(x=x1, y=y1, color='red', marker='*', label='linear_curve')\n",
    "plt.scatter(x=x1, y=y2, color='blue', marker='>', label='expo_curve')\n",
    "\n",
    "plt.xlabel('xvalue-ind')\n",
    "plt.ylabel('yvalue-dep')\n",
    "plt.title('scatter plot linear_expo')\n",
    "\n",
    "plt.legend()\n",
    "\n",
    "plt.savefig('scatter1.png')\n",
    "\n",
    "f = plt.gcf()\n",
    "print(f)\n",
    "\n",
    "plt.show()"
   ]
  },
  {
   "cell_type": "code",
   "execution_count": null,
   "id": "882e2f41",
   "metadata": {},
   "outputs": [],
   "source": [
    "plt.scatter(x=x1, y=y2, s=y2)  ##  Bubble Plot\n",
    "\n",
    "plt.show()"
   ]
  },
  {
   "cell_type": "code",
   "execution_count": null,
   "id": "c65b45ae",
   "metadata": {},
   "outputs": [],
   "source": [
    "plt.scatter(x=df1.gear, y=df1.mpg)\n",
    "plt.show()"
   ]
  },
  {
   "cell_type": "code",
   "execution_count": null,
   "id": "eefe2b58",
   "metadata": {},
   "outputs": [],
   "source": [
    "df1.head()"
   ]
  },
  {
   "cell_type": "code",
   "execution_count": null,
   "id": "e5743965",
   "metadata": {},
   "outputs": [],
   "source": [
    "df1.gear.value_counts()"
   ]
  },
  {
   "cell_type": "code",
   "execution_count": null,
   "id": "900110cf",
   "metadata": {},
   "outputs": [],
   "source": [
    "df1.plot(kind='scatter',x='gear', y='mpg')"
   ]
  },
  {
   "cell_type": "code",
   "execution_count": null,
   "id": "0ee37f67",
   "metadata": {},
   "outputs": [],
   "source": [
    "df1[:].plot(kind='scatter',x='gear', y='mpg')"
   ]
  },
  {
   "cell_type": "code",
   "execution_count": null,
   "id": "ec79231b",
   "metadata": {},
   "outputs": [],
   "source": [
    "df1.head()"
   ]
  },
  {
   "cell_type": "code",
   "execution_count": null,
   "id": "ca44b02a",
   "metadata": {},
   "outputs": [],
   "source": [
    "plt.scatter(x=x1, y=y2)\n",
    "\n",
    "plt.text(x=1,y=40,s='hello')\n",
    "\n",
    "for x,y in zip(x1,y2):\n",
    "    plt.text(x,y,str((x,y)))\n",
    "\n",
    "plt.show()"
   ]
  },
  {
   "cell_type": "code",
   "execution_count": null,
   "id": "44014301",
   "metadata": {},
   "outputs": [],
   "source": [
    "plt.scatter(x=df1.gear, y=df1.mpg, color='#00ff00')\n",
    "plt.show()"
   ]
  },
  {
   "cell_type": "markdown",
   "id": "3927998e",
   "metadata": {},
   "source": [
    "# Line Plot"
   ]
  },
  {
   "cell_type": "code",
   "execution_count": null,
   "id": "f94a2161",
   "metadata": {},
   "outputs": [],
   "source": [
    "x1 = np.arange(1,10)\n",
    "y1 = x1 * 2\n",
    "y2 = x1 ** 2\n",
    "print(x1)\n",
    "print(y1)\n",
    "print(y2)"
   ]
  },
  {
   "cell_type": "code",
   "execution_count": null,
   "id": "79ed4b31",
   "metadata": {},
   "outputs": [],
   "source": [
    "plt.plot(x1,y1, marker='*')\n",
    "plt.plot(x1,y2, marker='<', linestyle='dashed', color='red', linewidth=3)\n",
    "plt.show()"
   ]
  },
  {
   "cell_type": "code",
   "execution_count": null,
   "id": "36f8ad1a",
   "metadata": {},
   "outputs": [],
   "source": [
    "plt.plot(df1.wt, df1.mpg, marker='*')"
   ]
  },
  {
   "cell_type": "code",
   "execution_count": null,
   "id": "ddf24a96",
   "metadata": {},
   "outputs": [],
   "source": [
    "df1.head()"
   ]
  },
  {
   "cell_type": "code",
   "execution_count": null,
   "id": "24f3fedd",
   "metadata": {},
   "outputs": [],
   "source": [
    "df1[:].plot(kind='line', x='wt', y='mpg', marker='*')\n",
    "plt.show()"
   ]
  },
  {
   "cell_type": "code",
   "execution_count": null,
   "id": "8b4e9fd4",
   "metadata": {},
   "outputs": [],
   "source": [
    "df1.sort_values(by='wt').plot(kind='line', x='wt', y='mpg', marker='*')"
   ]
  },
  {
   "cell_type": "code",
   "execution_count": null,
   "id": "a6dd8a7f",
   "metadata": {},
   "outputs": [],
   "source": [
    "df1.mpg.head()"
   ]
  },
  {
   "cell_type": "code",
   "execution_count": null,
   "id": "19239326",
   "metadata": {},
   "outputs": [],
   "source": [
    "df1.mpg.plot(kind='line')"
   ]
  },
  {
   "cell_type": "code",
   "execution_count": null,
   "id": "50daa5a7",
   "metadata": {},
   "outputs": [],
   "source": [
    "df1.mpg.plot(kind='area', color='blue')"
   ]
  },
  {
   "cell_type": "markdown",
   "id": "e18a5620",
   "metadata": {},
   "source": [
    "# Bar Plots"
   ]
  },
  {
   "cell_type": "code",
   "execution_count": null,
   "id": "383187ea",
   "metadata": {},
   "outputs": [],
   "source": [
    "cnames = ['Tata', 'Birla','Wipro','MRF']\n",
    "e1count = [100,200,300,400]\n",
    "e2count = [150,175,350,375]"
   ]
  },
  {
   "cell_type": "code",
   "execution_count": null,
   "id": "5a3a4fe6",
   "metadata": {},
   "outputs": [],
   "source": [
    "plt.bar(x=cnames, height=e1count)\n",
    "#plt.text(x='Tata',y=200, s='hello')\n",
    "plt.show()"
   ]
  },
  {
   "cell_type": "code",
   "execution_count": null,
   "id": "6e471684",
   "metadata": {},
   "outputs": [],
   "source": [
    "plt.barh(y=cnames, width=e1count)\n",
    "plt.show()"
   ]
  },
  {
   "cell_type": "code",
   "execution_count": null,
   "id": "6315e044",
   "metadata": {},
   "outputs": [],
   "source": [
    "print(cnames)\n",
    "print(e1count)\n",
    "print(e2count)\n",
    "plt.bar(x=cnames, height=e1count, color='blue')\n",
    "plt.bar(x=cnames, height=e2count, color='red')\n",
    "plt.show()"
   ]
  },
  {
   "cell_type": "code",
   "execution_count": null,
   "id": "20a971a3",
   "metadata": {},
   "outputs": [],
   "source": [
    "print(cnames)\n",
    "print(e1count)\n",
    "print(e2count)\n",
    "plt.bar(x=cnames, height=e1count, color='blue')\n",
    "plt.bar(x=cnames, height=e2count, bottom=e1count, color='red') #  vertically stacked bar chart\n",
    "plt.show()"
   ]
  },
  {
   "cell_type": "code",
   "execution_count": null,
   "id": "82cd4f52",
   "metadata": {},
   "outputs": [],
   "source": [
    "print(cnames)\n",
    "print(e1count)\n",
    "print(e2count)"
   ]
  },
  {
   "cell_type": "code",
   "execution_count": null,
   "id": "ae09fdc8",
   "metadata": {},
   "outputs": [],
   "source": [
    "xaxis_ticks = np.array(list(range(len(cnames))))\n",
    "print(xaxis_ticks)"
   ]
  },
  {
   "cell_type": "code",
   "execution_count": null,
   "id": "ef2d4289",
   "metadata": {},
   "outputs": [],
   "source": [
    "plt.bar(x=xaxis_ticks, height=e1count)\n",
    "plt.xticks(xaxis_ticks, cnames)"
   ]
  },
  {
   "cell_type": "code",
   "execution_count": null,
   "id": "e55ed266",
   "metadata": {},
   "outputs": [],
   "source": [
    "plt.bar(x=xaxis_ticks, height=e1count, width=0.4, color='blue')\n",
    "plt.bar(x=xaxis_ticks+0.4, height=e2count, width=0.4, color='red')\n",
    "plt.xticks(xaxis_ticks+0.2, cnames)  ##  side by side bar chart\n",
    "plt.show()"
   ]
  },
  {
   "cell_type": "code",
   "execution_count": null,
   "id": "f04f27ca",
   "metadata": {},
   "outputs": [],
   "source": [
    "vc  = df1.gear.value_counts()\n",
    "vc"
   ]
  },
  {
   "cell_type": "code",
   "execution_count": null,
   "id": "819e6bf7",
   "metadata": {},
   "outputs": [],
   "source": [
    "vc  = df1.gear.value_counts()\n",
    "plt.bar(x=vc.index, height=vc.values)\n",
    "plt.show()"
   ]
  },
  {
   "cell_type": "code",
   "execution_count": null,
   "id": "e26e3596",
   "metadata": {},
   "outputs": [],
   "source": [
    "vc.plot(kind='bar')"
   ]
  },
  {
   "cell_type": "code",
   "execution_count": null,
   "id": "c4de15a2",
   "metadata": {},
   "outputs": [],
   "source": [
    "vc.plot(kind='barh')"
   ]
  },
  {
   "cell_type": "code",
   "execution_count": null,
   "id": "10a3bba5",
   "metadata": {},
   "outputs": [],
   "source": [
    "df1.plot(kind='bar', y='mpg')"
   ]
  },
  {
   "cell_type": "code",
   "execution_count": null,
   "id": "85f6bd43",
   "metadata": {},
   "outputs": [],
   "source": [
    "df1.plot(kind='barh', y='mpg')"
   ]
  },
  {
   "cell_type": "markdown",
   "id": "315bb671",
   "metadata": {},
   "source": [
    "# Histogram"
   ]
  },
  {
   "cell_type": "code",
   "execution_count": null,
   "id": "77a14b0e",
   "metadata": {},
   "outputs": [],
   "source": [
    "np.random.seed(23)\n",
    "pmarks = np.random.randint(low=0, high=101, size=100)\n",
    "mmarks = np.random.randint(low=0, high=101, size=100)\n",
    "print(pmarks)\n",
    "print(mmarks)"
   ]
  },
  {
   "cell_type": "code",
   "execution_count": null,
   "id": "3450ba51",
   "metadata": {},
   "outputs": [],
   "source": [
    "plt.hist(x=pmarks,bins=10, rwidth=0.9)"
   ]
  },
  {
   "cell_type": "code",
   "execution_count": null,
   "id": "d2aa95af",
   "metadata": {},
   "outputs": [],
   "source": [
    "plt.hist(x=[pmarks,mmarks],bins=10, rwidth=0.9, color=['red','green'])"
   ]
  },
  {
   "cell_type": "code",
   "execution_count": null,
   "id": "b82af691",
   "metadata": {},
   "outputs": [],
   "source": [
    "plt.hist(df1.mpg, rwidth=0.9,density=False)"
   ]
  },
  {
   "cell_type": "code",
   "execution_count": null,
   "id": "b8e5e3bf",
   "metadata": {},
   "outputs": [],
   "source": [
    "df1.mpg.plot(kind='hist', rwidth=0.9, density=False)"
   ]
  },
  {
   "cell_type": "code",
   "execution_count": null,
   "id": "409c419b",
   "metadata": {},
   "outputs": [],
   "source": [
    "df1.mpg.plot(kind='kde')"
   ]
  },
  {
   "cell_type": "code",
   "execution_count": null,
   "id": "2ed4241f",
   "metadata": {},
   "outputs": [],
   "source": [
    "df1.mpg.plot(kind='hist', rwidth=0.9)"
   ]
  },
  {
   "cell_type": "code",
   "execution_count": null,
   "id": "d9857b6e",
   "metadata": {},
   "outputs": [],
   "source": [
    "help(np.histogram)"
   ]
  },
  {
   "cell_type": "code",
   "execution_count": null,
   "id": "008156d1",
   "metadata": {},
   "outputs": [],
   "source": [
    "df1.mpg.plot(kind='hist',rwidth=0.9)\n",
    "#df1.mpg.plot(kind='kde', ax=plt.gca(), secondary_y=True)\n",
    "df1.mpg.plot(kind='kde',secondary_y=True)"
   ]
  },
  {
   "cell_type": "markdown",
   "id": "bf9c65fe",
   "metadata": {},
   "source": [
    "# Pie Chart"
   ]
  },
  {
   "cell_type": "code",
   "execution_count": null,
   "id": "59b8dae9",
   "metadata": {},
   "outputs": [],
   "source": [
    "vc = df1.gear.value_counts()\n",
    "vc"
   ]
  },
  {
   "cell_type": "code",
   "execution_count": null,
   "id": "36ab67fd",
   "metadata": {},
   "outputs": [],
   "source": [
    "plt.pie(x=vc.values, labels=vc.index, autopct='%.1f')\n",
    "plt.show()"
   ]
  },
  {
   "cell_type": "code",
   "execution_count": null,
   "id": "0ab5358b",
   "metadata": {},
   "outputs": [],
   "source": [
    "plt.pie(x=vc.values, labels=vc.index, autopct='%.1f', explode=[0,0,0.3])\n",
    "plt.show()"
   ]
  },
  {
   "cell_type": "code",
   "execution_count": null,
   "id": "772197fd",
   "metadata": {},
   "outputs": [],
   "source": [
    "plt.pie(x=vc.values, labels=vc.index, autopct='%.1f', radius=2)\n",
    "plt.show()"
   ]
  },
  {
   "cell_type": "code",
   "execution_count": null,
   "id": "a61b253b",
   "metadata": {},
   "outputs": [],
   "source": [
    "vc.plot(kind='pie', autopct='%.1f')"
   ]
  },
  {
   "cell_type": "code",
   "execution_count": null,
   "id": "3c243f98",
   "metadata": {},
   "outputs": [],
   "source": [
    "plt.pie(x=vc.values, labels=vc.index, autopct='%.1f')\n",
    "\n",
    "\n",
    "circle = plt.Circle(xy=(0,0), radius=0.4, color='white')\n",
    "ax = plt.gca()\n",
    "ax.add_artist(circle)\n",
    "\n",
    "plt.show()  ## Doughnut plot"
   ]
  },
  {
   "cell_type": "markdown",
   "id": "3892fe91",
   "metadata": {},
   "source": [
    "# Box Plot"
   ]
  },
  {
   "cell_type": "code",
   "execution_count": null,
   "id": "622e0b58",
   "metadata": {},
   "outputs": [],
   "source": [
    "mylist1 = list(range(100,200))\n",
    "plt.boxplot(mylist1)"
   ]
  },
  {
   "cell_type": "code",
   "execution_count": null,
   "id": "c7d9346e",
   "metadata": {},
   "outputs": [],
   "source": [
    "mylist1 = list(range(100,200))\n",
    "mylist1.append(10)\n",
    "mylist1.append(20)\n",
    "mylist1.append(300)\n",
    "plt.boxplot(mylist1)"
   ]
  },
  {
   "cell_type": "code",
   "execution_count": null,
   "id": "7da41210",
   "metadata": {},
   "outputs": [],
   "source": [
    "plt.boxplot(df1.hp)"
   ]
  },
  {
   "cell_type": "code",
   "execution_count": null,
   "id": "3b19501e",
   "metadata": {},
   "outputs": [],
   "source": [
    "df1.hp.describe()"
   ]
  },
  {
   "cell_type": "code",
   "execution_count": null,
   "id": "ed96cad9",
   "metadata": {},
   "outputs": [],
   "source": [
    "df1.hp.min()"
   ]
  },
  {
   "cell_type": "code",
   "execution_count": null,
   "id": "a72d7a66",
   "metadata": {},
   "outputs": [],
   "source": [
    "df1.hp.max()"
   ]
  },
  {
   "cell_type": "code",
   "execution_count": null,
   "id": "02d40b84",
   "metadata": {},
   "outputs": [],
   "source": [
    "df1.hp.sort_values()"
   ]
  },
  {
   "cell_type": "code",
   "execution_count": null,
   "id": "03f2f78d",
   "metadata": {},
   "outputs": [],
   "source": [
    "df1[df1.hp == df1.hp.max()]"
   ]
  },
  {
   "cell_type": "code",
   "execution_count": null,
   "id": "bf42ca15",
   "metadata": {},
   "outputs": [],
   "source": [
    "df1.qsec.min()"
   ]
  },
  {
   "cell_type": "code",
   "execution_count": null,
   "id": "d4e2cea9",
   "metadata": {},
   "outputs": [],
   "source": [
    "df1[df1.qsec == df1.qsec.min()]"
   ]
  },
  {
   "cell_type": "code",
   "execution_count": null,
   "id": "e85341b4",
   "metadata": {},
   "outputs": [],
   "source": [
    "### power 2 weight ratio"
   ]
  },
  {
   "cell_type": "code",
   "execution_count": null,
   "id": "4663c550",
   "metadata": {},
   "outputs": [],
   "source": [
    "df1.hp.plot(kind='box')"
   ]
  },
  {
   "cell_type": "code",
   "execution_count": null,
   "id": "17acc232",
   "metadata": {},
   "outputs": [],
   "source": [
    "df1.hp.describe()"
   ]
  },
  {
   "cell_type": "code",
   "execution_count": null,
   "id": "504e20b4",
   "metadata": {},
   "outputs": [],
   "source": [
    "np.percentile(df1.hp,q=75)"
   ]
  },
  {
   "cell_type": "markdown",
   "id": "fe414699",
   "metadata": {},
   "source": [
    "# Seaborn"
   ]
  },
  {
   "cell_type": "markdown",
   "id": "c8522b32",
   "metadata": {},
   "source": [
    "# IQR Family of Plots"
   ]
  },
  {
   "cell_type": "code",
   "execution_count": null,
   "id": "c8b5d9fa",
   "metadata": {},
   "outputs": [],
   "source": [
    "sns.boxplot(y=df1.hp, color='gold')"
   ]
  },
  {
   "cell_type": "code",
   "execution_count": null,
   "id": "98bb6988",
   "metadata": {},
   "outputs": [],
   "source": [
    "sns.boxplot(data=df1, x='gear', y='hp')"
   ]
  },
  {
   "cell_type": "code",
   "execution_count": null,
   "id": "9eefe165",
   "metadata": {},
   "outputs": [],
   "source": [
    "sns.boxplot(data=df1, x='gear', y='hp', hue='am')"
   ]
  },
  {
   "cell_type": "code",
   "execution_count": null,
   "id": "53d3b2e5",
   "metadata": {},
   "outputs": [],
   "source": [
    "pd.pivot_table(df1,index='gear',columns='am',values='hp', aggfunc='count')"
   ]
  },
  {
   "cell_type": "code",
   "execution_count": null,
   "id": "6574e034",
   "metadata": {},
   "outputs": [],
   "source": [
    "pd.crosstab(df1.gear, df1.am)"
   ]
  },
  {
   "cell_type": "code",
   "execution_count": null,
   "id": "37fae263",
   "metadata": {},
   "outputs": [],
   "source": [
    "sns.violinplot(y=df1.hp, color='gold')"
   ]
  },
  {
   "cell_type": "code",
   "execution_count": null,
   "id": "0a68588e",
   "metadata": {},
   "outputs": [],
   "source": [
    "sns.violinplot(data=df1, x='gear', y='hp')"
   ]
  },
  {
   "cell_type": "code",
   "execution_count": null,
   "id": "50b85a79",
   "metadata": {},
   "outputs": [],
   "source": [
    "sns.boxenplot(y=df1.hp, color='gold')"
   ]
  },
  {
   "cell_type": "code",
   "execution_count": null,
   "id": "b76cea32",
   "metadata": {},
   "outputs": [],
   "source": [
    "sns.boxenplot(y=list(range(100,900)))"
   ]
  },
  {
   "cell_type": "markdown",
   "id": "e22fc899",
   "metadata": {},
   "source": [
    "# Scatter Family of Plots"
   ]
  },
  {
   "cell_type": "code",
   "execution_count": null,
   "id": "411c52d9",
   "metadata": {},
   "outputs": [],
   "source": [
    "x1 = [1,2,3,1,2,3,1,2,3,1]\n",
    "y1 = [5,6,7,5,6,7,5,6,7,5]\n",
    "\n",
    "\n",
    "sns.scatterplot(x=x1, y=y1)"
   ]
  },
  {
   "cell_type": "code",
   "execution_count": null,
   "id": "75d96052",
   "metadata": {},
   "outputs": [],
   "source": [
    "sns.stripplot(x=x1,y=y1)"
   ]
  },
  {
   "cell_type": "code",
   "execution_count": null,
   "id": "bb6e48c7",
   "metadata": {},
   "outputs": [],
   "source": [
    "sns.swarmplot(x=x1,y=y1)"
   ]
  },
  {
   "cell_type": "code",
   "execution_count": null,
   "id": "93c19a28",
   "metadata": {},
   "outputs": [],
   "source": [
    "sns.scatterplot(data=df1, x='gear', y='mpg')"
   ]
  },
  {
   "cell_type": "code",
   "execution_count": null,
   "id": "c6b01035",
   "metadata": {},
   "outputs": [],
   "source": [
    "sns.stripplot(data=df1, x='gear', y='mpg')"
   ]
  },
  {
   "cell_type": "code",
   "execution_count": null,
   "id": "14ac4021",
   "metadata": {},
   "outputs": [],
   "source": [
    "sns.swarmplot(data=df1, x='gear', y='mpg')"
   ]
  },
  {
   "cell_type": "code",
   "execution_count": null,
   "id": "8c3a1826",
   "metadata": {},
   "outputs": [],
   "source": [
    "sns.swarmplot(data=df1, x='gear', y='mpg', hue='am')"
   ]
  },
  {
   "cell_type": "markdown",
   "id": "a624f210",
   "metadata": {},
   "source": [
    "# Regression Plots"
   ]
  },
  {
   "cell_type": "code",
   "execution_count": null,
   "id": "9e34eb45",
   "metadata": {},
   "outputs": [],
   "source": [
    "sns.scatterplot(data=df1, x='wt', y='mpg')"
   ]
  },
  {
   "cell_type": "code",
   "execution_count": null,
   "id": "5457cf4a",
   "metadata": {},
   "outputs": [],
   "source": [
    "sns.regplot(data=df1, x='wt', y='mpg')"
   ]
  },
  {
   "cell_type": "code",
   "execution_count": null,
   "id": "af195def",
   "metadata": {},
   "outputs": [],
   "source": [
    "sns.lmplot(data=df1, x='wt', y='mpg')"
   ]
  },
  {
   "cell_type": "markdown",
   "id": "ec85cbf0",
   "metadata": {},
   "source": [
    "# Multi Plots"
   ]
  },
  {
   "cell_type": "code",
   "execution_count": null,
   "id": "b484f7d0",
   "metadata": {},
   "outputs": [],
   "source": [
    "df1"
   ]
  },
  {
   "cell_type": "code",
   "execution_count": null,
   "id": "295bf9ea",
   "metadata": {},
   "outputs": [],
   "source": [
    "df1.columns"
   ]
  },
  {
   "cell_type": "code",
   "execution_count": null,
   "id": "d2f05290",
   "metadata": {},
   "outputs": [],
   "source": [
    "df2 = df1[['mpg', 'gear','wt', 'hp','am','carb']]\n",
    "df2"
   ]
  },
  {
   "cell_type": "code",
   "execution_count": null,
   "id": "eb72c2fe",
   "metadata": {},
   "outputs": [],
   "source": [
    "sns.pairplot(df2, diag_kind='kde', kind='reg')"
   ]
  },
  {
   "cell_type": "code",
   "execution_count": null,
   "id": "4954e1d5",
   "metadata": {},
   "outputs": [],
   "source": [
    "sns.jointplot(data=df1, x='gear', y='mpg')"
   ]
  },
  {
   "cell_type": "code",
   "execution_count": null,
   "id": "88cad0dc",
   "metadata": {},
   "outputs": [],
   "source": [
    "cmatrix = df2.corr()\n",
    "cmatrix"
   ]
  },
  {
   "cell_type": "code",
   "execution_count": null,
   "id": "73424f98",
   "metadata": {},
   "outputs": [],
   "source": [
    "print(plt.colormaps())"
   ]
  },
  {
   "cell_type": "code",
   "execution_count": null,
   "id": "b54af07b",
   "metadata": {},
   "outputs": [],
   "source": [
    "sns.heatmap(cmatrix, annot=True, cmap='rainbow')"
   ]
  },
  {
   "cell_type": "markdown",
   "id": "47f8a01d",
   "metadata": {},
   "source": [
    "# Dist plot"
   ]
  },
  {
   "cell_type": "code",
   "execution_count": null,
   "id": "b7782e02",
   "metadata": {},
   "outputs": [],
   "source": [
    "sns.distplot(df1.mpg, hist=True, kde=True, rug=True)"
   ]
  },
  {
   "cell_type": "code",
   "execution_count": null,
   "id": "953e1925",
   "metadata": {},
   "outputs": [],
   "source": [
    "sns.distplot(df1.mpg, hist=False, kde=False, rug=True)"
   ]
  },
  {
   "cell_type": "code",
   "execution_count": null,
   "id": "d103a778",
   "metadata": {},
   "outputs": [],
   "source": [
    "sns.distplot(df1.mpg, hist=True, kde=True, rug=True, hist_kws={'rwidth':0.9})"
   ]
  },
  {
   "cell_type": "code",
   "execution_count": null,
   "id": "755864ea",
   "metadata": {},
   "outputs": [],
   "source": [
    "sns.distplot(df1.mpg, hist=True, kde=True, rug=True, hist_kws={'rwidth':0.9}, kde_kws={'shade':True, 'color':'gold'})"
   ]
  },
  {
   "cell_type": "code",
   "execution_count": null,
   "id": "f6750394",
   "metadata": {},
   "outputs": [],
   "source": [
    "sns.distplot(a=df1.mpg, hist=True, kde=True, rug=True, rug_kws={'height':0.2}, hist_kws={'rwidth':0.9}, kde_kws={'shade':True, 'color':'gold'})"
   ]
  },
  {
   "cell_type": "markdown",
   "id": "4d42029d",
   "metadata": {},
   "source": [
    "# Barplot"
   ]
  },
  {
   "cell_type": "code",
   "execution_count": null,
   "id": "7293544d",
   "metadata": {},
   "outputs": [],
   "source": [
    "sns.barplot(y=[200])"
   ]
  },
  {
   "cell_type": "code",
   "execution_count": null,
   "id": "f435a395",
   "metadata": {},
   "outputs": [],
   "source": [
    "sns.barplot(y=[100,200,300])"
   ]
  },
  {
   "cell_type": "code",
   "execution_count": null,
   "id": "aa5d361e",
   "metadata": {},
   "outputs": [],
   "source": [
    "sns.barplot(y=df1.mpg)"
   ]
  },
  {
   "cell_type": "code",
   "execution_count": null,
   "id": "894dbf9f",
   "metadata": {},
   "outputs": [],
   "source": [
    "df1.mpg.min()"
   ]
  },
  {
   "cell_type": "code",
   "execution_count": null,
   "id": "eb759a6c",
   "metadata": {},
   "outputs": [],
   "source": [
    "df1.mpg.max()"
   ]
  },
  {
   "cell_type": "code",
   "execution_count": null,
   "id": "a2cdd27b",
   "metadata": {},
   "outputs": [],
   "source": [
    "df1.mpg.mean()"
   ]
  },
  {
   "cell_type": "code",
   "execution_count": null,
   "id": "b0c0de0c",
   "metadata": {},
   "outputs": [],
   "source": [
    "df1.mpg.median()"
   ]
  },
  {
   "cell_type": "raw",
   "id": "d1ad8a75",
   "metadata": {},
   "source": [
    "m0, m1, m2, m3,m4 ,m999\n",
    "\n",
    "\n",
    "\n",
    "minmean,  maxmean meammean"
   ]
  },
  {
   "cell_type": "code",
   "execution_count": null,
   "id": "987ae8ee",
   "metadata": {},
   "outputs": [],
   "source": [
    "sns.barplot(y=df1.mpg, ci=None)"
   ]
  },
  {
   "cell_type": "markdown",
   "id": "bab17a85",
   "metadata": {},
   "source": [
    "# Plotly"
   ]
  },
  {
   "cell_type": "code",
   "execution_count": null,
   "id": "eb84bd76",
   "metadata": {},
   "outputs": [],
   "source": [
    "import plotly.express as px"
   ]
  },
  {
   "cell_type": "code",
   "execution_count": null,
   "id": "cdfc60e5",
   "metadata": {},
   "outputs": [],
   "source": [
    "f = px.scatter(data_frame=df1, x='gear', y='mpg', color='am')\n",
    "f.show()"
   ]
  },
  {
   "cell_type": "code",
   "execution_count": null,
   "id": "6d0ce1d4",
   "metadata": {},
   "outputs": [],
   "source": [
    "f = px.box(y=df1.hp)\n",
    "f.show()"
   ]
  },
  {
   "cell_type": "code",
   "execution_count": null,
   "id": "09878db6",
   "metadata": {},
   "outputs": [],
   "source": [
    "f = px.violin(y=df1.hp, box=True)\n",
    "f.show()"
   ]
  },
  {
   "cell_type": "code",
   "execution_count": null,
   "id": "c6c4114d",
   "metadata": {},
   "outputs": [],
   "source": [
    "f = px.bar(data_frame=df1, y='mpg')\n",
    "f.show()"
   ]
  },
  {
   "cell_type": "code",
   "execution_count": null,
   "id": "1c972daa",
   "metadata": {},
   "outputs": [],
   "source": [
    "f = px.bar(data_frame=df1, x='gear', y='mpg')\n",
    "f.show()"
   ]
  },
  {
   "cell_type": "code",
   "execution_count": null,
   "id": "f7de07c2",
   "metadata": {},
   "outputs": [],
   "source": [
    "f = px.histogram(x=df1.hp)\n",
    "f.show()"
   ]
  },
  {
   "cell_type": "code",
   "execution_count": null,
   "id": "b94bb140",
   "metadata": {},
   "outputs": [],
   "source": [
    "vc = df1.gear.value_counts()\n",
    "vc"
   ]
  },
  {
   "cell_type": "code",
   "execution_count": null,
   "id": "ce493ca5",
   "metadata": {},
   "outputs": [],
   "source": [
    "f = px.pie(data_frame=vc, values=vc.values, names=vc.index)\n",
    "f.show()"
   ]
  },
  {
   "cell_type": "code",
   "execution_count": null,
   "id": "5712e1bb",
   "metadata": {},
   "outputs": [],
   "source": [
    "## plt.annotate()..."
   ]
  }
 ],
 "metadata": {
  "kernelspec": {
   "display_name": "Python 3 (ipykernel)",
   "language": "python",
   "name": "python3"
  },
  "language_info": {
   "codemirror_mode": {
    "name": "ipython",
    "version": 3
   },
   "file_extension": ".py",
   "mimetype": "text/x-python",
   "name": "python",
   "nbconvert_exporter": "python",
   "pygments_lexer": "ipython3",
   "version": "3.11.3"
  }
 },
 "nbformat": 4,
 "nbformat_minor": 5
}
